{
  "nbformat": 4,
  "nbformat_minor": 0,
  "metadata": {
    "colab": {
      "name": "usdjpy_ma_reversecross_filtered_ma.ipynb",
      "provenance": [],
      "authorship_tag": "ABX9TyNptr88tplAV//fx2n+Bqx1",
      "include_colab_link": true
    },
    "kernelspec": {
      "name": "python3",
      "display_name": "Python 3"
    }
  },
  "cells": [
    {
      "cell_type": "markdown",
      "metadata": {
        "id": "view-in-github",
        "colab_type": "text"
      },
      "source": [
        "<a href=\"https://colab.research.google.com/github/RyoNaruse/aiuaiu/blob/master/usdjpy_ma_reversecross_filtered_ma.ipynb\" target=\"_parent\"><img src=\"https://colab.research.google.com/assets/colab-badge.svg\" alt=\"Open In Colab\"/></a>"
      ]
    },
    {
      "cell_type": "code",
      "metadata": {
        "id": "B4cyp2tcEn0g",
        "colab_type": "code",
        "colab": {
          "base_uri": "https://localhost:8080/",
          "height": 91
        },
        "outputId": "bb304e65-7f0d-4abf-b6d3-dd904716a7f6"
      },
      "source": [
        "import pandas as pd\n",
        "import numpy as np\n",
        "import matplotlib.pyplot as plt\n",
        "import seaborn as sns\n",
        "from itertools import product\n",
        "import functools\n",
        "import os\n",
        "import datetime\n",
        "from google.colab import drive\n",
        "drive.mount('/content/drive')\n",
        "# 4/uwHxO9fnnxZTbEWs4WkmSTxHrnc5Z8Z-HiR2CzLkccD4kt_GA-AYg4Y\n",
        "#naru ryoのをマウント\n",
        "\n",
        "\n",
        "\n"
      ],
      "execution_count": 2,
      "outputs": [
        {
          "output_type": "stream",
          "text": [
            "Drive already mounted at /content/drive; to attempt to forcibly remount, call drive.mount(\"/content/drive\", force_remount=True).\n"
          ],
          "name": "stdout"
        },
        {
          "output_type": "stream",
          "text": [
            "/usr/local/lib/python3.6/dist-packages/statsmodels/tools/_testing.py:19: FutureWarning: pandas.util.testing is deprecated. Use the functions in the public API at pandas.testing instead.\n",
            "  import pandas.util.testing as tm\n"
          ],
          "name": "stderr"
        }
      ]
    },
    {
      "cell_type": "code",
      "metadata": {
        "id": "HxUlOEpQMM0a",
        "colab_type": "code",
        "colab": {
          "base_uri": "https://localhost:8080/",
          "height": 680
        },
        "outputId": "d9453882-aee2-4159-d137-29efafed9eee"
      },
      "source": [
        "!dir ./drive/My\\ Drive/Colab\\ Notebooks\n",
        "# USDJPY5200052019.csv"
      ],
      "execution_count": 11,
      "outputs": [
        {
          "output_type": "stream",
          "text": [
            "2020-02-0101.57.31heartbeat.csv\n",
            "5m_bolinger_break_nofiltered.csv\n",
            "5m_eurusd_hl30_break_1hkudari10_uhehe_break_buy_rule1.csv\n",
            "5m_hl10_break_1hkudari_uhehe_break_buy_rule1.csv\n",
            "5m_hl10_break_1hnobori_sitahe_break_sell_rule1.csv\n",
            "5m_hl_break_1hkudari_uhehe_break_buy_rule3.csv\n",
            "5m_hl_break_1hnobori_sitahe_break_sell_rule3.csv\n",
            "5m_ma12_ma24_result2015.csv\n",
            "5m_ma12_ma24_result.csv\n",
            "5m_minmax5_break_buy_filtered_2.csv\n",
            "5m_minmax5_break_buy_flitered_1.csv\n",
            "5m_minmax5_break_even.csv\n",
            "5m_minmax5_break_prof.csv\n",
            "Aistidies_mnist.ipynb\n",
            "bb20_break_1hkudari_uhehe_break_sell_rule1.csv\n",
            "bb20_break_1hnobori_sitahe_break_sell_rule1.csv\n",
            "EURUSD20052019_1d.csv\n",
            "EURUSD20052019_1h.csv\n",
            "EURUSD20052019_5m.csv\n",
            "fxusdjpy5mma\n",
            "game(1).ipynb\\ のコピー\n",
            "hl5_break_1hnobori_sitahe_break_sell_rule3.csv\n",
            "kaggle.ipynb\n",
            "losscutatr\n",
            "test.ipynbest\n",
            "Untitled1.ipynb\n",
            "Untitled2.ipynb\n",
            "Untitled3.ipynb\n",
            "USDJPY1d20052019.csv\n",
            "USDJPY1h20052019.csv\n",
            "USDJPY5200052019.csv\n",
            "USDJPY52018.csv\n",
            "USDJPYML2\n",
            "USDJPYML3\n",
            "USDJPYML4\n",
            "USDJPYML.ipynb\n",
            "WaveAnalitics\n"
          ],
          "name": "stdout"
        }
      ]
    },
    {
      "cell_type": "code",
      "metadata": {
        "id": "HQ1JKY0kExDV",
        "colab_type": "code",
        "colab": {}
      },
      "source": [
        "#たたき台\n",
        "def get_filtered_result3(shortv, longv, filterv, atr_constv, tr_periodv, parameter=None):\n",
        "\n",
        "    # if parameter != None:\n",
        "        # filepath = './drive/My Drive/Colab Notebooks/losscutatr/' + parameter + str(atr_constv) + '.csv'\n",
        "        # filename = 'stoploss_' + parameter + str(atr_constv) + '.png'\n",
        "        # filepath = './drive/My Drive/Colab Notebooks/losscutatr/' + filename\n",
        "\n",
        "    short = shortv\n",
        "    long = longv\n",
        "    filter_mado = filterv\n",
        "    atr_const = atr_constv\n",
        "    tr_period = tr_periodv\n",
        "    variable_value = str(atr_constv)\n",
        "   \n",
        "    df_5m['ma_short'] = pd.DataFrame(df_5m['close'].rolling(short).mean())\n",
        "    df_5m['ma_long'] = pd.DataFrame(df_5m['close'].rolling(long).mean())\n",
        "\n",
        "\n",
        "    df_5m['direction'] = '↑'\n",
        "    df_5m['sign'] = ''\n",
        "\n",
        "    #MAクロスのサインを記録\n",
        "    for i in range(6, len(df_5m)):\n",
        "      if df_5m.iat[i-1,5] > df_5m.iat[i-1,6]:\n",
        "        df_5m.iat[i,7] = '↑'\n",
        "      elif df_5m.iat[i-1,5] < df_5m.iat[i-1,6]:\n",
        "        df_5m.iat[i,7] = '↓'\n",
        "      else:\n",
        "        df_5m.iat[i,7] = str(df_5m.iat[i-1,7])\n",
        "\n",
        "    #hl用サイン記入\n",
        "    for i in range(2,len(df_5m)):\n",
        "      if df_5m.iat[i-1,7] == '↓' and df_5m.iat[i,7] == '↑':\n",
        "        df_5m.iat[i,8] = '買'\n",
        "      elif df_5m.iat[i-1,7] == '↑' and df_5m.iat[i,7] == '↓':\n",
        "        df_5m.iat[i,8] = '売'\n",
        "\n",
        "\n",
        "    # def get_judge(x):\n",
        "    #   if x[0] != '':\n",
        "    #       if (x[0] == '買' and x[1]  >= 0) or (x[0] == '売' and x[1] < 0):\n",
        "    #           #終値のフィルターMAに対する方向　と　IN方向が同じとき\n",
        "    #           return 1\n",
        "    #       else:\n",
        "    #           return 0\n",
        "\n",
        "    df_5m['filter_ma'] = df_5m['close'] - df_5m['close'].rolling(filter_mado).mean()\n",
        "    df_5m['judge'] = 0\n",
        "    \n",
        "    for i in range(2,len(df_5m)):\n",
        "        if (df_5m.iat[i,8] == '買' and df_5m.iat[i-1,9] >= 0) or (df_5m.iat[i,8] == '売' and df_5m.iat[i-1,9] < 0):\n",
        "            df_5m.iat[i,10] = 1\n",
        "        else:\n",
        "            df_5m.iat[i,10] = 0\n",
        "    # df_5m['judge'] = df_5m[['sign','filter_ma']].apply(get_judge,axis=1)\n",
        "\n",
        "    df_5m['loss_cut'] = 0\n",
        "\n",
        "    df = df_5m.copy()\n",
        "    timing = []\n",
        "    buysell = []\n",
        "    in_price = []\n",
        "    max_loss = []\n",
        "    max_profit = []\n",
        "    profit = []\n",
        "    judges = []\n",
        "    loss_cut_line = []\n",
        "    in_row = 0\n",
        "    out_row = 0\n",
        "    has_position = False\n",
        "\n",
        "    print(len(df))\n",
        "    df_trade_results = pd.DataFrame([], columns=['date', 'direction', 'price'])\n",
        "\n",
        "    for i in range(len(df)):\n",
        "\n",
        "\n",
        "        if has_position:\n",
        "\n",
        "            out_row = i\n",
        "            \n",
        "            max_price = df.iloc[in_row:out_row,2].max()\n",
        "            min_price = df.iloc[in_row:out_row,3].min()\n",
        "\n",
        "              \n",
        "            if true_range is None:\n",
        "                approval_loss = -1000\n",
        "            else:\n",
        "                approval_loss = - true_range * atr_const\n",
        "                if approval_loss > -0.001:\n",
        "                    approval_loss = -0.001\n",
        "\n",
        "\n",
        "            if buysell[-1] == '買':\n",
        "\n",
        "                  if approval_loss > min_price - df.iat[in_row,1]:\n",
        "\n",
        "                      max_loss.append(approval_loss)\n",
        "                      max_profit.append(max_price - df.iat[in_row,1])\n",
        "                      profit.append(approval_loss)\n",
        "\n",
        "                      has_position = False\n",
        "\n",
        "            if buysell[-1] == '売':\n",
        "\n",
        "                  if approval_loss > df.iat[in_row,1] - max_price:\n",
        "\n",
        "                      max_loss.append(approval_loss)\n",
        "                      max_profit.append(df.iat[in_row,1] - min_price)\n",
        "                      profit.append(approval_loss)\n",
        "\n",
        "                      has_position = False\n",
        "                \n",
        "\n",
        "        if df.iat[i,8] != '':\n",
        "\n",
        "            if has_position:\n",
        "\n",
        "                out_row = i\n",
        "\n",
        "                max_price = df.iloc[in_row:out_row,2].max()\n",
        "                min_price = df.iloc[in_row:out_row,3].min()\n",
        "\n",
        "                if buysell[-1] == '買':\n",
        "                      max_loss.append(min_price - df.iat[in_row,1])\n",
        "                      max_profit.append(max_price - df.iat[in_row,1])\n",
        "                      profit.append(df.iat[out_row,1] - df.iat[in_row,1])\n",
        "            \n",
        "                if buysell[-1] == '売':\n",
        "                      max_loss.append(df.iat[in_row,1] - max_price)\n",
        "                      max_profit.append(df.iat[in_row,1] - min_price)\n",
        "                      profit.append(df.iat[in_row,1] - df.iat[out_row,1])\n",
        "                \n",
        "                has_position = False\n",
        "      \n",
        "        if df.iat[i,8] != '' and has_position == False:\n",
        "\n",
        "            in_row = i\n",
        "            \n",
        "            timing.append(df.iat[in_row,0])\n",
        "            buysell.append(df.iat[in_row,8])\n",
        "            in_price.append(df.iat[in_row,1])\n",
        "            judges.append(df.iat[in_row,10])\n",
        "\n",
        "            # true_range = 100 * (df.iloc[in_row - tr_period:in_row,2].max() - df.iloc[in_row-tr_period:in_row,3].min()) / df_5m.iat[in_row,1]\n",
        "            true_range = (df.iloc[in_row - tr_period:in_row,2].max() - df.iloc[in_row-tr_period:in_row,3].min())\n",
        "          \n",
        "            has_position = True\n",
        "          \n",
        "        if i % 100000 == 0:\n",
        "          print(str(i) + 'まで終了')\n",
        "        #10万進むのに15秒くらい\n",
        "        # if len(timing) > 0:\n",
        "        #     assert  len(timing) != len(profit), 'err in {}'.format(i)\n",
        "\n",
        "    if len(timing) != len(max_loss):\n",
        "\n",
        "        timing.pop(-1)\n",
        "        buysell.pop(-1)\n",
        "        in_price.pop(-1)\n",
        "        judges.pop(-1)\n",
        "\n",
        "    print('approval loss は' + str(approval_loss))\n",
        "\n",
        "    df_trade_results = pd.DataFrame(data={'date':timing, 'direction':buysell, 'price':in_price, 'max_loss':max_loss, 'max_profit':max_profit, 'profit':profit, 'judge':judges},\\\n",
        "                                columns=['date','direction','price','max_loss','max_profit', 'profit','judge'])\n",
        "\n",
        "\n",
        "    df0 = df_trade_results[df_trade_results['judge'] == 0].copy()\n",
        "    df1 = df_trade_results[df_trade_results['judge'] == 1].copy()\n",
        "\n",
        "    dfs = [df0,df1]\n",
        "\n",
        "    for dfsep in dfs:\n",
        "        dfsep['ruiseki'] = 0.0\n",
        "        for i in range(1,len(dfsep)):\n",
        "            dfsep.iat[i,7] = dfsep.iat[i,5] + dfsep.iat[i-1,7]\n",
        "    if parameter == None:\n",
        "            dfsep['ruiseki'].plot()\n",
        "\n",
        "    print('judge0は' + str(len(df0)) +'回')\n",
        "    print('利益' + str(df0.iat[-1,7]))\n",
        "    print('judge1は' + str(len(df1)) +'回')\n",
        "    print('利益' + str(df1.iat[-1,7]))\n",
        "\n",
        "    if parameter != None:\n",
        "        # df.to_csv(filepath, header=True)\n",
        "        #ルールを文字列で\n",
        "        rule = 'usdjpy_ma' + str(short) + '_ma' + str(long) + '_cross_' + 'filter' + str(filter_mado) + '_tr_period' + str(tr_period) + '_stoploss_' + str(parameter)\n",
        "        #htmlファイルのフォルダパス\n",
        "        html_file_path = r'C:\\Users\\Ryo Naruse\\Desktop\\fushiginakimoti\\markets\\fx\\trade_methods\\comparison\\loss_cut'\n",
        "        #画像のフォルダパスはhtmlファイルのパスから生成する\n",
        "        imgfolderpath = html_file_path + '\\\\img' + '\\\\' + rule\n",
        "        # imgfolderpath = './drive/My Drive/Colab Notebooks/losscutatr/' + rule\n",
        "        if not os.path.exists(imgfolderpath):\n",
        "            os.mkdir(imgfolderpath)\n",
        "        imgname = rule + str(atr_const) + '.png'\n",
        "        homepage_image_src = 'img/' + rule + '/' + imgname\n",
        "        print(rule)\n",
        "        print(imgfolderpath)\n",
        "        print(imgname)\n",
        "        print(homepage_image_src)\n",
        "\n",
        "        df_img = df1.copy()\n",
        "        indices = df1.index\n",
        "        cumsums = df1['ruiseki']\n",
        "\n",
        "        number_of_trades = len(df_img)\n",
        "        win_rate = round(100 * len(df_img[df_img['profit']>0]) / number_of_trades, 1)\n",
        "        profit = round(df_img.iat[-1,7],4)\n",
        "        imgs_information = pd.DataFrame([{'rule':rule,'variable':parameter,'variable_value':variable_value,'html_file_path':html_file_path,\\\n",
        "                                          'img_folder_path':imgfolderpath,'img_name':imgname,'homepage_image_src':homepage_image_src,\\\n",
        "                                          'number_of_trades':number_of_trades,'win_rate':win_rate,'profit':profit}])\n",
        "   \n",
        "        imgs_information.to_csv(imgfolderpath + '\\\\' + rule + '\\\\' + 'imgs_information.csv',header=False, index=False,mode='a')\n",
        "\n",
        "        fig = None\n",
        "        fig = plt.figure(figsize=(5.0,3.5), dpi=100, facecolor='w',linewidth=1, edgecolor='black', tight_layout=True)\n",
        "        plt.plot(indices, cumsums)\n",
        "        plt.title('stop loss HL(' + str(tr_period) + ')×' + str(atr_constv))\n",
        "        plt.xlabel('number of trades')\n",
        "        plt.ylabel('cumsums')\n",
        "        plt.grid(b=None, which='major', axis='both')\n",
        "        plt.show\n",
        "        fig.savefig(imgfolderpath + '\\\\' +imgname)\n",
        "        # fig.savefig(imgfolderpath + '/' +imgname)\n",
        "    ######HTMLにグラフを入れていく部分#############################################\n",
        "    ######この範囲を繰り返して結果のグラフと成績を表示$$$$$$$$$$$$$$$$$$$$\n",
        "    \n",
        "#  get_filtered_result3(shortv, longv, filterv, atr_constv, tr_periodv, parameter=None):\n",
        "# somefunc3 = functools.partial(get_filtered_result3, shortv=12, longv=24, filterv=288)\n",
        "# somefunc3 = functools.partial(get_filtered_result3, shortv=12, longv=24, atr_constv=1, tr_periodv=10)\n",
        "\n",
        "#ヒストリカルデータのパス設定と、\n",
        "#htmlファイルのパス設定、ルール編集、画像のタイトルを設定してから行うこと。\n",
        "#管理者としてプロンプトを実行する\n",
        "start_time = datetime.datetime.now()\n",
        "print('start at' + str(start_time))\n",
        "\n",
        "df_5m = pd.read_csv(r'C:\\Users\\Ryo Naruse\\Desktop\\fushiginakimoti/USDJPY5200052019.csv',sep=',',header=None)\n",
        "df_5m.drop(6, axis=1)\n",
        "df_5m[6] = pd.to_datetime(df_5m[[0,1]].apply(lambda x: '{} {}'.format(x[0], x[1]),axis=1))\n",
        "df_5m = df_5m[[6,2,3,4,5]]\n",
        "df_5m = df_5m.rename(columns={6: 'date', 2:'open', 3:'high', 4:'low', 5:'close',7:'max5', 8:'min5', 9:'direction'})\n",
        "\n",
        "lap_time = datetime.datetime.now()\n",
        "print('generate_imgs_started')\n",
        "somefunc3 = functools.partial(get_filtered_result3, shortv=12, longv=24, filterv=240, tr_periodv=10, parameter='atr_const')\n",
        "\n",
        "variables = [1000,5,3,2,1.5,1,0.75,0.5,0.3,0.1]\n",
        "for var in variables:\n",
        "    somefunc3(atr_constv=var)\n",
        "    if var == variables[0]:\n",
        "        end_time = datetime.datetime.now()\n",
        "        print('終了予定時刻：'+ str(lap_time + (end_time - lap_time) * (len(variables)-1)))"
      ],
      "execution_count": null,
      "outputs": []
    },
    {
      "cell_type": "code",
      "metadata": {
        "id": "oog4xI0XFCjE",
        "colab_type": "code",
        "colab": {}
      },
      "source": [
        "#短期に逆、長期に順バリ\n",
        "\n",
        "def get_filtered_result3(shortv, longv, filterv, parameter=None, do_output=False):\n",
        "\n",
        "    # if parameter != None:\n",
        "        # filepath = './drive/My Drive/Colab Notebooks/losscutatr/' + parameter + str(atr_constv) + '.csv'\n",
        "        # filename = 'stoploss_' + parameter + str(atr_constv) + '.png'\n",
        "        # filepath = './drive/My Drive/Colab Notebooks/losscutatr/' + filename\n",
        "\n",
        "    shortma = 12\n",
        "    longma = 24\n",
        "    filter_mado = filterv\n",
        "    # tr_period = tr_periodv\n",
        "    # atr_const = atr_constv\n",
        "    # variable_value = str(atr_constv)\n",
        "\n",
        "    df_5m['ma_short'] = pd.DataFrame(df_5m['close'].rolling(shortma).mean()) #5\n",
        "    df_5m['ma_long'] = pd.DataFrame(df_5m['close'].rolling(longma).mean())   #6\n",
        "\n",
        "\n",
        "    df_5m['direction'] = '↑'   #7\n",
        "    df_5m['sign'] = ''\n",
        "    df_5m['filter_ma'] = df_5m['ma_long'] - df_5m['close'].rolling(filter_mado).mean()  #9\n",
        "    df_5m['judge'] = 0\n",
        "\n",
        "    #MAクロスのサインを記録 売買アルゴリズムのキモ\n",
        "    for i in range(0, len(df_5m)):\n",
        "      if df_5m.iat[i-1,5] > df_5m.iat[i-1,6] and df_5m.iat[i-1,9] <= 0 and df_5m.iat[i-1,7] == '↑':\n",
        "        df_5m.iat[i,7] = '↓'\n",
        "      elif df_5m.iat[i-1,5] < df_5m.iat[i-1,6] and df_5m.iat[i-1,9] >= 0 and df_5m.iat[i-1,7] == '↓':\n",
        "        df_5m.iat[i,7] = '↑'\n",
        "      else:\n",
        "        df_5m.iat[i,7] = str(df_5m.iat[i-1,7])\n",
        "\n",
        "    #hl用サイン記入\n",
        "    for i in range(0,len(df_5m)):\n",
        "      if df_5m.iat[i-1,7] == '↓' and df_5m.iat[i,7] == '↑':\n",
        "        df_5m.iat[i,8] = '買'\n",
        "      elif df_5m.iat[i-1,7] == '↑' and df_5m.iat[i,7] == '↓':\n",
        "        df_5m.iat[i,8] = '売'\n",
        "\n",
        "\n",
        "    # def get_judge(x):\n",
        "    #   if x[0] != '':\n",
        "    #       if (x[0] == '買' and x[1]  >= 0) or (x[0] == '売' and x[1] < 0):\n",
        "    #           #終値のフィルターMAに対する方向　と　IN方向が同じとき\n",
        "    #           return 1\n",
        "    #       else:\n",
        "    #           return 0\n",
        "\n",
        "\n",
        "    #フィルタがけなどでジャッジが必要な場合はここを使う\n",
        "    # for i in range(2,len(df_5m)):\n",
        "    #     if (df_5m.iat[i,8] == '買' and df_5m.iat[i-1,9] >= 0) or (df_5m.iat[i,8] == '売' and df_5m.iat[i-1,9] <= 0):\n",
        "    #         df_5m.iat[i,10] = 1\n",
        "    #     else:\n",
        "    #         df_5m.iat[i,10] = 0\n",
        "    # df_5m['judge'] = df_5m[['sign','filter_ma']].apply(get_judge,axis=1)\n",
        "\n",
        "    df_5m['loss_cut'] = 0\n",
        "\n",
        "    df = df_5m.copy()\n",
        "    timing = []\n",
        "    buysell = []\n",
        "    in_price = []\n",
        "    max_loss = []\n",
        "    max_profit = []\n",
        "    profit = []\n",
        "    judges = []\n",
        "    loss_cut_line = []\n",
        "    in_row = 0\n",
        "    out_row = 0\n",
        "    has_position = False\n",
        "\n",
        "    print(len(df))\n",
        "    df_trade_results = pd.DataFrame([], columns=['date', 'direction', 'price'])\n",
        "\n",
        "    for i in range(len(df)):\n",
        "\n",
        "        sign = df.iat[i,8]\n",
        "        filtering_position = df.iat[i-1,9]\n",
        "\n",
        "\n",
        "        #ここは損切り判定ブロック\n",
        "        if has_position:\n",
        "\n",
        "            out_row = i\n",
        "            \n",
        "            max_price = df.iloc[in_row:out_row,2].max()\n",
        "            min_price = df.iloc[in_row:out_row,3].min()\n",
        "\n",
        "            approval_loss = -1000\n",
        "            # if true_range is None:\n",
        "            #     approval_loss = -1000\n",
        "            # else:\n",
        "            #     approval_loss = - true_range * atr_const\n",
        "            #     if approval_loss > -0.001:\n",
        "            #         approval_loss = -0.001\n",
        "\n",
        "\n",
        "            if buysell[-1] == '買':\n",
        "\n",
        "                  if approval_loss > min_price - df.iat[in_row,1]:\n",
        "\n",
        "                      max_loss.append(approval_loss)\n",
        "                      max_profit.append(max_price - df.iat[in_row,1])\n",
        "                      profit.append(approval_loss)\n",
        "\n",
        "                      has_position = False\n",
        "\n",
        "            if buysell[-1] == '売':\n",
        "\n",
        "                  if approval_loss > df.iat[in_row,1] - max_price:\n",
        "\n",
        "                      max_loss.append(approval_loss)\n",
        "                      max_profit.append(df.iat[in_row,1] - min_price)\n",
        "                      profit.append(approval_loss)\n",
        "\n",
        "                      has_position = False\n",
        "                \n",
        "\n",
        "        if sign != '':\n",
        "\n",
        "            if has_position:\n",
        "\n",
        "                out_row = i\n",
        "\n",
        "                max_price = df.iloc[in_row:out_row,2].max()\n",
        "                min_price = df.iloc[in_row:out_row,3].min()\n",
        "\n",
        "                if buysell[-1] == '買':\n",
        "                      max_loss.append(min_price - df.iat[in_row,1])\n",
        "                      max_profit.append(max_price - df.iat[in_row,1])\n",
        "                      profit.append(df.iat[out_row,1] - df.iat[in_row,1])\n",
        "                      has_position = False\n",
        "            \n",
        "                elif buysell[-1] == '売':\n",
        "                      max_loss.append(df.iat[in_row,1] - max_price)\n",
        "                      max_profit.append(df.iat[in_row,1] - min_price)\n",
        "                      profit.append(df.iat[in_row,1] - df.iat[out_row,1])\n",
        "                      has_position = False\n",
        "                else:\n",
        "                  raise Valuerror('buysellに変な値が入ってる')\n",
        "                \n",
        "      \n",
        "\n",
        "        if sign != '' and has_position == False:\n",
        "\n",
        "            in_row = i\n",
        "            \n",
        "            timing.append(df.iat[in_row,0])\n",
        "            buysell.append(df.iat[in_row,8])\n",
        "            in_price.append(df.iat[in_row,1])\n",
        "            judges.append(df.iat[in_row,10])\n",
        "\n",
        "            \n",
        "            # true_range = (df.iloc[in_row - tr_period:in_row,2].max() - df.iloc[in_row-tr_period:in_row,3].min())\n",
        "          \n",
        "            has_position = True\n",
        "          \n",
        "        if i % 100000 == 0:\n",
        "          print(str(i) + 'まで終了')\n",
        "        #10万進むのに15秒くらい\n",
        "        # if len(timing) > 0:\n",
        "        #     assert  len(timing) != len(profit), 'err in {}'.format(i)\n",
        "\n",
        "    if len(timing) != len(max_loss):\n",
        "\n",
        "        timing.pop(-1)\n",
        "        buysell.pop(-1)\n",
        "        in_price.pop(-1)\n",
        "        judges.pop(-1)\n",
        "\n",
        "    # print(len(timing))\n",
        "    # print(len(buysell))\n",
        "    # print(len(in_price))\n",
        "    # print(len(max_loss))\n",
        "    # print(len(max_profit))\n",
        "    # print(len(profit))\n",
        "    # print(len(judges))\n",
        "    assert  len(timing)== len(profit), 'err 仕掛け数と結果数が合わない'\n",
        "\n",
        "\n",
        "    print('approval loss は' + str(approval_loss))\n",
        "\n",
        "    df_trade_results = pd.DataFrame(data={'date':timing, 'direction':buysell, 'price':in_price, 'max_loss':max_loss, 'max_profit':max_profit, 'profit':profit, 'judge':judges},\\\n",
        "                                columns=['date','direction','price','max_loss','max_profit', 'profit','judge'])\n",
        "\n",
        "    # print(df_trade_results.head())\n",
        "\n",
        "    # df0 = df_trade_results[df_trade_results['judge'] == 0].copy()\n",
        "    # df1 = df_trade_results[df_trade_results['judge'] == 1].copy()\n",
        "\n",
        "    # dfs = [df0,df1]\n",
        "    dfs = [df_trade_results]\n",
        "\n",
        "    for dfsep in dfs:\n",
        "        dfsep['ruiseki'] = 0.0\n",
        "        for i in range(1,len(dfsep)):\n",
        "            dfsep.iat[i,7] = dfsep.iat[i,5] + dfsep.iat[i-1,7]\n",
        "\n",
        "        if do_output == False:\n",
        "            dfsep['ruiseki'].plot()\n",
        "\n",
        "    # print('judge0は' + str(len(df0)) +'回')\n",
        "    # print('利益' + str(df0.iat[-1,7]))\n",
        "    # print('judge1は' + str(len(df1)) +'回')\n",
        "    # print('利益' + str(df1.iat[-1,7]))\n",
        "    print('df_trade_resultsは' + str(len(df_trade_results)) +'回')\n",
        "    print('利益' + str(df_trade_results.iat[-1,7]))\n",
        "\n",
        "    df_img = df_trade_results.copy()\n",
        "    indices = df_img.index\n",
        "    cumsums = df_img['ruiseki']\n",
        "\n",
        "    if do_output == True:\n",
        "        # df.to_csv(filepath, header=True)\n",
        "        #ルールを文字列で\n",
        "        rule = 'usdjpy_ma' + str(shortma) + '_ma' + str(longma) + '_cross_' + 'filter' + str(filter_mado) + '_variable_' + str(parameter)\n",
        "        #htmlファイルのフォルダパス\n",
        "        html_file_path = r'C:\\Users\\Ryo Naruse\\Desktop\\fushiginakimoti\\markets\\fx\\trade_methods\\comparison\\loss_cut'\n",
        "        #画像のフォルダパスはhtmlファイルのパスから生成する\n",
        "        imgfolderpath = html_file_path + '\\\\img' + '\\\\' + rule\n",
        "        # imgfolderpath = './drive/My Drive/Colab Notebooks/losscutatr/' + rule\n",
        "        if not os.path.exists(imgfolderpath):\n",
        "            os.mkdir(imgfolderpath)\n",
        "        imgname = rule + str(atr_const) + '.png'\n",
        "        homepage_image_src = 'img/' + rule + '/' + imgname\n",
        "        print(rule)\n",
        "        print(imgfolderpath)\n",
        "        print(imgname)\n",
        "        print(homepage_image_src)\n",
        "\n",
        "        number_of_trades = len(df_img)\n",
        "        win_rate = round(100 * len(df_img[df_img['profit']>0]) / number_of_trades, 1)\n",
        "        profit = round(df_img.iat[-1,7],4)\n",
        "        imgs_information = pd.DataFrame([{'rule':rule,'variable':parameter,'variable_value':variable_value,'html_file_path':html_file_path,\\\n",
        "                                          'img_folder_path':imgfolderpath,'img_name':imgname,'homepage_image_src':homepage_image_src,\\\n",
        "                                          'number_of_trades':number_of_trades,'win_rate':win_rate,'profit':profit}])\n",
        "\n",
        "        imgs_information.to_csv(imgfolderpath + '\\\\' + rule + '\\\\' + 'imgs_information.csv',header=False, index=False,mode='a')\n",
        "\n",
        "        fig = None\n",
        "        fig = plt.figure(figsize=(5.0,3.5), dpi=100, facecolor='w',linewidth=1, edgecolor='black', tight_layout=True)\n",
        "        plt.plot(indices, cumsums)\n",
        "        plt.title('stop loss HL(' + str(tr_period) + ')×' + str(atr_constv))\n",
        "        plt.xlabel('number of trades')\n",
        "        plt.ylabel('cumsums')\n",
        "        plt.grid(b=None, which='major', axis='both')\n",
        "        plt.show\n",
        "        fig.savefig(imgfolderpath + '\\\\' +imgname)\n",
        "        # fig.savefig(imgfolderpath + '/' +imgname)\n",
        "        fig.savefig(imgfolderpath + '\\\\' +imgname)\n",
        "        # fig.savefig(imgfolderpath + '/' +imgname)\n",
        "    \n"
      ],
      "execution_count": 22,
      "outputs": []
    },
    {
      "cell_type": "code",
      "metadata": {
        "id": "vy609vopH4x4",
        "colab_type": "code",
        "colab": {}
      },
      "source": [
        "def get_filtered_result4(shortv, longv, filterv, parameter=None, do_output=False):\n",
        "\n",
        "    # if parameter != None:\n",
        "        # filepath = './drive/My Drive/Colab Notebooks/losscutatr/' + parameter + str(atr_constv) + '.csv'\n",
        "        # filename = 'stoploss_' + parameter + str(atr_constv) + '.png'\n",
        "        # filepath = './drive/My Drive/Colab Notebooks/losscutatr/' + filename\n",
        "\n",
        "    shortma = 12\n",
        "    longma = 24\n",
        "    filter_mado = filterv\n",
        "    # tr_period = tr_periodv\n",
        "    # atr_const = atr_constv\n",
        "    # variable_value = str(atr_constv)\n",
        "\n",
        "    df_5m['ma_short'] = pd.DataFrame(df_5m['close'].rolling(shortma).mean()) #5\n",
        "    df_5m['ma_long'] = pd.DataFrame(df_5m['close'].rolling(longma).mean())   #6\n",
        "\n",
        "\n",
        "    df_5m['direction'] = '↑'   #7\n",
        "    df_5m['sign'] = ''\n",
        "    df_5m['filter_ma'] = df_5m['ma_long'] - df_5m['close'].rolling(filter_mado).mean()  #9\n",
        "    df_5m['judge'] = 0\n",
        "\n",
        "    #MAクロスのサインを記録 売買アルゴリズムのキモ\n",
        "    for i in range(0, len(df_5m)):\n",
        "      if df_5m.iat[i-1,5] > df_5m.iat[i-1,6] and df_5m.iat[i-1,9] <= 0 and df_5m.iat[i-1,7] == '↑':\n",
        "        df_5m.iat[i,7] = '↓'\n",
        "      elif df_5m.iat[i-1,5] < df_5m.iat[i-1,6] and df_5m.iat[i-1,9] >= 0 and df_5m.iat[i-1,7] == '↓':\n",
        "        df_5m.iat[i,7] = '↑'\n",
        "      else:\n",
        "        df_5m.iat[i,7] = str(df_5m.iat[i-1,7])\n",
        "\n",
        "    #hl用サイン記入\n",
        "    for i in range(0,len(df_5m)):\n",
        "      if df_5m.iat[i-1,7] == '↓' and df_5m.iat[i,7] == '↑':\n",
        "        df_5m.iat[i,8] = '買'\n",
        "      elif df_5m.iat[i-1,7] == '↑' and df_5m.iat[i,7] == '↓':\n",
        "        df_5m.iat[i,8] = '売'\n",
        "\n",
        "\n",
        "    # def get_judge(x):\n",
        "    #   if x[0] != '':\n",
        "    #       if (x[0] == '買' and x[1]  >= 0) or (x[0] == '売' and x[1] < 0):\n",
        "    #           #終値のフィルターMAに対する方向　と　IN方向が同じとき\n",
        "    #           return 1\n",
        "    #       else:\n",
        "    #           return 0\n",
        "\n",
        "\n",
        "    #フィルタがけなどでジャッジが必要な場合はここを使う\n",
        "    # for i in range(2,len(df_5m)):\n",
        "    #     if (df_5m.iat[i,8] == '買' and df_5m.iat[i-1,9] >= 0) or (df_5m.iat[i,8] == '売' and df_5m.iat[i-1,9] <= 0):\n",
        "    #         df_5m.iat[i,10] = 1\n",
        "    #     else:\n",
        "    #         df_5m.iat[i,10] = 0\n",
        "    # df_5m['judge'] = df_5m[['sign','filter_ma']].apply(get_judge,axis=1)\n",
        "\n",
        "    df_5m['loss_cut'] = 0\n",
        "\n",
        "    df = df_5m.copy()\n",
        "    timing = []\n",
        "    buysell = []\n",
        "    in_price = []\n",
        "    max_loss = []\n",
        "    max_profit = []\n",
        "    profit = []\n",
        "    judges = []\n",
        "    loss_cut_line = []\n",
        "    in_row = 0\n",
        "    out_row = 0\n",
        "    has_position = False\n",
        "\n",
        "    print(len(df))\n",
        "    df_trade_results = pd.DataFrame([], columns=['date', 'direction', 'price'])\n",
        "\n",
        "    for i in range(len(df)):\n",
        "\n",
        "        sign = df.iat[i,8]\n",
        "\n",
        "\n",
        "        #ここは損切り判定ブロック\n",
        "        if has_position:\n",
        "\n",
        "            out_row = i\n",
        "            \n",
        "            max_price = df.iloc[in_row:out_row,2].max()\n",
        "            min_price = df.iloc[in_row:out_row,3].min()\n",
        "\n",
        "            approval_loss = -1000\n",
        "            # if true_range is None:\n",
        "            #     approval_loss = -1000\n",
        "            # else:\n",
        "            #     approval_loss = - true_range * atr_const\n",
        "            #     if approval_loss > -0.001:\n",
        "            #         approval_loss = -0.001\n",
        "\n",
        "\n",
        "            if buysell[-1] == '買':\n",
        "\n",
        "                  if approval_loss > min_price - df.iat[in_row,1]:\n",
        "\n",
        "                      max_loss.append(approval_loss)\n",
        "                      max_profit.append(max_price - df.iat[in_row,1])\n",
        "                      profit.append(approval_loss)\n",
        "\n",
        "                      has_position = False\n",
        "\n",
        "            if buysell[-1] == '売':\n",
        "\n",
        "                  if approval_loss > df.iat[in_row,1] - max_price:\n",
        "\n",
        "                      max_loss.append(approval_loss)\n",
        "                      max_profit.append(df.iat[in_row,1] - min_price)\n",
        "                      profit.append(approval_loss)\n",
        "\n",
        "                      has_position = False\n",
        "                \n",
        "\n",
        "        if sign != '':\n",
        "\n",
        "            if has_position:\n",
        "\n",
        "                filtering_position = df.iat[i-1,9]\n",
        "\n",
        "                out_row = i\n",
        "\n",
        "                max_price = df.iloc[in_row:out_row,2].max()\n",
        "                min_price = df.iloc[in_row:out_row,3].min()\n",
        "\n",
        "                if buysell[-1] == '買':\n",
        "                      max_loss.append(min_price - df.iat[in_row,1])\n",
        "                      max_profit.append(max_price - df.iat[in_row,1])\n",
        "                      profit.append(df.iat[out_row,1] - df.iat[in_row,1])\n",
        "                      has_position = False\n",
        "            \n",
        "                elif buysell[-1] == '売':\n",
        "                      max_loss.append(df.iat[in_row,1] - max_price)\n",
        "                      max_profit.append(df.iat[in_row,1] - min_price)\n",
        "                      profit.append(df.iat[in_row,1] - df.iat[out_row,1])\n",
        "                      has_position = False\n",
        "                else:\n",
        "                  raise Valuerror('buysellに変な値が入ってる')\n",
        "                \n",
        "      \n",
        "\n",
        "        if sign != '' and has_position == False:\n",
        "\n",
        "            in_row = i\n",
        "            \n",
        "            timing.append(df.iat[in_row,0])\n",
        "            buysell.append(df.iat[in_row,8])\n",
        "            in_price.append(df.iat[in_row,1])\n",
        "            judges.append(df.iat[in_row,10])\n",
        "\n",
        "            \n",
        "            # true_range = (df.iloc[in_row - tr_period:in_row,2].max() - df.iloc[in_row-tr_period:in_row,3].min())\n",
        "          \n",
        "            has_position = True\n",
        "          \n",
        "        if i % 100000 == 0:\n",
        "          print(str(i) + 'まで終了')\n",
        "        #10万進むのに15秒くらい\n",
        "        # if len(timing) > 0:\n",
        "        #     assert  len(timing) != len(profit), 'err in {}'.format(i)\n",
        "\n",
        "    if len(timing) != len(max_loss):\n",
        "\n",
        "        timing.pop(-1)\n",
        "        buysell.pop(-1)\n",
        "        in_price.pop(-1)\n",
        "        judges.pop(-1)\n",
        "\n",
        "    # print(len(timing))\n",
        "    # print(len(buysell))\n",
        "    # print(len(in_price))\n",
        "    # print(len(max_loss))\n",
        "    # print(len(max_profit))\n",
        "    # print(len(profit))\n",
        "    # print(len(judges))\n",
        "    assert  len(timing)== len(profit), 'err 仕掛け数と結果数が合わない'\n",
        "\n",
        "\n",
        "    print('approval loss は' + str(approval_loss))\n",
        "\n",
        "    df_trade_results = pd.DataFrame(data={'date':timing, 'direction':buysell, 'price':in_price, 'max_loss':max_loss, 'max_profit':max_profit, 'profit':profit, 'judge':judges},\\\n",
        "                                columns=['date','direction','price','max_loss','max_profit', 'profit','judge'])\n",
        "\n",
        "    # print(df_trade_results.head())\n",
        "\n",
        "    # df0 = df_trade_results[df_trade_results['judge'] == 0].copy()\n",
        "    # df1 = df_trade_results[df_trade_results['judge'] == 1].copy()\n",
        "\n",
        "    # dfs = [df0,df1]\n",
        "    dfs = [df_trade_results]\n",
        "\n",
        "    for dfsep in dfs:\n",
        "        dfsep['ruiseki'] = 0.0\n",
        "        for i in range(1,len(dfsep)):\n",
        "            dfsep.iat[i,7] = dfsep.iat[i,5] + dfsep.iat[i-1,7]\n",
        "\n",
        "        if do_output == False:\n",
        "            dfsep['ruiseki'].plot()\n",
        "\n",
        "    # print('judge0は' + str(len(df0)) +'回')\n",
        "    # print('利益' + str(df0.iat[-1,7]))\n",
        "    # print('judge1は' + str(len(df1)) +'回')\n",
        "    # print('利益' + str(df1.iat[-1,7]))\n",
        "    print('df_trade_resultsは' + str(len(df_trade_results)) +'回')\n",
        "    print('利益' + str(df_trade_results.iat[-1,7]))\n",
        "\n",
        "    df_img = df_trade_results.copy()\n",
        "    indices = df_img.index\n",
        "    cumsums = df_img['ruiseki']\n",
        "\n",
        "    if do_output == True:\n",
        "        # df.to_csv(filepath, header=True)\n",
        "        #ルールを文字列で\n",
        "        rule = 'usdjpy_ma' + str(shortma) + '_ma' + str(longma) + '_cross_' + '_variable_' + str(parameter)\n",
        "        #htmlファイルのフォルダパス\n",
        "        html_file_path = r'C:\\Users\\Ryo Naruse\\Desktop\\fushiginakimoti\\markets\\fx\\trade_methods\\comparison\\loss_cut'\n",
        "        #画像のフォルダパスはhtmlファイルのパスから生成する\n",
        "        imgfolderpath = html_file_path + '\\\\img' + '\\\\' + rule\n",
        "        # imgfolderpath = './drive/My Drive/Colab Notebooks/losscutatr/' + rule\n",
        "        if not os.path.exists(imgfolderpath):\n",
        "            os.mkdir(imgfolderpath)\n",
        "        imgname = rule + str(filterv) + '.png'\n",
        "        homepage_image_src = 'img/' + rule + '/' + imgname\n",
        "        print(rule)\n",
        "        print(imgfolderpath)\n",
        "        print(imgname)\n",
        "        print(homepage_image_src)\n",
        "\n",
        "        number_of_trades = len(df_img)\n",
        "        win_rate = round(100 * len(df_img[df_img['profit']>0]) / number_of_trades, 1)\n",
        "        profit = round(df_img.iat[-1,7],4)\n",
        "        imgs_information = pd.DataFrame([{'rule':rule,'variable':parameter,'variable_value':variable_value,'html_file_path':html_file_path,\\\n",
        "                                          'img_folder_path':imgfolderpath,'img_name':imgname,'homepage_image_src':homepage_image_src,\\\n",
        "                                          'number_of_trades':number_of_trades,'win_rate':win_rate,'profit':profit}])\n",
        "\n",
        "        imgs_information.to_csv(imgfolderpath + '\\\\' + 'imgs_information.csv',header=False, index=False,mode='a')\n",
        "\n",
        "        fig = None\n",
        "        fig = plt.figure(figsize=(5.0,3.5), dpi=100, facecolor='w',linewidth=1, edgecolor='black', tight_layout=True)\n",
        "        plt.plot(indices, cumsums)\n",
        "        plt.title('ma12-ma24 cross filter ma' + str(filterv))\n",
        "        plt.xlabel('number of trades')\n",
        "        plt.ylabel('cumsums')\n",
        "        plt.grid(b=None, which='major', axis='both')\n",
        "        plt.show\n",
        "        fig.savefig(imgfolderpath + '\\\\' +imgname)\n",
        "        # fig.savefig(imgfolderpath + '/' +imgname)\n",
        "        # fig.savefig(imgfolderpath + '\\\\' +imgname)\n",
        "        # fig.savefig(imgfolderpath + '/' +imgname)\n",
        "\n",
        "\n"
      ],
      "execution_count": 21,
      "outputs": []
    },
    {
      "cell_type": "code",
      "metadata": {
        "id": "OMSvetgfLwOG",
        "colab_type": "code",
        "colab": {
          "base_uri": "https://localhost:8080/",
          "height": 53
        },
        "outputId": "66268289-94f1-43a0-fd3b-ff8d2c16f64a"
      },
      "source": [
        "#ヒストリカルデータのパス設定と、\n",
        "#htmlファイルのパス設定、ルール編集、画像のタイトルを設定してから行うこと。\n",
        "#管理者としてプロンプトを実行する\n",
        "start_time = datetime.datetime.now()\n",
        "print('start at' + str(start_time))\n",
        "\n",
        "# df_5m = pd.read_csv(r'C:\\Users\\Ryo Naruse\\Desktop\\fushiginakimoti/USDJPY5200052019.csv',sep=',',header=None)\n",
        "df_5m = pd.read_csv('./drive/My Drive/Colab Notebooks/USDJPY5200052019.csv',sep=',',header=None)\n",
        "df_5m.drop(6, axis=1)\n",
        "df_5m[6] = pd.to_datetime(df_5m[[0,1]].apply(lambda x: '{} {}'.format(x[0], x[1]),axis=1))\n",
        "df_5m = df_5m[[6,2,3,4,5]]\n",
        "df_5m = df_5m.rename(columns={6: 'date', 2:'open', 3:'high', 4:'low', 5:'close',7:'max5', 8:'min5', 9:'direction'})\n",
        "\n",
        "lap_time = datetime.datetime.now()\n",
        "print('generate_imgs_started')\n",
        "# somefunc3 = functools.partial(get_filtered_result3, shortv=12, longv=24, filterv=240, tr_periodv=10, parameter='atr_const')\n",
        "# somefunc3 = functools.partial(get_filtered_result3, shortv=12, longv=24)\n",
        "\n",
        "# variables = [1000,5,3,2,1.5,1,0.75,0.5,0.3,0.1]\n",
        "# for var in variables:\n",
        "#     somefunc3(atr_constv=var)\n",
        "#     if var == variables[0]:\n",
        "#         end_time = datetime.datetime.now()\n",
        "#         print('終了予定時刻：'+ str(lap_time + (end_time - lap_time) * (len(variables)-1)))"
      ],
      "execution_count": 11,
      "outputs": [
        {
          "output_type": "stream",
          "text": [
            "start at2020-07-29 09:30:58.842618\n",
            "generate_imgs_started\n"
          ],
          "name": "stdout"
        }
      ]
    },
    {
      "cell_type": "code",
      "metadata": {
        "id": "MXNO2rerNaUJ",
        "colab_type": "code",
        "colab": {
          "base_uri": "https://localhost:8080/",
          "height": 552
        },
        "outputId": "a89be6cc-659e-4219-ac04-3ee26315e966"
      },
      "source": [
        "lap_time = datetime.datetime.now()\n",
        "somefunc3(filterv=36)\n",
        "end_time = datetime.datetime.now()\n",
        "print('かかった時間：'+ str(end_time - lap_time))"
      ],
      "execution_count": 23,
      "outputs": [
        {
          "output_type": "stream",
          "text": [
            "1096838\n",
            "0まで終了\n",
            "100000まで終了\n",
            "200000まで終了\n",
            "300000まで終了\n",
            "400000まで終了\n",
            "500000まで終了\n",
            "600000まで終了\n",
            "700000まで終了\n",
            "800000まで終了\n",
            "900000まで終了\n",
            "1000000まで終了\n",
            "approval loss は-1000\n",
            "df_trade_resultsは35855回\n",
            "利益-2.9209999999991823\n",
            "かかった時間：0:09:14.838466\n"
          ],
          "name": "stdout"
        },
        {
          "output_type": "display_data",
          "data": {
            "image/png": "[encoded data removed]",
            "text/plain": [
              "<Figure size 432x288 with 1 Axes>"
            ]
          },
          "metadata": {
            "tags": [],
            "needs_background": "light"
          }
        }
      ]
    },
    {
      "cell_type": "code",
      "metadata": {
        "id": "pFghBo7m6eXq",
        "colab_type": "code",
        "colab": {
          "base_uri": "https://localhost:8080/",
          "height": 538
        },
        "outputId": "7dadfbd2-aa47-4a8f-ee6e-c9a46504a0c9"
      },
      "source": [
        "somefunc3(filterv=48)"
      ],
      "execution_count": 24,
      "outputs": [
        {
          "output_type": "stream",
          "text": [
            "1096838\n",
            "0まで終了\n",
            "100000まで終了\n",
            "200000まで終了\n",
            "300000まで終了\n",
            "400000まで終了\n",
            "500000まで終了\n",
            "600000まで終了\n",
            "700000まで終了\n",
            "800000まで終了\n",
            "900000まで終了\n",
            "1000000まで終了\n",
            "approval loss は-1000\n",
            "df_trade_resultsは25627回\n",
            "利益-10.87499999999882\n"
          ],
          "name": "stdout"
        },
        {
          "output_type": "display_data",
          "data": {
            "image/png": "[encoded data removed]",
            "text/plain": [
              "<Figure size 432x288 with 1 Axes>"
            ]
          },
          "metadata": {
            "tags": [],
            "needs_background": "light"
          }
        }
      ]
    },
    {
      "cell_type": "code",
      "metadata": {
        "id": "pjvWM1J86eU9",
        "colab_type": "code",
        "colab": {
          "base_uri": "https://localhost:8080/",
          "height": 534
        },
        "outputId": "1c522482-5e23-47e3-b91b-98ca6366d7b0"
      },
      "source": [
        "somefunc3(filterv=60)"
      ],
      "execution_count": 25,
      "outputs": [
        {
          "output_type": "stream",
          "text": [
            "1096838\n",
            "0まで終了\n",
            "100000まで終了\n",
            "200000まで終了\n",
            "300000まで終了\n",
            "400000まで終了\n",
            "500000まで終了\n",
            "600000まで終了\n",
            "700000まで終了\n",
            "800000まで終了\n",
            "900000まで終了\n",
            "1000000まで終了\n",
            "approval loss は-1000\n",
            "df_trade_resultsは20725回\n",
            "利益-4.653000000000887\n"
          ],
          "name": "stdout"
        },
        {
          "output_type": "display_data",
          "data": {
            "image/png": "[encoded data removed]",
            "text/plain": [
              "<Figure size 432x288 with 1 Axes>"
            ]
          },
          "metadata": {
            "tags": [],
            "needs_background": "light"
          }
        }
      ]
    },
    {
      "cell_type": "code",
      "metadata": {
        "id": "fUum4Ymg6eIj",
        "colab_type": "code",
        "colab": {
          "base_uri": "https://localhost:8080/",
          "height": 534
        },
        "outputId": "a684f690-7046-4928-d659-64b4491b2e0a"
      },
      "source": [
        "somefunc3(filterv=90)"
      ],
      "execution_count": 26,
      "outputs": [
        {
          "output_type": "stream",
          "text": [
            "1096838\n",
            "0まで終了\n",
            "100000まで終了\n",
            "200000まで終了\n",
            "300000まで終了\n",
            "400000まで終了\n",
            "500000まで終了\n",
            "600000まで終了\n",
            "700000まで終了\n",
            "800000まで終了\n",
            "900000まで終了\n",
            "1000000まで終了\n",
            "approval loss は-1000\n",
            "df_trade_resultsは14773回\n",
            "利益76.11700000000046\n"
          ],
          "name": "stdout"
        },
        {
          "output_type": "display_data",
          "data": {
            "image/png": "[encoded data removed]",
            "text/plain": [
              "<Figure size 432x288 with 1 Axes>"
            ]
          },
          "metadata": {
            "tags": [],
            "needs_background": "light"
          }
        }
      ]
    },
    {
      "cell_type": "code",
      "metadata": {
        "id": "1xVMHxc46eHR",
        "colab_type": "code",
        "colab": {
          "base_uri": "https://localhost:8080/",
          "height": 534
        },
        "outputId": "24bc60ef-81c6-4460-8056-49dd4c651c31"
      },
      "source": [
        "somefunc3(filterv=120)"
      ],
      "execution_count": 27,
      "outputs": [
        {
          "output_type": "stream",
          "text": [
            "1096838\n",
            "0まで終了\n",
            "100000まで終了\n",
            "200000まで終了\n",
            "300000まで終了\n",
            "400000まで終了\n",
            "500000まで終了\n",
            "600000まで終了\n",
            "700000まで終了\n",
            "800000まで終了\n",
            "900000まで終了\n",
            "1000000まで終了\n",
            "approval loss は-1000\n",
            "df_trade_resultsは11893回\n",
            "利益86.18299999999911\n"
          ],
          "name": "stdout"
        },
        {
          "output_type": "display_data",
          "data": {
            "image/png": "[encoded data removed]",
            "text/plain": [
              "<Figure size 432x288 with 1 Axes>"
            ]
          },
          "metadata": {
            "tags": [],
            "needs_background": "light"
          }
        }
      ]
    },
    {
      "cell_type": "code",
      "metadata": {
        "id": "ZzcCZJDS6eD3",
        "colab_type": "code",
        "colab": {
          "base_uri": "https://localhost:8080/",
          "height": 1000
        },
        "outputId": "d457e749-d433-48e0-901d-97ddce41519b"
      },
      "source": [
        "somefunc3(filterv=180)"
      ],
      "execution_count": 28,
      "outputs": [
        {
          "output_type": "stream",
          "text": [
            "1096838\n",
            "0まで終了\n",
            "1096838\n",
            "0まで終了\n",
            "100000まで終了\n",
            "100000まで終了\n",
            "200000まで終了\n",
            "200000まで終了\n",
            "300000まで終了\n",
            "300000まで終了\n",
            "400000まで終了\n",
            "400000まで終了\n",
            "500000まで終了\n",
            "500000まで終了\n",
            "600000まで終了\n",
            "600000まで終了\n",
            "700000まで終了\n",
            "700000まで終了\n",
            "800000まで終了\n",
            "800000まで終了\n",
            "900000まで終了\n",
            "900000まで終了\n",
            "1000000まで終了\n",
            "1000000まで終了\n",
            "approval loss は-1000\n",
            "df_trade_resultsは9053回\n",
            "利益90.4600000000004\n",
            "approval loss は-1000\n",
            "df_trade_resultsは9053回\n",
            "利益90.4600000000004\n"
          ],
          "name": "stdout"
        },
        {
          "output_type": "display_data",
          "data": {
            "image/png": "[encoded data removed]",
            "text/plain": [
              "<Figure size 432x288 with 1 Axes>"
            ]
          },
          "metadata": {
            "tags": [],
            "needs_background": "light"
          }
        },
        {
          "output_type": "display_data",
          "data": {
            "image/png": "[encoded data removed]",
            "text/plain": [
              "<Figure size 432x288 with 1 Axes>"
            ]
          },
          "metadata": {
            "tags": [],
            "needs_background": "light"
          }
        }
      ]
    },
    {
      "cell_type": "code",
      "metadata": {
        "id": "gNXAFR3O6eCF",
        "colab_type": "code",
        "colab": {
          "base_uri": "https://localhost:8080/",
          "height": 1000
        },
        "outputId": "732d8a73-ee7f-4dd4-97a0-3eb81ba065ce"
      },
      "source": [
        "somefunc3(filterv=240)"
      ],
      "execution_count": 29,
      "outputs": [
        {
          "output_type": "stream",
          "text": [
            "1096838\n",
            "0まで終了\n",
            "100000まで終了\n",
            "200000まで終了\n",
            "300000まで終了\n",
            "400000まで終了\n",
            "500000まで終了\n",
            "600000まで終了\n",
            "700000まで終了\n",
            "800000まで終了\n",
            "900000まで終了\n",
            "1000000まで終了\n",
            "approval loss は-1000\n",
            "df_trade_resultsは7377回\n",
            "利益121.80400000000071\n"
          ],
          "name": "stdout"
        },
        {
          "output_type": "display_data",
          "data": {
            "image/png": "[encoded data removed]",
            "text/plain": [
              "<Figure size 432x288 with 1 Axes>"
            ]
          },
          "metadata": {
            "tags": [],
            "needs_background": "light"
          }
        },
        {
          "output_type": "stream",
          "text": [
            "1096838\n",
            "0まで終了\n",
            "100000まで終了\n",
            "200000まで終了\n",
            "300000まで終了\n",
            "400000まで終了\n",
            "500000まで終了\n",
            "600000まで終了\n",
            "700000まで終了\n",
            "800000まで終了\n",
            "900000まで終了\n",
            "1000000まで終了\n",
            "approval loss は-1000\n",
            "df_trade_resultsは7377回\n",
            "利益121.80400000000071\n"
          ],
          "name": "stdout"
        },
        {
          "output_type": "display_data",
          "data": {
            "image/png": "[encoded data removed]",
            "text/plain": [
              "<Figure size 432x288 with 1 Axes>"
            ]
          },
          "metadata": {
            "tags": [],
            "needs_background": "light"
          }
        }
      ]
    },
    {
      "cell_type": "code",
      "metadata": {
        "id": "J0OgrtvD6eAb",
        "colab_type": "code",
        "colab": {
          "base_uri": "https://localhost:8080/",
          "height": 534
        },
        "outputId": "3d6c7699-eb43-4b97-eeeb-d49c46b2ca09"
      },
      "source": [
        "somefunc3(filterv=360)"
      ],
      "execution_count": 30,
      "outputs": [
        {
          "output_type": "stream",
          "text": [
            "1096838\n",
            "0まで終了\n",
            "100000まで終了\n",
            "200000まで終了\n",
            "300000まで終了\n",
            "400000まで終了\n",
            "500000まで終了\n",
            "600000まで終了\n",
            "700000まで終了\n",
            "800000まで終了\n",
            "900000まで終了\n",
            "1000000まで終了\n",
            "approval loss は-1000\n",
            "df_trade_resultsは5835回\n",
            "利益131.12999999999832\n"
          ],
          "name": "stdout"
        },
        {
          "output_type": "display_data",
          "data": {
            "image/png": "[encoded data removed]",
            "text/plain": [
              "<Figure size 432x288 with 1 Axes>"
            ]
          },
          "metadata": {
            "tags": [],
            "needs_background": "light"
          }
        }
      ]
    },
    {
      "cell_type": "code",
      "metadata": {
        "id": "A-TAu1Ur6d-1",
        "colab_type": "code",
        "colab": {
          "base_uri": "https://localhost:8080/",
          "height": 534
        },
        "outputId": "2b7ec9c5-e1ee-4f39-ea4b-132f4c68b2fc"
      },
      "source": [
        "somefunc3(filterv=480)"
      ],
      "execution_count": 31,
      "outputs": [
        {
          "output_type": "stream",
          "text": [
            "1096838\n",
            "0まで終了\n",
            "100000まで終了\n",
            "200000まで終了\n",
            "300000まで終了\n",
            "400000まで終了\n",
            "500000まで終了\n",
            "600000まで終了\n",
            "700000まで終了\n",
            "800000まで終了\n",
            "900000まで終了\n",
            "1000000まで終了\n",
            "approval loss は-1000\n",
            "df_trade_resultsは4913回\n",
            "利益88.73099999999864\n"
          ],
          "name": "stdout"
        },
        {
          "output_type": "display_data",
          "data": {
            "image/png": "[encoded data removed]",
            "text/plain": [
              "<Figure size 432x288 with 1 Axes>"
            ]
          },
          "metadata": {
            "tags": [],
            "needs_background": "light"
          }
        }
      ]
    },
    {
      "cell_type": "code",
      "metadata": {
        "id": "IxN5a7dB6d8h",
        "colab_type": "code",
        "colab": {
          "base_uri": "https://localhost:8080/",
          "height": 534
        },
        "outputId": "a22fe6c3-203f-4264-b8f7-5af075777ffd"
      },
      "source": [
        "somefunc3(filterv=600)"
      ],
      "execution_count": 35,
      "outputs": [
        {
          "output_type": "stream",
          "text": [
            "1096838\n",
            "0まで終了\n",
            "100000まで終了\n",
            "200000まで終了\n",
            "300000まで終了\n",
            "400000まで終了\n",
            "500000まで終了\n",
            "600000まで終了\n",
            "700000まで終了\n",
            "800000まで終了\n",
            "900000まで終了\n",
            "1000000まで終了\n",
            "approval loss は-1000\n",
            "df_trade_resultsは4375回\n",
            "利益81.23499999999835\n"
          ],
          "name": "stdout"
        },
        {
          "output_type": "display_data",
          "data": {
            "image/png": "[encoded data removed]",
            "text/plain": [
              "<Figure size 432x288 with 1 Axes>"
            ]
          },
          "metadata": {
            "tags": [],
            "needs_background": "light"
          }
        }
      ]
    },
    {
      "cell_type": "code",
      "metadata": {
        "id": "VhP0Nq1l6d4k",
        "colab_type": "code",
        "colab": {}
      },
      "source": [
        ""
      ],
      "execution_count": 32,
      "outputs": []
    },
    {
      "cell_type": "code",
      "metadata": {
        "id": "6Ptvp7c1m5X6",
        "colab_type": "code",
        "colab": {}
      },
      "source": [
        ""
      ],
      "execution_count": 32,
      "outputs": []
    },
    {
      "cell_type": "code",
      "metadata": {
        "id": "zXchain4rH_3",
        "colab_type": "code",
        "colab": {}
      },
      "source": [
        "\n",
        "\n"
      ],
      "execution_count": 32,
      "outputs": []
    },
    {
      "cell_type": "code",
      "metadata": {
        "id": "QIHMRucEsIjb",
        "colab_type": "code",
        "colab": {
          "base_uri": "https://localhost:8080/",
          "height": 80
        },
        "outputId": "b446f87e-72ae-4535-9579-95b35ef12dad"
      },
      "source": [
        "df_5m.head(1)"
      ],
      "execution_count": 33,
      "outputs": [
        {
          "output_type": "execute_result",
          "data": {
            "text/html": [
              "<div>\n",
              "<style scoped>\n",
              "    .dataframe tbody tr th:only-of-type {\n",
              "        vertical-align: middle;\n",
              "    }\n",
              "\n",
              "    .dataframe tbody tr th {\n",
              "        vertical-align: top;\n",
              "    }\n",
              "\n",
              "    .dataframe thead th {\n",
              "        text-align: right;\n",
              "    }\n",
              "</style>\n",
              "<table border=\"1\" class=\"dataframe\">\n",
              "  <thead>\n",
              "    <tr style=\"text-align: right;\">\n",
              "      <th></th>\n",
              "      <th>date</th>\n",
              "      <th>open</th>\n",
              "      <th>high</th>\n",
              "      <th>low</th>\n",
              "      <th>close</th>\n",
              "      <th>ma_short</th>\n",
              "      <th>ma_long</th>\n",
              "      <th>direction</th>\n",
              "      <th>sign</th>\n",
              "      <th>filter_ma</th>\n",
              "      <th>judge</th>\n",
              "      <th>loss_cut</th>\n",
              "    </tr>\n",
              "  </thead>\n",
              "  <tbody>\n",
              "    <tr>\n",
              "      <th>0</th>\n",
              "      <td>2005-01-10 02:30:00</td>\n",
              "      <td>104.79</td>\n",
              "      <td>104.79</td>\n",
              "      <td>104.77</td>\n",
              "      <td>104.79</td>\n",
              "      <td>NaN</td>\n",
              "      <td>NaN</td>\n",
              "      <td>↑</td>\n",
              "      <td></td>\n",
              "      <td>NaN</td>\n",
              "      <td>0</td>\n",
              "      <td>0</td>\n",
              "    </tr>\n",
              "  </tbody>\n",
              "</table>\n",
              "</div>"
            ],
            "text/plain": [
              "                 date    open    high     low  ...  sign  filter_ma  judge loss_cut\n",
              "0 2005-01-10 02:30:00  104.79  104.79  104.77  ...              NaN      0        0\n",
              "\n",
              "[1 rows x 12 columns]"
            ]
          },
          "metadata": {
            "tags": []
          },
          "execution_count": 33
        }
      ]
    },
    {
      "cell_type": "code",
      "metadata": {
        "id": "OrZIJxFpreER",
        "colab_type": "code",
        "colab": {}
      },
      "source": [
        "\n",
        "\n"
      ],
      "execution_count": 33,
      "outputs": []
    },
    {
      "cell_type": "code",
      "metadata": {
        "id": "WlsSQ62ixWZu",
        "colab_type": "code",
        "colab": {
          "base_uri": "https://localhost:8080/",
          "height": 423
        },
        "outputId": "6f4eb2c7-a6bc-48d8-b536-f4636e18f6f1"
      },
      "source": [
        "df_trade_results"
      ],
      "execution_count": 34,
      "outputs": [
        {
          "output_type": "execute_result",
          "data": {
            "text/html": [
              "<div>\n",
              "<style scoped>\n",
              "    .dataframe tbody tr th:only-of-type {\n",
              "        vertical-align: middle;\n",
              "    }\n",
              "\n",
              "    .dataframe tbody tr th {\n",
              "        vertical-align: top;\n",
              "    }\n",
              "\n",
              "    .dataframe thead th {\n",
              "        text-align: right;\n",
              "    }\n",
              "</style>\n",
              "<table border=\"1\" class=\"dataframe\">\n",
              "  <thead>\n",
              "    <tr style=\"text-align: right;\">\n",
              "      <th></th>\n",
              "      <th>date</th>\n",
              "      <th>direction</th>\n",
              "      <th>price</th>\n",
              "      <th>max_loss</th>\n",
              "      <th>max_profit</th>\n",
              "      <th>profit</th>\n",
              "      <th>judge</th>\n",
              "      <th>ruiseki</th>\n",
              "    </tr>\n",
              "  </thead>\n",
              "  <tbody>\n",
              "    <tr>\n",
              "      <th>0</th>\n",
              "      <td>2005-01-10 15:35:00</td>\n",
              "      <td>売</td>\n",
              "      <td>104.390</td>\n",
              "      <td>-0.110</td>\n",
              "      <td>0.600</td>\n",
              "      <td>0.380</td>\n",
              "      <td>0</td>\n",
              "      <td>0.000</td>\n",
              "    </tr>\n",
              "    <tr>\n",
              "      <th>1</th>\n",
              "      <td>2005-01-11 13:10:00</td>\n",
              "      <td>買</td>\n",
              "      <td>104.010</td>\n",
              "      <td>-0.180</td>\n",
              "      <td>0.020</td>\n",
              "      <td>-0.070</td>\n",
              "      <td>0</td>\n",
              "      <td>-0.070</td>\n",
              "    </tr>\n",
              "    <tr>\n",
              "      <th>2</th>\n",
              "      <td>2005-01-11 16:05:00</td>\n",
              "      <td>売</td>\n",
              "      <td>103.940</td>\n",
              "      <td>-0.100</td>\n",
              "      <td>0.850</td>\n",
              "      <td>0.560</td>\n",
              "      <td>0</td>\n",
              "      <td>0.490</td>\n",
              "    </tr>\n",
              "    <tr>\n",
              "      <th>3</th>\n",
              "      <td>2005-01-12 04:15:00</td>\n",
              "      <td>買</td>\n",
              "      <td>103.380</td>\n",
              "      <td>-0.190</td>\n",
              "      <td>0.140</td>\n",
              "      <td>0.000</td>\n",
              "      <td>0</td>\n",
              "      <td>0.490</td>\n",
              "    </tr>\n",
              "    <tr>\n",
              "      <th>4</th>\n",
              "      <td>2005-01-12 11:55:00</td>\n",
              "      <td>売</td>\n",
              "      <td>103.380</td>\n",
              "      <td>-0.130</td>\n",
              "      <td>0.100</td>\n",
              "      <td>0.060</td>\n",
              "      <td>0</td>\n",
              "      <td>0.550</td>\n",
              "    </tr>\n",
              "    <tr>\n",
              "      <th>...</th>\n",
              "      <td>...</td>\n",
              "      <td>...</td>\n",
              "      <td>...</td>\n",
              "      <td>...</td>\n",
              "      <td>...</td>\n",
              "      <td>...</td>\n",
              "      <td>...</td>\n",
              "      <td>...</td>\n",
              "    </tr>\n",
              "    <tr>\n",
              "      <th>11888</th>\n",
              "      <td>2019-12-24 14:00:00</td>\n",
              "      <td>売</td>\n",
              "      <td>109.389</td>\n",
              "      <td>-0.023</td>\n",
              "      <td>0.007</td>\n",
              "      <td>-0.002</td>\n",
              "      <td>0</td>\n",
              "      <td>86.421</td>\n",
              "    </tr>\n",
              "    <tr>\n",
              "      <th>11889</th>\n",
              "      <td>2019-12-24 16:15:00</td>\n",
              "      <td>買</td>\n",
              "      <td>109.391</td>\n",
              "      <td>-0.076</td>\n",
              "      <td>0.012</td>\n",
              "      <td>-0.020</td>\n",
              "      <td>0</td>\n",
              "      <td>86.401</td>\n",
              "    </tr>\n",
              "    <tr>\n",
              "      <th>11890</th>\n",
              "      <td>2019-12-24 19:00:00</td>\n",
              "      <td>売</td>\n",
              "      <td>109.371</td>\n",
              "      <td>-0.186</td>\n",
              "      <td>0.046</td>\n",
              "      <td>-0.169</td>\n",
              "      <td>0</td>\n",
              "      <td>86.232</td>\n",
              "    </tr>\n",
              "    <tr>\n",
              "      <th>11891</th>\n",
              "      <td>2019-12-26 11:00:00</td>\n",
              "      <td>買</td>\n",
              "      <td>109.540</td>\n",
              "      <td>-0.118</td>\n",
              "      <td>0.136</td>\n",
              "      <td>-0.054</td>\n",
              "      <td>0</td>\n",
              "      <td>86.178</td>\n",
              "    </tr>\n",
              "    <tr>\n",
              "      <th>11892</th>\n",
              "      <td>2019-12-27 04:50:00</td>\n",
              "      <td>売</td>\n",
              "      <td>109.486</td>\n",
              "      <td>-0.030</td>\n",
              "      <td>0.050</td>\n",
              "      <td>0.005</td>\n",
              "      <td>0</td>\n",
              "      <td>86.183</td>\n",
              "    </tr>\n",
              "  </tbody>\n",
              "</table>\n",
              "<p>11893 rows × 8 columns</p>\n",
              "</div>"
            ],
            "text/plain": [
              "                     date direction    price  ...  profit  judge  ruiseki\n",
              "0     2005-01-10 15:35:00         売  104.390  ...   0.380      0    0.000\n",
              "1     2005-01-11 13:10:00         買  104.010  ...  -0.070      0   -0.070\n",
              "2     2005-01-11 16:05:00         売  103.940  ...   0.560      0    0.490\n",
              "3     2005-01-12 04:15:00         買  103.380  ...   0.000      0    0.490\n",
              "4     2005-01-12 11:55:00         売  103.380  ...   0.060      0    0.550\n",
              "...                   ...       ...      ...  ...     ...    ...      ...\n",
              "11888 2019-12-24 14:00:00         売  109.389  ...  -0.002      0   86.421\n",
              "11889 2019-12-24 16:15:00         買  109.391  ...  -0.020      0   86.401\n",
              "11890 2019-12-24 19:00:00         売  109.371  ...  -0.169      0   86.232\n",
              "11891 2019-12-26 11:00:00         買  109.540  ...  -0.054      0   86.178\n",
              "11892 2019-12-27 04:50:00         売  109.486  ...   0.005      0   86.183\n",
              "\n",
              "[11893 rows x 8 columns]"
            ]
          },
          "metadata": {
            "tags": []
          },
          "execution_count": 34
        }
      ]
    }
  ]
}