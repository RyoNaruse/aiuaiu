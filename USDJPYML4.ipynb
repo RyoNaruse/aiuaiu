{
  "nbformat": 4,
  "nbformat_minor": 0,
  "metadata": {
    "colab": {
      "name": "USDJPYML4",
      "provenance": [],
      "collapsed_sections": [],
      "include_colab_link": true
    },
    "kernelspec": {
      "name": "python3",
      "display_name": "Python 3"
    },
    "accelerator": "GPU"
  },
  "cells": [
    {
      "cell_type": "markdown",
      "metadata": {
        "id": "view-in-github",
        "colab_type": "text"
      },
      "source": [
        "<a href=\"https://colab.research.google.com/github/RyoNaruse/aiuaiu/blob/master/USDJPYML4.ipynb\" target=\"_parent\"><img src=\"https://colab.research.google.com/assets/colab-badge.svg\" alt=\"Open In Colab\"/></a>"
      ]
    },
    {
      "cell_type": "code",
      "metadata": {
        "id": "gdEBlv8Hxh8V",
        "colab_type": "code",
        "colab": {}
      },
      "source": [
        "import pandas as pd\n",
        "import numpy as np\n",
        "import matplotlib.pyplot as plt\n",
        "import seaborn as sns\n",
        "from itertools import product\n",
        "\n"
      ],
      "execution_count": null,
      "outputs": []
    },
    {
      "cell_type": "code",
      "metadata": {
        "id": "RzM2yk0cwenx",
        "colab_type": "code",
        "colab": {
          "base_uri": "https://localhost:8080/",
          "height": 55
        },
        "outputId": "f9779659-f1be-480d-bdce-1f4166a4f4b5"
      },
      "source": [
        "from google.colab import drive\n",
        "drive.mount('/content/drive')\n",
        "# 4/uwHxO9fnnxZTbEWs4WkmSTxHrnc5Z8Z-HiR2CzLkccD4kt_GA-AYg4Y\n",
        "#naru ryoのをマウント"
      ],
      "execution_count": null,
      "outputs": [
        {
          "output_type": "stream",
          "text": [
            "Drive already mounted at /content/drive; to attempt to forcibly remount, call drive.mount(\"/content/drive\", force_remount=True).\n"
          ],
          "name": "stdout"
        }
      ]
    },
    {
      "cell_type": "code",
      "metadata": {
        "id": "EODO5z4hwzXh",
        "colab_type": "code",
        "colab": {
          "base_uri": "https://localhost:8080/",
          "height": 318
        },
        "outputId": "143935ef-864d-4bcd-d90f-d58951c3d074"
      },
      "source": [
        "!dir ./drive/My\\ Drive/Colab\\ Notebooks"
      ],
      "execution_count": null,
      "outputs": [
        {
          "output_type": "stream",
          "text": [
            "2020-02-0101.57.31heartbeat.csv\t\t\t  EURUSD20052019_5m.csv\n",
            "5m_bb20ma2s_break_1hkudari_uehe_break_buy.csv\t  fxusdjpy5mma\n",
            "5m_bb20ma2s_break_1hnobori_sitahe_break_sell.csv  game(1).ipynb\\ のコピー\n",
            "5m_bolinger_break_nofiltered.csv\t\t  kaggle.ipynb\n",
            "5m_hl_break_1hkudari_uehe_break_buy_rule3.csv\t  test.ipynbest\n",
            "5m_hl_break_1hkudri_uehe_break_buy.csv\t\t  Untitled1.ipynb\n",
            "5m_hl_break_1hnobori_sitahe_break_sell.csv\t  Untitled2.ipynb\n",
            "5m_hl_break_1hnobori_sitahe_break_sell_rule3.csv  Untitled3.ipynb\n",
            "5m_ma12_ma24_result2015.csv\t\t\t  USDJPY1d20052019.csv\n",
            "5m_ma12_ma24_result.csv\t\t\t\t  USDJPY1h20052019.csv\n",
            "5m_minmax5_break_buy_filtered_2.csv\t\t  USDJPY5200052019.csv\n",
            "5m_minmax5_break_buy_flitered_1.csv\t\t  USDJPY52018.csv\n",
            "5m_minmax5_break_even.csv\t\t\t  USDJPYML2\n",
            "5m_minmax5_break_prof.csv\t\t\t  USDJPYML3\n",
            "Aistidies_mnist.ipynb\t\t\t\t  USDJPYML4\n",
            "EURUSD20052019_1d.csv\t\t\t\t  USDJPYML.ipynb\n",
            "EURUSD20052019_1h.csv\t\t\t\t  WaveAnalitics\n"
          ],
          "name": "stdout"
        }
      ]
    },
    {
      "cell_type": "code",
      "metadata": {
        "id": "-lcUEE-dY47x",
        "colab_type": "code",
        "colab": {}
      },
      "source": [
        "# df_5m_2018.to_csv('./drive/My Drive/Colab Notebooks/USDJPY52018.csv',sep=',',header=None)"
      ],
      "execution_count": null,
      "outputs": []
    },
    {
      "cell_type": "code",
      "metadata": {
        "id": "YFX370sAGZUr",
        "colab_type": "code",
        "colab": {}
      },
      "source": [
        "df_5m = pd.read_csv('./drive/My Drive/Colab Notebooks/EURUSD20052019_5m.csv',sep=',',header=None)\n",
        "df_1h = pd.read_csv('./drive/My Drive/Colab Notebooks/EURUSD20052019_1h.csv',sep=',',header=None)\n",
        "df_1d = pd.read_csv('./drive/My Drive/Colab Notebooks/EURUSD20052019_1d.csv',sep=',',header=None)"
      ],
      "execution_count": null,
      "outputs": []
    },
    {
      "cell_type": "code",
      "metadata": {
        "id": "nyj2Jj8IyJXV",
        "colab_type": "code",
        "colab": {
          "base_uri": "https://localhost:8080/",
          "height": 424
        },
        "outputId": "737b5411-8d4d-4f20-e91b-e029daacf4a6"
      },
      "source": [
        "df_1d.drop(6, axis=1)\n",
        "df_1h.drop(6, axis=1)\n",
        "df_5m.drop(6, axis=1)"
      ],
      "execution_count": null,
      "outputs": [
        {
          "output_type": "execute_result",
          "data": {
            "text/html": [
              "<div>\n",
              "<style scoped>\n",
              "    .dataframe tbody tr th:only-of-type {\n",
              "        vertical-align: middle;\n",
              "    }\n",
              "\n",
              "    .dataframe tbody tr th {\n",
              "        vertical-align: top;\n",
              "    }\n",
              "\n",
              "    .dataframe thead th {\n",
              "        text-align: right;\n",
              "    }\n",
              "</style>\n",
              "<table border=\"1\" class=\"dataframe\">\n",
              "  <thead>\n",
              "    <tr style=\"text-align: right;\">\n",
              "      <th></th>\n",
              "      <th>0</th>\n",
              "      <th>1</th>\n",
              "      <th>2</th>\n",
              "      <th>3</th>\n",
              "      <th>4</th>\n",
              "      <th>5</th>\n",
              "    </tr>\n",
              "  </thead>\n",
              "  <tbody>\n",
              "    <tr>\n",
              "      <th>0</th>\n",
              "      <td>2005.01.10</td>\n",
              "      <td>02:30</td>\n",
              "      <td>1.30470</td>\n",
              "      <td>1.30580</td>\n",
              "      <td>1.30470</td>\n",
              "      <td>1.30540</td>\n",
              "    </tr>\n",
              "    <tr>\n",
              "      <th>1</th>\n",
              "      <td>2005.01.10</td>\n",
              "      <td>02:35</td>\n",
              "      <td>1.30540</td>\n",
              "      <td>1.30540</td>\n",
              "      <td>1.30530</td>\n",
              "      <td>1.30540</td>\n",
              "    </tr>\n",
              "    <tr>\n",
              "      <th>2</th>\n",
              "      <td>2005.01.10</td>\n",
              "      <td>02:40</td>\n",
              "      <td>1.30540</td>\n",
              "      <td>1.30540</td>\n",
              "      <td>1.30540</td>\n",
              "      <td>1.30540</td>\n",
              "    </tr>\n",
              "    <tr>\n",
              "      <th>3</th>\n",
              "      <td>2005.01.10</td>\n",
              "      <td>02:45</td>\n",
              "      <td>1.30540</td>\n",
              "      <td>1.30630</td>\n",
              "      <td>1.30540</td>\n",
              "      <td>1.30610</td>\n",
              "    </tr>\n",
              "    <tr>\n",
              "      <th>4</th>\n",
              "      <td>2005.01.10</td>\n",
              "      <td>02:50</td>\n",
              "      <td>1.30610</td>\n",
              "      <td>1.30670</td>\n",
              "      <td>1.30610</td>\n",
              "      <td>1.30660</td>\n",
              "    </tr>\n",
              "    <tr>\n",
              "      <th>...</th>\n",
              "      <td>...</td>\n",
              "      <td>...</td>\n",
              "      <td>...</td>\n",
              "      <td>...</td>\n",
              "      <td>...</td>\n",
              "      <td>...</td>\n",
              "    </tr>\n",
              "    <tr>\n",
              "      <th>1112583</th>\n",
              "      <td>2020.03.20</td>\n",
              "      <td>23:30</td>\n",
              "      <td>1.06629</td>\n",
              "      <td>1.06857</td>\n",
              "      <td>1.06629</td>\n",
              "      <td>1.06836</td>\n",
              "    </tr>\n",
              "    <tr>\n",
              "      <th>1112584</th>\n",
              "      <td>2020.03.20</td>\n",
              "      <td>23:35</td>\n",
              "      <td>1.06836</td>\n",
              "      <td>1.06922</td>\n",
              "      <td>1.06836</td>\n",
              "      <td>1.06897</td>\n",
              "    </tr>\n",
              "    <tr>\n",
              "      <th>1112585</th>\n",
              "      <td>2020.03.20</td>\n",
              "      <td>23:40</td>\n",
              "      <td>1.06897</td>\n",
              "      <td>1.06962</td>\n",
              "      <td>1.06850</td>\n",
              "      <td>1.06953</td>\n",
              "    </tr>\n",
              "    <tr>\n",
              "      <th>1112586</th>\n",
              "      <td>2020.03.20</td>\n",
              "      <td>23:45</td>\n",
              "      <td>1.06954</td>\n",
              "      <td>1.06967</td>\n",
              "      <td>1.06897</td>\n",
              "      <td>1.06897</td>\n",
              "    </tr>\n",
              "    <tr>\n",
              "      <th>1112587</th>\n",
              "      <td>2020.03.20</td>\n",
              "      <td>23:50</td>\n",
              "      <td>1.06897</td>\n",
              "      <td>1.06986</td>\n",
              "      <td>1.06881</td>\n",
              "      <td>1.06940</td>\n",
              "    </tr>\n",
              "  </tbody>\n",
              "</table>\n",
              "<p>1112588 rows × 6 columns</p>\n",
              "</div>"
            ],
            "text/plain": [
              "                  0      1        2        3        4        5\n",
              "0        2005.01.10  02:30  1.30470  1.30580  1.30470  1.30540\n",
              "1        2005.01.10  02:35  1.30540  1.30540  1.30530  1.30540\n",
              "2        2005.01.10  02:40  1.30540  1.30540  1.30540  1.30540\n",
              "3        2005.01.10  02:45  1.30540  1.30630  1.30540  1.30610\n",
              "4        2005.01.10  02:50  1.30610  1.30670  1.30610  1.30660\n",
              "...             ...    ...      ...      ...      ...      ...\n",
              "1112583  2020.03.20  23:30  1.06629  1.06857  1.06629  1.06836\n",
              "1112584  2020.03.20  23:35  1.06836  1.06922  1.06836  1.06897\n",
              "1112585  2020.03.20  23:40  1.06897  1.06962  1.06850  1.06953\n",
              "1112586  2020.03.20  23:45  1.06954  1.06967  1.06897  1.06897\n",
              "1112587  2020.03.20  23:50  1.06897  1.06986  1.06881  1.06940\n",
              "\n",
              "[1112588 rows x 6 columns]"
            ]
          },
          "metadata": {
            "tags": []
          },
          "execution_count": 6
        }
      ]
    },
    {
      "cell_type": "code",
      "metadata": {
        "id": "np5G69FFyubg",
        "colab_type": "code",
        "colab": {}
      },
      "source": [
        "df_1d[6] = pd.to_datetime(df_1d[[0,1]].apply(lambda x: '{} {}'.format(x[0], x[1]),axis=1))\n",
        "df_1h[6] = pd.to_datetime(df_1h[[0,1]].apply(lambda x: '{} {}'.format(x[0], x[1]),axis=1))\n",
        "df_5m[6] = pd.to_datetime(df_5m[[0,1]].apply(lambda x: '{} {}'.format(x[0], x[1]),axis=1))"
      ],
      "execution_count": null,
      "outputs": []
    },
    {
      "cell_type": "code",
      "metadata": {
        "id": "MZBXCCsq1LiR",
        "colab_type": "code",
        "colab": {}
      },
      "source": [
        "df_1d = df_1d[[6,2,3,4,5]]\n",
        "df_1h = df_1h[[6,2,3,4,5]]\n",
        "df_5m = df_5m[[6,2,3,4,5]]"
      ],
      "execution_count": null,
      "outputs": []
    },
    {
      "cell_type": "code",
      "metadata": {
        "id": "2J2swgwoO5Hn",
        "colab_type": "code",
        "colab": {}
      },
      "source": [
        "df_1d = df_1d.rename(columns={6: 'date', 2:'open', 3:'high', 4:'low', 5:'close',7:'max5', 8:'min5', 9:'direction'})\n",
        "df_1h = df_1h.rename(columns={6: 'date', 2:'open', 3:'high', 4:'low', 5:'close',7:'max5', 8:'min5', 9:'direction'})\n",
        "df_5m = df_5m.rename(columns={6: 'date', 2:'open', 3:'high', 4:'low', 5:'close',7:'max5', 8:'min5', 9:'direction'})"
      ],
      "execution_count": null,
      "outputs": []
    },
    {
      "cell_type": "code",
      "metadata": {
        "id": "Hq4oBgcr315_",
        "colab_type": "code",
        "colab": {}
      },
      "source": [
        "mado = 20\n",
        "# print(df_5m.iloc[0:5,[2]].max())\n",
        "# df_5m['max5'] = pd.DataFrame(df_5m['high'].rolling(mado).max())\n",
        "# df_5m['min5'] = pd.DataFrame(df_5m['low'].rolling(mado).min())\n",
        "# df_5m['max5'] = pd.DataFrame(df_5m['high'].rolling(10).max())\n",
        "# df_5m['min5'] = pd.DataFrame(df_5m['low'].rolling(10).min())\n",
        "# df_5m['ma20'] = pd.DataFrame(df_5m['close'].rolling(20).mean())\n",
        "df_5m['ma'] = pd.DataFrame(df_5m['close'].rolling(mado).mean())\n",
        "\n",
        "# df_5m['1sigma'] = pd.DataFrame(df_5m['close'].rolling(20).std())\n",
        "# print(df_5m.iloc[0:20,1:])"
      ],
      "execution_count": null,
      "outputs": []
    },
    {
      "cell_type": "code",
      "metadata": {
        "id": "lUZZFq0V6aD0",
        "colab_type": "code",
        "colab": {}
      },
      "source": [
        "def get_stok(close, low, high, n): \n",
        "    stok = ((close - low.rolling(window=n, center=False).min()) / ( high.rolling(window=n,center=False).max() - low.rolling(window=n,center=False).min())) * 100\n",
        "    return stok\n",
        "def get_kairi(close, ma):\n",
        "  return close / ma"
      ],
      "execution_count": null,
      "outputs": []
    },
    {
      "cell_type": "code",
      "metadata": {
        "id": "HC6i-LGf6t_H",
        "colab_type": "code",
        "colab": {}
      },
      "source": [
        "df_1h['stok'] = get_stok(df_1h['close'],df_1h['low'],df_1h['high'],5)\n",
        "df_1h['stod'] = df_1h['stok'].rolling(3).mean()"
      ],
      "execution_count": null,
      "outputs": []
    },
    {
      "cell_type": "code",
      "metadata": {
        "id": "7FC88cjVGSf-",
        "colab_type": "code",
        "colab": {}
      },
      "source": [
        ""
      ],
      "execution_count": null,
      "outputs": []
    },
    {
      "cell_type": "code",
      "metadata": {
        "id": "Qp3tJazh7AqS",
        "colab_type": "code",
        "colab": {}
      },
      "source": [
        "df_1h['direction'] = '↑'\n",
        "df_1h['sign'] = ''"
      ],
      "execution_count": null,
      "outputs": []
    },
    {
      "cell_type": "code",
      "metadata": {
        "id": "9ry_-pTX7LhL",
        "colab_type": "code",
        "colab": {}
      },
      "source": [
        "#stokasのサインを追加\n",
        "for i in range(10, len(df_1h)):\n",
        "  if df_1h.iat[i-1,6] > 75:\n",
        "    df_1h.iat[i,7] = '↑'\n",
        "  elif df_1h.iat[i-1,6] < 25:\n",
        "    df_1h.iat[i,7] = '↓'\n",
        "  else:\n",
        "    df_1h.iat[i,7] = str(df_1h.iat[i-1,7])"
      ],
      "execution_count": null,
      "outputs": []
    },
    {
      "cell_type": "code",
      "metadata": {
        "id": "lwLYuyVJ7-rm",
        "colab_type": "code",
        "colab": {}
      },
      "source": [
        "#サイン記入\n",
        "for i in range(2,len(df_1h)):\n",
        "  if df_1h.iat[i-1,7] == '↓' and df_1h.iat[i,7] == '↑':\n",
        "    df_1h.iat[i,8] = '買'\n",
        "  elif df_1h.iat[i-1,7] == '↑' and df_1h.iat[i,7] == '↓':\n",
        "    df_1h.iat[i,8] = '売'"
      ],
      "execution_count": null,
      "outputs": []
    },
    {
      "cell_type": "code",
      "metadata": {
        "id": "pvBuYu-w8KPh",
        "colab_type": "code",
        "colab": {}
      },
      "source": [
        "df_5m = df_1h.copy()"
      ],
      "execution_count": null,
      "outputs": []
    },
    {
      "cell_type": "code",
      "metadata": {
        "id": "nypW1oU07oKm",
        "colab_type": "code",
        "colab": {
          "base_uri": "https://localhost:8080/",
          "height": 424
        },
        "outputId": "d0a7f90b-99c9-43ec-813e-ab50ea1a0034"
      },
      "source": [
        "df_1h"
      ],
      "execution_count": null,
      "outputs": [
        {
          "output_type": "execute_result",
          "data": {
            "text/html": [
              "<div>\n",
              "<style scoped>\n",
              "    .dataframe tbody tr th:only-of-type {\n",
              "        vertical-align: middle;\n",
              "    }\n",
              "\n",
              "    .dataframe tbody tr th {\n",
              "        vertical-align: top;\n",
              "    }\n",
              "\n",
              "    .dataframe thead th {\n",
              "        text-align: right;\n",
              "    }\n",
              "</style>\n",
              "<table border=\"1\" class=\"dataframe\">\n",
              "  <thead>\n",
              "    <tr style=\"text-align: right;\">\n",
              "      <th></th>\n",
              "      <th>date</th>\n",
              "      <th>open</th>\n",
              "      <th>high</th>\n",
              "      <th>low</th>\n",
              "      <th>close</th>\n",
              "      <th>stok</th>\n",
              "      <th>stod</th>\n",
              "      <th>direction</th>\n",
              "      <th>sign</th>\n",
              "    </tr>\n",
              "  </thead>\n",
              "  <tbody>\n",
              "    <tr>\n",
              "      <th>0</th>\n",
              "      <td>2005-01-10 02:00:00</td>\n",
              "      <td>1.30470</td>\n",
              "      <td>1.30720</td>\n",
              "      <td>1.30470</td>\n",
              "      <td>1.30720</td>\n",
              "      <td>NaN</td>\n",
              "      <td>NaN</td>\n",
              "      <td>↑</td>\n",
              "      <td></td>\n",
              "    </tr>\n",
              "    <tr>\n",
              "      <th>1</th>\n",
              "      <td>2005-01-10 03:00:00</td>\n",
              "      <td>1.30720</td>\n",
              "      <td>1.30750</td>\n",
              "      <td>1.30590</td>\n",
              "      <td>1.30700</td>\n",
              "      <td>NaN</td>\n",
              "      <td>NaN</td>\n",
              "      <td>↑</td>\n",
              "      <td></td>\n",
              "    </tr>\n",
              "    <tr>\n",
              "      <th>2</th>\n",
              "      <td>2005-01-10 04:00:00</td>\n",
              "      <td>1.30700</td>\n",
              "      <td>1.30750</td>\n",
              "      <td>1.30670</td>\n",
              "      <td>1.30670</td>\n",
              "      <td>NaN</td>\n",
              "      <td>NaN</td>\n",
              "      <td>↑</td>\n",
              "      <td></td>\n",
              "    </tr>\n",
              "    <tr>\n",
              "      <th>3</th>\n",
              "      <td>2005-01-10 05:00:00</td>\n",
              "      <td>1.30670</td>\n",
              "      <td>1.30750</td>\n",
              "      <td>1.30670</td>\n",
              "      <td>1.30750</td>\n",
              "      <td>NaN</td>\n",
              "      <td>NaN</td>\n",
              "      <td>↑</td>\n",
              "      <td></td>\n",
              "    </tr>\n",
              "    <tr>\n",
              "      <th>4</th>\n",
              "      <td>2005-01-10 06:00:00</td>\n",
              "      <td>1.30750</td>\n",
              "      <td>1.30850</td>\n",
              "      <td>1.30740</td>\n",
              "      <td>1.30830</td>\n",
              "      <td>94.736842</td>\n",
              "      <td>NaN</td>\n",
              "      <td>↑</td>\n",
              "      <td></td>\n",
              "    </tr>\n",
              "    <tr>\n",
              "      <th>...</th>\n",
              "      <td>...</td>\n",
              "      <td>...</td>\n",
              "      <td>...</td>\n",
              "      <td>...</td>\n",
              "      <td>...</td>\n",
              "      <td>...</td>\n",
              "      <td>...</td>\n",
              "      <td>...</td>\n",
              "      <td>...</td>\n",
              "    </tr>\n",
              "    <tr>\n",
              "      <th>93463</th>\n",
              "      <td>2020-03-20 19:00:00</td>\n",
              "      <td>1.06828</td>\n",
              "      <td>1.07130</td>\n",
              "      <td>1.06535</td>\n",
              "      <td>1.06596</td>\n",
              "      <td>5.754717</td>\n",
              "      <td>25.794575</td>\n",
              "      <td>↓</td>\n",
              "      <td></td>\n",
              "    </tr>\n",
              "    <tr>\n",
              "      <th>93464</th>\n",
              "      <td>2020-03-20 20:00:00</td>\n",
              "      <td>1.06597</td>\n",
              "      <td>1.06941</td>\n",
              "      <td>1.06524</td>\n",
              "      <td>1.06657</td>\n",
              "      <td>13.811007</td>\n",
              "      <td>13.368381</td>\n",
              "      <td>↓</td>\n",
              "      <td></td>\n",
              "    </tr>\n",
              "    <tr>\n",
              "      <th>93465</th>\n",
              "      <td>2020-03-20 21:00:00</td>\n",
              "      <td>1.06658</td>\n",
              "      <td>1.06669</td>\n",
              "      <td>1.06373</td>\n",
              "      <td>1.06536</td>\n",
              "      <td>14.631957</td>\n",
              "      <td>11.399227</td>\n",
              "      <td>↓</td>\n",
              "      <td></td>\n",
              "    </tr>\n",
              "    <tr>\n",
              "      <th>93466</th>\n",
              "      <td>2020-03-20 22:00:00</td>\n",
              "      <td>1.06540</td>\n",
              "      <td>1.06712</td>\n",
              "      <td>1.06368</td>\n",
              "      <td>1.06644</td>\n",
              "      <td>24.932249</td>\n",
              "      <td>17.791738</td>\n",
              "      <td>↓</td>\n",
              "      <td></td>\n",
              "    </tr>\n",
              "    <tr>\n",
              "      <th>93467</th>\n",
              "      <td>2020-03-20 23:00:00</td>\n",
              "      <td>1.06644</td>\n",
              "      <td>1.06986</td>\n",
              "      <td>1.06615</td>\n",
              "      <td>1.06940</td>\n",
              "      <td>75.065617</td>\n",
              "      <td>38.209941</td>\n",
              "      <td>↓</td>\n",
              "      <td></td>\n",
              "    </tr>\n",
              "  </tbody>\n",
              "</table>\n",
              "<p>93468 rows × 9 columns</p>\n",
              "</div>"
            ],
            "text/plain": [
              "                     date     open     high  ...       stod  direction  sign\n",
              "0     2005-01-10 02:00:00  1.30470  1.30720  ...        NaN          ↑      \n",
              "1     2005-01-10 03:00:00  1.30720  1.30750  ...        NaN          ↑      \n",
              "2     2005-01-10 04:00:00  1.30700  1.30750  ...        NaN          ↑      \n",
              "3     2005-01-10 05:00:00  1.30670  1.30750  ...        NaN          ↑      \n",
              "4     2005-01-10 06:00:00  1.30750  1.30850  ...        NaN          ↑      \n",
              "...                   ...      ...      ...  ...        ...        ...   ...\n",
              "93463 2020-03-20 19:00:00  1.06828  1.07130  ...  25.794575          ↓      \n",
              "93464 2020-03-20 20:00:00  1.06597  1.06941  ...  13.368381          ↓      \n",
              "93465 2020-03-20 21:00:00  1.06658  1.06669  ...  11.399227          ↓      \n",
              "93466 2020-03-20 22:00:00  1.06540  1.06712  ...  17.791738          ↓      \n",
              "93467 2020-03-20 23:00:00  1.06644  1.06986  ...  38.209941          ↓      \n",
              "\n",
              "[93468 rows x 9 columns]"
            ]
          },
          "metadata": {
            "tags": []
          },
          "execution_count": 285
        }
      ]
    },
    {
      "cell_type": "code",
      "metadata": {
        "id": "lf62jaKIGXOj",
        "colab_type": "code",
        "colab": {}
      },
      "source": [
        "df_5m['kairi'] = get_kairi(df_5m['close'], df_5m['ma'])"
      ],
      "execution_count": null,
      "outputs": []
    },
    {
      "cell_type": "code",
      "metadata": {
        "id": "CUK_wL6rVmOn",
        "colab_type": "code",
        "colab": {}
      },
      "source": [
        "df_5m['direction'] = '↑'\n",
        "df_5m['sign'] = ''"
      ],
      "execution_count": null,
      "outputs": []
    },
    {
      "cell_type": "code",
      "metadata": {
        "id": "bcHciWKZN-8v",
        "colab_type": "code",
        "colab": {}
      },
      "source": [
        "#HLのサインを記録\n",
        "for i in range(6, len(df_5m)):\n",
        "  if df_5m.iat[i-1,4] > df_5m.iat[i-2,5]:\n",
        "    df_5m.iat[i,7] = '↑'\n",
        "  elif df_5m.iat[i-1,4] < df_5m.iat[i-2,6]:\n",
        "    df_5m.iat[i,7] = '↓'\n",
        "  else:\n",
        "    df_5m.iat[i,7] = str(df_5m.iat[i-1,7])\n",
        "\n"
      ],
      "execution_count": null,
      "outputs": []
    },
    {
      "cell_type": "code",
      "metadata": {
        "id": "g1u8WGZMhHHw",
        "colab_type": "code",
        "colab": {
          "base_uri": "https://localhost:8080/",
          "height": 230
        },
        "outputId": "1b9865f1-855a-4f68-a1e9-b474a4e306ab"
      },
      "source": [
        "# ボリンジャーバンドによるサインの記録20MA±2sigma\n",
        "df_5m['direction'] = None\n",
        "df_5m['bolingersign'] = ''\n",
        "print(len(df_5m))\n",
        "for i in range(20,len(df_5m)):\n",
        "  if df_5m.iat[i-1,4] > df_5m.iat[i-1,5] + 2 * df_5m.iat[i-1,6]:\n",
        "    df_5m.iat[i,7] = '↑'\n",
        "  elif df_5m.iat[i-1,4] < df_5m.iat[i-1,5] - 2 * df_5m.iat[i-1,6]:\n",
        "    df_5m.iat[i,7] = '↓'\n",
        "  else:\n",
        "    df_5m.iat[i,7] = str(df_5m.iat[i-1,7])\n",
        "  if i % 100000 == 0:\n",
        "    print(i)"
      ],
      "execution_count": null,
      "outputs": [
        {
          "output_type": "stream",
          "text": [
            "1112588\n",
            "100000\n",
            "200000\n",
            "300000\n",
            "400000\n",
            "500000\n",
            "600000\n",
            "700000\n",
            "800000\n",
            "900000\n",
            "1000000\n",
            "1100000\n"
          ],
          "name": "stdout"
        }
      ]
    },
    {
      "cell_type": "code",
      "metadata": {
        "id": "lgWPzI5yGvQz",
        "colab_type": "code",
        "colab": {}
      },
      "source": [
        "#乖離率によるサイン\n",
        "for i in range(6, len(df_5m)):\n",
        "  if df_5m.iat[i-1,6] > 1.001:\n",
        "    df_5m.iat[i,7] = '↑'\n",
        "  elif df_5m.iat[i-1,6] < 0.999:\n",
        "    df_5m.iat[i,7] = '↓'\n",
        "  else:\n",
        "    df_5m.iat[i,7] = str(df_5m.iat[i-1,7])"
      ],
      "execution_count": null,
      "outputs": []
    },
    {
      "cell_type": "code",
      "metadata": {
        "id": "iruXQjON5F7i",
        "colab_type": "code",
        "colab": {}
      },
      "source": [
        "#hl用サイン記入\n",
        "for i in range(2,len(df_5m)):\n",
        "  if df_5m.iat[i-1,7] == '↓' and df_5m.iat[i,7] == '↑':\n",
        "    df_5m.iat[i,8] = '買'\n",
        "  elif df_5m.iat[i-1,7] == '↑' and df_5m.iat[i,7] == '↓':\n",
        "    df_5m.iat[i,8] = '売'\n",
        "  \n",
        "\n"
      ],
      "execution_count": null,
      "outputs": []
    },
    {
      "cell_type": "code",
      "metadata": {
        "id": "K6z7p77RlHWX",
        "colab_type": "code",
        "colab": {
          "base_uri": "https://localhost:8080/",
          "height": 230
        },
        "outputId": "9f5d769d-5c80-4c3e-d392-39028c5cf49c"
      },
      "source": [
        "# ボリンジャーバンド用サイン記入\n",
        "print(len(df_5m))\n",
        "for i in range(2,len(df_5m)):\n",
        "  if df_5m.iat[i-1,7] == '↓' and df_5m.iat[i,7] == '↑':\n",
        "    df_5m.iat[i,8] = '買'\n",
        "  elif df_5m.iat[i-1,7] == '↑' and df_5m.iat[i,7] == '↓':\n",
        "    df_5m.iat[i,8] = '売'\n",
        "  if i % 100000 == 0:\n",
        "    print(i)"
      ],
      "execution_count": null,
      "outputs": [
        {
          "output_type": "stream",
          "text": [
            "1112588\n",
            "100000\n",
            "200000\n",
            "300000\n",
            "400000\n",
            "500000\n",
            "600000\n",
            "700000\n",
            "800000\n",
            "900000\n",
            "1000000\n",
            "1100000\n"
          ],
          "name": "stdout"
        }
      ]
    },
    {
      "cell_type": "code",
      "metadata": {
        "id": "3OvM6fk0aV72",
        "colab_type": "code",
        "colab": {
          "base_uri": "https://localhost:8080/",
          "height": 424
        },
        "outputId": "148a4087-eb2f-41cd-93da-580d5007f08b"
      },
      "source": [
        "df_5m"
      ],
      "execution_count": null,
      "outputs": [
        {
          "output_type": "execute_result",
          "data": {
            "text/html": [
              "<div>\n",
              "<style scoped>\n",
              "    .dataframe tbody tr th:only-of-type {\n",
              "        vertical-align: middle;\n",
              "    }\n",
              "\n",
              "    .dataframe tbody tr th {\n",
              "        vertical-align: top;\n",
              "    }\n",
              "\n",
              "    .dataframe thead th {\n",
              "        text-align: right;\n",
              "    }\n",
              "</style>\n",
              "<table border=\"1\" class=\"dataframe\">\n",
              "  <thead>\n",
              "    <tr style=\"text-align: right;\">\n",
              "      <th></th>\n",
              "      <th>date</th>\n",
              "      <th>open</th>\n",
              "      <th>high</th>\n",
              "      <th>low</th>\n",
              "      <th>close</th>\n",
              "      <th>ma</th>\n",
              "      <th>kairi</th>\n",
              "      <th>direction</th>\n",
              "      <th>sign</th>\n",
              "    </tr>\n",
              "  </thead>\n",
              "  <tbody>\n",
              "    <tr>\n",
              "      <th>0</th>\n",
              "      <td>2005-01-10 02:30:00</td>\n",
              "      <td>1.30470</td>\n",
              "      <td>1.30580</td>\n",
              "      <td>1.30470</td>\n",
              "      <td>1.30540</td>\n",
              "      <td>NaN</td>\n",
              "      <td>NaN</td>\n",
              "      <td>↑</td>\n",
              "      <td></td>\n",
              "    </tr>\n",
              "    <tr>\n",
              "      <th>1</th>\n",
              "      <td>2005-01-10 02:35:00</td>\n",
              "      <td>1.30540</td>\n",
              "      <td>1.30540</td>\n",
              "      <td>1.30530</td>\n",
              "      <td>1.30540</td>\n",
              "      <td>NaN</td>\n",
              "      <td>NaN</td>\n",
              "      <td>↑</td>\n",
              "      <td></td>\n",
              "    </tr>\n",
              "    <tr>\n",
              "      <th>2</th>\n",
              "      <td>2005-01-10 02:40:00</td>\n",
              "      <td>1.30540</td>\n",
              "      <td>1.30540</td>\n",
              "      <td>1.30540</td>\n",
              "      <td>1.30540</td>\n",
              "      <td>NaN</td>\n",
              "      <td>NaN</td>\n",
              "      <td>↑</td>\n",
              "      <td></td>\n",
              "    </tr>\n",
              "    <tr>\n",
              "      <th>3</th>\n",
              "      <td>2005-01-10 02:45:00</td>\n",
              "      <td>1.30540</td>\n",
              "      <td>1.30630</td>\n",
              "      <td>1.30540</td>\n",
              "      <td>1.30610</td>\n",
              "      <td>NaN</td>\n",
              "      <td>NaN</td>\n",
              "      <td>↑</td>\n",
              "      <td></td>\n",
              "    </tr>\n",
              "    <tr>\n",
              "      <th>4</th>\n",
              "      <td>2005-01-10 02:50:00</td>\n",
              "      <td>1.30610</td>\n",
              "      <td>1.30670</td>\n",
              "      <td>1.30610</td>\n",
              "      <td>1.30660</td>\n",
              "      <td>NaN</td>\n",
              "      <td>NaN</td>\n",
              "      <td>↑</td>\n",
              "      <td></td>\n",
              "    </tr>\n",
              "    <tr>\n",
              "      <th>...</th>\n",
              "      <td>...</td>\n",
              "      <td>...</td>\n",
              "      <td>...</td>\n",
              "      <td>...</td>\n",
              "      <td>...</td>\n",
              "      <td>...</td>\n",
              "      <td>...</td>\n",
              "      <td>...</td>\n",
              "      <td>...</td>\n",
              "    </tr>\n",
              "    <tr>\n",
              "      <th>1112583</th>\n",
              "      <td>2020-03-20 23:30:00</td>\n",
              "      <td>1.06629</td>\n",
              "      <td>1.06857</td>\n",
              "      <td>1.06629</td>\n",
              "      <td>1.06836</td>\n",
              "      <td>1.065794</td>\n",
              "      <td>1.002408</td>\n",
              "      <td>↑</td>\n",
              "      <td></td>\n",
              "    </tr>\n",
              "    <tr>\n",
              "      <th>1112584</th>\n",
              "      <td>2020-03-20 23:35:00</td>\n",
              "      <td>1.06836</td>\n",
              "      <td>1.06922</td>\n",
              "      <td>1.06836</td>\n",
              "      <td>1.06897</td>\n",
              "      <td>1.065974</td>\n",
              "      <td>1.002810</td>\n",
              "      <td>↑</td>\n",
              "      <td></td>\n",
              "    </tr>\n",
              "    <tr>\n",
              "      <th>1112585</th>\n",
              "      <td>2020-03-20 23:40:00</td>\n",
              "      <td>1.06897</td>\n",
              "      <td>1.06962</td>\n",
              "      <td>1.06850</td>\n",
              "      <td>1.06953</td>\n",
              "      <td>1.066214</td>\n",
              "      <td>1.003110</td>\n",
              "      <td>↑</td>\n",
              "      <td></td>\n",
              "    </tr>\n",
              "    <tr>\n",
              "      <th>1112586</th>\n",
              "      <td>2020-03-20 23:45:00</td>\n",
              "      <td>1.06954</td>\n",
              "      <td>1.06967</td>\n",
              "      <td>1.06897</td>\n",
              "      <td>1.06897</td>\n",
              "      <td>1.066426</td>\n",
              "      <td>1.002385</td>\n",
              "      <td>↑</td>\n",
              "      <td></td>\n",
              "    </tr>\n",
              "    <tr>\n",
              "      <th>1112587</th>\n",
              "      <td>2020-03-20 23:50:00</td>\n",
              "      <td>1.06897</td>\n",
              "      <td>1.06986</td>\n",
              "      <td>1.06881</td>\n",
              "      <td>1.06940</td>\n",
              "      <td>1.066670</td>\n",
              "      <td>1.002559</td>\n",
              "      <td>↑</td>\n",
              "      <td></td>\n",
              "    </tr>\n",
              "  </tbody>\n",
              "</table>\n",
              "<p>1112588 rows × 9 columns</p>\n",
              "</div>"
            ],
            "text/plain": [
              "                       date     open     high  ...     kairi  direction  sign\n",
              "0       2005-01-10 02:30:00  1.30470  1.30580  ...       NaN          ↑      \n",
              "1       2005-01-10 02:35:00  1.30540  1.30540  ...       NaN          ↑      \n",
              "2       2005-01-10 02:40:00  1.30540  1.30540  ...       NaN          ↑      \n",
              "3       2005-01-10 02:45:00  1.30540  1.30630  ...       NaN          ↑      \n",
              "4       2005-01-10 02:50:00  1.30610  1.30670  ...       NaN          ↑      \n",
              "...                     ...      ...      ...  ...       ...        ...   ...\n",
              "1112583 2020-03-20 23:30:00  1.06629  1.06857  ...  1.002408          ↑      \n",
              "1112584 2020-03-20 23:35:00  1.06836  1.06922  ...  1.002810          ↑      \n",
              "1112585 2020-03-20 23:40:00  1.06897  1.06962  ...  1.003110          ↑      \n",
              "1112586 2020-03-20 23:45:00  1.06954  1.06967  ...  1.002385          ↑      \n",
              "1112587 2020-03-20 23:50:00  1.06897  1.06986  ...  1.002559          ↑      \n",
              "\n",
              "[1112588 rows x 9 columns]"
            ]
          },
          "metadata": {
            "tags": []
          },
          "execution_count": 55
        }
      ]
    },
    {
      "cell_type": "code",
      "metadata": {
        "id": "RE5ZxQrtcaDx",
        "colab_type": "code",
        "colab": {}
      },
      "source": [
        "def get_judge(x):\n",
        "  if x[0] - x[1] >= 0:\n",
        "    return 1\n",
        "  else:\n",
        "    return 0\n",
        "df_5m['filter_ma'] = df_5m['close'].rolling(288).mean()\n",
        "df_5m['judge'] = df_5m[['close','filter_ma']].apply(get_judge,axis=1)"
      ],
      "execution_count": null,
      "outputs": []
    },
    {
      "cell_type": "code",
      "metadata": {
        "id": "-SrDzqZqeLH6",
        "colab_type": "code",
        "colab": {
          "base_uri": "https://localhost:8080/",
          "height": 728
        },
        "outputId": "912805df-6f46-464f-c25f-526a3f6b5797"
      },
      "source": [
        "timing = []\n",
        "bidask = []\n",
        "price = []\n",
        "trend = []\n",
        "df_result = pd.DataFrame([], columns=['date', 'direction', 'price'])\n",
        "for i in range(len(df_5m)):\n",
        "  if df_5m.iat[i,8] != '':\n",
        "    timing.append(df_5m.iat[i,0])\n",
        "    bidask.append( df_5m.iat[i,8])\n",
        "    price.append(df_5m.iat[i,1])\n",
        "    trend.append(df_5m.at[i-1,'judge'])\n",
        "\n",
        "df_result = pd.DataFrame(data={'date':timing, 'direction':bidask, 'price':price, 'judge':trend},\\\n",
        "                            columns=['date','direction','price','judge'])\n",
        "\n",
        "df_result['profit'] = None\n",
        "df_result['profit'].astype(float)\n",
        "for i in range(len(df_result)-1):\n",
        "  if df_result.iat[i,1] == '売':\n",
        "    df_result.at[i,'profit'] = df_result.iat[i, 2] - df_result.iloc[i+1,2]\n",
        "  elif df_result.iat[i,1] == '買':\n",
        "    df_result.at[i,'profit'] = df_result.iat[i+1,2] - df_result.iat[i,2]\n",
        "\n",
        "df_result_buy = df_result[df_result['direction'] == '買']\n",
        "df_result_sell = df_result[df_result['direction'] == '売']\n",
        "\n",
        "print(df_result_buy.groupby('judge')['profit'].sum(),df_result_sell.groupby('judge')['profit'].sum())\n",
        "\n",
        "df_judge1 = df_result_buy[df_result_buy['judge']==1]\n",
        "df_judge2 = df_result_buy[df_result_buy['judge']==0]\n",
        "def get_plots(dfs):\n",
        "    df = dfs.copy().reset_index()\n",
        "    df['ruiseki'] = None\n",
        "    df.at[0, 'ruiseki'] = 0\n",
        "    for i in range(1, len(df)-1):\n",
        "      df.at[i,'ruiseki'] = df.at[i,'profit'] + df.at[i-1,'ruiseki']\n",
        "    plt.plot(range(len(df['ruiseki'])),df['ruiseki'])\n",
        "    # print(df)\n",
        "get_plots(df_judge1)\n",
        "get_plots(df_judge2)"
      ],
      "execution_count": null,
      "outputs": [
        {
          "output_type": "error",
          "ename": "KeyError",
          "evalue": "ignored",
          "traceback": [
            "\u001b[0;31m---------------------------------------------------------------------------\u001b[0m",
            "\u001b[0;31mKeyError\u001b[0m                                  Traceback (most recent call last)",
            "\u001b[0;32m/usr/local/lib/python3.6/dist-packages/pandas/core/indexes/base.py\u001b[0m in \u001b[0;36mget_loc\u001b[0;34m(self, key, method, tolerance)\u001b[0m\n\u001b[1;32m   2896\u001b[0m             \u001b[0;32mtry\u001b[0m\u001b[0;34m:\u001b[0m\u001b[0;34m\u001b[0m\u001b[0;34m\u001b[0m\u001b[0m\n\u001b[0;32m-> 2897\u001b[0;31m                 \u001b[0;32mreturn\u001b[0m \u001b[0mself\u001b[0m\u001b[0;34m.\u001b[0m\u001b[0m_engine\u001b[0m\u001b[0;34m.\u001b[0m\u001b[0mget_loc\u001b[0m\u001b[0;34m(\u001b[0m\u001b[0mkey\u001b[0m\u001b[0;34m)\u001b[0m\u001b[0;34m\u001b[0m\u001b[0;34m\u001b[0m\u001b[0m\n\u001b[0m\u001b[1;32m   2898\u001b[0m             \u001b[0;32mexcept\u001b[0m \u001b[0mKeyError\u001b[0m\u001b[0;34m:\u001b[0m\u001b[0;34m\u001b[0m\u001b[0;34m\u001b[0m\u001b[0m\n",
            "\u001b[0;32mpandas/_libs/index.pyx\u001b[0m in \u001b[0;36mpandas._libs.index.IndexEngine.get_loc\u001b[0;34m()\u001b[0m\n",
            "\u001b[0;32mpandas/_libs/index.pyx\u001b[0m in \u001b[0;36mpandas._libs.index.IndexEngine.get_loc\u001b[0;34m()\u001b[0m\n",
            "\u001b[0;32mpandas/_libs/hashtable_class_helper.pxi\u001b[0m in \u001b[0;36mpandas._libs.hashtable.PyObjectHashTable.get_item\u001b[0;34m()\u001b[0m\n",
            "\u001b[0;32mpandas/_libs/hashtable_class_helper.pxi\u001b[0m in \u001b[0;36mpandas._libs.hashtable.PyObjectHashTable.get_item\u001b[0;34m()\u001b[0m\n",
            "\u001b[0;31mKeyError\u001b[0m: 'judge'",
            "\nDuring handling of the above exception, another exception occurred:\n",
            "\u001b[0;31mKeyError\u001b[0m                                  Traceback (most recent call last)",
            "\u001b[0;32m<ipython-input-58-55ef717e6438>\u001b[0m in \u001b[0;36m<module>\u001b[0;34m()\u001b[0m\n\u001b[1;32m      9\u001b[0m     \u001b[0mbidask\u001b[0m\u001b[0;34m.\u001b[0m\u001b[0mappend\u001b[0m\u001b[0;34m(\u001b[0m \u001b[0mdf_5m\u001b[0m\u001b[0;34m.\u001b[0m\u001b[0miat\u001b[0m\u001b[0;34m[\u001b[0m\u001b[0mi\u001b[0m\u001b[0;34m,\u001b[0m\u001b[0;36m8\u001b[0m\u001b[0;34m]\u001b[0m\u001b[0;34m)\u001b[0m\u001b[0;34m\u001b[0m\u001b[0;34m\u001b[0m\u001b[0m\n\u001b[1;32m     10\u001b[0m     \u001b[0mprice\u001b[0m\u001b[0;34m.\u001b[0m\u001b[0mappend\u001b[0m\u001b[0;34m(\u001b[0m\u001b[0mdf_5m\u001b[0m\u001b[0;34m.\u001b[0m\u001b[0miat\u001b[0m\u001b[0;34m[\u001b[0m\u001b[0mi\u001b[0m\u001b[0;34m,\u001b[0m\u001b[0;36m1\u001b[0m\u001b[0;34m]\u001b[0m\u001b[0;34m)\u001b[0m\u001b[0;34m\u001b[0m\u001b[0;34m\u001b[0m\u001b[0m\n\u001b[0;32m---> 11\u001b[0;31m     \u001b[0mtrend\u001b[0m\u001b[0;34m.\u001b[0m\u001b[0mappend\u001b[0m\u001b[0;34m(\u001b[0m\u001b[0mdf_5m\u001b[0m\u001b[0;34m.\u001b[0m\u001b[0mat\u001b[0m\u001b[0;34m[\u001b[0m\u001b[0mi\u001b[0m\u001b[0;34m-\u001b[0m\u001b[0;36m1\u001b[0m\u001b[0;34m,\u001b[0m\u001b[0;34m'judge'\u001b[0m\u001b[0;34m]\u001b[0m\u001b[0;34m)\u001b[0m\u001b[0;34m\u001b[0m\u001b[0;34m\u001b[0m\u001b[0m\n\u001b[0m\u001b[1;32m     12\u001b[0m \u001b[0;34m\u001b[0m\u001b[0m\n\u001b[1;32m     13\u001b[0m \u001b[0mdf_result\u001b[0m \u001b[0;34m=\u001b[0m \u001b[0mpd\u001b[0m\u001b[0;34m.\u001b[0m\u001b[0mDataFrame\u001b[0m\u001b[0;34m(\u001b[0m\u001b[0mdata\u001b[0m\u001b[0;34m=\u001b[0m\u001b[0;34m{\u001b[0m\u001b[0;34m'date'\u001b[0m\u001b[0;34m:\u001b[0m\u001b[0mtiming\u001b[0m\u001b[0;34m,\u001b[0m \u001b[0;34m'direction'\u001b[0m\u001b[0;34m:\u001b[0m\u001b[0mbidask\u001b[0m\u001b[0;34m,\u001b[0m \u001b[0;34m'price'\u001b[0m\u001b[0;34m:\u001b[0m\u001b[0mprice\u001b[0m\u001b[0;34m,\u001b[0m \u001b[0;34m'judge'\u001b[0m\u001b[0;34m:\u001b[0m\u001b[0mtrend\u001b[0m\u001b[0;34m}\u001b[0m\u001b[0;34m,\u001b[0m                            \u001b[0mcolumns\u001b[0m\u001b[0;34m=\u001b[0m\u001b[0;34m[\u001b[0m\u001b[0;34m'date'\u001b[0m\u001b[0;34m,\u001b[0m\u001b[0;34m'direction'\u001b[0m\u001b[0;34m,\u001b[0m\u001b[0;34m'price'\u001b[0m\u001b[0;34m,\u001b[0m\u001b[0;34m'judge'\u001b[0m\u001b[0;34m]\u001b[0m\u001b[0;34m)\u001b[0m\u001b[0;34m\u001b[0m\u001b[0;34m\u001b[0m\u001b[0m\n",
            "\u001b[0;32m/usr/local/lib/python3.6/dist-packages/pandas/core/indexing.py\u001b[0m in \u001b[0;36m__getitem__\u001b[0;34m(self, key)\u001b[0m\n\u001b[1;32m   2198\u001b[0m \u001b[0;34m\u001b[0m\u001b[0m\n\u001b[1;32m   2199\u001b[0m         \u001b[0mkey\u001b[0m \u001b[0;34m=\u001b[0m \u001b[0mself\u001b[0m\u001b[0;34m.\u001b[0m\u001b[0m_convert_key\u001b[0m\u001b[0;34m(\u001b[0m\u001b[0mkey\u001b[0m\u001b[0;34m)\u001b[0m\u001b[0;34m\u001b[0m\u001b[0;34m\u001b[0m\u001b[0m\n\u001b[0;32m-> 2200\u001b[0;31m         \u001b[0;32mreturn\u001b[0m \u001b[0mself\u001b[0m\u001b[0;34m.\u001b[0m\u001b[0mobj\u001b[0m\u001b[0;34m.\u001b[0m\u001b[0m_get_value\u001b[0m\u001b[0;34m(\u001b[0m\u001b[0;34m*\u001b[0m\u001b[0mkey\u001b[0m\u001b[0;34m,\u001b[0m \u001b[0mtakeable\u001b[0m\u001b[0;34m=\u001b[0m\u001b[0mself\u001b[0m\u001b[0;34m.\u001b[0m\u001b[0m_takeable\u001b[0m\u001b[0;34m)\u001b[0m\u001b[0;34m\u001b[0m\u001b[0;34m\u001b[0m\u001b[0m\n\u001b[0m\u001b[1;32m   2201\u001b[0m \u001b[0;34m\u001b[0m\u001b[0m\n\u001b[1;32m   2202\u001b[0m     \u001b[0;32mdef\u001b[0m \u001b[0m__setitem__\u001b[0m\u001b[0;34m(\u001b[0m\u001b[0mself\u001b[0m\u001b[0;34m,\u001b[0m \u001b[0mkey\u001b[0m\u001b[0;34m,\u001b[0m \u001b[0mvalue\u001b[0m\u001b[0;34m)\u001b[0m\u001b[0;34m:\u001b[0m\u001b[0;34m\u001b[0m\u001b[0;34m\u001b[0m\u001b[0m\n",
            "\u001b[0;32m/usr/local/lib/python3.6/dist-packages/pandas/core/frame.py\u001b[0m in \u001b[0;36m_get_value\u001b[0;34m(self, index, col, takeable)\u001b[0m\n\u001b[1;32m   2841\u001b[0m             \u001b[0;32mreturn\u001b[0m \u001b[0mcom\u001b[0m\u001b[0;34m.\u001b[0m\u001b[0mmaybe_box_datetimelike\u001b[0m\u001b[0;34m(\u001b[0m\u001b[0mseries\u001b[0m\u001b[0;34m.\u001b[0m\u001b[0m_values\u001b[0m\u001b[0;34m[\u001b[0m\u001b[0mindex\u001b[0m\u001b[0;34m]\u001b[0m\u001b[0;34m)\u001b[0m\u001b[0;34m\u001b[0m\u001b[0;34m\u001b[0m\u001b[0m\n\u001b[1;32m   2842\u001b[0m \u001b[0;34m\u001b[0m\u001b[0m\n\u001b[0;32m-> 2843\u001b[0;31m         \u001b[0mseries\u001b[0m \u001b[0;34m=\u001b[0m \u001b[0mself\u001b[0m\u001b[0;34m.\u001b[0m\u001b[0m_get_item_cache\u001b[0m\u001b[0;34m(\u001b[0m\u001b[0mcol\u001b[0m\u001b[0;34m)\u001b[0m\u001b[0;34m\u001b[0m\u001b[0;34m\u001b[0m\u001b[0m\n\u001b[0m\u001b[1;32m   2844\u001b[0m         \u001b[0mengine\u001b[0m \u001b[0;34m=\u001b[0m \u001b[0mself\u001b[0m\u001b[0;34m.\u001b[0m\u001b[0mindex\u001b[0m\u001b[0;34m.\u001b[0m\u001b[0m_engine\u001b[0m\u001b[0;34m\u001b[0m\u001b[0;34m\u001b[0m\u001b[0m\n\u001b[1;32m   2845\u001b[0m \u001b[0;34m\u001b[0m\u001b[0m\n",
            "\u001b[0;32m/usr/local/lib/python3.6/dist-packages/pandas/core/generic.py\u001b[0m in \u001b[0;36m_get_item_cache\u001b[0;34m(self, item)\u001b[0m\n\u001b[1;32m   3268\u001b[0m         \u001b[0mres\u001b[0m \u001b[0;34m=\u001b[0m \u001b[0mcache\u001b[0m\u001b[0;34m.\u001b[0m\u001b[0mget\u001b[0m\u001b[0;34m(\u001b[0m\u001b[0mitem\u001b[0m\u001b[0;34m)\u001b[0m\u001b[0;34m\u001b[0m\u001b[0;34m\u001b[0m\u001b[0m\n\u001b[1;32m   3269\u001b[0m         \u001b[0;32mif\u001b[0m \u001b[0mres\u001b[0m \u001b[0;32mis\u001b[0m \u001b[0;32mNone\u001b[0m\u001b[0;34m:\u001b[0m\u001b[0;34m\u001b[0m\u001b[0;34m\u001b[0m\u001b[0m\n\u001b[0;32m-> 3270\u001b[0;31m             \u001b[0mvalues\u001b[0m \u001b[0;34m=\u001b[0m \u001b[0mself\u001b[0m\u001b[0;34m.\u001b[0m\u001b[0m_data\u001b[0m\u001b[0;34m.\u001b[0m\u001b[0mget\u001b[0m\u001b[0;34m(\u001b[0m\u001b[0mitem\u001b[0m\u001b[0;34m)\u001b[0m\u001b[0;34m\u001b[0m\u001b[0;34m\u001b[0m\u001b[0m\n\u001b[0m\u001b[1;32m   3271\u001b[0m             \u001b[0mres\u001b[0m \u001b[0;34m=\u001b[0m \u001b[0mself\u001b[0m\u001b[0;34m.\u001b[0m\u001b[0m_box_item_values\u001b[0m\u001b[0;34m(\u001b[0m\u001b[0mitem\u001b[0m\u001b[0;34m,\u001b[0m \u001b[0mvalues\u001b[0m\u001b[0;34m)\u001b[0m\u001b[0;34m\u001b[0m\u001b[0;34m\u001b[0m\u001b[0m\n\u001b[1;32m   3272\u001b[0m             \u001b[0mcache\u001b[0m\u001b[0;34m[\u001b[0m\u001b[0mitem\u001b[0m\u001b[0;34m]\u001b[0m \u001b[0;34m=\u001b[0m \u001b[0mres\u001b[0m\u001b[0;34m\u001b[0m\u001b[0;34m\u001b[0m\u001b[0m\n",
            "\u001b[0;32m/usr/local/lib/python3.6/dist-packages/pandas/core/internals/managers.py\u001b[0m in \u001b[0;36mget\u001b[0;34m(self, item)\u001b[0m\n\u001b[1;32m    947\u001b[0m \u001b[0;34m\u001b[0m\u001b[0m\n\u001b[1;32m    948\u001b[0m             \u001b[0;32mif\u001b[0m \u001b[0;32mnot\u001b[0m \u001b[0misna\u001b[0m\u001b[0;34m(\u001b[0m\u001b[0mitem\u001b[0m\u001b[0;34m)\u001b[0m\u001b[0;34m:\u001b[0m\u001b[0;34m\u001b[0m\u001b[0;34m\u001b[0m\u001b[0m\n\u001b[0;32m--> 949\u001b[0;31m                 \u001b[0mloc\u001b[0m \u001b[0;34m=\u001b[0m \u001b[0mself\u001b[0m\u001b[0;34m.\u001b[0m\u001b[0mitems\u001b[0m\u001b[0;34m.\u001b[0m\u001b[0mget_loc\u001b[0m\u001b[0;34m(\u001b[0m\u001b[0mitem\u001b[0m\u001b[0;34m)\u001b[0m\u001b[0;34m\u001b[0m\u001b[0;34m\u001b[0m\u001b[0m\n\u001b[0m\u001b[1;32m    950\u001b[0m             \u001b[0;32melse\u001b[0m\u001b[0;34m:\u001b[0m\u001b[0;34m\u001b[0m\u001b[0;34m\u001b[0m\u001b[0m\n\u001b[1;32m    951\u001b[0m                 \u001b[0mindexer\u001b[0m \u001b[0;34m=\u001b[0m \u001b[0mnp\u001b[0m\u001b[0;34m.\u001b[0m\u001b[0marange\u001b[0m\u001b[0;34m(\u001b[0m\u001b[0mlen\u001b[0m\u001b[0;34m(\u001b[0m\u001b[0mself\u001b[0m\u001b[0;34m.\u001b[0m\u001b[0mitems\u001b[0m\u001b[0;34m)\u001b[0m\u001b[0;34m)\u001b[0m\u001b[0;34m[\u001b[0m\u001b[0misna\u001b[0m\u001b[0;34m(\u001b[0m\u001b[0mself\u001b[0m\u001b[0;34m.\u001b[0m\u001b[0mitems\u001b[0m\u001b[0;34m)\u001b[0m\u001b[0;34m]\u001b[0m\u001b[0;34m\u001b[0m\u001b[0;34m\u001b[0m\u001b[0m\n",
            "\u001b[0;32m/usr/local/lib/python3.6/dist-packages/pandas/core/indexes/base.py\u001b[0m in \u001b[0;36mget_loc\u001b[0;34m(self, key, method, tolerance)\u001b[0m\n\u001b[1;32m   2897\u001b[0m                 \u001b[0;32mreturn\u001b[0m \u001b[0mself\u001b[0m\u001b[0;34m.\u001b[0m\u001b[0m_engine\u001b[0m\u001b[0;34m.\u001b[0m\u001b[0mget_loc\u001b[0m\u001b[0;34m(\u001b[0m\u001b[0mkey\u001b[0m\u001b[0;34m)\u001b[0m\u001b[0;34m\u001b[0m\u001b[0;34m\u001b[0m\u001b[0m\n\u001b[1;32m   2898\u001b[0m             \u001b[0;32mexcept\u001b[0m \u001b[0mKeyError\u001b[0m\u001b[0;34m:\u001b[0m\u001b[0;34m\u001b[0m\u001b[0;34m\u001b[0m\u001b[0m\n\u001b[0;32m-> 2899\u001b[0;31m                 \u001b[0;32mreturn\u001b[0m \u001b[0mself\u001b[0m\u001b[0;34m.\u001b[0m\u001b[0m_engine\u001b[0m\u001b[0;34m.\u001b[0m\u001b[0mget_loc\u001b[0m\u001b[0;34m(\u001b[0m\u001b[0mself\u001b[0m\u001b[0;34m.\u001b[0m\u001b[0m_maybe_cast_indexer\u001b[0m\u001b[0;34m(\u001b[0m\u001b[0mkey\u001b[0m\u001b[0;34m)\u001b[0m\u001b[0;34m)\u001b[0m\u001b[0;34m\u001b[0m\u001b[0;34m\u001b[0m\u001b[0m\n\u001b[0m\u001b[1;32m   2900\u001b[0m         \u001b[0mindexer\u001b[0m \u001b[0;34m=\u001b[0m \u001b[0mself\u001b[0m\u001b[0;34m.\u001b[0m\u001b[0mget_indexer\u001b[0m\u001b[0;34m(\u001b[0m\u001b[0;34m[\u001b[0m\u001b[0mkey\u001b[0m\u001b[0;34m]\u001b[0m\u001b[0;34m,\u001b[0m \u001b[0mmethod\u001b[0m\u001b[0;34m=\u001b[0m\u001b[0mmethod\u001b[0m\u001b[0;34m,\u001b[0m \u001b[0mtolerance\u001b[0m\u001b[0;34m=\u001b[0m\u001b[0mtolerance\u001b[0m\u001b[0;34m)\u001b[0m\u001b[0;34m\u001b[0m\u001b[0;34m\u001b[0m\u001b[0m\n\u001b[1;32m   2901\u001b[0m         \u001b[0;32mif\u001b[0m \u001b[0mindexer\u001b[0m\u001b[0;34m.\u001b[0m\u001b[0mndim\u001b[0m \u001b[0;34m>\u001b[0m \u001b[0;36m1\u001b[0m \u001b[0;32mor\u001b[0m \u001b[0mindexer\u001b[0m\u001b[0;34m.\u001b[0m\u001b[0msize\u001b[0m \u001b[0;34m>\u001b[0m \u001b[0;36m1\u001b[0m\u001b[0;34m:\u001b[0m\u001b[0;34m\u001b[0m\u001b[0;34m\u001b[0m\u001b[0m\n",
            "\u001b[0;32mpandas/_libs/index.pyx\u001b[0m in \u001b[0;36mpandas._libs.index.IndexEngine.get_loc\u001b[0;34m()\u001b[0m\n",
            "\u001b[0;32mpandas/_libs/index.pyx\u001b[0m in \u001b[0;36mpandas._libs.index.IndexEngine.get_loc\u001b[0;34m()\u001b[0m\n",
            "\u001b[0;32mpandas/_libs/hashtable_class_helper.pxi\u001b[0m in \u001b[0;36mpandas._libs.hashtable.PyObjectHashTable.get_item\u001b[0;34m()\u001b[0m\n",
            "\u001b[0;32mpandas/_libs/hashtable_class_helper.pxi\u001b[0m in \u001b[0;36mpandas._libs.hashtable.PyObjectHashTable.get_item\u001b[0;34m()\u001b[0m\n",
            "\u001b[0;31mKeyError\u001b[0m: 'judge'"
          ]
        }
      ]
    },
    {
      "cell_type": "code",
      "metadata": {
        "id": "T6Ug1PyXeBGS",
        "colab_type": "code",
        "colab": {}
      },
      "source": [
        ""
      ],
      "execution_count": null,
      "outputs": []
    },
    {
      "cell_type": "code",
      "metadata": {
        "id": "2ylwQMCMX2l4",
        "colab_type": "code",
        "colab": {
          "base_uri": "https://localhost:8080/",
          "height": 726
        },
        "outputId": "8a885cb0-ebb3-4ac7-c406-4803180b7aec"
      },
      "source": [
        "#rsiを計算して入れる\n",
        "periods = [15,25,45,65]\n",
        "\n",
        "for period in periods:\n",
        "    def inc(x):\n",
        "      if x >= 0:\n",
        "        return x\n",
        "      else:\n",
        "        return 0\n",
        "    def dec(x):\n",
        "      if x < 0:\n",
        "        return -x\n",
        "      else:\n",
        "        return 0\n",
        "\n",
        "    df_5m['diff'] = df_5m['close'].diff()\n",
        "    df_5m['inc'] = df_5m['diff'].apply(inc)\n",
        "    df_5m['dec'] = df_5m['diff'].apply(dec)\n",
        "    df_5m['rsi'] = (df_5m['inc'].rolling(period).sum() / (df_5m['inc'].rolling(period).sum() + df_5m['dec'].rolling(period).sum())) * 100 - 50\n",
        "    df_5m = df_5m.drop(['diff','inc','dec'], axis=1)\n",
        "\n",
        "    def get_judge(x):\n",
        "      if x > 0:\n",
        "        return 1\n",
        "      else:\n",
        "        return 0\n",
        "\n",
        "    df_5m['judge'] = df_5m['rsi'].apply(get_judge)\n",
        "\n",
        "    timing = []\n",
        "    bidask = []\n",
        "    price = []\n",
        "    trend = []\n",
        "    df_result = pd.DataFrame([], columns=['date', 'direction', 'price'])\n",
        "    for i in range(len(df_5m)):\n",
        "      if df_5m.iat[i,8] != '':\n",
        "        timing.append(df_5m.iat[i,0])\n",
        "        bidask.append( df_5m.iat[i,8])\n",
        "        price.append(df_5m.iat[i,1])\n",
        "        trend.append(df_5m.at[i-1,'judge'])\n",
        "\n",
        "    df_result = pd.DataFrame(data={'date':timing, 'direction':bidask, 'price':price, 'judge':trend},\\\n",
        "                                columns=['date','direction','price','judge'])\n",
        "\n",
        "    df_result['profit'] = None\n",
        "    df_result['profit'].astype(float)\n",
        "    for i in range(len(df_result)-1):\n",
        "      if df_result.iat[i,1] == '売':\n",
        "        df_result.at[i,'profit'] = df_result.iat[i, 2] - df_result.iloc[i+1,2]\n",
        "      elif df_result.iat[i,1] == '買':\n",
        "        df_result.at[i,'profit'] = df_result.iat[i+1,2] - df_result.iat[i,2]\n",
        "\n",
        "    df_result_buy = df_result[df_result['direction'] == '買']\n",
        "    df_result_sell = df_result[df_result['direction'] == '売']\n",
        "\n",
        "    print(period,df_result_buy.groupby('judge')['profit'].sum(),df_result_sell.groupby('judge')['profit'].sum())\n",
        "\n",
        "    df_trend = df_result_buy[df_result_buy['judge']==1]\n",
        "    df_range = df_result_buy[df_result_buy['judge']==0]\n",
        "    def get_plots(dfs):\n",
        "        df = dfs.copy().reset_index()\n",
        "        df['ruiseki'] = None\n",
        "        df.at[0, 'ruiseki'] = 0\n",
        "        for i in range(1, len(df)-1):\n",
        "          df.at[i,'ruiseki'] = df.at[i,'profit'] + df.at[i-1,'ruiseki']\n",
        "        plt.plot(df['ruiseki'])\n",
        "        # print(df)\n",
        "    get_plots(df_trend)\n",
        "    get_plots(df_range)\n",
        "\n"
      ],
      "execution_count": null,
      "outputs": [
        {
          "output_type": "stream",
          "text": [
            "15 judge\n",
            "1   -1.88379\n",
            "Name: profit, dtype: float64 judge\n",
            "0   -1.64286\n",
            "Name: profit, dtype: float64\n",
            "25 judge\n",
            "0   -0.74469\n",
            "1   -1.13910\n",
            "Name: profit, dtype: float64 judge\n",
            "0   -1.45878\n",
            "1   -0.18408\n",
            "Name: profit, dtype: float64\n",
            "45 judge\n",
            "0   -1.23716\n",
            "1   -0.64663\n",
            "Name: profit, dtype: float64 judge\n",
            "0   -0.81777\n",
            "1   -0.82509\n",
            "Name: profit, dtype: float64\n",
            "65 judge\n",
            "0   -1.18612\n",
            "1   -0.69767\n",
            "Name: profit, dtype: float64 judge\n",
            "0   -0.74175\n",
            "1   -0.90111\n",
            "Name: profit, dtype: float64\n"
          ],
          "name": "stdout"
        },
        {
          "output_type": "display_data",
          "data": {
            "image/png": "[encoded data removed]",
            "text/plain": [
              "<Figure size 432x288 with 1 Axes>"
            ]
          },
          "metadata": {
            "tags": []
          }
        }
      ]
    },
    {
      "cell_type": "code",
      "metadata": {
        "id": "fJZ0XiAmcrlH",
        "colab_type": "code",
        "colab": {
          "base_uri": "https://localhost:8080/",
          "height": 177
        },
        "outputId": "74ec3be6-d6df-4448-8f44-11fb13782602"
      },
      "source": [
        "df_5m['rsi'].describe()"
      ],
      "execution_count": null,
      "outputs": [
        {
          "output_type": "execute_result",
          "data": {
            "text/plain": [
              "count    1.112573e+06\n",
              "mean     5.629963e-02\n",
              "std      1.574462e+01\n",
              "min     -5.000000e+01\n",
              "25%     -1.103286e+01\n",
              "50%      0.000000e+00\n",
              "75%      1.111111e+01\n",
              "max      5.000000e+01\n",
              "Name: rsi, dtype: float64"
            ]
          },
          "metadata": {
            "tags": []
          },
          "execution_count": 1067
        }
      ]
    },
    {
      "cell_type": "code",
      "metadata": {
        "id": "L9WxXk3-7fW1",
        "colab_type": "code",
        "colab": {}
      },
      "source": [
        "df_5m['ma'] = None\n",
        "df_5m['diff'] = None\n",
        "df_5m['trend'] = None\n",
        "df_5m['ma'] = pd.DataFrame(df_5m['close'].rolling(10).mean())\n",
        "df_5m['diff'] = df_5m['ma'].diff()\n",
        "def get_trend_direction(diff):\n",
        "  if diff >=0:\n",
        "    trend = '↑'\n",
        "  else:\n",
        "    trend = '↓'\n",
        "  return trend\n",
        "df_5m['trend'] = df_5m['diff'].apply(get_trend_direction)"
      ],
      "execution_count": null,
      "outputs": []
    },
    {
      "cell_type": "code",
      "metadata": {
        "id": "pkCIjrLEtoRa",
        "colab_type": "code",
        "colab": {}
      },
      "source": [
        ""
      ],
      "execution_count": null,
      "outputs": []
    },
    {
      "cell_type": "code",
      "metadata": {
        "id": "7ORIUBQlkCot",
        "colab_type": "code",
        "colab": {}
      },
      "source": [
        "# df_5m.iloc[0:60,:]"
      ],
      "execution_count": null,
      "outputs": []
    },
    {
      "cell_type": "code",
      "metadata": {
        "id": "y8OtT0Pg8HQp",
        "colab_type": "code",
        "colab": {
          "base_uri": "https://localhost:8080/",
          "height": 1000
        },
        "outputId": "1524aa99-965d-48e3-bb46-0c0fe913b46c"
      },
      "source": [
        "#candle pattern使うなら実行\n",
        "timing    = []\n",
        "bidask = []\n",
        "price = []\n",
        "\n",
        "df_result = pd.DataFrame([], columns=['date', 'direction', 'price'])\n",
        "for i in range(len(df_5m)):\n",
        "  if df_5m.iat[i,8] != '':\n",
        "    timing.append(df_5m.iat[i,0])\n",
        "    bidask.append( df_5m.iat[i,8])\n",
        "    price.append(df_5m.iat[i,1])\n",
        "\n",
        "  if i % 10000 == 0:\n",
        "    print(str(i)+'行まで完了')\n",
        "df_result = pd.DataFrame(data={'date':timing, 'direction':bidask, 'price':price},\\\n",
        "                          columns=['date','direction','price'])\n",
        "print(len(df_result))\n",
        "    "
      ],
      "execution_count": null,
      "outputs": [
        {
          "output_type": "stream",
          "text": [
            "0行まで完了\n",
            "10000行まで完了\n",
            "20000行まで完了\n",
            "30000行まで完了\n",
            "40000行まで完了\n",
            "50000行まで完了\n",
            "60000行まで完了\n",
            "70000行まで完了\n",
            "80000行まで完了\n",
            "90000行まで完了\n",
            "100000行まで完了\n",
            "110000行まで完了\n",
            "120000行まで完了\n",
            "130000行まで完了\n",
            "140000行まで完了\n",
            "150000行まで完了\n",
            "160000行まで完了\n",
            "170000行まで完了\n",
            "180000行まで完了\n",
            "190000行まで完了\n",
            "200000行まで完了\n",
            "210000行まで完了\n",
            "220000行まで完了\n",
            "230000行まで完了\n",
            "240000行まで完了\n",
            "250000行まで完了\n",
            "260000行まで完了\n",
            "270000行まで完了\n",
            "280000行まで完了\n",
            "290000行まで完了\n",
            "300000行まで完了\n",
            "310000行まで完了\n",
            "320000行まで完了\n",
            "330000行まで完了\n",
            "340000行まで完了\n",
            "350000行まで完了\n",
            "360000行まで完了\n",
            "370000行まで完了\n",
            "380000行まで完了\n",
            "390000行まで完了\n",
            "400000行まで完了\n",
            "410000行まで完了\n",
            "420000行まで完了\n",
            "430000行まで完了\n",
            "440000行まで完了\n",
            "450000行まで完了\n",
            "460000行まで完了\n",
            "470000行まで完了\n",
            "480000行まで完了\n",
            "490000行まで完了\n",
            "500000行まで完了\n",
            "510000行まで完了\n",
            "520000行まで完了\n",
            "530000行まで完了\n",
            "540000行まで完了\n",
            "550000行まで完了\n",
            "560000行まで完了\n",
            "570000行まで完了\n",
            "580000行まで完了\n",
            "590000行まで完了\n",
            "600000行まで完了\n",
            "610000行まで完了\n",
            "620000行まで完了\n",
            "630000行まで完了\n",
            "640000行まで完了\n",
            "650000行まで完了\n",
            "660000行まで完了\n",
            "670000行まで完了\n",
            "680000行まで完了\n",
            "690000行まで完了\n",
            "700000行まで完了\n",
            "710000行まで完了\n",
            "720000行まで完了\n",
            "730000行まで完了\n",
            "740000行まで完了\n",
            "750000行まで完了\n",
            "760000行まで完了\n",
            "770000行まで完了\n",
            "780000行まで完了\n",
            "790000行まで完了\n",
            "800000行まで完了\n",
            "810000行まで完了\n",
            "820000行まで完了\n",
            "830000行まで完了\n",
            "840000行まで完了\n",
            "850000行まで完了\n",
            "860000行まで完了\n",
            "870000行まで完了\n",
            "880000行まで完了\n",
            "890000行まで完了\n",
            "900000行まで完了\n",
            "910000行まで完了\n",
            "920000行まで完了\n",
            "930000行まで完了\n",
            "940000行まで完了\n",
            "950000行まで完了\n",
            "960000行まで完了\n",
            "970000行まで完了\n",
            "980000行まで完了\n",
            "990000行まで完了\n",
            "1000000行まで完了\n",
            "1010000行まで完了\n",
            "1020000行まで完了\n",
            "1030000行まで完了\n",
            "1040000行まで完了\n",
            "1050000行まで完了\n",
            "1060000行まで完了\n",
            "1070000行まで完了\n",
            "1080000行まで完了\n",
            "1090000行まで完了\n",
            "1100000行まで完了\n",
            "1110000行まで完了\n",
            "13978\n"
          ],
          "name": "stdout"
        }
      ]
    },
    {
      "cell_type": "code",
      "metadata": {
        "id": "AJ0soPGwBtn8",
        "colab_type": "code",
        "colab": {}
      },
      "source": [
        "print(len(df_result))\n",
        "# print(df_result_buy.head(50))\n",
        "# print(df_result_buy.tail(50))\n",
        "print(df_result.tail(50))\n",
        "# print(df_result_buy.iloc[1900:1950,:])"
      ],
      "execution_count": null,
      "outputs": []
    },
    {
      "cell_type": "code",
      "metadata": {
        "id": "wfD7kcoXS1HU",
        "colab_type": "code",
        "colab": {
          "base_uri": "https://localhost:8080/",
          "height": 850
        },
        "outputId": "707af32d-4478-400a-957d-4db0bb064f01"
      },
      "source": [
        "# イン→→一つ目のエグジットでプラスならスルー→→次のエントリーでプラスならスルー→→2つめのエグジットで出る\n",
        "# スルー条件に当てはまらないならエグジット\n",
        "df_result['profit'] = None\n",
        "df_result['profit'].astype(float)\n",
        "print(len(df_result))\n",
        "for i in range(len(df_result)-4):\n",
        "    if df_result.iat[i,1] == '売':\n",
        "        entry1 = df_result.iat[i,2]\n",
        "        exit1 = df_result.iat[i+1,2]\n",
        "        entry2 = df_result.iat[i+2,2]\n",
        "        exit2 = df_result.iat[i+3,2]\n",
        "        if entry1 - exit1 <= 0:\n",
        "          if entry1 - entry2 <= 0:\n",
        "            df_result.iat[i,3] = entry1 - exit2\n",
        "          else:\n",
        "            df_result.iat[i,3] = entry1 - entry2\n",
        "        else:\n",
        "          df_result.iat[i,3] = entry1 - exit1\n",
        "    elif df_result.iat[i,1] == '買':\n",
        "        entry1 = df_result.iat[i,2]\n",
        "        exit1 = df_result.iat[i+1,2]\n",
        "        entry2 = df_result.iat[i+2,2]\n",
        "        exit2 = df_result.iat[i+3,2]\n",
        "        if exit1 - entry1 <= 0:\n",
        "          if entry2 - entry1 <= 0:\n",
        "            df_result.iat[i,3] = exit2 - entry1\n",
        "          else:\n",
        "            df_result.iat[i,3] = entry2 - entry1\n",
        "        else:\n",
        "          df_result.iat[i,3] = exit1 - entry1\n",
        "    if i % 1000 == 0:\n",
        "      print(i)\n"
      ],
      "execution_count": null,
      "outputs": [
        {
          "output_type": "stream",
          "text": [
            "45550\n",
            "0\n",
            "1000\n",
            "2000\n",
            "3000\n",
            "4000\n",
            "5000\n",
            "6000\n",
            "7000\n",
            "8000\n",
            "9000\n",
            "10000\n",
            "11000\n",
            "12000\n",
            "13000\n",
            "14000\n",
            "15000\n",
            "16000\n",
            "17000\n",
            "18000\n",
            "19000\n",
            "20000\n",
            "21000\n",
            "22000\n",
            "23000\n",
            "24000\n",
            "25000\n",
            "26000\n",
            "27000\n",
            "28000\n",
            "29000\n",
            "30000\n",
            "31000\n",
            "32000\n",
            "33000\n",
            "34000\n",
            "35000\n",
            "36000\n",
            "37000\n",
            "38000\n",
            "39000\n",
            "40000\n",
            "41000\n",
            "42000\n",
            "43000\n",
            "44000\n",
            "45000\n"
          ],
          "name": "stdout"
        }
      ]
    },
    {
      "cell_type": "code",
      "metadata": {
        "id": "dcHz83vtW9Zt",
        "colab_type": "code",
        "colab": {
          "base_uri": "https://localhost:8080/",
          "height": 1000
        },
        "outputId": "e3b75b6a-95a0-4a13-9f91-2de923847063"
      },
      "source": [
        "# イン→→一つ目のエグジットでマイナスならスルー→→次のエントリーでマイナスならスルー→→2つめのエグジットで出る\n",
        "# スルー条件に当てはまらないならエグジット\n",
        "df_result['profit'] = None\n",
        "df_result['profit'].astype(float)\n",
        "print(len(df_result))\n",
        "for i in range(len(df_result)-4):\n",
        "    if df_result.iat[i,1] == '売':\n",
        "        entry1 = df_result.iat[i,2]\n",
        "        exit1 = df_result.iat[i+1,2]\n",
        "        entry2 = df_result.iat[i+2,2]\n",
        "        exit2 = df_result.iat[i+3,2]\n",
        "        if entry1 - exit1 >= 0:\n",
        "          if entry1 - entry2 >= 0:\n",
        "            df_result.iat[i,3] = entry1 - exit2\n",
        "          else:\n",
        "            df_result.iat[i,3] = entry1 - entry2\n",
        "        else:\n",
        "          df_result.iat[i,3] = entry1 - exit1\n",
        "    elif df_result.iat[i,1] == '買':\n",
        "        entry1 = df_result.iat[i,2]\n",
        "        exit1 = df_result.iat[i+1,2]\n",
        "        entry2 = df_result.iat[i+2,2]\n",
        "        exit2 = df_result.iat[i+3,2]\n",
        "        if exit1 - entry1 >= 0:\n",
        "          if entry2 - entry1 >= 0:\n",
        "            df_result.iat[i,3] = exit2 - entry1\n",
        "          else:\n",
        "            df_result.iat[i,3] = entry2 - entry1\n",
        "        else:\n",
        "          df_result.iat[i,3] = exit1 - entry1\n",
        "    if i % 1000 == 0:\n",
        "      print(i)"
      ],
      "execution_count": null,
      "outputs": [
        {
          "output_type": "stream",
          "text": [
            "78066\n",
            "0\n",
            "1000\n",
            "2000\n",
            "3000\n",
            "4000\n",
            "5000\n",
            "6000\n",
            "7000\n",
            "8000\n",
            "9000\n",
            "10000\n",
            "11000\n",
            "12000\n",
            "13000\n",
            "14000\n",
            "15000\n",
            "16000\n",
            "17000\n",
            "18000\n",
            "19000\n",
            "20000\n",
            "21000\n",
            "22000\n",
            "23000\n",
            "24000\n",
            "25000\n",
            "26000\n",
            "27000\n",
            "28000\n",
            "29000\n",
            "30000\n",
            "31000\n",
            "32000\n",
            "33000\n",
            "34000\n",
            "35000\n",
            "36000\n",
            "37000\n",
            "38000\n",
            "39000\n",
            "40000\n",
            "41000\n",
            "42000\n",
            "43000\n",
            "44000\n",
            "45000\n",
            "46000\n",
            "47000\n",
            "48000\n",
            "49000\n",
            "50000\n",
            "51000\n",
            "52000\n",
            "53000\n",
            "54000\n",
            "55000\n",
            "56000\n",
            "57000\n",
            "58000\n",
            "59000\n",
            "60000\n",
            "61000\n",
            "62000\n",
            "63000\n",
            "64000\n",
            "65000\n",
            "66000\n",
            "67000\n",
            "68000\n",
            "69000\n",
            "70000\n",
            "71000\n",
            "72000\n",
            "73000\n",
            "74000\n",
            "75000\n",
            "76000\n",
            "77000\n",
            "78000\n"
          ],
          "name": "stdout"
        }
      ]
    },
    {
      "cell_type": "code",
      "metadata": {
        "id": "7vGGOTVucQp1",
        "colab_type": "code",
        "colab": {}
      },
      "source": [
        "#一つずつトレード\n",
        "df_result['profit'] = None\n",
        "df_result['profit'].astype(float)\n",
        "for i in range(len(df_result)-1):\n",
        "  if df_result.iat[i,1] == '売':\n",
        "    df_result.at[i,'profit'] = df_result.iat[i, 2] - df_result.iloc[i+1,2]\n",
        "  elif df_result.iat[i,1] == '買':\n",
        "    df_result.at[i,'profit'] = df_result.iat[i+1,2] - df_result.iat[i,2]"
      ],
      "execution_count": null,
      "outputs": []
    },
    {
      "cell_type": "code",
      "metadata": {
        "id": "8y-6pfNv9lAL",
        "colab_type": "code",
        "colab": {}
      },
      "source": [
        "# df_result.to_csv('./drive/My Drive/Colab Notebooks/5m_bolinger_break_nofiltered.csv',encoding='utf_8_sig')"
      ],
      "execution_count": null,
      "outputs": []
    },
    {
      "cell_type": "code",
      "metadata": {
        "id": "40Yd1xRxVSmH",
        "colab_type": "code",
        "colab": {}
      },
      "source": [
        "# df_result['ruiseki'] = None\n",
        "# df_result['ruiseki'].astype(float)\n",
        "# df_result.iat[0,4] = df_result.iat[0,3]\n",
        "# for i in range(1,len(df_result)-4):\n",
        "#   df_result.iat[i,4] = df_result.iat[i-1,4] + df_result.iat[i,3]\n",
        "# df_result['ruiseki'].plot()\n",
        "# df_result['ruiseki'] = None"
      ],
      "execution_count": null,
      "outputs": []
    },
    {
      "cell_type": "code",
      "metadata": {
        "id": "-g_5iyae3Pzo",
        "colab_type": "code",
        "colab": {
          "base_uri": "https://localhost:8080/",
          "height": 75
        },
        "outputId": "7c551335-cc19-4376-dccc-375229bb8dd9"
      },
      "source": [
        "# df_result['label'] = None\n",
        "# boarder = 0.015\n",
        "# for i in range(len(df_result)):\n",
        "#   try:\n",
        "\n",
        "#     # if boarder <= df_result.iat[i,3]:\n",
        "#     #   df_result.iat[i,5] = 0\n",
        "#     # elif - boarder < df_result.iat[i,3] and df_result.iat[i,3] < boarder:\n",
        "#     #   df_result.iat[i,5] = 1\n",
        "#     # elif df_result.iat[i,3] <= - boarder:\n",
        "#     #   df_result.iat[i,5] = 2\n",
        "#     # else:\n",
        "#     #   assert False, 'Error'\n",
        "\n",
        "#     if df_result.iat[i,3] <= -boarder:\n",
        "#       df_result.iat[i,5] = 1\n",
        "#     elif -boarder < df_result.iat[i,3]:\n",
        "#       df_result.iat[i,5] = 0\n",
        "#     else:\n",
        "#       assert False, 'Error'\n",
        "\n",
        "#   except Exception as err:\n",
        "#     print(err.args)\n",
        "#     continue"
      ],
      "execution_count": null,
      "outputs": [
        {
          "output_type": "stream",
          "text": [
            "(\"'<=' not supported between instances of 'NoneType' and 'float'\",)\n"
          ],
          "name": "stdout"
        }
      ]
    },
    {
      "cell_type": "code",
      "metadata": {
        "id": "3B7n304Tnrm1",
        "colab_type": "code",
        "colab": {
          "base_uri": "https://localhost:8080/",
          "height": 1000
        },
        "outputId": "54ad8fdd-ed59-4d69-b6ab-9cf8ce8fb028"
      },
      "source": [
        "df_result_buy = df_result[df_result['direction'] == '買']\n",
        "df_result_sell = df_result[df_result['direction'] == '売']\n",
        "print(df_result_buy.head(60))\n",
        "print(df_result_sell.head())"
      ],
      "execution_count": null,
      "outputs": [
        {
          "output_type": "stream",
          "text": [
            "                   date direction   price  profit\n",
            "1   2005-01-10 17:00:00         買  1.3112 -0.0024\n",
            "3   2005-01-10 19:25:00         買  1.3112 -0.0028\n",
            "5   2005-01-11 02:00:00         買  1.3102  0.0013\n",
            "7   2005-01-11 12:40:00         買  1.3141  0.0001\n",
            "9   2005-01-11 17:30:00         買  1.3161 -0.0043\n",
            "11  2005-01-12 14:55:00         買  1.3112  0.0118\n",
            "13  2005-01-13 14:15:00         買  1.3239  -0.002\n",
            "15  2005-01-13 23:55:00         買  1.3222 -0.0032\n",
            "17  2005-01-14 10:15:00         買  1.3127 -0.0024\n",
            "19  2005-01-14 12:50:00         買  1.3115 -0.0024\n",
            "21  2005-01-14 17:50:00         買  1.3108 -0.0015\n",
            "23  2005-01-18 06:30:00         買  1.3043 -0.0025\n",
            "25  2005-01-18 13:30:00         買  1.3037  0.0008\n",
            "27  2005-01-18 19:30:00         買  1.3040 -0.0022\n",
            "29  2005-01-19 04:30:00         買  1.3033 -0.0024\n",
            "31  2005-01-19 10:50:00         買  1.3036  0.0037\n",
            "33  2005-01-19 23:55:00         買  1.3004 -0.0015\n",
            "35  2005-01-20 16:35:00         買  1.2953 -0.0004\n",
            "37  2005-01-21 10:35:00         買  1.2966  0.0004\n",
            "39  2005-01-21 16:55:00         買  1.2972  0.0063\n",
            "41  2005-01-24 09:45:00         買  1.3063  0.0003\n",
            "43  2005-01-24 17:15:00         買  1.3083 -0.0025\n",
            "45  2005-01-24 22:50:00         買  1.3057 -0.0025\n",
            "47  2005-01-25 08:45:00         買  1.3043 -0.0022\n",
            "49  2005-01-25 11:15:00         買  1.3052 -0.0002\n",
            "51  2005-01-26 11:05:00         買  1.2993  0.0076\n",
            "53  2005-01-27 00:20:00         買  1.3085 -0.0002\n",
            "55  2005-01-27 16:40:00         買  1.3049 -0.0033\n",
            "57  2005-01-27 18:25:00         買  1.3042 -0.0024\n",
            "59  2005-01-28 09:55:00         買  1.3050 -0.0023\n",
            "61  2005-01-28 16:35:00         買  1.3056 -0.0026\n",
            "63  2005-01-28 19:45:00         買  1.3026 -0.0008\n",
            "65  2005-01-31 14:40:00         買  1.3024  -0.001\n",
            "67  2005-01-31 19:10:00         買  1.3051 -0.0016\n",
            "69  2005-02-01 20:25:00         買  1.3025   0.002\n",
            "71  2005-02-03 18:20:00         買  1.2972 -0.0021\n",
            "73  2005-02-04 16:35:00         買  1.3029 -0.0087\n",
            "75  2005-02-07 10:05:00         買  1.2855 -0.0026\n",
            "77  2005-02-07 22:05:00         買  1.2771 -0.0014\n",
            "79  2005-02-08 15:20:00         買  1.2759 -0.0018\n",
            "81  2005-02-08 19:20:00         買  1.2786 -0.0016\n",
            "83  2005-02-09 18:10:00         買  1.2769  0.0026\n",
            "85  2005-02-10 17:10:00         買  1.2805  0.0043\n",
            "87  2005-02-11 18:15:00         買  1.2882 -0.0022\n",
            "89  2005-02-14 03:15:00         買  1.2888  0.0065\n",
            "91  2005-02-14 19:20:00         買  1.2972  0.0019\n",
            "93  2005-02-15 19:30:00         買  1.2988  0.0013\n",
            "95  2005-02-16 16:10:00         買  1.3046 -0.0042\n",
            "97  2005-02-16 20:10:00         買  1.2996  0.0028\n",
            "99  2005-02-17 10:40:00         買  1.3056 -0.0007\n",
            "101 2005-02-17 18:05:00         買  1.3050  0.0008\n",
            "103 2005-02-18 17:00:00         買  1.3053 -0.0023\n",
            "105 2005-02-21 11:25:00         買  1.3073  0.0122\n",
            "107 2005-02-22 16:30:00         買  1.3216 -0.0021\n",
            "109 2005-02-22 19:10:00         買  1.3233  0.0005\n",
            "111 2005-02-23 05:10:00         買  1.3257 -0.0025\n",
            "113 2005-02-23 17:00:00         買  1.3232 -0.0041\n",
            "115 2005-02-23 22:05:00         買  1.3227  0.0016\n",
            "117 2005-02-24 20:10:00         買  1.3215 -0.0021\n",
            "119 2005-02-25 04:00:00         買  1.3203  -0.002\n",
            "                 date direction   price  profit\n",
            "0 2005-01-10 15:30:00         売  1.3088 -0.0024\n",
            "2 2005-01-10 18:20:00         売  1.3088 -0.0024\n",
            "4 2005-01-10 20:30:00         売  1.3084 -0.0018\n",
            "6 2005-01-11 09:55:00         売  1.3115 -0.0026\n",
            "8 2005-01-11 15:55:00         売  1.3142 -0.0019\n"
          ],
          "name": "stdout"
        }
      ]
    },
    {
      "cell_type": "code",
      "metadata": {
        "id": "QsC5DhYL_qaS",
        "colab_type": "code",
        "colab": {
          "base_uri": "https://localhost:8080/",
          "height": 230
        },
        "outputId": "1cd71d1b-0dd0-44dc-d5c8-589a767afb7f"
      },
      "source": [
        "df_result_buy['profit'].cumsum()"
      ],
      "execution_count": null,
      "outputs": [
        {
          "output_type": "execute_result",
          "data": {
            "text/plain": [
              "1        -0.0024\n",
              "3        -0.0052\n",
              "5        -0.0039\n",
              "7        -0.0038\n",
              "9        -0.0081\n",
              "          ...   \n",
              "13969    -0.8551\n",
              "13971   -0.84598\n",
              "13973   -0.84871\n",
              "13975   -0.85179\n",
              "13977        NaN\n",
              "Name: profit, Length: 6989, dtype: object"
            ]
          },
          "metadata": {
            "tags": []
          },
          "execution_count": 19
        }
      ]
    },
    {
      "cell_type": "code",
      "metadata": {
        "id": "poiVMrvTH3pR",
        "colab_type": "code",
        "colab": {
          "base_uri": "https://localhost:8080/",
          "height": 283
        },
        "outputId": "fa668260-a573-4071-e729-b0e78a155631"
      },
      "source": [
        "df_result_buy['profit'].cumsum().plot()"
      ],
      "execution_count": null,
      "outputs": [
        {
          "output_type": "execute_result",
          "data": {
            "text/plain": [
              "<matplotlib.axes._subplots.AxesSubplot at 0x7fb2bada5f60>"
            ]
          },
          "metadata": {
            "tags": []
          },
          "execution_count": 76
        },
        {
          "output_type": "display_data",
          "data": {
            "image/png": "[encoded data removed]",
            "text/plain": [
              "<Figure size 432x288 with 1 Axes>"
            ]
          },
          "metadata": {
            "tags": []
          }
        }
      ]
    },
    {
      "cell_type": "code",
      "metadata": {
        "id": "TyMqSC45_N-9",
        "colab_type": "code",
        "colab": {
          "base_uri": "https://localhost:8080/",
          "height": 340
        },
        "outputId": "02e36e78-b212-4a32-f1b9-047b92b598a5"
      },
      "source": [
        "df_result_buy.groupby('trend')['profit'].sum()"
      ],
      "execution_count": null,
      "outputs": [
        {
          "output_type": "error",
          "ename": "KeyError",
          "evalue": "ignored",
          "traceback": [
            "\u001b[0;31m---------------------------------------------------------------------------\u001b[0m",
            "\u001b[0;31mKeyError\u001b[0m                                  Traceback (most recent call last)",
            "\u001b[0;32m<ipython-input-62-e37d552f4402>\u001b[0m in \u001b[0;36m<module>\u001b[0;34m()\u001b[0m\n\u001b[0;32m----> 1\u001b[0;31m \u001b[0mdf_result_buy\u001b[0m\u001b[0;34m.\u001b[0m\u001b[0mgroupby\u001b[0m\u001b[0;34m(\u001b[0m\u001b[0;34m'trend'\u001b[0m\u001b[0;34m)\u001b[0m\u001b[0;34m[\u001b[0m\u001b[0;34m'profit'\u001b[0m\u001b[0;34m]\u001b[0m\u001b[0;34m.\u001b[0m\u001b[0msum\u001b[0m\u001b[0;34m(\u001b[0m\u001b[0;34m)\u001b[0m\u001b[0;34m\u001b[0m\u001b[0;34m\u001b[0m\u001b[0m\n\u001b[0m",
            "\u001b[0;32m/usr/local/lib/python3.6/dist-packages/pandas/core/generic.py\u001b[0m in \u001b[0;36mgroupby\u001b[0;34m(self, by, axis, level, as_index, sort, group_keys, squeeze, observed, **kwargs)\u001b[0m\n\u001b[1;32m   7892\u001b[0m             \u001b[0msqueeze\u001b[0m\u001b[0;34m=\u001b[0m\u001b[0msqueeze\u001b[0m\u001b[0;34m,\u001b[0m\u001b[0;34m\u001b[0m\u001b[0;34m\u001b[0m\u001b[0m\n\u001b[1;32m   7893\u001b[0m             \u001b[0mobserved\u001b[0m\u001b[0;34m=\u001b[0m\u001b[0mobserved\u001b[0m\u001b[0;34m,\u001b[0m\u001b[0;34m\u001b[0m\u001b[0;34m\u001b[0m\u001b[0m\n\u001b[0;32m-> 7894\u001b[0;31m             \u001b[0;34m**\u001b[0m\u001b[0mkwargs\u001b[0m\u001b[0;34m\u001b[0m\u001b[0;34m\u001b[0m\u001b[0m\n\u001b[0m\u001b[1;32m   7895\u001b[0m         )\n\u001b[1;32m   7896\u001b[0m \u001b[0;34m\u001b[0m\u001b[0m\n",
            "\u001b[0;32m/usr/local/lib/python3.6/dist-packages/pandas/core/groupby/groupby.py\u001b[0m in \u001b[0;36mgroupby\u001b[0;34m(obj, by, **kwds)\u001b[0m\n\u001b[1;32m   2520\u001b[0m         \u001b[0;32mraise\u001b[0m \u001b[0mTypeError\u001b[0m\u001b[0;34m(\u001b[0m\u001b[0;34m\"invalid type: {}\"\u001b[0m\u001b[0;34m.\u001b[0m\u001b[0mformat\u001b[0m\u001b[0;34m(\u001b[0m\u001b[0mobj\u001b[0m\u001b[0;34m)\u001b[0m\u001b[0;34m)\u001b[0m\u001b[0;34m\u001b[0m\u001b[0;34m\u001b[0m\u001b[0m\n\u001b[1;32m   2521\u001b[0m \u001b[0;34m\u001b[0m\u001b[0m\n\u001b[0;32m-> 2522\u001b[0;31m     \u001b[0;32mreturn\u001b[0m \u001b[0mklass\u001b[0m\u001b[0;34m(\u001b[0m\u001b[0mobj\u001b[0m\u001b[0;34m,\u001b[0m \u001b[0mby\u001b[0m\u001b[0;34m,\u001b[0m \u001b[0;34m**\u001b[0m\u001b[0mkwds\u001b[0m\u001b[0;34m)\u001b[0m\u001b[0;34m\u001b[0m\u001b[0;34m\u001b[0m\u001b[0m\n\u001b[0m",
            "\u001b[0;32m/usr/local/lib/python3.6/dist-packages/pandas/core/groupby/groupby.py\u001b[0m in \u001b[0;36m__init__\u001b[0;34m(self, obj, keys, axis, level, grouper, exclusions, selection, as_index, sort, group_keys, squeeze, observed, **kwargs)\u001b[0m\n\u001b[1;32m    389\u001b[0m                 \u001b[0msort\u001b[0m\u001b[0;34m=\u001b[0m\u001b[0msort\u001b[0m\u001b[0;34m,\u001b[0m\u001b[0;34m\u001b[0m\u001b[0;34m\u001b[0m\u001b[0m\n\u001b[1;32m    390\u001b[0m                 \u001b[0mobserved\u001b[0m\u001b[0;34m=\u001b[0m\u001b[0mobserved\u001b[0m\u001b[0;34m,\u001b[0m\u001b[0;34m\u001b[0m\u001b[0;34m\u001b[0m\u001b[0m\n\u001b[0;32m--> 391\u001b[0;31m                 \u001b[0mmutated\u001b[0m\u001b[0;34m=\u001b[0m\u001b[0mself\u001b[0m\u001b[0;34m.\u001b[0m\u001b[0mmutated\u001b[0m\u001b[0;34m,\u001b[0m\u001b[0;34m\u001b[0m\u001b[0;34m\u001b[0m\u001b[0m\n\u001b[0m\u001b[1;32m    392\u001b[0m             )\n\u001b[1;32m    393\u001b[0m \u001b[0;34m\u001b[0m\u001b[0m\n",
            "\u001b[0;32m/usr/local/lib/python3.6/dist-packages/pandas/core/groupby/grouper.py\u001b[0m in \u001b[0;36m_get_grouper\u001b[0;34m(obj, key, axis, level, sort, observed, mutated, validate)\u001b[0m\n\u001b[1;32m    619\u001b[0m                 \u001b[0min_axis\u001b[0m\u001b[0;34m,\u001b[0m \u001b[0mname\u001b[0m\u001b[0;34m,\u001b[0m \u001b[0mlevel\u001b[0m\u001b[0;34m,\u001b[0m \u001b[0mgpr\u001b[0m \u001b[0;34m=\u001b[0m \u001b[0;32mFalse\u001b[0m\u001b[0;34m,\u001b[0m \u001b[0;32mNone\u001b[0m\u001b[0;34m,\u001b[0m \u001b[0mgpr\u001b[0m\u001b[0;34m,\u001b[0m \u001b[0;32mNone\u001b[0m\u001b[0;34m\u001b[0m\u001b[0;34m\u001b[0m\u001b[0m\n\u001b[1;32m    620\u001b[0m             \u001b[0;32melse\u001b[0m\u001b[0;34m:\u001b[0m\u001b[0;34m\u001b[0m\u001b[0;34m\u001b[0m\u001b[0m\n\u001b[0;32m--> 621\u001b[0;31m                 \u001b[0;32mraise\u001b[0m \u001b[0mKeyError\u001b[0m\u001b[0;34m(\u001b[0m\u001b[0mgpr\u001b[0m\u001b[0;34m)\u001b[0m\u001b[0;34m\u001b[0m\u001b[0;34m\u001b[0m\u001b[0m\n\u001b[0m\u001b[1;32m    622\u001b[0m         \u001b[0;32melif\u001b[0m \u001b[0misinstance\u001b[0m\u001b[0;34m(\u001b[0m\u001b[0mgpr\u001b[0m\u001b[0;34m,\u001b[0m \u001b[0mGrouper\u001b[0m\u001b[0;34m)\u001b[0m \u001b[0;32mand\u001b[0m \u001b[0mgpr\u001b[0m\u001b[0;34m.\u001b[0m\u001b[0mkey\u001b[0m \u001b[0;32mis\u001b[0m \u001b[0;32mnot\u001b[0m \u001b[0;32mNone\u001b[0m\u001b[0;34m:\u001b[0m\u001b[0;34m\u001b[0m\u001b[0;34m\u001b[0m\u001b[0m\n\u001b[1;32m    623\u001b[0m             \u001b[0;31m# Add key to exclusions\u001b[0m\u001b[0;34m\u001b[0m\u001b[0;34m\u001b[0m\u001b[0;34m\u001b[0m\u001b[0m\n",
            "\u001b[0;31mKeyError\u001b[0m: 'trend'"
          ]
        }
      ]
    },
    {
      "cell_type": "code",
      "metadata": {
        "id": "l4N1kmLEBJLN",
        "colab_type": "code",
        "colab": {
          "base_uri": "https://localhost:8080/",
          "height": 1000
        },
        "outputId": "7d66444d-4f12-4c89-ffe8-c7d18461583f"
      },
      "source": [
        "periods = [10,20,30]\n",
        "diff_periods = [3,5,10]\n",
        "for period, diff_period in product(periods, diff_periods):\n",
        "\n",
        "    df_5m['ma'] = None\n",
        "    df_5m['diff'] = None\n",
        "    df_5m['trend'] = None\n",
        "    df_5m['ma'] = pd.DataFrame(df_5m['close'].rolling(period).mean())\n",
        "    df_5m['diff'] = df_5m['ma'].diff(periods=diff_period)\n",
        "    def get_trend_direction(diff):\n",
        "      if diff >=0:\n",
        "        trend = '↑'\n",
        "      else:\n",
        "        trend = '↓'\n",
        "      return trend\n",
        "    df_5m['trend'] = df_5m['diff'].apply(get_trend_direction)\n",
        "\n",
        "    timing = []\n",
        "    bidask = []\n",
        "    price = []\n",
        "    trend = []\n",
        "    df_result = pd.DataFrame([], columns=['date', 'direction', 'price'])\n",
        "    for i in range(len(df_5m)):\n",
        "      if df_5m.iat[i,8] != '':\n",
        "        timing.append(df_5m.iat[i,0])\n",
        "        bidask.append( df_5m.iat[i,8])\n",
        "        price.append(df_5m.iat[i,1])\n",
        "        trend.append(df_5m.at[i-1,11])\n",
        "\n",
        "    df_result = pd.DataFrame(data={'date':timing, 'direction':bidask, 'price':price, 'trend':trend},\\\n",
        "                                columns=['date','direction','price','trend'])\n",
        "\n",
        "    df_result['profit'] = None\n",
        "    df_result['profit'].astype(float)\n",
        "    for i in range(len(df_result)-1):\n",
        "      if df_result.iat[i,1] == '売':\n",
        "        df_result.at[i,'profit'] = df_result.iat[i, 2] - df_result.iloc[i+1,2]\n",
        "      elif df_result.iat[i,1] == '買':\n",
        "        df_result.at[i,'profit'] = df_result.iat[i+1,2] - df_result.iat[i,2]\n",
        "\n",
        "    df_result_buy = df_result[df_result['direction'] == '買']\n",
        "    df_result_sell = df_result[df_result['direction'] == '売']\n",
        "\n",
        "    print(period,df_result_buy.groupby('trend')['profit'].sum(),df_result_sell.groupby('trend')['profit'].sum())\n",
        "\n"
      ],
      "execution_count": null,
      "outputs": [
        {
          "output_type": "stream",
          "text": [
            "10 trend\n",
            "↑   -1.80540\n",
            "↓   -0.65707\n",
            "Name: profit, dtype: float64 trend\n",
            "↑   -0.30909\n",
            "↓   -1.91215\n",
            "Name: profit, dtype: float64\n",
            "10 trend\n",
            "↑   -1.36502\n",
            "↓   -1.09745\n",
            "Name: profit, dtype: float64 trend\n",
            "↑   -0.74174\n",
            "↓   -1.47950\n",
            "Name: profit, dtype: float64\n",
            "10 trend\n",
            "↑   -0.86042\n",
            "↓   -1.60205\n",
            "Name: profit, dtype: float64 trend\n",
            "↑   -1.31818\n",
            "↓   -0.90306\n",
            "Name: profit, dtype: float64\n",
            "20 trend\n",
            "↑   -0.86297\n",
            "↓   -1.59950\n",
            "Name: profit, dtype: float64 trend\n",
            "↑   -1.38338\n",
            "↓   -0.83786\n",
            "Name: profit, dtype: float64\n",
            "20 trend\n",
            "↑   -0.56209\n",
            "↓   -1.90038\n",
            "Name: profit, dtype: float64 trend\n",
            "↑   -1.45461\n",
            "↓   -0.76663\n",
            "Name: profit, dtype: float64\n",
            "20 trend\n",
            "↑   -0.49199\n",
            "↓   -1.97048\n",
            "Name: profit, dtype: float64 trend\n",
            "↑   -1.50014\n",
            "↓   -0.72110\n",
            "Name: profit, dtype: float64\n",
            "30 trend\n",
            "↑   -0.94991\n",
            "↓   -1.51256\n",
            "Name: profit, dtype: float64 trend\n",
            "↑   -1.13958\n",
            "↓   -1.08166\n",
            "Name: profit, dtype: float64\n",
            "30 trend\n",
            "↑   -0.76659\n",
            "↓   -1.69588\n",
            "Name: profit, dtype: float64 trend\n",
            "↑   -1.08032\n",
            "↓   -1.14092\n",
            "Name: profit, dtype: float64\n",
            "30 trend\n",
            "↑   -0.62159\n",
            "↓   -1.84088\n",
            "Name: profit, dtype: float64 trend\n",
            "↑   -1.27898\n",
            "↓   -0.94226\n",
            "Name: profit, dtype: float64\n"
          ],
          "name": "stdout"
        }
      ]
    },
    {
      "cell_type": "code",
      "metadata": {
        "id": "gFE8xY42t4jS",
        "colab_type": "code",
        "colab": {
          "base_uri": "https://localhost:8080/",
          "height": 159
        },
        "outputId": "b37a607d-dda9-4334-86f7-3d1511dd7555"
      },
      "source": [
        "periods = [20]\n",
        "\n",
        "for period in periods:\n",
        "\n",
        "    df_5m['ma'] = None\n",
        "\n",
        "    df_5m['trend'] = None\n",
        "    # df_5m['ma'] = pd.DataFrame(df_5m['close'].rolling(period).mean())\n",
        "    df_5m['ma'] = pd.DataFrame(df_5m['close'].rolling(period).std(ddof=0))\n",
        "\n",
        "    # def get_vsma_direction(x):\n",
        "    #   if x[0] - x[1] >=0:\n",
        "    #     trend = '↑'\n",
        "    #   else:\n",
        "    #     trend = '↓'\n",
        "    #   return trend\n",
        "    # df_5m['trend'] = df_5m[['close','ma']].apply(get_vsma_direction,axis=1)\n",
        "\n",
        "    def get_range_or_not(x):\n",
        "      if x >= 0.0004:\n",
        "        trend = 1\n",
        "      else:\n",
        "        trend = 0\n",
        "      return trend\n",
        "    df_5m['trend'] = df_5m['ma'].apply(get_range_or_not)\n",
        "\n",
        "    print('finish applying')\n",
        "    timing = []\n",
        "    bidask = []\n",
        "    price = []\n",
        "    trend = []\n",
        "    df_result = pd.DataFrame([], columns=['date', 'direction', 'price'])\n",
        "    for i in range(len(df_5m)):\n",
        "      if df_5m.iat[i,8] != '':\n",
        "        timing.append(df_5m.iat[i,0])\n",
        "        bidask.append( df_5m.iat[i,8])\n",
        "        price.append(df_5m.iat[i,1])\n",
        "        trend.append(df_5m.iat[i-1,10])\n",
        "\n",
        "    df_result = pd.DataFrame(data={'date':timing, 'direction':bidask, 'price':price, 'trend':trend},\\\n",
        "                                columns=['date','direction','price','trend'])\n",
        "\n",
        "    df_result['profit'] = None\n",
        "    df_result['profit'].astype(float)\n",
        "    for i in range(len(df_result)-1):\n",
        "      if df_result.iat[i,1] == '売':\n",
        "        df_result.at[i,'profit'] = df_result.iat[i, 2] - df_result.iloc[i+1,2]\n",
        "      elif df_result.iat[i,1] == '買':\n",
        "        df_result.at[i,'profit'] = df_result.iat[i+1,2] - df_result.iat[i,2]\n",
        "\n",
        "    df_result_buy = df_result[df_result['direction'] == '買']\n",
        "    df_result_sell = df_result[df_result['direction'] == '売']\n",
        "\n",
        "    print(period,df_result_buy.groupby('trend')['profit'].sum(),df_result_sell.groupby('trend')['profit'].sum())"
      ],
      "execution_count": null,
      "outputs": [
        {
          "output_type": "stream",
          "text": [
            "finish applying\n",
            "20 trend\n",
            "0   -0.78725\n",
            "1   -1.67522\n",
            "Name: profit, dtype: float64 trend\n",
            "0   -1.09675\n",
            "1   -1.12449\n",
            "Name: profit, dtype: float64\n"
          ],
          "name": "stdout"
        }
      ]
    },
    {
      "cell_type": "code",
      "metadata": {
        "id": "5y_Io22qxZm5",
        "colab_type": "code",
        "colab": {}
      },
      "source": [
        "df_5m"
      ],
      "execution_count": null,
      "outputs": []
    },
    {
      "cell_type": "code",
      "metadata": {
        "id": "-Ah0ZgaHE7Jo",
        "colab_type": "code",
        "colab": {}
      },
      "source": [
        "df_bear = df_result_buy[df_result_buy['trend']=='↓']\n",
        "df_bull = df_result_buy[df_result_buy['trend']=='↑']\n",
        "def get_plots(dfs):\n",
        "    df = dfs.copy().reset_index()\n",
        "    df['ruiseki'] = None\n",
        "    df.at[0, 'ruiseki'] = 0\n",
        "    for i in range(1, len(df)-1):\n",
        "      df.at[i,'ruiseki'] = df.at[i,'profit'] + df.at[i-1,'ruiseki']\n",
        "    plt.plot(df['ruiseki'])\n",
        "    print(df)\n",
        "get_plots(df_bear)\n",
        "get_plots(df_bull)"
      ],
      "execution_count": null,
      "outputs": []
    },
    {
      "cell_type": "code",
      "metadata": {
        "id": "ljU43g5SRgW3",
        "colab_type": "code",
        "colab": {
          "base_uri": "https://localhost:8080/",
          "height": 762
        },
        "outputId": "dc636bcf-8ec9-44aa-c6d5-378c62487ae3"
      },
      "source": [
        "df_trend = df_result_buy[df_result_buy['judge']==1]\n",
        "df_range = df_result_buy[df_result_buy['judge']==0]\n",
        "def get_plots(dfs):\n",
        "    df = dfs.copy().reset_index()\n",
        "    df['ruiseki'] = None\n",
        "    df.at[0, 'ruiseki'] = 0\n",
        "    for i in range(1, len(df)-1):\n",
        "      df.at[i,'ruiseki'] = df.at[i,'profit'] + df.at[i-1,'ruiseki']\n",
        "    plt.plot(df['ruiseki'])\n",
        "    print(df)\n",
        "get_plots(df_trend)\n",
        "get_plots(df_range)"
      ],
      "execution_count": null,
      "outputs": [
        {
          "output_type": "stream",
          "text": [
            "     index                date direction    price  judge   profit  ruiseki\n",
            "0       27 2005-01-12 16:35:00         買  1.32240      1    0.005        0\n",
            "1      107 2005-01-21 16:55:00         買  1.29720      1   0.0074   0.0074\n",
            "2      209 2005-02-04 16:35:00         買  1.30290      1  -0.0087  -0.0013\n",
            "3      239 2005-02-10 00:35:00         買  1.28080      1  -0.0004  -0.0017\n",
            "4      311 2005-02-18 06:15:00         買  1.30670      1  -0.0001  -0.0018\n",
            "..     ...                 ...       ...      ...    ...      ...      ...\n",
            "726  45383 2020-03-02 12:15:00         買  1.10898      1  0.00239   0.0024\n",
            "727  45391 2020-03-03 04:25:00         買  1.11385      1 -0.00023  0.00217\n",
            "728  45449 2020-03-09 10:10:00         買  1.14363      1 -0.00125  0.00092\n",
            "729  45479 2020-03-11 14:00:00         買  1.13261      1   -6e-05  0.00086\n",
            "730  45541 2020-03-20 04:20:00         買  1.06819      1  0.00381     None\n",
            "\n",
            "[731 rows x 7 columns]\n",
            "       index                date direction    price  judge   profit  ruiseki\n",
            "0          1 2005-01-10 10:40:00         買  1.30860      0   0.0007        0\n",
            "1          3 2005-01-10 17:00:00         買  1.31120      0  -0.0016  -0.0016\n",
            "2          5 2005-01-10 19:15:00         買  1.31010      0  -0.0004   -0.002\n",
            "3          7 2005-01-11 01:10:00         買  1.30860      0   0.0014  -0.0006\n",
            "4          9 2005-01-11 03:30:00         買  1.31180      0   0.0004  -0.0002\n",
            "...      ...                 ...       ...      ...    ...      ...      ...\n",
            "22039  45539 2020-03-19 20:30:00         買  1.07004      0 -0.00295 -2.46768\n",
            "22040  45543 2020-03-20 07:40:00         買  1.07418      0  0.00289 -2.46479\n",
            "22041  45545 2020-03-20 15:40:00         買  1.07403      0 -0.00319 -2.46798\n",
            "22042  45547 2020-03-20 17:20:00         買  1.07422      0 -0.00486 -2.47284\n",
            "22043  45549 2020-03-20 22:55:00         買  1.06667      0     None     None\n",
            "\n",
            "[22044 rows x 7 columns]\n"
          ],
          "name": "stdout"
        },
        {
          "output_type": "display_data",
          "data": {
            "image/png": "[encoded data removed]",
            "text/plain": [
              "<Figure size 432x288 with 1 Axes>"
            ]
          },
          "metadata": {
            "tags": []
          }
        }
      ]
    },
    {
      "cell_type": "code",
      "metadata": {
        "id": "ba5K2S5QpFuD",
        "colab_type": "code",
        "colab": {
          "base_uri": "https://localhost:8080/",
          "height": 123
        },
        "outputId": "854c4526-f7cb-4dd3-9e53-2b5470645125"
      },
      "source": [
        "# series_profit = df_result_buy['profit'] > 0\n",
        "# print(len(df_result_buy))\n",
        "# print(series_profit.sum())\n",
        "# print(series_profit.sum() / len(df_result_buy))\n",
        "# series_profit = df_result_sell['profit'] > 0\n",
        "# print(len(df_result_sell))\n",
        "# print(series_profit.sum())\n",
        "# print(series_profit.sum() / len(df_result_sell))"
      ],
      "execution_count": null,
      "outputs": [
        {
          "output_type": "stream",
          "text": [
            "37399\n",
            "23536\n",
            "0.6293216396160325\n",
            "37399\n",
            "23044\n",
            "0.616166207652611\n"
          ],
          "name": "stdout"
        }
      ]
    },
    {
      "cell_type": "code",
      "metadata": {
        "id": "C_TTsBfnoSBJ",
        "colab_type": "code",
        "colab": {}
      },
      "source": [
        "#df_result_buy, df_result_sellの選択あり\n",
        "def get_entry_candle_patterns(df):\n",
        "    number_of_candles = 20\n",
        "    matrix_data_buy = []\n",
        "    labels_buy = []\n",
        "    entry_candle_pattern_1d = []\n",
        "    entry_candle_pattern_1h = []\n",
        "    entry_candle_pattern_5m = []\n",
        "    indices = []\n",
        "    err_counter = 0\n",
        "    print(len(df))\n",
        "\n",
        "    for i in range(0,len(df)):\n",
        "      search_year = df.iat[i,0].year\n",
        "      search_month = df.iat[i,0].month\n",
        "      search_day = df.iat[i,0].day\n",
        "      search_hour = df.iat[i,0].hour\n",
        "      search_minute = df.iat[i,0].minute\n",
        "\n",
        "      try:\n",
        "        action_index = df_1d[df_1d['date'] == pd.Timestamp(search_year,search_month,search_day)].index\n",
        "        assert len(action_index) == 1, 'many indices:{},{}'.format(action_index,pd.Timestamp(search_year,search_month,search_day))\n",
        "        index_num = action_index[0]\n",
        "        if index_num <= number_of_candles - 1:\n",
        "          continue\n",
        "        df_data_1d = df_1d.iloc[index_num-number_of_candles:index_num, [1,2,3,4]]\n",
        "        matrix_1d = np.array(df_data_1d)\n",
        "        # print(df_result_buy.iat[i,0])\n",
        "        # print(df_data_1d)\n",
        "        \n",
        "        \n",
        "        action_index = df_1h[df_1h['date'] == pd.Timestamp(search_year,search_month,search_day,search_hour)].index\n",
        "        assert len(action_index) == 1, 'many indices'\n",
        "        index_num = action_index[0]\n",
        "        df_data_1h = df_1h.iloc[index_num-number_of_candles:index_num, [1,2,3,4]]\n",
        "        matrix_1h = np.array(df_data_1h)\n",
        "        # print(df_result_buy.iat[i,0])\n",
        "        # print(df_data_1h)\n",
        "\n",
        "        action_index = df_5m[df_5m['date'] == pd.Timestamp(search_year,search_month,search_day,search_hour,search_minute)].index\n",
        "        assert len(action_index) == 1, 'many indices'\n",
        "        index_num = action_index[0]\n",
        "        df_data_5m = df_5m.iloc[index_num-number_of_candles:index_num, [1,2,3,4]]\n",
        "        matrix_5m = np.array(df_data_5m)\n",
        "        # print(df_result_buy.iat[i,0])\n",
        "        # print(df_data_5m)\n",
        "\n",
        "        # matrix = np.concatenate([matrix_1d,matrix_1h,matrix_5m])\n",
        "        # matrix = np.concatenate([matrix_1h,matrix_5m])\n",
        "        # matrix = matrix_5m.copy()\n",
        "\n",
        "        # matrix /=  df_5m.iat[index_num-1,4]\n",
        "        # matrix -= 1\n",
        "        # matrix *= 1000\n",
        "        # matrix_data_buy.append(matrix)\n",
        "        # labels_buy.append(df_result_buy.iat[i,3])\n",
        "        # labels_buy.append(df_result_buy.iat[i,5])\n",
        "        # if df_result_buy.iat[i,3] >= 0:\n",
        "        #   labels_buy.append(0)\n",
        "        # elif df_result_buy.iat[i,3] < 0:\n",
        "        #   labels_buy.append(1)\n",
        "        # else:\n",
        "        #   assert False, 'erre in making labels'\n",
        "\n",
        "        matrix_1d /=  df_5m.iat[index_num-1,4]\n",
        "        matrix_1d -= 1\n",
        "        matrix_1d *= 1000\n",
        "        matrix_1h /=  df_5m.iat[index_num-1,4]\n",
        "        matrix_1h -= 1\n",
        "        matrix_1h *= 1000\n",
        "        matrix_5m /=  df_5m.iat[index_num-1,4]\n",
        "        matrix_5m -= 1\n",
        "        matrix_5m *= 1000\n",
        "        entry_candle_pattern_1d.append(matrix_1d)\n",
        "        entry_candle_pattern_1h.append(matrix_1h)\n",
        "        entry_candle_pattern_5m.append(matrix_5m)\n",
        "        indices.append(i)\n",
        "\n",
        "        if len(entry_candle_pattern_1d) == 1:\n",
        "          print('初めに'+str(i)+'行が取引成功した')\n",
        "          start = i\n",
        "\n",
        "        if i % 1000 == 0:\n",
        "          print(str(i)+'行まで終わった')\n",
        "\n",
        "      except Exception as err:\n",
        "        print(err.args)\n",
        "        err_counter += 1\n",
        "        continue\n",
        "      \n",
        "    print(err_counter)\n",
        "    return  np.array(entry_candle_pattern_1d), np.array(entry_candle_pattern_1h), np.array(entry_candle_pattern_5m), start, indices\n",
        "\n",
        "\n",
        "  "
      ],
      "execution_count": null,
      "outputs": []
    },
    {
      "cell_type": "code",
      "metadata": {
        "id": "qDz0AO0xV667",
        "colab_type": "code",
        "colab": {
          "base_uri": "https://localhost:8080/",
          "height": 177
        },
        "outputId": "4ec8bddb-d5e8-4203-fc3c-b7923b833fb7"
      },
      "source": [
        "entry_candle_pattern_1d ,entry_candle_pattern_1h, entry_candle_pattern_5m, start, indices = get_entry_candle_patterns(df_result_buy)\n",
        "# entry_candle_pattern_1d ,entry_candle_pattern_1h, entry_candle_pattern_5m, start, indices = get_entry_candle_patterns(df_result_sell)"
      ],
      "execution_count": null,
      "outputs": [
        {
          "output_type": "stream",
          "text": [
            "6989\n",
            "初めに37行が取引成功した\n",
            "1000行まで終わった\n",
            "2000行まで終わった\n",
            "3000行まで終わった\n",
            "4000行まで終わった\n",
            "5000行まで終わった\n",
            "6000行まで終わった\n",
            "0\n"
          ],
          "name": "stdout"
        }
      ]
    },
    {
      "cell_type": "code",
      "metadata": {
        "id": "w6RnTkCUP9V2",
        "colab_type": "code",
        "colab": {}
      },
      "source": [
        "# matrix_1d"
      ],
      "execution_count": null,
      "outputs": []
    },
    {
      "cell_type": "code",
      "metadata": {
        "id": "38aDNfSsRNqp",
        "colab_type": "code",
        "colab": {}
      },
      "source": [
        "# print(len(matrix_data_buy))\n",
        "# print(len(labels))\n",
        "# print(labels[-6:])\n",
        "# del matrix_data_buy[len(matrix_data_buy)-1]\n",
        "# del labels_buy[len(labels_buy)-1]\n",
        "# matrix_data_buy = np.array(matrix_data_buy)\n",
        "# labels_buy = np.array(labels_buy)\n",
        "# print(matrix_data_buy.shape)\n",
        "# print(labels_buy.shape)\n",
        "# print(labels_buy[len(labels_buy)-1])\n",
        "# print(matrix_data_buy[len(matrix_data_buy)-1])"
      ],
      "execution_count": null,
      "outputs": []
    },
    {
      "cell_type": "code",
      "metadata": {
        "id": "DpCqsy1U4kYt",
        "colab_type": "code",
        "colab": {}
      },
      "source": [
        "# print(len(matrix_data_buy))\n",
        "# print(labels)\n",
        "# print(labels[4])\n",
        "# print(matrix_data_buy[4])\n",
        "\n",
        "# print(df_1d[(df_1d['date'] > pd.Timestamp(2011,3,23)) & (df_1d['date'] < pd.Timestamp(2011,4,5))])\n",
        "# print(df_5m[(df_5m['date'] >= pd.Timestamp(2011,3,26)) & (df_1d['date'] <= pd.Timestamp(2011,3,28))])\n",
        "# print(df_result_buy[(df_result_buy['date'] >= pd.Timestamp(2015,3,7)) & (df_result_buy['date'] <= pd.Timestamp(2015,3,8))])\n",
        "# df_result_buy = df_result_buy[df_result_buy['date'] != pd.Timestamp(2015,3,7,0,5,0)]\n",
        "# print(df_result_buy[(df_result_buy['date'] >= pd.Timestamp(2015,3,6)) & (df_result_buy['date'] <= pd.Timestamp(2015,3,10))])"
      ],
      "execution_count": null,
      "outputs": []
    },
    {
      "cell_type": "code",
      "metadata": {
        "id": "-B6RjBihTpq7",
        "colab_type": "code",
        "colab": {}
      },
      "source": [
        "# df_result_buy"
      ],
      "execution_count": null,
      "outputs": []
    },
    {
      "cell_type": "code",
      "metadata": {
        "id": "nvgqCh6S0Ow3",
        "colab_type": "code",
        "colab": {}
      },
      "source": [
        "# df_5m.iloc[:100,1:].plot()\n",
        "# df_result_buy.iloc[:,4].plot()\n",
        "# df_result_sell.iloc[:,4].plot()"
      ],
      "execution_count": null,
      "outputs": []
    },
    {
      "cell_type": "code",
      "metadata": {
        "id": "lTYwj1r_0Wng",
        "colab_type": "code",
        "colab": {}
      },
      "source": [
        "# sns.distplot(df_result.iloc[:74797,3], kde=False, rug=False, bins=100) "
      ],
      "execution_count": null,
      "outputs": []
    },
    {
      "cell_type": "markdown",
      "metadata": {
        "id": "e7HyfM44PRZ5",
        "colab_type": "text"
      },
      "source": [
        "以下ラベルを利益損失で分けずに、\n",
        "クラスタリングでラベルを生成することに挑戦"
      ]
    },
    {
      "cell_type": "code",
      "metadata": {
        "id": "jHzsX0uoPabi",
        "colab_type": "code",
        "colab": {}
      },
      "source": [
        "from sklearn import datasets, cluster\n",
        "import random\n",
        "from sklearn.naive_bayes import MultinomialNB\n",
        "from sklearn.mixture import GaussianMixture\n",
        "from sklearn.neighbors import KNeighborsClassifier"
      ],
      "execution_count": null,
      "outputs": []
    },
    {
      "cell_type": "code",
      "metadata": {
        "id": "hcRlW2rMPfwt",
        "colab_type": "code",
        "colab": {}
      },
      "source": [
        "# digits = datasets.load_digits(n_class = 10)\n",
        "# print(digits.data.shape)"
      ],
      "execution_count": null,
      "outputs": []
    },
    {
      "cell_type": "code",
      "metadata": {
        "id": "kGdi9yHdWCAJ",
        "colab_type": "code",
        "colab": {}
      },
      "source": [
        "# print(matrix_data_buy.shape)"
      ],
      "execution_count": null,
      "outputs": []
    },
    {
      "cell_type": "code",
      "metadata": {
        "id": "jzAYHmjMShbQ",
        "colab_type": "code",
        "colab": {}
      },
      "source": [
        "# random_indices = [i for i in range(len(entry_candle_pattern_1d))]\n",
        "# # random_indices = [i for i in range(25000,35000)]\n",
        "\n",
        "# print(random_indices[:10])\n",
        "# random.seed(10)\n",
        "\n",
        "# random_indices = random.sample(random_indices, 10000)\n",
        "# # random_indices = random.sample(random_indices, len(matrix_data_buy))\n",
        "\n",
        "# print(random_indices[:20])\n",
        "# for i in random_indices[:20]:\n",
        "#   print(i,end=' ')"
      ],
      "execution_count": null,
      "outputs": []
    },
    {
      "cell_type": "code",
      "metadata": {
        "id": "-IWYlzu4PqEt",
        "colab_type": "code",
        "colab": {}
      },
      "source": [
        "# matrix_clustering = matrix_data_buy.reshape(len(matrix_data_buy), matrix_data_buy.shape[1] * matrix_data_buy.shape[2])\n",
        "# matrix_clustering_randomsampled = []\n",
        "# labels_clustering_randomsampled = []\n",
        "# for i in random_indices:\n",
        "#   matrix_clustering_randomsampled.append(matrix_clustering[i])\n",
        "#   labels_clustering_randomsampled.append(labels_buy[i])\n",
        "# matrix_clustering_randomsampled = np.array(matrix_clustering_randomsampled)\n",
        "# print(matrix_clustering_randomsampled.shape)\n",
        "# print(matrix_clustering_randomsampled[:3])\n"
      ],
      "execution_count": null,
      "outputs": []
    },
    {
      "cell_type": "code",
      "metadata": {
        "id": "dOrsVXsTcWCX",
        "colab_type": "code",
        "colab": {
          "base_uri": "https://localhost:8080/",
          "height": 338
        },
        "outputId": "706f1474-de86-4ef8-b096-a44de7f062cf"
      },
      "source": [
        "plt.plot(entry_candle_pattern_5m[17])"
      ],
      "execution_count": null,
      "outputs": [
        {
          "output_type": "execute_result",
          "data": {
            "text/plain": [
              "[<matplotlib.lines.Line2D at 0x7ff064d10ac8>,\n",
              " <matplotlib.lines.Line2D at 0x7ff064d10be0>,\n",
              " <matplotlib.lines.Line2D at 0x7ff064d10d30>,\n",
              " <matplotlib.lines.Line2D at 0x7ff064d10e80>]"
            ]
          },
          "metadata": {
            "tags": []
          },
          "execution_count": 20
        },
        {
          "output_type": "display_data",
          "data": {
            "image/png": "[encoded data removed]",
            "text/plain": [
              "<Figure size 432x288 with 1 Axes>"
            ]
          },
          "metadata": {
            "tags": []
          }
        }
      ]
    },
    {
      "cell_type": "code",
      "metadata": {
        "id": "IEpZJ0dVNOHX",
        "colab_type": "code",
        "colab": {}
      },
      "source": [
        "# def get_data_for_clustering(ndarray):\n",
        "#     matrix_clustering = ndarray.reshape(len(ndarray), ndarray.shape[1] * ndarray.shape[2])\n",
        "#     matrix_clustering_randomsampled = []\n",
        "#     labels_clustering_randomsampled = []\n",
        "#     for i in random_indices:\n",
        "#       matrix_clustering_randomsampled.append(ndarray[i])\n",
        "#       # matrix_clustering_randomsampled.append(matrix_clustering[i])\n",
        "#       # labels_clustering_randomsampled.append(labels_buy[i])\n",
        "#     matrix_clustering_randomsampled = np.array(matrix_clustering_randomsampled)\n",
        "#     print(matrix_clustering_randomsampled.shape)\n",
        "#     print(matrix_clustering_randomsampled[:3])\n",
        "#     return matrix_clustering_randomsampled\n",
        "\n",
        "# matrix_clustering_randomsampled_1d = get_data_for_clustering(entry_candle_pattern_1d)\n",
        "# matrix_clustering_randomsampled_1h = get_data_for_clustering(entry_candle_pattern_1h)\n",
        "# matrix_clustering_randomsampled_5m = get_data_for_clustering(entry_candle_pattern_5m)"
      ],
      "execution_count": null,
      "outputs": []
    },
    {
      "cell_type": "code",
      "metadata": {
        "id": "Rb15L_AiUfGp",
        "colab_type": "code",
        "colab": {}
      },
      "source": [
        "# matrix_clustering_randomsampled_1d.shape"
      ],
      "execution_count": null,
      "outputs": []
    },
    {
      "cell_type": "code",
      "metadata": {
        "id": "3WyRTPeeRFwu",
        "colab_type": "code",
        "colab": {}
      },
      "source": [
        "def make_and_learn_kmeans_model(data, bunruisuu):\n",
        "\n",
        "  train_data = data.reshape(len(data), data.shape[1] * data.shape[2])\n",
        "  model = cluster.KMeans(n_clusters=bunruisuu, init='k-means++',\\\n",
        "                        n_init=10, max_iter=300, tol=1e-04, random_state=0,\\\n",
        "                        verbose=0)\n",
        "\n",
        "\n",
        "\n",
        "  model.fit(train_data)\n",
        "\n",
        "\n",
        "  result = [0,0,0,0,0]\n",
        "  label = ['0', '1', '2','3','4']\n",
        "\n",
        "  for l in model.labels_:\n",
        "    result[int(l)] += 1\n",
        "\n",
        "\n",
        "  print(len(model.labels_))\n",
        "\n",
        "\n",
        "  plt.subplot(1, 1, 1)\n",
        "  plt.xlabel('results')\n",
        "  plt.pie(x=result, labels=label, autopct='%.2f%%')\n",
        "  plt.show()\n",
        "\n",
        "  return model"
      ],
      "execution_count": null,
      "outputs": []
    },
    {
      "cell_type": "code",
      "metadata": {
        "id": "W5gzbZnFKpVd",
        "colab_type": "code",
        "colab": {}
      },
      "source": [
        "# matrix_clustering_randomsampled_1h.shape"
      ],
      "execution_count": null,
      "outputs": []
    },
    {
      "cell_type": "code",
      "metadata": {
        "id": "WjkiL6TAKzUt",
        "colab_type": "code",
        "colab": {
          "base_uri": "https://localhost:8080/",
          "height": 1000
        },
        "outputId": "82cddad0-5038-4b7f-a4fc-aed8db9c9347"
      },
      "source": [
        "dummy_data = np.array([[[1,1,1,1],[1,1,1,1],[1,1,1,1],[1,1,1,1],[1,1,1,1],[0.75,0.75,0.75,0.75],[0.75,0.75,0.75,0.75],[0.75,0.75,0.75,0.75],[0.75,0.75,0.75,0.75],[0.75,0.75,0.75,0.75],\n",
        "                      [0.25,0.25,0.25,0.25],[0.25,0.25,0.25,0.25],[0.25,0.25,0.25,0.25],[0.25,0.25,0.25,0.25],[0.25,0.25,0.25,0.25],[0,0,0,0],[0,0,0,0],[0,0,0,0],[0,0,0,0],[0,0,0,0]],\n",
        "                      [[-4,-4,-4,-4],[-4,-4,-4,-4],[-4,-4,-4,-4],[-4,-4,-4,-4],[-3,-3,-3,-3],[-3,-3,-3,-3],[-3,-3,-3,-3],[-3,-3,-3,-3]\n",
        "                       ,[-2,-2,-2,-2],[-2,-2,-2,-2],[-2,-2,-2,-2],[-2,-2,-2,-2],[-1,-1,-1,-1],[-1,-1,-1,-1],[-1,-1,-1,-1],[-1,-1,-1,-1]\n",
        "                      ,[0,0,0,0], [0,0,0,0], [0,0,0,0], [0,0,0,0]]])\n",
        "dummy_data2 = np.array([[[0,0,0,0],[0,0,0,0],[0,0,0,0],[0,0,0,0],[0,0,0,0],[0,0,0,0],[0,0,0,0],[0,0,0,0],[0,0,0,0],[0,0,0,0],\n",
        "                        [0,0,0,0],[0,0,0,0],[0,0,0,0],[0,0,0,0],[0,0,0,0],[0,0,0,0],[0,0,0,0],[0,0,0,0],[0,0,0,0],[0,0,0,0]],\n",
        "                      [[-4,-4,-4,-4],[-4,-4,-4,-4],[-4,-4,-4,-4],[-4,-4,-4,-4],[-3,-3,-3,-3],[-3,-3,-3,-3],[-3,-3,-3,-3],[-3,-3,-3,-3]\n",
        "                       ,[-2,-2,-2,-2],[-2,-2,-2,-2],[-2,-2,-2,-2],[-2,-2,-2,-2],[-1,-1,-1,-1],[-1,-1,-1,-1],[-1,-1,-1,-1],[-1,-1,-1,-1]\n",
        "                      ,[0,0,0,0], [0,0,0,0], [0,0,0,0], [0,0,0,0]]])\n",
        "dummy_data_for_5 = np.array([[[4,4,4,4],[3,3,3,3],\n",
        "                         [2,2,2,2],[1,1,1,1],\n",
        "                         [0.1,0.1,0.1,0.1]],\n",
        "                         [[-4,-4,-4,-4],[-3,-3,-3,-3],\n",
        "                         [-2,-2,-2,-2],[-1,-1,-1,-1],\n",
        "                         [-0.1,-0.1,-0.1,-0.1]]])\n",
        "dummy_data_for_10 = np.array([[[4,4,4,4],[4,4,4,4],[3,3,3,3],[3,3,3,3],\n",
        "                         [2,2,2,2],[2,2,2,2],[1,1,1,1],[1,1,1,1],\n",
        "                         [0.1,0.1,0.1,0.1],[0.1,0.1,0.1,0.1]],\n",
        "                         [[-4,-4,-4,-4],[-4,-4,-4,-4],[-3,-3,-3,-3],[-3,-3,-3,-3],\n",
        "                         [-2,-2,-2,-2],[-2,-2,-2,-2],[-1,-1,-1,-1],[-1,-1,-1,-1],\n",
        "                         [-0.1,-0.1,-0.1,-0.1],[-0.1,-0.1,-0.1,-0.1]]])\n",
        "dummy_data_for_20 = np.array([[[4,4,4,4],[4,4,4,4],[4,4,4,4],[4,4,4,4],[3,3,3,3],[3,3,3,3],[3,3,3,3],[3,3,3,3],\n",
        "                         [2,2,2,2],[2,2,2,2],[2,2,2,2],[2,2,2,2],[1,1,1,1],[1,1,1,1],[1,1,1,1],[1,1,1,1],\n",
        "                         [0.1,0.1,0.1,0.1],[0.1,0.1,0.1,0.1],[0.1,0.1,0.1,0.1],[0.1,0.1,0.1,0.1]],\n",
        "                         [[-4,-4,-4,-4],[-4,-4,-4,-4],[-4,-4,-4,-4],[-4,-4,-4,-4],[-3,-3,-3,-3],[-3,-3,-3,-3],[-3,-3,-3,-3],[-3,-3,-3,-3],\n",
        "                         [-2,-2,-2,-2],[-2,-2,-2,-2],[-2,-2,-2,-2],[-2,-2,-2,-2],[-1,-1,-1,-1],[-1,-1,-1,-1],[-1,-1,-1,-1],[-1,-1,-1,-1],\n",
        "                         [-0.1,-0.1,-0.1,-0.1],[-0.1,-0.1,-0.1,-0.1],[-0.1,-0.1,-0.1,-0.1],[-0.1,-0.1,-0.1,-0.1]]])\n",
        "dummy_data_for_20_3 = np.array([[[4,4,4,4],[4,4,4,4],[4,4,4,4],[4,4,4,4],[3,3,3,3],[3,3,3,3],[3,3,3,3],[3,3,3,3],\n",
        "                         [2,2,2,2],[2,2,2,2],[2,2,2,2],[2,2,2,2],[1,1,1,1],[1,1,1,1],[1,1,1,1],[1,1,1,1],\n",
        "                         [0.1,0.1,0.1,0.1],[0.1,0.1,0.1,0.1],[0.1,0.1,0.1,0.1],[0.1,0.1,0.1,0.1]],\n",
        "                         [[0,0,0,0],[0,0,0,0],[0,0,0,0],[0,0,0,0],[0,0,0,0],[0,0,0,0],[0,0,0,0],[0,0,0,0],\n",
        "                          [0,0,0,0],[0,0,0,0],[0,0,0,0],[0,0,0,0],[0,0,0,0],[0,0,0,0],[0,0,0,0],[0,0,0,0],\n",
        "                          [0,0,0,0],[0,0,0,0],[0,0,0,0],[0,0,0,0]],\n",
        "                         [[-4,-4,-4,-4],[-4,-4,-4,-4],[-4,-4,-4,-4],[-4,-4,-4,-4],[-3,-3,-3,-3],[-3,-3,-3,-3],[-3,-3,-3,-3],[-3,-3,-3,-3],\n",
        "                         [-2,-2,-2,-2],[-2,-2,-2,-2],[-2,-2,-2,-2],[-2,-2,-2,-2],[-1,-1,-1,-1],[-1,-1,-1,-1],[-1,-1,-1,-1],[-1,-1,-1,-1],\n",
        "                         [-0.1,-0.1,-0.1,-0.1],[-0.1,-0.1,-0.1,-0.1],[-0.1,-0.1,-0.1,-0.1],[-0.1,-0.1,-0.1,-0.1]]])\n",
        "dummy_data_for_20_3_kyu = np.array([[[5,5,5,5],[5,5,5,5],[4,4,4,4],[4,4,4,4],[3,3,3,3],[3,3,3,3],[3,3,3,3],[3,3,3,3],\n",
        "                         [2,2,2,2],[2,2,2,2],[2,2,2,2],[2,2,2,2],[1,1,1,1],[1,1,1,1],[1,1,1,1],[1,1,1,1],\n",
        "                         [0.1,0.1,0.1,0.1],[0.1,0.1,0.1,0.1],[0.1,0.1,0.1,0.1],[0.1,0.1,0.1,0.1]],\n",
        "                         [[0,0,0,0],[0,0,0,0],[0,0,0,0],[0,0,0,0],[0,0,0,0],[0,0,0,0],[0,0,0,0],[0,0,0,0],\n",
        "                          [0,0,0,0],[0,0,0,0],[0,0,0,0],[0,0,0,0],[0,0,0,0],[0,0,0,0],[0,0,0,0],[0,0,0,0],\n",
        "                          [0,0,0,0],[0,0,0,0],[0,0,0,0],[0,0,0,0]],\n",
        "                         [[-5,-5,-5,-5],[-5,-5,-5,-5],[-4,-4,-4,-4],[-4,-4,-4,-4],[-3,-3,-3,-3],[-3,-3,-3,-3],[-3,-3,-3,-3],[-3,-3,-3,-3],\n",
        "                         [-2,-2,-2,-2],[-2,-2,-2,-2],[-2,-2,-2,-2],[-2,-2,-2,-2],[-1,-1,-1,-1],[-1,-1,-1,-1],[-1,-1,-1,-1],[-1,-1,-1,-1],\n",
        "                         [-0.1,-0.1,-0.1,-0.1],[-0.1,-0.1,-0.1,-0.1],[-0.1,-0.1,-0.1,-0.1],[-0.1,-0.1,-0.1,-0.1]]])\n",
        "dummy_data_for_30 = np.array([[[4,4,4,4],\n",
        "                         [4,4,4,4],\n",
        "                         [4,4,4,4],\n",
        "                         [4,4,4,4],\n",
        "                         [4,4,4,4],\n",
        "                         [4,4,4,4],\n",
        "                         [3,3,3,3],\n",
        "                         [3,3,3,3],\n",
        "                         [3,3,3,3],\n",
        "                         [3,3,3,3],\n",
        "                         [3,3,3,3],\n",
        "                         [3,3,3,3],\n",
        "                         [2,2,2,2],\n",
        "                         [2,2,2,2],\n",
        "                         [2,2,2,2],\n",
        "                         [2,2,2,2],\n",
        "                         [2,2,2,2],\n",
        "                         [2,2,2,2],\n",
        "                         [1,1,1,1],\n",
        "                         [1,1,1,1],\n",
        "                         [1,1,1,1],\n",
        "                         [1,1,1,1],\n",
        "                         [1,1,1,1],\n",
        "                         [1,1,1,1],\n",
        "                         [0.1,0.1,0.1,0.1],\n",
        "                         [0.1,0.1,0.1,0.1],\n",
        "                         [0.1,0.1,0.1,0.1],\n",
        "                         [0.1,0.1,0.1,0.1],\n",
        "                         [0.1,0.1,0.1,0.1],\n",
        "                         [0.1,0.1,0.1,0.1]],\n",
        "                         [[-4,-4,-4,-4],\n",
        "                          [-4,-4,-4,-4],\n",
        "                          [-4,-4,-4,-4],\n",
        "                          [-4,-4,-4,-4],\n",
        "                          [-4,-4,-4,-4],\n",
        "                          [-4,-4,-4,-4],\n",
        "                          [-3,-3,-3,-3],\n",
        "                          [-3,-3,-3,-3],\n",
        "                          [-3,-3,-3,-3],\n",
        "                          [-3,-3,-3,-3],\n",
        "                          [-3,-3,-3,-3],\n",
        "                          [-3,-3,-3,-3],\n",
        "                          [-2,-2,-2,-2],\n",
        "                          [-2,-2,-2,-2],\n",
        "                          [-2,-2,-2,-2],\n",
        "                          [-2,-2,-2,-2],\n",
        "                          [-2,-2,-2,-2],\n",
        "                          [-2,-2,-2,-2],\n",
        "                          [-1,-1,-1,-1],\n",
        "                          [-1,-1,-1,-1],\n",
        "                          [-1,-1,-1,-1],\n",
        "                          [-1,-1,-1,-1],\n",
        "                          [-1,-1,-1,-1],\n",
        "                          [-1,-1,-1,-1],\n",
        "                          [-0.1,-0.1,-0.1,-0.1],\n",
        "                          [-0.1,-0.1,-0.1,-0.1],\n",
        "                          [-0.1,-0.1,-0.1,-0.1],\n",
        "                          [-0.1,-0.1,-0.1,-0.1],\n",
        "                          [-0.1,-0.1,-0.1,-0.1],\n",
        "                          [-0.1,-0.1,-0.1,-0.1]]])\n",
        "dummy_data_for_30_3 = np.array([[[4,4,4,4],\n",
        "                         [4,4,4,4],\n",
        "                         [4,4,4,4],\n",
        "                         [4,4,4,4],\n",
        "                         [4,4,4,4],\n",
        "                         [4,4,4,4],\n",
        "                         [3,3,3,3],\n",
        "                         [3,3,3,3],\n",
        "                         [3,3,3,3],\n",
        "                         [3,3,3,3],\n",
        "                         [3,3,3,3],\n",
        "                         [3,3,3,3],\n",
        "                         [2,2,2,2],\n",
        "                         [2,2,2,2],\n",
        "                         [2,2,2,2],\n",
        "                         [2,2,2,2],\n",
        "                         [2,2,2,2],\n",
        "                         [2,2,2,2],\n",
        "                         [1,1,1,1],\n",
        "                         [1,1,1,1],\n",
        "                         [1,1,1,1],\n",
        "                         [1,1,1,1],\n",
        "                         [1,1,1,1],\n",
        "                         [1,1,1,1],\n",
        "                         [0.1,0.1,0.1,0.1],\n",
        "                         [0.1,0.1,0.1,0.1],\n",
        "                         [0.1,0.1,0.1,0.1],\n",
        "                         [0.1,0.1,0.1,0.1],\n",
        "                         [0.1,0.1,0.1,0.1],\n",
        "                         [0.1,0.1,0.1,0.1]],\n",
        "                         [[0,0,0,0],\n",
        "                          [0,0,0,0],\n",
        "                          [0,0,0,0],\n",
        "                          [0,0,0,0],\n",
        "                          [0,0,0,0],\n",
        "                          [0,0,0,0],\n",
        "                          [0,0,0,0],\n",
        "                          [0,0,0,0],\n",
        "                          [0,0,0,0],\n",
        "                          [0,0,0,0],\n",
        "                          [0,0,0,0],\n",
        "                          [0,0,0,0],\n",
        "                          [0,0,0,0],\n",
        "                          [0,0,0,0],\n",
        "                          [0,0,0,0],\n",
        "                          [0,0,0,0],\n",
        "                          [0,0,0,0],\n",
        "                          [0,0,0,0],\n",
        "                          [0,0,0,0],\n",
        "                          [0,0,0,0],\n",
        "                          [0,0,0,0],\n",
        "                          [0,0,0,0],\n",
        "                          [0,0,0,0],\n",
        "                          [0,0,0,0],\n",
        "                          [0,0,0,0],\n",
        "                          [0,0,0,0],\n",
        "                          [0,0,0,0],\n",
        "                          [0,0,0,0],\n",
        "                          [0,0,0,0],\n",
        "                          [0,0,0,0]],\n",
        "                         [[-4,-4,-4,-4],\n",
        "                          [-4,-4,-4,-4],\n",
        "                          [-4,-4,-4,-4],\n",
        "                          [-4,-4,-4,-4],\n",
        "                          [-4,-4,-4,-4],\n",
        "                          [-4,-4,-4,-4],\n",
        "                          [-3,-3,-3,-3],\n",
        "                          [-3,-3,-3,-3],\n",
        "                          [-3,-3,-3,-3],\n",
        "                          [-3,-3,-3,-3],\n",
        "                          [-3,-3,-3,-3],\n",
        "                          [-3,-3,-3,-3],\n",
        "                          [-2,-2,-2,-2],\n",
        "                          [-2,-2,-2,-2],\n",
        "                          [-2,-2,-2,-2],\n",
        "                          [-2,-2,-2,-2],\n",
        "                          [-2,-2,-2,-2],\n",
        "                          [-2,-2,-2,-2],\n",
        "                          [-1,-1,-1,-1],\n",
        "                          [-1,-1,-1,-1],\n",
        "                          [-1,-1,-1,-1],\n",
        "                          [-1,-1,-1,-1],\n",
        "                          [-1,-1,-1,-1],\n",
        "                          [-1,-1,-1,-1],\n",
        "                          [-0.1,-0.1,-0.1,-0.1],\n",
        "                          [-0.1,-0.1,-0.1,-0.1],\n",
        "                          [-0.1,-0.1,-0.1,-0.1],\n",
        "                          [-0.1,-0.1,-0.1,-0.1],\n",
        "                          [-0.1,-0.1,-0.1,-0.1],\n",
        "                          [-0.1,-0.1,-0.1,-0.1]]])\n",
        "dummy_data5 = np.array([[[4,4,4,4],\n",
        "                         [4,4,4,4],\n",
        "                         [4,4,4,4],\n",
        "                         [4,4,4,4],\n",
        "                         [4,4,4,4],\n",
        "                         [4,4,4,4],\n",
        "                         [4,4,4,4],\n",
        "                         [4,4,4,4],\n",
        "                         [3,3,3,3],\n",
        "                         [3,3,3,3],\n",
        "                         [3,3,3,3],\n",
        "                         [3,3,3,3],\n",
        "                         [3,3,3,3],\n",
        "                         [3,3,3,3],\n",
        "                         [3,3,3,3],\n",
        "                         [3,3,3,3],\n",
        "                         [2,2,2,2],\n",
        "                         [2,2,2,2],\n",
        "                         [2,2,2,2],\n",
        "                         [2,2,2,2],\n",
        "                         [2,2,2,2],\n",
        "                         [2,2,2,2],\n",
        "                         [2,2,2,2],\n",
        "                         [2,2,2,2],\n",
        "                         [1,1,1,1],\n",
        "                         [1,1,1,1],\n",
        "                         [1,1,1,1],\n",
        "                         [1,1,1,1],\n",
        "                         [1,1,1,1],\n",
        "                         [1,1,1,1],\n",
        "                         [1,1,1,1],\n",
        "                         [1,1,1,1],\n",
        "                         [0.1,0.1,0.1,0.1],\n",
        "                         [0.1,0.1,0.1,0.1],\n",
        "                         [0.1,0.1,0.1,0.1],\n",
        "                         [0.1,0.1,0.1,0.1],\n",
        "                         [0.1,0.1,0.1,0.1],\n",
        "                         [0.1,0.1,0.1,0.1],\n",
        "                         [0.1,0.1,0.1,0.1],\n",
        "                         [0.1,0.1,0.1,0.1]],\n",
        "                         [[-4,-4,-4,-4],\n",
        "                          [-4,-4,-4,-4],\n",
        "                          [-4,-4,-4,-4],\n",
        "                          [-4,-4,-4,-4],\n",
        "                          [-4,-4,-4,-4],\n",
        "                          [-4,-4,-4,-4],\n",
        "                          [-4,-4,-4,-4],\n",
        "                          [-4,-4,-4,-4],\n",
        "                          [-3,-3,-3,-3],\n",
        "                          [-3,-3,-3,-3],\n",
        "                          [-3,-3,-3,-3],\n",
        "                          [-3,-3,-3,-3],\n",
        "                          [-3,-3,-3,-3],\n",
        "                          [-3,-3,-3,-3],\n",
        "                          [-3,-3,-3,-3],\n",
        "                          [-3,-3,-3,-3],\n",
        "                          [-2,-2,-2,-2],\n",
        "                          [-2,-2,-2,-2],\n",
        "                          [-2,-2,-2,-2],\n",
        "                          [-2,-2,-2,-2],\n",
        "                          [-2,-2,-2,-2],\n",
        "                          [-2,-2,-2,-2],\n",
        "                          [-2,-2,-2,-2],\n",
        "                          [-2,-2,-2,-2],\n",
        "                          [-1,-1,-1,-1],\n",
        "                          [-1,-1,-1,-1],\n",
        "                          [-1,-1,-1,-1],\n",
        "                          [-1,-1,-1,-1],\n",
        "                          [-1,-1,-1,-1],\n",
        "                          [-1,-1,-1,-1],\n",
        "                          [-1,-1,-1,-1],\n",
        "                          [-1,-1,-1,-1],\n",
        "                          [-0.1,-0.1,-0.1,-0.1],\n",
        "                          [-0.1,-0.1,-0.1,-0.1],\n",
        "                          [-0.1,-0.1,-0.1,-0.1],\n",
        "                          [-0.1,-0.1,-0.1,-0.1],\n",
        "                          [-0.1,-0.1,-0.1,-0.1],\n",
        "                          [-0.1,-0.1,-0.1,-0.1],\n",
        "                          [-0.1,-0.1,-0.1,-0.1],\n",
        "                          [-0.1,-0.1,-0.1,-0.1]]])\n",
        "dummy_data_for_3 = np.array([[\n",
        "                         [2,2,2,2],\n",
        "                         [1,1,1,1],                     \n",
        "                         [0.1,0.1,0.1,0.1]],\n",
        "                         [[-2,-2,-2,-2],\n",
        "                          [-1,-1,-1,-1],\n",
        "                          [-0.1,-0.1,-0.1,-0.1]]])\n",
        "dummy_data_for_5 = np.array([[[4,4,4,4],\n",
        "                              [3,3,3,3],\n",
        "                              [2,2,2,2],\n",
        "                              [1,1,1,1],\n",
        "                              [0.1,0.1,0.1,0.1]],\n",
        "                              [[-4,-4,-4,-4],\n",
        "                                [-3,-3,-3,-3],\n",
        "                                [-2,-2,-2,-2],\n",
        "                                [-1,-1,-1,-1],\n",
        "                                [-0.1,-0.1,-0.1,-0.1]]])\n",
        "dummy_data_for_10 = np.array([[[4,4,4,4],\n",
        "                              [4,4,4,4],\n",
        "                              [3,3,3,3],\n",
        "                              [3,3,3,3],\n",
        "                              [2,2,2,2],\n",
        "                              [2,2,2,2],\n",
        "                              [1,1,1,1],\n",
        "                              [1,1,1,1],\n",
        "                              [0.1,0.1,0.1,0.1],\n",
        "                              [0.1,0.1,0.1,0.1]],\n",
        "                              [[-4,-4,-4,-4],\n",
        "                               [-4,-4,-4,-4],\n",
        "                               [-3,-3,-3,-3],\n",
        "                               [-3,-3,-3,-3],\n",
        "                               [-2,-2,-2,-2],\n",
        "                               [-2,-2,-2,-2],\n",
        "                               [-1,-1,-1,-1],\n",
        "                               [-1,-1,-1,-1],\n",
        "                               [-0.1,-0.1,-0.1,-0.1],\n",
        "                               [-0.1,-0.1,-0.1,-0.1]]])\n",
        "dummy_data_for_15 = np.array([[[4,4,4,4],\n",
        "                              [4,4,4,4],\n",
        "                              [4,4,4,4],\n",
        "                              [3,3,3,3],\n",
        "                              [3,3,3,3],\n",
        "                              [3,3,3,3],\n",
        "                              [2,2,2,2],\n",
        "                              [2,2,2,2],\n",
        "                              [2,2,2,2],\n",
        "                              [1,1,1,1],\n",
        "                              [1,1,1,1],\n",
        "                              [1,1,1,1],\n",
        "                              [0.1,0.1,0.1,0.1],\n",
        "                              [0.1,0.1,0.1,0.1],\n",
        "                              [0.1,0.1,0.1,0.1]],\n",
        "                              [[-4,-4,-4,-4],\n",
        "                               [-4,-4,-4,-4],\n",
        "                               [-4,-4,-4,-4],\n",
        "                               [-3,-3,-3,-3],\n",
        "                               [-3,-3,-3,-3],\n",
        "                               [-3,-3,-3,-3],\n",
        "                               [-2,-2,-2,-2],\n",
        "                               [-2,-2,-2,-2],\n",
        "                               [-2,-2,-2,-2],\n",
        "                               [-1,-1,-1,-1],\n",
        "                               [-1,-1,-1,-1],\n",
        "                               [-1,-1,-1,-1],\n",
        "                               [-0.1,-0.1,-0.1,-0.1],\n",
        "                               [-0.1,-0.1,-0.1,-0.1],\n",
        "                               [-0.1,-0.1,-0.1,-0.1]]])\n",
        "dummy_data_for_25 = np.array([[[4,4,4,4],\n",
        "                              [4,4,4,4],\n",
        "                              [4,4,4,4],\n",
        "                              [4,4,4,4],\n",
        "                              [4,4,4,4],\n",
        "                              [3,3,3,3],\n",
        "                              [3,3,3,3],\n",
        "                              [3,3,3,3],\n",
        "                              [3,3,3,3],\n",
        "                              [3,3,3,3],\n",
        "                              [2,2,2,2],\n",
        "                              [2,2,2,2],\n",
        "                              [2,2,2,2],\n",
        "                              [2,2,2,2],\n",
        "                              [2,2,2,2],\n",
        "                              [1,1,1,1],\n",
        "                              [1,1,1,1],\n",
        "                              [1,1,1,1],\n",
        "                              [1,1,1,1],\n",
        "                              [1,1,1,1],\n",
        "                              [0.1,0.1,0.1,0.1],\n",
        "                              [0.1,0.1,0.1,0.1],\n",
        "                              [0.1,0.1,0.1,0.1],\n",
        "                              [0.1,0.1,0.1,0.1],\n",
        "                              [0.1,0.1,0.1,0.1]],\n",
        "                              [[-4,-4,-4,-4],\n",
        "                               [-4,-4,-4,-4],\n",
        "                               [-4,-4,-4,-4],\n",
        "                               [-4,-4,-4,-4],\n",
        "                               [-4,-4,-4,-4],\n",
        "                               [-3,-3,-3,-3],\n",
        "                               [-3,-3,-3,-3],\n",
        "                               [-3,-3,-3,-3],\n",
        "                               [-3,-3,-3,-3],\n",
        "                               [-3,-3,-3,-3],\n",
        "                               [-2,-2,-2,-2],\n",
        "                               [-2,-2,-2,-2],\n",
        "                               [-2,-2,-2,-2],\n",
        "                               [-2,-2,-2,-2],\n",
        "                               [-2,-2,-2,-2],\n",
        "                               [-1,-1,-1,-1],\n",
        "                               [-1,-1,-1,-1],\n",
        "                               [-1,-1,-1,-1],\n",
        "                               [-1,-1,-1,-1],\n",
        "                               [-1,-1,-1,-1],\n",
        "                               [-0.1,-0.1,-0.1,-0.1],\n",
        "                               [-0.1,-0.1,-0.1,-0.1],\n",
        "                               [-0.1,-0.1,-0.1,-0.1],\n",
        "                               [-0.1,-0.1,-0.1,-0.1],\n",
        "                               [-0.1,-0.1,-0.1,-0.1]]])\n",
        "dummy_data_for_80 = np.array([[[4,4,4,4],\n",
        "                              [4,4,4,4],\n",
        "                              [4,4,4,4],\n",
        "                              [4,4,4,4],\n",
        "                              [4,4,4,4],\n",
        "                              [4,4,4,4],\n",
        "                              [4,4,4,4],\n",
        "                              [4,4,4,4],\n",
        "                              [4,4,4,4],\n",
        "                              [4,4,4,4],\n",
        "                              [4,4,4,4],\n",
        "                              [4,4,4,4],\n",
        "                              [4,4,4,4],\n",
        "                              [4,4,4,4],\n",
        "                              [4,4,4,4],\n",
        "                              [4,4,4,4],\n",
        "                              [3,3,3,3],\n",
        "                              [3,3,3,3],\n",
        "                              [3,3,3,3],\n",
        "                              [3,3,3,3],\n",
        "                              [3,3,3,3],\n",
        "                              [3,3,3,3],\n",
        "                              [3,3,3,3],\n",
        "                              [3,3,3,3],\n",
        "                              [3,3,3,3],\n",
        "                              [3,3,3,3],\n",
        "                              [3,3,3,3],\n",
        "                              [3,3,3,3],\n",
        "                              [3,3,3,3],\n",
        "                              [3,3,3,3],\n",
        "                              [3,3,3,3],\n",
        "                              [3,3,3,3],\n",
        "                              [2,2,2,2],\n",
        "                              [2,2,2,2],\n",
        "                              [2,2,2,2],\n",
        "                              [2,2,2,2],\n",
        "                              [2,2,2,2],\n",
        "                              [2,2,2,2],\n",
        "                              [2,2,2,2],\n",
        "                              [2,2,2,2],\n",
        "                              [2,2,2,2],\n",
        "                              [2,2,2,2],\n",
        "                              [2,2,2,2],\n",
        "                              [2,2,2,2],\n",
        "                              [2,2,2,2],\n",
        "                              [2,2,2,2],\n",
        "                              [2,2,2,2],\n",
        "                              [2,2,2,2],\n",
        "                              [1,1,1,1],\n",
        "                              [1,1,1,1],\n",
        "                              [1,1,1,1],\n",
        "                              [1,1,1,1],\n",
        "                              [1,1,1,1],\n",
        "                              [1,1,1,1],\n",
        "                              [1,1,1,1],\n",
        "                              [1,1,1,1],\n",
        "                              [1,1,1,1],\n",
        "                              [1,1,1,1],\n",
        "                              [1,1,1,1],\n",
        "                              [1,1,1,1],\n",
        "                              [1,1,1,1],\n",
        "                              [1,1,1,1],\n",
        "                              [1,1,1,1],\n",
        "                              [1,1,1,1],\n",
        "                              [0.1,0.1,0.1,0.1],\n",
        "                              [0.1,0.1,0.1,0.1],\n",
        "                              [0.1,0.1,0.1,0.1],\n",
        "                              [0.1,0.1,0.1,0.1],\n",
        "                              [0.1,0.1,0.1,0.1],\n",
        "                              [0.1,0.1,0.1,0.1],\n",
        "                              [0.1,0.1,0.1,0.1],\n",
        "                              [0.1,0.1,0.1,0.1],\n",
        "                              [0.1,0.1,0.1,0.1],\n",
        "                              [0.1,0.1,0.1,0.1],\n",
        "                              [0.1,0.1,0.1,0.1],\n",
        "                              [0.1,0.1,0.1,0.1],\n",
        "                              [0.1,0.1,0.1,0.1],\n",
        "                              [0.1,0.1,0.1,0.1],\n",
        "                              [0.1,0.1,0.1,0.1],\n",
        "                              [0.1,0.1,0.1,0.1]],\n",
        "                              [[-4,-4,-4,-4],\n",
        "                               [-4,-4,-4,-4],\n",
        "                               [-4,-4,-4,-4],\n",
        "                               [-4,-4,-4,-4],\n",
        "                               [-4,-4,-4,-4],\n",
        "                               [-4,-4,-4,-4],\n",
        "                               [-4,-4,-4,-4],\n",
        "                               [-4,-4,-4,-4],\n",
        "                               [-4,-4,-4,-4],\n",
        "                               [-4,-4,-4,-4],\n",
        "                               [-4,-4,-4,-4],\n",
        "                               [-4,-4,-4,-4],\n",
        "                               [-4,-4,-4,-4],\n",
        "                               [-4,-4,-4,-4],\n",
        "                               [-4,-4,-4,-4],\n",
        "                               [-4,-4,-4,-4],\n",
        "                               [-3,-3,-3,-3],\n",
        "                               [-3,-3,-3,-3],\n",
        "                               [-3,-3,-3,-3],\n",
        "                               [-3,-3,-3,-3],\n",
        "                               [-3,-3,-3,-3],\n",
        "                               [-3,-3,-3,-3],\n",
        "                               [-3,-3,-3,-3],\n",
        "                               [-3,-3,-3,-3],\n",
        "                               [-3,-3,-3,-3],\n",
        "                               [-3,-3,-3,-3],\n",
        "                               [-3,-3,-3,-3],\n",
        "                               [-3,-3,-3,-3],\n",
        "                               [-3,-3,-3,-3],\n",
        "                               [-3,-3,-3,-3],\n",
        "                               [-3,-3,-3,-3],\n",
        "                               [-3,-3,-3,-3],\n",
        "                               [-2,-2,-2,-2],\n",
        "                               [-2,-2,-2,-2],\n",
        "                               [-2,-2,-2,-2],\n",
        "                               [-2,-2,-2,-2],\n",
        "                               [-2,-2,-2,-2],\n",
        "                               [-2,-2,-2,-2],\n",
        "                               [-2,-2,-2,-2],\n",
        "                               [-2,-2,-2,-2],\n",
        "                               [-2,-2,-2,-2],\n",
        "                               [-2,-2,-2,-2],\n",
        "                               [-2,-2,-2,-2],\n",
        "                               [-2,-2,-2,-2],\n",
        "                               [-2,-2,-2,-2],\n",
        "                               [-2,-2,-2,-2],\n",
        "                               [-2,-2,-2,-2],\n",
        "                               [-2,-2,-2,-2],\n",
        "                               [-1,-1,-1,-1],\n",
        "                               [-1,-1,-1,-1],\n",
        "                               [-1,-1,-1,-1],\n",
        "                               [-1,-1,-1,-1],\n",
        "                               [-1,-1,-1,-1],\n",
        "                               [-1,-1,-1,-1],\n",
        "                               [-1,-1,-1,-1],\n",
        "                               [-1,-1,-1,-1],\n",
        "                               [-1,-1,-1,-1],\n",
        "                               [-1,-1,-1,-1],\n",
        "                               [-1,-1,-1,-1],\n",
        "                               [-1,-1,-1,-1],\n",
        "                               [-1,-1,-1,-1],\n",
        "                               [-1,-1,-1,-1],\n",
        "                               [-1,-1,-1,-1],\n",
        "                               [-1,-1,-1,-1],\n",
        "                               [-0.1,-0.1,-0.1,-0.1],\n",
        "                               [-0.1,-0.1,-0.1,-0.1],\n",
        "                               [-0.1,-0.1,-0.1,-0.1],\n",
        "                               [-0.1,-0.1,-0.1,-0.1],\n",
        "                               [-0.1,-0.1,-0.1,-0.1],\n",
        "                               [-0.1,-0.1,-0.1,-0.1],\n",
        "                               [-0.1,-0.1,-0.1,-0.1],\n",
        "                               [-0.1,-0.1,-0.1,-0.1],\n",
        "                               [-0.1,-0.1,-0.1,-0.1],\n",
        "                               [-0.1,-0.1,-0.1,-0.1],\n",
        "                               [-0.1,-0.1,-0.1,-0.1],\n",
        "                               [-0.1,-0.1,-0.1,-0.1],\n",
        "                               [-0.1,-0.1,-0.1,-0.1],\n",
        "                               [-0.1,-0.1,-0.1,-0.1],\n",
        "                               [-0.1,-0.1,-0.1,-0.1],\n",
        "                               [-0.1,-0.1,-0.1,-0.1]]])\n",
        "print(dummy_data_for_30_3)\n",
        "\n"
      ],
      "execution_count": null,
      "outputs": [
        {
          "output_type": "stream",
          "text": [
            "[[[ 4.   4.   4.   4. ]\n",
            "  [ 4.   4.   4.   4. ]\n",
            "  [ 4.   4.   4.   4. ]\n",
            "  [ 4.   4.   4.   4. ]\n",
            "  [ 4.   4.   4.   4. ]\n",
            "  [ 4.   4.   4.   4. ]\n",
            "  [ 3.   3.   3.   3. ]\n",
            "  [ 3.   3.   3.   3. ]\n",
            "  [ 3.   3.   3.   3. ]\n",
            "  [ 3.   3.   3.   3. ]\n",
            "  [ 3.   3.   3.   3. ]\n",
            "  [ 3.   3.   3.   3. ]\n",
            "  [ 2.   2.   2.   2. ]\n",
            "  [ 2.   2.   2.   2. ]\n",
            "  [ 2.   2.   2.   2. ]\n",
            "  [ 2.   2.   2.   2. ]\n",
            "  [ 2.   2.   2.   2. ]\n",
            "  [ 2.   2.   2.   2. ]\n",
            "  [ 1.   1.   1.   1. ]\n",
            "  [ 1.   1.   1.   1. ]\n",
            "  [ 1.   1.   1.   1. ]\n",
            "  [ 1.   1.   1.   1. ]\n",
            "  [ 1.   1.   1.   1. ]\n",
            "  [ 1.   1.   1.   1. ]\n",
            "  [ 0.1  0.1  0.1  0.1]\n",
            "  [ 0.1  0.1  0.1  0.1]\n",
            "  [ 0.1  0.1  0.1  0.1]\n",
            "  [ 0.1  0.1  0.1  0.1]\n",
            "  [ 0.1  0.1  0.1  0.1]\n",
            "  [ 0.1  0.1  0.1  0.1]]\n",
            "\n",
            " [[ 0.   0.   0.   0. ]\n",
            "  [ 0.   0.   0.   0. ]\n",
            "  [ 0.   0.   0.   0. ]\n",
            "  [ 0.   0.   0.   0. ]\n",
            "  [ 0.   0.   0.   0. ]\n",
            "  [ 0.   0.   0.   0. ]\n",
            "  [ 0.   0.   0.   0. ]\n",
            "  [ 0.   0.   0.   0. ]\n",
            "  [ 0.   0.   0.   0. ]\n",
            "  [ 0.   0.   0.   0. ]\n",
            "  [ 0.   0.   0.   0. ]\n",
            "  [ 0.   0.   0.   0. ]\n",
            "  [ 0.   0.   0.   0. ]\n",
            "  [ 0.   0.   0.   0. ]\n",
            "  [ 0.   0.   0.   0. ]\n",
            "  [ 0.   0.   0.   0. ]\n",
            "  [ 0.   0.   0.   0. ]\n",
            "  [ 0.   0.   0.   0. ]\n",
            "  [ 0.   0.   0.   0. ]\n",
            "  [ 0.   0.   0.   0. ]\n",
            "  [ 0.   0.   0.   0. ]\n",
            "  [ 0.   0.   0.   0. ]\n",
            "  [ 0.   0.   0.   0. ]\n",
            "  [ 0.   0.   0.   0. ]\n",
            "  [ 0.   0.   0.   0. ]\n",
            "  [ 0.   0.   0.   0. ]\n",
            "  [ 0.   0.   0.   0. ]\n",
            "  [ 0.   0.   0.   0. ]\n",
            "  [ 0.   0.   0.   0. ]\n",
            "  [ 0.   0.   0.   0. ]]\n",
            "\n",
            " [[-4.  -4.  -4.  -4. ]\n",
            "  [-4.  -4.  -4.  -4. ]\n",
            "  [-4.  -4.  -4.  -4. ]\n",
            "  [-4.  -4.  -4.  -4. ]\n",
            "  [-4.  -4.  -4.  -4. ]\n",
            "  [-4.  -4.  -4.  -4. ]\n",
            "  [-3.  -3.  -3.  -3. ]\n",
            "  [-3.  -3.  -3.  -3. ]\n",
            "  [-3.  -3.  -3.  -3. ]\n",
            "  [-3.  -3.  -3.  -3. ]\n",
            "  [-3.  -3.  -3.  -3. ]\n",
            "  [-3.  -3.  -3.  -3. ]\n",
            "  [-2.  -2.  -2.  -2. ]\n",
            "  [-2.  -2.  -2.  -2. ]\n",
            "  [-2.  -2.  -2.  -2. ]\n",
            "  [-2.  -2.  -2.  -2. ]\n",
            "  [-2.  -2.  -2.  -2. ]\n",
            "  [-2.  -2.  -2.  -2. ]\n",
            "  [-1.  -1.  -1.  -1. ]\n",
            "  [-1.  -1.  -1.  -1. ]\n",
            "  [-1.  -1.  -1.  -1. ]\n",
            "  [-1.  -1.  -1.  -1. ]\n",
            "  [-1.  -1.  -1.  -1. ]\n",
            "  [-1.  -1.  -1.  -1. ]\n",
            "  [-0.1 -0.1 -0.1 -0.1]\n",
            "  [-0.1 -0.1 -0.1 -0.1]\n",
            "  [-0.1 -0.1 -0.1 -0.1]\n",
            "  [-0.1 -0.1 -0.1 -0.1]\n",
            "  [-0.1 -0.1 -0.1 -0.1]\n",
            "  [-0.1 -0.1 -0.1 -0.1]]]\n"
          ],
          "name": "stdout"
        }
      ]
    },
    {
      "cell_type": "code",
      "metadata": {
        "id": "K0RZBcyFlhOp",
        "colab_type": "code",
        "colab": {}
      },
      "source": [
        "#3つに分類\n",
        "start_num = 4\n",
        "stop = 0\n",
        "candles = 10\n",
        "\n",
        "dummy_data_a = np.linspace(start_num,stop,candles)\n",
        "dummy_data_a = np.array([dummy_data_a,dummy_data_a,dummy_data_a,dummy_data_a]).T\n",
        "dummy_data_b = np.linspace(-start_num,stop,candles)\n",
        "dummy_data_b = np.array([dummy_data_b,dummy_data_b,dummy_data_b,dummy_data_b]).T\n",
        "dummy_data_c = np.zeros((4,candles))\n",
        "dummy_data_c = dummy_data_c.T\n",
        "dummy_data = np.array([dummy_data_b,dummy_data_c,dummy_data_a])\n",
        "bunruisuu = 3\n"
      ],
      "execution_count": null,
      "outputs": []
    },
    {
      "cell_type": "code",
      "metadata": {
        "id": "hUXY2eT9pAAK",
        "colab_type": "code",
        "colab": {
          "base_uri": "https://localhost:8080/",
          "height": 52
        },
        "outputId": "f117c00c-0e90-445a-f864-957528c107fd"
      },
      "source": [
        "np.linspace(-start_num,stop,candles)"
      ],
      "execution_count": null,
      "outputs": [
        {
          "output_type": "execute_result",
          "data": {
            "text/plain": [
              "array([-4.2       , -3.73333333, -3.26666667, -2.8       , -2.33333333,\n",
              "       -1.86666667, -1.4       , -0.93333333, -0.46666667,  0.        ])"
            ]
          },
          "metadata": {
            "tags": []
          },
          "execution_count": 193
        }
      ]
    },
    {
      "cell_type": "code",
      "metadata": {
        "id": "GxaRVJncDP0b",
        "colab_type": "code",
        "colab": {}
      },
      "source": [
        "start_num = 4\n",
        "stop = 0\n",
        "candles = 20\n",
        "dummy_data_a = np.linspace(-start_num,stop,candles)\n",
        "dummy_data_a = np.array([dummy_data_a,dummy_data_a,dummy_data_a,dummy_data_a]).T\n",
        "# dummy_data_a = np.zeros((4,int(shape)))\n",
        "# dummy_data_a = dummy_data_a.T\n",
        "dummy_data_b = np.linspace(start_num,stop,candles)\n",
        "dummy_data_b = np.array([dummy_data_b,dummy_data_b,dummy_data_b,dummy_data_b]).T\n",
        "# dummy_data_b = np.zeros((4,int(shape)))\n",
        "# dummy_data_b = dummy_data_b.T\n",
        "dummy_data = np.array([dummy_data_b,dummy_data_a])\n",
        "bunruisuu = 2"
      ],
      "execution_count": null,
      "outputs": []
    },
    {
      "cell_type": "code",
      "metadata": {
        "id": "M_ZEh94jEBTx",
        "colab_type": "code",
        "colab": {}
      },
      "source": [
        "start_num = 4\n",
        "stop = 0\n",
        "step = 0.2\n",
        "shape = round(start_num / step)\n",
        "dummy_data_a = np.arange(-start_num,stop,step)\n",
        "dummy_data_a = np.array([dummy_data_a,dummy_data_a,dummy_data_a,dummy_data_a]).T\n",
        "dummy_data_b = np.arange(-start_num/2,stop,step/2)\n",
        "dummy_data_b = np.array([dummy_data_b,dummy_data_b,dummy_data_b,dummy_data_b]).T\n",
        "dummy_data_c = np.arange(start_num/2,stop,-step/2)\n",
        "dummy_data_c = np.array([dummy_data_c,dummy_data_c,dummy_data_c,dummy_data_c]).T\n",
        "dummy_data_d = np.arange(start_num,stop,-step)\n",
        "dummy_data_d = np.array([dummy_data_d,dummy_data_d,dummy_data_d,dummy_data_d]).T\n",
        "dummy_data = np.array([dummy_data_d,dummy_data_c,dummy_data_b,dummy_data_a])\n",
        "bunruisuu = 4"
      ],
      "execution_count": null,
      "outputs": []
    },
    {
      "cell_type": "code",
      "metadata": {
        "id": "IkUmiK_Hlzpq",
        "colab_type": "code",
        "colab": {}
      },
      "source": [
        "\n",
        "# print(dummy_data[1].shape)\n",
        "# print(dummy_data)"
      ],
      "execution_count": null,
      "outputs": []
    },
    {
      "cell_type": "code",
      "metadata": {
        "id": "oaPWAC_ATpR7",
        "colab_type": "code",
        "colab": {
          "base_uri": "https://localhost:8080/",
          "height": 805
        },
        "outputId": "a93a39a3-e74b-4eb9-9ce3-28c3bb401abb"
      },
      "source": [
        "# kmeans_1d_model = make_and_learn_kmeans_model(matrix_clustering_randomsampled_1d,2)\n",
        "# kmeans_1h_model = make_and_learn_kmeans_model(matrix_clustering_randomsampled_1h,2)\n",
        "# kmeans_1d_model = make_and_learn_kmeans_model(dummy_data_for_30_3,3)\n",
        "# kmeans_1h_model = make_and_learn_kmeans_model(dummy_data_for_30_3,3)\n",
        "# kmeans_5m_model = make_and_learn_kmeans_model(dummy_data_for_30_3,3)\n",
        "# kmeans_1d_model = make_and_learn_kmeans_model(dummy_data_for_10,2)\n",
        "# kmeans_1h_model = make_and_learn_kmeans_model(dummy_data_for_10,2)\n",
        "# kmeans_5m_model = make_and_learn_kmeans_model(dummy_data_for_10,2)\n",
        "kmeans_1d_model = make_and_learn_kmeans_model(dummy_data,bunruisuu)\n",
        "kmeans_1h_model = make_and_learn_kmeans_model(dummy_data,bunruisuu)\n",
        "kmeans_5m_model = make_and_learn_kmeans_model(dummy_data,bunruisuu)\n",
        "# kmeans_5m_model = make_and_learn_kmeans_model(matrix_clustering_randomsampled_5m,2)\n",
        "# kmeans_1d_model = make_and_learn_kmeans_model(entry_candle_pattern_1d,3)\n",
        "# kmeans_1h_model = make_and_learn_kmeans_model(entry_candle_pattern_1h,3)\n",
        "# kmeans_5m_model = make_and_learn_kmeans_model(entry_candle_pattern_5m,3)"
      ],
      "execution_count": null,
      "outputs": [
        {
          "output_type": "stream",
          "text": [
            "2\n"
          ],
          "name": "stdout"
        },
        {
          "output_type": "display_data",
          "data": {
            "image/png": "[encoded data removed]",
            "text/plain": [
              "<Figure size 432x288 with 1 Axes>"
            ]
          },
          "metadata": {
            "tags": []
          }
        },
        {
          "output_type": "stream",
          "text": [
            "2\n"
          ],
          "name": "stdout"
        },
        {
          "output_type": "display_data",
          "data": {
            "image/png": "[encoded data removed]",
            "text/plain": [
              "<Figure size 432x288 with 1 Axes>"
            ]
          },
          "metadata": {
            "tags": []
          }
        },
        {
          "output_type": "stream",
          "text": [
            "2\n"
          ],
          "name": "stdout"
        },
        {
          "output_type": "display_data",
          "data": {
            "image/png": "[encoded data removed]",
            "text/plain": [
              "<Figure size 432x288 with 1 Axes>"
            ]
          },
          "metadata": {
            "tags": []
          }
        }
      ]
    },
    {
      "cell_type": "code",
      "metadata": {
        "id": "ZzB-XFlQkES8",
        "colab_type": "code",
        "colab": {}
      },
      "source": [
        "#エルボー法\n",
        "# distortions = []\n",
        "# for i  in range(1,5):                # 1~10クラスタまで一気に計算 \n",
        "#     model = cluster.KMeans(n_clusters=i,\n",
        "#                 init='k-means++',     # k-means++法によりクラスタ中心を選択\n",
        "#                 n_init=10,\n",
        "#                 max_iter=300,\n",
        "#                 random_state=0)\n",
        "#     model = GaussianMixture(n_components=i,init_params='kmeans')\n",
        "\n",
        "#     model.fit(matrix_clustering[:len(matrix_clustering_randomsampled)]) # クラスタリングの計算を実行\n",
        "    \n",
        "#     # distortions.append(model.inertia_)   # model.fitするとmodel.inertia_が得られる\n",
        "#     distortions.append(model.bic(matrix_clustering[:len(matrix_clustering_randomsampled)]))   # model.fitするとmodel.inertia_が得られる\n",
        "\n",
        "# plt.plot(range(1,5),distortions,marker='o')\n",
        "# plt.xlabel('Number of clusters')\n",
        "# plt.ylabel('Distortion')\n",
        "# plt.show()"
      ],
      "execution_count": null,
      "outputs": []
    },
    {
      "cell_type": "code",
      "metadata": {
        "id": "f11sGKSVsgu7",
        "colab_type": "code",
        "colab": {
          "base_uri": "https://localhost:8080/",
          "height": 867
        },
        "outputId": "af5b3ad1-7df7-444b-c811-e6000f3e3b68"
      },
      "source": [
        "#セントロイドを入力データ型で再現\n",
        "def show_centroids_in_plot(model,bunruisuu):\n",
        "    centroids = model.cluster_centers_\n",
        "    print(centroids.shape)\n",
        "    centroids = centroids.reshape(len(centroids),centroids.shape[1]//4,4)\n",
        "    centroids_close = centroids[:,:,3]\n",
        "    print(centroids_close.shape)\n",
        "    x = []\n",
        "    for i in range(bunruisuu):\n",
        "      x.append(centroids_close[i][0:])\n",
        "      plt.plot(np.linspace(1,len(x[0]),len(x[0])),x[i])\n",
        "    plt.show()\n",
        "show_centroids_in_plot(kmeans_1d_model,bunruisuu)\n",
        "show_centroids_in_plot(kmeans_1h_model,bunruisuu)\n",
        "show_centroids_in_plot(kmeans_5m_model,bunruisuu)"
      ],
      "execution_count": null,
      "outputs": [
        {
          "output_type": "stream",
          "text": [
            "(2, 40)\n",
            "(2, 10)\n"
          ],
          "name": "stdout"
        },
        {
          "output_type": "display_data",
          "data": {
            "image/png": "[encoded data removed]",
            "text/plain": [
              "<Figure size 432x288 with 1 Axes>"
            ]
          },
          "metadata": {
            "tags": []
          }
        },
        {
          "output_type": "stream",
          "text": [
            "(2, 40)\n",
            "(2, 10)\n"
          ],
          "name": "stdout"
        },
        {
          "output_type": "display_data",
          "data": {
            "image/png": "[encoded data removed]",
            "text/plain": [
              "<Figure size 432x288 with 1 Axes>"
            ]
          },
          "metadata": {
            "tags": []
          }
        },
        {
          "output_type": "stream",
          "text": [
            "(2, 40)\n",
            "(2, 10)\n"
          ],
          "name": "stdout"
        },
        {
          "output_type": "display_data",
          "data": {
            "image/png": "[encoded data removed]",
            "text/plain": [
              "<Figure size 432x288 with 1 Axes>"
            ]
          },
          "metadata": {
            "tags": []
          }
        }
      ]
    },
    {
      "cell_type": "code",
      "metadata": {
        "id": "piKnyHtRtV2A",
        "colab_type": "code",
        "colab": {
          "base_uri": "https://localhost:8080/",
          "height": 300
        },
        "outputId": "fe2cbeb8-21b1-4621-f0d8-4883c604e379"
      },
      "source": [
        "centroids = kmeans_1h_model.cluster_centers_\n",
        "print(centroids.shape)\n",
        "centroids = centroids.reshape(len(centroids),centroids.shape[1]//4,4)\n",
        "centroids_close = centroids[:,:,3]\n",
        "print(centroids_close.shape)\n",
        "x = []\n",
        "for i in [1]:\n",
        "  x.append(centroids_close[i][0:])\n",
        "  plt.plot(np.linspace(1,len(x[0]),len(x[0])),x[0])\n",
        "plt.show()"
      ],
      "execution_count": null,
      "outputs": [
        {
          "output_type": "stream",
          "text": [
            "(3, 40)\n",
            "(3, 10)\n"
          ],
          "name": "stdout"
        },
        {
          "output_type": "display_data",
          "data": {
            "image/png": "[encoded data removed]",
            "text/plain": [
              "<Figure size 432x288 with 1 Axes>"
            ]
          },
          "metadata": {
            "tags": []
          }
        }
      ]
    },
    {
      "cell_type": "code",
      "metadata": {
        "id": "5C_hWKyVVWsY",
        "colab_type": "code",
        "colab": {}
      },
      "source": [
        ""
      ],
      "execution_count": null,
      "outputs": []
    },
    {
      "cell_type": "code",
      "metadata": {
        "id": "qCjff9Vwl3Z-",
        "colab_type": "code",
        "colab": {}
      },
      "source": [
        "#  centroids = kmeans_1h_model.cluster_centers_\n",
        "#  centroids = centroids.reshape(len(centroids),centroids.shape[1]//4,4)\n",
        "#  centroids_close1 = centroids[0,:,3]\n",
        "#  centroids_close2 = centroids[1,:,3]\n",
        "#  print(centroids.shape)\n",
        "#  print(centroids_close1)\n",
        "#  print(centroids_close2)"
      ],
      "execution_count": null,
      "outputs": []
    },
    {
      "cell_type": "code",
      "metadata": {
        "id": "CbhEcwEJodeC",
        "colab_type": "code",
        "colab": {
          "base_uri": "https://localhost:8080/",
          "height": 70
        },
        "outputId": "2da7817d-5c51-42ee-c591-c014414db048"
      },
      "source": [
        "print(entry_candle_pattern_1d.shape)\n",
        "print(entry_candle_pattern_1h.shape)\n",
        "print(entry_candle_pattern_5m.shape)\n"
      ],
      "execution_count": null,
      "outputs": [
        {
          "output_type": "stream",
          "text": [
            "(55807, 30, 4)\n",
            "(55807, 30, 4)\n",
            "(55807, 30, 4)\n"
          ],
          "name": "stdout"
        }
      ]
    },
    {
      "cell_type": "code",
      "metadata": {
        "id": "SsCNvIIW20tK",
        "colab_type": "code",
        "colab": {}
      },
      "source": [
        "# df_result_buy"
      ],
      "execution_count": null,
      "outputs": []
    },
    {
      "cell_type": "code",
      "metadata": {
        "id": "3vHlnRjCTuFJ",
        "colab_type": "code",
        "colab": {}
      },
      "source": [
        "#修正版\n",
        "#一部の取引クラスタリング結果でできたモデルを用いて、すべての取引のクラスタリングを行う\n",
        "#df_result_buy, df_result_sellの選択あり\n",
        "def get_filtered_result(df_result, data, models):\n",
        "\n",
        "    df = df_result.copy()\n",
        "    df['predict_1d'] = None\n",
        "    df['predict_1h'] = None\n",
        "    df['predict_5m'] = None\n",
        "    for j,model in enumerate(models):\n",
        "      predict_labels = model.predict(data[j].reshape(len(data[j]), data[j].shape[1] * data[j].shape[2]))\n",
        "      for p,i in enumerate(indices):\n",
        "        df.iat[i,4 + j] = int(predict_labels[p])\n",
        "    return df.iloc[start:start+len(data[j]),:]\n",
        "\n"
      ],
      "execution_count": null,
      "outputs": []
    },
    {
      "cell_type": "code",
      "metadata": {
        "id": "esZk3BaSXcVs",
        "colab_type": "code",
        "colab": {}
      },
      "source": [
        "filtered_result = get_filtered_result(df_result_buy, [entry_candle_pattern_1d, entry_candle_pattern_1h, entry_candle_pattern_5m]\n",
        "                                       ,[kmeans_1d_model,kmeans_1h_model,kmeans_5m_model])\n",
        "# filtered_result = get_filtered_result(df_result_sell, [entry_candle_pattern_1d, entry_candle_pattern_1h, entry_candle_pattern_5m]\n",
        "#                                        ,[kmeans_1d_model,kmeans_1h_model,kmeans_5m_model])"
      ],
      "execution_count": null,
      "outputs": []
    },
    {
      "cell_type": "code",
      "metadata": {
        "id": "nSxQM8p6rf3V",
        "colab_type": "code",
        "colab": {}
      },
      "source": [
        "# df_result_buy = df_result_buy[['date','direction','price','profit']]\n",
        "# df_result_sell = df_result_sell[['date','direction','price','profit']]"
      ],
      "execution_count": null,
      "outputs": []
    },
    {
      "cell_type": "code",
      "metadata": {
        "id": "83jfG-RFzJEg",
        "colab_type": "code",
        "colab": {}
      },
      "source": [
        "# filtered_result.tail(50)"
      ],
      "execution_count": null,
      "outputs": []
    },
    {
      "cell_type": "code",
      "metadata": {
        "id": "Ov8zzrcH8X_M",
        "colab_type": "code",
        "colab": {}
      },
      "source": [
        "# #部分集合から予測用\n",
        "# start = 171\n",
        "# kosuu = len(matrix_clustering)\n",
        "# predict_labels = model.predict(matrix_clustering)\n",
        "# df_result_buy['predict'] = None\n",
        "\n",
        "# for i in range(kosuu):\n",
        "#   df_result_buy.iat[i+start,6] = int(predict_labels[i])\n",
        "#   if i % 1000 == 0:\n",
        "#     print(str(i) + '行まで完了')\n",
        "# df_clustered = df_result_buy.iloc[start:start+kosuu,:]"
      ],
      "execution_count": null,
      "outputs": []
    },
    {
      "cell_type": "code",
      "metadata": {
        "id": "i-3JzBRbY8hY",
        "colab_type": "code",
        "colab": {}
      },
      "source": [
        "# df_clustered.tail()"
      ],
      "execution_count": null,
      "outputs": []
    },
    {
      "cell_type": "code",
      "metadata": {
        "id": "FHAoll2YlNKj",
        "colab_type": "code",
        "colab": {}
      },
      "source": [
        ""
      ],
      "execution_count": null,
      "outputs": []
    },
    {
      "cell_type": "code",
      "metadata": {
        "id": "rdop_WKrW58h",
        "colab_type": "code",
        "colab": {
          "base_uri": "https://localhost:8080/",
          "height": 1000
        },
        "outputId": "37489bbe-7935-4be5-9d2d-6bca67d05ac9"
      },
      "source": [
        "\n",
        "df_label_1d = []\n",
        "df_label_1h = []\n",
        "df_label_5m = []\n",
        "for i in range(bunruisuu):\n",
        "  df_label_1d.append(filtered_result[filtered_result['predict_1d'] == i].copy())\n",
        "  print('1d')\n",
        "  print(df_label_1d[i].count())\n",
        "  print(df_label_1d[i]['profit'].sum())\n",
        "for i in range(bunruisuu):\n",
        "  print('1h')\n",
        "  df_label_1h.append(filtered_result[filtered_result['predict_1h'] == i].copy())\n",
        "  print(df_label_1h[i].count())\n",
        "  print(df_label_1h[i]['profit'].sum())\n",
        "for i in range(bunruisuu):\n",
        "  print('5m')\n",
        "  df_label_5m.append(filtered_result[filtered_result['predict_5m'] == i].copy())\n",
        "  print(df_label_5m[i].count())\n",
        "  print(df_label_5m[i]['profit'].sum())\n",
        "\n",
        "\n",
        "# for i in range(2):\n",
        "#   df_label.append(df_clustered[df_clustered['predict'] == i].copy())\n",
        "#   print(df_label[i].count())\n",
        "#   print(df_label[i]['profit'].sum())\n",
        "\n",
        "# df_label0 = df_clustered[df_clustered['prediction'] == 0].copy()\n",
        "# print(df_label0.count())\n",
        "# print(df_label0['profit'].sum())\n",
        "# df_label1 = df_clustered[df_clustered['prediction'] == 1].copy()\n",
        "# print(df_label1.count())\n",
        "# print(df_label1['profit'].sum())\n",
        "# df_label2 = df_clustered[df_clustered['prediction'] == 2].copy()\n",
        "# print(df_label2.count())\n",
        "# print(df_label2['profit'].sum())\n",
        "# df_label3 = df_clustered[df_clustered['prediction'] == 3].copy()\n",
        "# print(df_label3.count())\n",
        "# print(df_label3['profit'].sum())\n",
        "# df_label4 = df_clustered[df_clustered['prediction'] == 4].copy()\n",
        "# print(df_label4.count())\n",
        "# print(df_label4['profit'].sum())"
      ],
      "execution_count": null,
      "outputs": [
        {
          "output_type": "stream",
          "text": [
            "1d\n",
            "date          3624\n",
            "direction     3624\n",
            "price         3624\n",
            "profit        3623\n",
            "predict_1d    3624\n",
            "predict_1h    3624\n",
            "predict_5m    3624\n",
            "dtype: int64\n",
            "-0.28654000000000357\n",
            "1d\n",
            "date          3328\n",
            "direction     3328\n",
            "price         3328\n",
            "profit        3328\n",
            "predict_1d    3328\n",
            "predict_1h    3328\n",
            "predict_5m    3328\n",
            "dtype: int64\n",
            "-0.5371499999999967\n",
            "1h\n",
            "date          3203\n",
            "direction     3203\n",
            "price         3203\n",
            "profit        3202\n",
            "predict_1d    3203\n",
            "predict_1h    3203\n",
            "predict_5m    3203\n",
            "dtype: int64\n",
            "-0.5684800000000041\n",
            "1h\n",
            "date          3749\n",
            "direction     3749\n",
            "price         3749\n",
            "profit        3749\n",
            "predict_1d    3749\n",
            "predict_1h    3749\n",
            "predict_5m    3749\n",
            "dtype: int64\n",
            "-0.25520999999999616\n",
            "5m\n",
            "date          6\n",
            "direction     6\n",
            "price         6\n",
            "profit        6\n",
            "predict_1d    6\n",
            "predict_1h    6\n",
            "predict_5m    6\n",
            "dtype: int64\n",
            "-0.010350000000000081\n",
            "5m\n",
            "date          6946\n",
            "direction     6946\n",
            "price         6946\n",
            "profit        6945\n",
            "predict_1d    6946\n",
            "predict_1h    6946\n",
            "predict_5m    6946\n",
            "dtype: int64\n",
            "-0.8133400000000002\n"
          ],
          "name": "stdout"
        }
      ]
    },
    {
      "cell_type": "code",
      "metadata": {
        "id": "hDAgF9tw3dys",
        "colab_type": "code",
        "colab": {}
      },
      "source": [
        "# df_label_0 = []\n",
        "\n",
        "# df_label_0.append(filtered_result[(filtered_result['predict_1d'] == 0) & (filtered_result['predict_1h'] == 0) ].copy())\n",
        "# df_label_0.append(filtered_result[(filtered_result['predict_1d'] == 0) & (filtered_result['predict_1h'] == 1) ].copy())\n",
        "# df_label_0.append(filtered_result[(filtered_result['predict_1d'] == 1) & (filtered_result['predict_1h'] == 0) ].copy())\n",
        "# df_label_0.append(filtered_result[(filtered_result['predict_1d'] == 1) & (filtered_result['predict_1h'] == 1) ].copy())\n",
        "# print(df_label_0[0].count())\n",
        "# print(df_label_0[0]['profit'].sum())\n",
        "# print(df_label_0[1].count())\n",
        "# print(df_label_0[1]['profit'].sum())\n",
        "# print(df_label_0[2].count())\n",
        "# print(df_label_0[2]['profit'].sum())\n",
        "# print(df_label_0[3].count())\n",
        "# print(df_label_0[3]['profit'].sum())\n"
      ],
      "execution_count": null,
      "outputs": []
    },
    {
      "cell_type": "code",
      "metadata": {
        "id": "8751GqeaW8iF",
        "colab_type": "code",
        "colab": {}
      },
      "source": [
        "# for i in range(bunruisuu):\n",
        "#   df_label_5m[i]['ruiseki'] = None\n",
        "#   df_label_5m[i].iat[0,7] = df_label_5m[i].iat[0,3]\n",
        "#   for p in range(1,len(df_label_5m[i])-2):\n",
        "#     df_label_5m[i].iat[p,7] = df_label_5m[i].iat[p-1,7] + df_label_5m[i].iat[p,3]\n",
        "\n",
        "for i in range(bunruisuu):\n",
        "  df_label_1h[i]['ruiseki'] = None\n",
        "  df_label_1h[i].iat[0,7] = df_label_1h[i].iat[0,3]\n",
        "  for p in range(1,len(df_label_1h[i])-2):\n",
        "    df_label_1h[i].iat[p,7] = df_label_1h[i].iat[p-1,7] + df_label_1h[i].iat[p,3]\n",
        "\n",
        "for i in range(bunruisuu):\n",
        "  df_label_1d[i]['ruiseki'] = None\n",
        "  df_label_1d[i].iat[0,7] = df_label_1d[i].iat[0,3]\n",
        "  for p in range(1,len(df_label_1d[i])-2):\n",
        "    df_label_1d[i].iat[p,7] = df_label_1d[i].iat[p-1,7] + df_label_1d[i].iat[p,3]\n",
        "\n",
        "\n",
        "# df_clustered.head()\n",
        "# df_label0['ruiseki'] = None\n",
        "# df_label1['ruiseki'] = None\n",
        "# df_label2['ruiseki'] = None\n",
        "# df_label3['ruiseki'] = None\n",
        "\n",
        "# df_label0.iat[0,4] = df_label0.iat[0,3]\n",
        "# df_label1.iat[0,4] = df_label1.iat[0,3]\n",
        "# df_label2.iat[0,4] = df_label2.iat[0,3]\n",
        "# df_label3.iat[0,4] = df_label3.iat[0,3]\n",
        "\n",
        "# for i in range(1,len(df_label0)-1):\n",
        "#   df_label0.iat[i,4] = df_label0.iat[i-1,4] + df_label0.iat[i,3]\n",
        "# for i in range(1,len(df_label1)-1):\n",
        "#   df_label1.iat[i,4] = df_label1.iat[i-1,4] + df_label1.iat[i,3]\n",
        "# for i in range(1,len(df_label2)-1):\n",
        "#   df_label2.iat[i,4] = df_label2.iat[i-1,4] + df_label2.iat[i,3]\n",
        "# for i in range(1,len(df_label3)-1):\n",
        "#   df_label3.iat[i,4] = df_label3.iat[i-1,4] + df_label3.iat[i,3]\n",
        "\n",
        "\n"
      ],
      "execution_count": null,
      "outputs": []
    },
    {
      "cell_type": "code",
      "metadata": {
        "id": "mvwdUBBOa9HT",
        "colab_type": "code",
        "colab": {
          "base_uri": "https://localhost:8080/",
          "height": 391
        },
        "outputId": "a79ee01c-534e-4093-a244-2a6b63ec3a1e"
      },
      "source": [
        "\n",
        "for i in range(bunruisuu):\n",
        "  plt.plot(range(len(df_label_5m[i])),df_label_5m[i].iloc[:,7])\n",
        "  print(len(df_label_5m[i]))\n",
        "\n",
        "# df_label0.iloc[:,4].plot()\n",
        "# df_label1.iloc[:,4].plot()\n",
        "# df_label2.iloc[:,4].plot()\n",
        "# df_label3.iloc[:,4].plot()\n",
        "#上に戻ってくる方がアゲアゲで買った場合"
      ],
      "execution_count": null,
      "outputs": [
        {
          "output_type": "error",
          "ename": "IndexError",
          "evalue": "ignored",
          "traceback": [
            "\u001b[0;31m---------------------------------------------------------------------------\u001b[0m",
            "\u001b[0;31mIndexError\u001b[0m                                Traceback (most recent call last)",
            "\u001b[0;32m<ipython-input-36-bc1f10dee38e>\u001b[0m in \u001b[0;36m<module>\u001b[0;34m()\u001b[0m\n\u001b[1;32m      1\u001b[0m \u001b[0;34m\u001b[0m\u001b[0m\n\u001b[1;32m      2\u001b[0m \u001b[0;32mfor\u001b[0m \u001b[0mi\u001b[0m \u001b[0;32min\u001b[0m \u001b[0mrange\u001b[0m\u001b[0;34m(\u001b[0m\u001b[0mbunruisuu\u001b[0m\u001b[0;34m)\u001b[0m\u001b[0;34m:\u001b[0m\u001b[0;34m\u001b[0m\u001b[0;34m\u001b[0m\u001b[0m\n\u001b[0;32m----> 3\u001b[0;31m   \u001b[0mplt\u001b[0m\u001b[0;34m.\u001b[0m\u001b[0mplot\u001b[0m\u001b[0;34m(\u001b[0m\u001b[0mrange\u001b[0m\u001b[0;34m(\u001b[0m\u001b[0mlen\u001b[0m\u001b[0;34m(\u001b[0m\u001b[0mdf_label_5m\u001b[0m\u001b[0;34m[\u001b[0m\u001b[0mi\u001b[0m\u001b[0;34m]\u001b[0m\u001b[0;34m)\u001b[0m\u001b[0;34m)\u001b[0m\u001b[0;34m,\u001b[0m\u001b[0mdf_label_5m\u001b[0m\u001b[0;34m[\u001b[0m\u001b[0mi\u001b[0m\u001b[0;34m]\u001b[0m\u001b[0;34m.\u001b[0m\u001b[0miloc\u001b[0m\u001b[0;34m[\u001b[0m\u001b[0;34m:\u001b[0m\u001b[0;34m,\u001b[0m\u001b[0;36m7\u001b[0m\u001b[0;34m]\u001b[0m\u001b[0;34m)\u001b[0m\u001b[0;34m\u001b[0m\u001b[0;34m\u001b[0m\u001b[0m\n\u001b[0m\u001b[1;32m      4\u001b[0m   \u001b[0mprint\u001b[0m\u001b[0;34m(\u001b[0m\u001b[0mlen\u001b[0m\u001b[0;34m(\u001b[0m\u001b[0mdf_label_5m\u001b[0m\u001b[0;34m[\u001b[0m\u001b[0mi\u001b[0m\u001b[0;34m]\u001b[0m\u001b[0;34m)\u001b[0m\u001b[0;34m)\u001b[0m\u001b[0;34m\u001b[0m\u001b[0;34m\u001b[0m\u001b[0m\n\u001b[1;32m      5\u001b[0m \u001b[0;34m\u001b[0m\u001b[0m\n",
            "\u001b[0;32m/usr/local/lib/python3.6/dist-packages/pandas/core/indexing.py\u001b[0m in \u001b[0;36m__getitem__\u001b[0;34m(self, key)\u001b[0m\n\u001b[1;32m   1416\u001b[0m                 \u001b[0;32mexcept\u001b[0m \u001b[0;34m(\u001b[0m\u001b[0mKeyError\u001b[0m\u001b[0;34m,\u001b[0m \u001b[0mIndexError\u001b[0m\u001b[0;34m,\u001b[0m \u001b[0mAttributeError\u001b[0m\u001b[0;34m)\u001b[0m\u001b[0;34m:\u001b[0m\u001b[0;34m\u001b[0m\u001b[0;34m\u001b[0m\u001b[0m\n\u001b[1;32m   1417\u001b[0m                     \u001b[0;32mpass\u001b[0m\u001b[0;34m\u001b[0m\u001b[0;34m\u001b[0m\u001b[0m\n\u001b[0;32m-> 1418\u001b[0;31m             \u001b[0;32mreturn\u001b[0m \u001b[0mself\u001b[0m\u001b[0;34m.\u001b[0m\u001b[0m_getitem_tuple\u001b[0m\u001b[0;34m(\u001b[0m\u001b[0mkey\u001b[0m\u001b[0;34m)\u001b[0m\u001b[0;34m\u001b[0m\u001b[0;34m\u001b[0m\u001b[0m\n\u001b[0m\u001b[1;32m   1419\u001b[0m         \u001b[0;32melse\u001b[0m\u001b[0;34m:\u001b[0m\u001b[0;34m\u001b[0m\u001b[0;34m\u001b[0m\u001b[0m\n\u001b[1;32m   1420\u001b[0m             \u001b[0;31m# we by definition only have the 0th axis\u001b[0m\u001b[0;34m\u001b[0m\u001b[0;34m\u001b[0m\u001b[0;34m\u001b[0m\u001b[0m\n",
            "\u001b[0;32m/usr/local/lib/python3.6/dist-packages/pandas/core/indexing.py\u001b[0m in \u001b[0;36m_getitem_tuple\u001b[0;34m(self, tup)\u001b[0m\n\u001b[1;32m   2090\u001b[0m     \u001b[0;32mdef\u001b[0m \u001b[0m_getitem_tuple\u001b[0m\u001b[0;34m(\u001b[0m\u001b[0mself\u001b[0m\u001b[0;34m,\u001b[0m \u001b[0mtup\u001b[0m\u001b[0;34m)\u001b[0m\u001b[0;34m:\u001b[0m\u001b[0;34m\u001b[0m\u001b[0;34m\u001b[0m\u001b[0m\n\u001b[1;32m   2091\u001b[0m \u001b[0;34m\u001b[0m\u001b[0m\n\u001b[0;32m-> 2092\u001b[0;31m         \u001b[0mself\u001b[0m\u001b[0;34m.\u001b[0m\u001b[0m_has_valid_tuple\u001b[0m\u001b[0;34m(\u001b[0m\u001b[0mtup\u001b[0m\u001b[0;34m)\u001b[0m\u001b[0;34m\u001b[0m\u001b[0;34m\u001b[0m\u001b[0m\n\u001b[0m\u001b[1;32m   2093\u001b[0m         \u001b[0;32mtry\u001b[0m\u001b[0;34m:\u001b[0m\u001b[0;34m\u001b[0m\u001b[0;34m\u001b[0m\u001b[0m\n\u001b[1;32m   2094\u001b[0m             \u001b[0;32mreturn\u001b[0m \u001b[0mself\u001b[0m\u001b[0;34m.\u001b[0m\u001b[0m_getitem_lowerdim\u001b[0m\u001b[0;34m(\u001b[0m\u001b[0mtup\u001b[0m\u001b[0;34m)\u001b[0m\u001b[0;34m\u001b[0m\u001b[0;34m\u001b[0m\u001b[0m\n",
            "\u001b[0;32m/usr/local/lib/python3.6/dist-packages/pandas/core/indexing.py\u001b[0m in \u001b[0;36m_has_valid_tuple\u001b[0;34m(self, key)\u001b[0m\n\u001b[1;32m    233\u001b[0m                 \u001b[0;32mraise\u001b[0m \u001b[0mIndexingError\u001b[0m\u001b[0;34m(\u001b[0m\u001b[0;34m\"Too many indexers\"\u001b[0m\u001b[0;34m)\u001b[0m\u001b[0;34m\u001b[0m\u001b[0;34m\u001b[0m\u001b[0m\n\u001b[1;32m    234\u001b[0m             \u001b[0;32mtry\u001b[0m\u001b[0;34m:\u001b[0m\u001b[0;34m\u001b[0m\u001b[0;34m\u001b[0m\u001b[0m\n\u001b[0;32m--> 235\u001b[0;31m                 \u001b[0mself\u001b[0m\u001b[0;34m.\u001b[0m\u001b[0m_validate_key\u001b[0m\u001b[0;34m(\u001b[0m\u001b[0mk\u001b[0m\u001b[0;34m,\u001b[0m \u001b[0mi\u001b[0m\u001b[0;34m)\u001b[0m\u001b[0;34m\u001b[0m\u001b[0;34m\u001b[0m\u001b[0m\n\u001b[0m\u001b[1;32m    236\u001b[0m             \u001b[0;32mexcept\u001b[0m \u001b[0mValueError\u001b[0m\u001b[0;34m:\u001b[0m\u001b[0;34m\u001b[0m\u001b[0;34m\u001b[0m\u001b[0m\n\u001b[1;32m    237\u001b[0m                 raise ValueError(\n",
            "\u001b[0;32m/usr/local/lib/python3.6/dist-packages/pandas/core/indexing.py\u001b[0m in \u001b[0;36m_validate_key\u001b[0;34m(self, key, axis)\u001b[0m\n\u001b[1;32m   2012\u001b[0m             \u001b[0;32mreturn\u001b[0m\u001b[0;34m\u001b[0m\u001b[0;34m\u001b[0m\u001b[0m\n\u001b[1;32m   2013\u001b[0m         \u001b[0;32melif\u001b[0m \u001b[0mis_integer\u001b[0m\u001b[0;34m(\u001b[0m\u001b[0mkey\u001b[0m\u001b[0;34m)\u001b[0m\u001b[0;34m:\u001b[0m\u001b[0;34m\u001b[0m\u001b[0;34m\u001b[0m\u001b[0m\n\u001b[0;32m-> 2014\u001b[0;31m             \u001b[0mself\u001b[0m\u001b[0;34m.\u001b[0m\u001b[0m_validate_integer\u001b[0m\u001b[0;34m(\u001b[0m\u001b[0mkey\u001b[0m\u001b[0;34m,\u001b[0m \u001b[0maxis\u001b[0m\u001b[0;34m)\u001b[0m\u001b[0;34m\u001b[0m\u001b[0;34m\u001b[0m\u001b[0m\n\u001b[0m\u001b[1;32m   2015\u001b[0m         \u001b[0;32melif\u001b[0m \u001b[0misinstance\u001b[0m\u001b[0;34m(\u001b[0m\u001b[0mkey\u001b[0m\u001b[0;34m,\u001b[0m \u001b[0mtuple\u001b[0m\u001b[0;34m)\u001b[0m\u001b[0;34m:\u001b[0m\u001b[0;34m\u001b[0m\u001b[0;34m\u001b[0m\u001b[0m\n\u001b[1;32m   2016\u001b[0m             \u001b[0;31m# a tuple should already have been caught by this point\u001b[0m\u001b[0;34m\u001b[0m\u001b[0;34m\u001b[0m\u001b[0;34m\u001b[0m\u001b[0m\n",
            "\u001b[0;32m/usr/local/lib/python3.6/dist-packages/pandas/core/indexing.py\u001b[0m in \u001b[0;36m_validate_integer\u001b[0;34m(self, key, axis)\u001b[0m\n\u001b[1;32m   2086\u001b[0m         \u001b[0mlen_axis\u001b[0m \u001b[0;34m=\u001b[0m \u001b[0mlen\u001b[0m\u001b[0;34m(\u001b[0m\u001b[0mself\u001b[0m\u001b[0;34m.\u001b[0m\u001b[0mobj\u001b[0m\u001b[0;34m.\u001b[0m\u001b[0m_get_axis\u001b[0m\u001b[0;34m(\u001b[0m\u001b[0maxis\u001b[0m\u001b[0;34m)\u001b[0m\u001b[0;34m)\u001b[0m\u001b[0;34m\u001b[0m\u001b[0;34m\u001b[0m\u001b[0m\n\u001b[1;32m   2087\u001b[0m         \u001b[0;32mif\u001b[0m \u001b[0mkey\u001b[0m \u001b[0;34m>=\u001b[0m \u001b[0mlen_axis\u001b[0m \u001b[0;32mor\u001b[0m \u001b[0mkey\u001b[0m \u001b[0;34m<\u001b[0m \u001b[0;34m-\u001b[0m\u001b[0mlen_axis\u001b[0m\u001b[0;34m:\u001b[0m\u001b[0;34m\u001b[0m\u001b[0;34m\u001b[0m\u001b[0m\n\u001b[0;32m-> 2088\u001b[0;31m             \u001b[0;32mraise\u001b[0m \u001b[0mIndexError\u001b[0m\u001b[0;34m(\u001b[0m\u001b[0;34m\"single positional indexer is out-of-bounds\"\u001b[0m\u001b[0;34m)\u001b[0m\u001b[0;34m\u001b[0m\u001b[0;34m\u001b[0m\u001b[0m\n\u001b[0m\u001b[1;32m   2089\u001b[0m \u001b[0;34m\u001b[0m\u001b[0m\n\u001b[1;32m   2090\u001b[0m     \u001b[0;32mdef\u001b[0m \u001b[0m_getitem_tuple\u001b[0m\u001b[0;34m(\u001b[0m\u001b[0mself\u001b[0m\u001b[0;34m,\u001b[0m \u001b[0mtup\u001b[0m\u001b[0;34m)\u001b[0m\u001b[0;34m:\u001b[0m\u001b[0;34m\u001b[0m\u001b[0;34m\u001b[0m\u001b[0m\n",
            "\u001b[0;31mIndexError\u001b[0m: single positional indexer is out-of-bounds"
          ]
        }
      ]
    },
    {
      "cell_type": "code",
      "metadata": {
        "id": "HmV7tah_RosK",
        "colab_type": "code",
        "colab": {
          "base_uri": "https://localhost:8080/",
          "height": 265
        },
        "outputId": "07c381b2-67f7-4f38-9705-2d2de0f3483e"
      },
      "source": [
        "for i in range(bunruisuu):\n",
        "  plt.plot(range(len(df_label_1h[i])),df_label_1h[i].iloc[:,7])\n"
      ],
      "execution_count": null,
      "outputs": [
        {
          "output_type": "display_data",
          "data": {
            "image/png": "[encoded data removed]",
            "text/plain": [
              "<Figure size 432x288 with 1 Axes>"
            ]
          },
          "metadata": {
            "tags": []
          }
        }
      ]
    },
    {
      "cell_type": "code",
      "metadata": {
        "id": "wDOOC_9DRrlk",
        "colab_type": "code",
        "colab": {
          "base_uri": "https://localhost:8080/",
          "height": 269
        },
        "outputId": "03aba74b-e7e9-40d0-968b-2c61b03d6f50"
      },
      "source": [
        "for i in range(bunruisuu):\n",
        "  plt.plot(range(len(df_label_1d[i])),df_label_1d[i].iloc[:,7])"
      ],
      "execution_count": null,
      "outputs": [
        {
          "output_type": "display_data",
          "data": {
            "image/png": "[encoded data removed]",
            "text/plain": [
              "<Figure size 432x288 with 1 Axes>"
            ]
          },
          "metadata": {
            "tags": []
          }
        }
      ]
    },
    {
      "cell_type": "code",
      "metadata": {
        "id": "fAsYcN-IiOjY",
        "colab_type": "code",
        "colab": {
          "base_uri": "https://localhost:8080/",
          "height": 316
        },
        "outputId": "08504c62-e94e-459a-d260-b371f5de0011"
      },
      "source": [
        "df_label_1h[0].hist()"
      ],
      "execution_count": null,
      "outputs": [
        {
          "output_type": "execute_result",
          "data": {
            "text/plain": [
              "array([[<matplotlib.axes._subplots.AxesSubplot object at 0x7f3cd5021748>]],\n",
              "      dtype=object)"
            ]
          },
          "metadata": {
            "tags": []
          },
          "execution_count": 1160
        },
        {
          "output_type": "display_data",
          "data": {
            "image/png": "[encoded data removed]",
            "text/plain": [
              "<Figure size 432x288 with 1 Axes>"
            ]
          },
          "metadata": {
            "tags": []
          }
        }
      ]
    },
    {
      "cell_type": "code",
      "metadata": {
        "id": "hBvVQ0qeQZrP",
        "colab_type": "code",
        "colab": {
          "base_uri": "https://localhost:8080/",
          "height": 1000
        },
        "outputId": "5581e5e8-dd70-4481-92eb-638860c799fc"
      },
      "source": [
        "df_label_1h[1].tail(60)"
      ],
      "execution_count": null,
      "outputs": [
        {
          "output_type": "execute_result",
          "data": {
            "text/html": [
              "<div>\n",
              "<style scoped>\n",
              "    .dataframe tbody tr th:only-of-type {\n",
              "        vertical-align: middle;\n",
              "    }\n",
              "\n",
              "    .dataframe tbody tr th {\n",
              "        vertical-align: top;\n",
              "    }\n",
              "\n",
              "    .dataframe thead th {\n",
              "        text-align: right;\n",
              "    }\n",
              "</style>\n",
              "<table border=\"1\" class=\"dataframe\">\n",
              "  <thead>\n",
              "    <tr style=\"text-align: right;\">\n",
              "      <th></th>\n",
              "      <th>date</th>\n",
              "      <th>direction</th>\n",
              "      <th>price</th>\n",
              "      <th>profit</th>\n",
              "      <th>predict_1d</th>\n",
              "      <th>predict_1h</th>\n",
              "      <th>predict_5m</th>\n",
              "      <th>ruiseki</th>\n",
              "    </tr>\n",
              "  </thead>\n",
              "  <tbody>\n",
              "    <tr>\n",
              "      <th>25057</th>\n",
              "      <td>2019-12-13 21:50:00</td>\n",
              "      <td>買</td>\n",
              "      <td>1.11217</td>\n",
              "      <td>-0.00079</td>\n",
              "      <td>0</td>\n",
              "      <td>1</td>\n",
              "      <td>2</td>\n",
              "      <td>-1.1715</td>\n",
              "    </tr>\n",
              "    <tr>\n",
              "      <th>25071</th>\n",
              "      <td>2019-12-18 08:00:00</td>\n",
              "      <td>買</td>\n",
              "      <td>1.11343</td>\n",
              "      <td>-0.00044</td>\n",
              "      <td>0</td>\n",
              "      <td>1</td>\n",
              "      <td>2</td>\n",
              "      <td>-1.17194</td>\n",
              "    </tr>\n",
              "    <tr>\n",
              "      <th>25075</th>\n",
              "      <td>2019-12-18 17:45:00</td>\n",
              "      <td>買</td>\n",
              "      <td>1.11252</td>\n",
              "      <td>-0.00136</td>\n",
              "      <td>0</td>\n",
              "      <td>1</td>\n",
              "      <td>0</td>\n",
              "      <td>-1.1733</td>\n",
              "    </tr>\n",
              "    <tr>\n",
              "      <th>25077</th>\n",
              "      <td>2019-12-18 21:35:00</td>\n",
              "      <td>買</td>\n",
              "      <td>1.11196</td>\n",
              "      <td>-0.00057</td>\n",
              "      <td>0</td>\n",
              "      <td>1</td>\n",
              "      <td>2</td>\n",
              "      <td>-1.17387</td>\n",
              "    </tr>\n",
              "    <tr>\n",
              "      <th>25087</th>\n",
              "      <td>2019-12-20 06:30:00</td>\n",
              "      <td>買</td>\n",
              "      <td>1.11166</td>\n",
              "      <td>-0.00036</td>\n",
              "      <td>2</td>\n",
              "      <td>1</td>\n",
              "      <td>2</td>\n",
              "      <td>-1.17423</td>\n",
              "    </tr>\n",
              "    <tr>\n",
              "      <th>25091</th>\n",
              "      <td>2019-12-20 21:55:00</td>\n",
              "      <td>買</td>\n",
              "      <td>1.10742</td>\n",
              "      <td>-0.0001</td>\n",
              "      <td>1</td>\n",
              "      <td>1</td>\n",
              "      <td>2</td>\n",
              "      <td>-1.17433</td>\n",
              "    </tr>\n",
              "    <tr>\n",
              "      <th>25105</th>\n",
              "      <td>2019-12-24 14:20:00</td>\n",
              "      <td>買</td>\n",
              "      <td>1.10770</td>\n",
              "      <td>0.00055</td>\n",
              "      <td>1</td>\n",
              "      <td>1</td>\n",
              "      <td>2</td>\n",
              "      <td>-1.17378</td>\n",
              "    </tr>\n",
              "    <tr>\n",
              "      <th>25133</th>\n",
              "      <td>2020-01-02 15:20:00</td>\n",
              "      <td>買</td>\n",
              "      <td>1.11942</td>\n",
              "      <td>-0.00074</td>\n",
              "      <td>0</td>\n",
              "      <td>1</td>\n",
              "      <td>2</td>\n",
              "      <td>-1.17452</td>\n",
              "    </tr>\n",
              "    <tr>\n",
              "      <th>25135</th>\n",
              "      <td>2020-01-02 18:00:00</td>\n",
              "      <td>買</td>\n",
              "      <td>1.11996</td>\n",
              "      <td>-0.00302</td>\n",
              "      <td>0</td>\n",
              "      <td>1</td>\n",
              "      <td>0</td>\n",
              "      <td>-1.17754</td>\n",
              "    </tr>\n",
              "    <tr>\n",
              "      <th>25137</th>\n",
              "      <td>2020-01-02 23:10:00</td>\n",
              "      <td>買</td>\n",
              "      <td>1.11711</td>\n",
              "      <td>-5e-05</td>\n",
              "      <td>0</td>\n",
              "      <td>1</td>\n",
              "      <td>2</td>\n",
              "      <td>-1.17759</td>\n",
              "    </tr>\n",
              "    <tr>\n",
              "      <th>25141</th>\n",
              "      <td>2020-01-03 14:40:00</td>\n",
              "      <td>買</td>\n",
              "      <td>1.11369</td>\n",
              "      <td>0.00299</td>\n",
              "      <td>0</td>\n",
              "      <td>1</td>\n",
              "      <td>0</td>\n",
              "      <td>-1.1746</td>\n",
              "    </tr>\n",
              "    <tr>\n",
              "      <th>25153</th>\n",
              "      <td>2020-01-07 19:20:00</td>\n",
              "      <td>買</td>\n",
              "      <td>1.11448</td>\n",
              "      <td>0.0009</td>\n",
              "      <td>1</td>\n",
              "      <td>1</td>\n",
              "      <td>0</td>\n",
              "      <td>-1.1737</td>\n",
              "    </tr>\n",
              "    <tr>\n",
              "      <th>25157</th>\n",
              "      <td>2020-01-08 16:30:00</td>\n",
              "      <td>買</td>\n",
              "      <td>1.11239</td>\n",
              "      <td>-0.00116</td>\n",
              "      <td>1</td>\n",
              "      <td>1</td>\n",
              "      <td>2</td>\n",
              "      <td>-1.17486</td>\n",
              "    </tr>\n",
              "    <tr>\n",
              "      <th>25159</th>\n",
              "      <td>2020-01-08 22:50:00</td>\n",
              "      <td>買</td>\n",
              "      <td>1.11135</td>\n",
              "      <td>-0.00061</td>\n",
              "      <td>1</td>\n",
              "      <td>1</td>\n",
              "      <td>2</td>\n",
              "      <td>-1.17547</td>\n",
              "    </tr>\n",
              "    <tr>\n",
              "      <th>25175</th>\n",
              "      <td>2020-01-10 15:00:00</td>\n",
              "      <td>買</td>\n",
              "      <td>1.10975</td>\n",
              "      <td>-0.00072</td>\n",
              "      <td>1</td>\n",
              "      <td>1</td>\n",
              "      <td>2</td>\n",
              "      <td>-1.17619</td>\n",
              "    </tr>\n",
              "    <tr>\n",
              "      <th>25195</th>\n",
              "      <td>2020-01-14 16:50:00</td>\n",
              "      <td>買</td>\n",
              "      <td>1.11174</td>\n",
              "      <td>0.00097</td>\n",
              "      <td>1</td>\n",
              "      <td>1</td>\n",
              "      <td>0</td>\n",
              "      <td>-1.17522</td>\n",
              "    </tr>\n",
              "    <tr>\n",
              "      <th>25209</th>\n",
              "      <td>2020-01-16 22:45:00</td>\n",
              "      <td>買</td>\n",
              "      <td>1.11360</td>\n",
              "      <td>-0.00035</td>\n",
              "      <td>2</td>\n",
              "      <td>1</td>\n",
              "      <td>2</td>\n",
              "      <td>-1.17557</td>\n",
              "    </tr>\n",
              "    <tr>\n",
              "      <th>25225</th>\n",
              "      <td>2020-01-22 01:35:00</td>\n",
              "      <td>買</td>\n",
              "      <td>1.10838</td>\n",
              "      <td>-0.00029</td>\n",
              "      <td>1</td>\n",
              "      <td>1</td>\n",
              "      <td>2</td>\n",
              "      <td>-1.17586</td>\n",
              "    </tr>\n",
              "    <tr>\n",
              "      <th>25227</th>\n",
              "      <td>2020-01-22 05:30:00</td>\n",
              "      <td>買</td>\n",
              "      <td>1.10827</td>\n",
              "      <td>-0.00037</td>\n",
              "      <td>1</td>\n",
              "      <td>1</td>\n",
              "      <td>2</td>\n",
              "      <td>-1.17623</td>\n",
              "    </tr>\n",
              "    <tr>\n",
              "      <th>25243</th>\n",
              "      <td>2020-01-23 19:35:00</td>\n",
              "      <td>買</td>\n",
              "      <td>1.10481</td>\n",
              "      <td>0.00048</td>\n",
              "      <td>1</td>\n",
              "      <td>1</td>\n",
              "      <td>0</td>\n",
              "      <td>-1.17575</td>\n",
              "    </tr>\n",
              "    <tr>\n",
              "      <th>25249</th>\n",
              "      <td>2020-01-24 15:40:00</td>\n",
              "      <td>買</td>\n",
              "      <td>1.10374</td>\n",
              "      <td>-0.00071</td>\n",
              "      <td>1</td>\n",
              "      <td>1</td>\n",
              "      <td>2</td>\n",
              "      <td>-1.17646</td>\n",
              "    </tr>\n",
              "    <tr>\n",
              "      <th>25251</th>\n",
              "      <td>2020-01-24 20:05:00</td>\n",
              "      <td>買</td>\n",
              "      <td>1.10281</td>\n",
              "      <td>-0.00028</td>\n",
              "      <td>1</td>\n",
              "      <td>1</td>\n",
              "      <td>2</td>\n",
              "      <td>-1.17674</td>\n",
              "    </tr>\n",
              "    <tr>\n",
              "      <th>25265</th>\n",
              "      <td>2020-01-28 18:30:00</td>\n",
              "      <td>買</td>\n",
              "      <td>1.10073</td>\n",
              "      <td>0.00121</td>\n",
              "      <td>1</td>\n",
              "      <td>1</td>\n",
              "      <td>0</td>\n",
              "      <td>-1.17553</td>\n",
              "    </tr>\n",
              "    <tr>\n",
              "      <th>25271</th>\n",
              "      <td>2020-01-29 14:10:00</td>\n",
              "      <td>買</td>\n",
              "      <td>1.10017</td>\n",
              "      <td>-0.00068</td>\n",
              "      <td>1</td>\n",
              "      <td>1</td>\n",
              "      <td>2</td>\n",
              "      <td>-1.17621</td>\n",
              "    </tr>\n",
              "    <tr>\n",
              "      <th>25291</th>\n",
              "      <td>2020-02-03 18:20:00</td>\n",
              "      <td>買</td>\n",
              "      <td>1.10590</td>\n",
              "      <td>-8e-05</td>\n",
              "      <td>0</td>\n",
              "      <td>1</td>\n",
              "      <td>0</td>\n",
              "      <td>-1.17629</td>\n",
              "    </tr>\n",
              "    <tr>\n",
              "      <th>25301</th>\n",
              "      <td>2020-02-05 07:30:00</td>\n",
              "      <td>買</td>\n",
              "      <td>1.10349</td>\n",
              "      <td>-5e-05</td>\n",
              "      <td>2</td>\n",
              "      <td>1</td>\n",
              "      <td>2</td>\n",
              "      <td>-1.17634</td>\n",
              "    </tr>\n",
              "    <tr>\n",
              "      <th>25303</th>\n",
              "      <td>2020-02-06 00:40:00</td>\n",
              "      <td>買</td>\n",
              "      <td>1.09990</td>\n",
              "      <td>-0.00019</td>\n",
              "      <td>1</td>\n",
              "      <td>1</td>\n",
              "      <td>2</td>\n",
              "      <td>-1.17653</td>\n",
              "    </tr>\n",
              "    <tr>\n",
              "      <th>25307</th>\n",
              "      <td>2020-02-06 22:05:00</td>\n",
              "      <td>買</td>\n",
              "      <td>1.09781</td>\n",
              "      <td>-8e-05</td>\n",
              "      <td>1</td>\n",
              "      <td>1</td>\n",
              "      <td>2</td>\n",
              "      <td>-1.17661</td>\n",
              "    </tr>\n",
              "    <tr>\n",
              "      <th>25311</th>\n",
              "      <td>2020-02-07 14:45:00</td>\n",
              "      <td>買</td>\n",
              "      <td>1.09593</td>\n",
              "      <td>-0.00093</td>\n",
              "      <td>1</td>\n",
              "      <td>1</td>\n",
              "      <td>0</td>\n",
              "      <td>-1.17754</td>\n",
              "    </tr>\n",
              "    <tr>\n",
              "      <th>25315</th>\n",
              "      <td>2020-02-12 10:15:00</td>\n",
              "      <td>買</td>\n",
              "      <td>1.09159</td>\n",
              "      <td>-0.00046</td>\n",
              "      <td>1</td>\n",
              "      <td>1</td>\n",
              "      <td>0</td>\n",
              "      <td>-1.178</td>\n",
              "    </tr>\n",
              "    <tr>\n",
              "      <th>25317</th>\n",
              "      <td>2020-02-13 02:00:00</td>\n",
              "      <td>買</td>\n",
              "      <td>1.08747</td>\n",
              "      <td>-0.00052</td>\n",
              "      <td>1</td>\n",
              "      <td>1</td>\n",
              "      <td>2</td>\n",
              "      <td>-1.17852</td>\n",
              "    </tr>\n",
              "    <tr>\n",
              "      <th>25327</th>\n",
              "      <td>2020-02-20 10:50:00</td>\n",
              "      <td>買</td>\n",
              "      <td>1.07943</td>\n",
              "      <td>-0.00069</td>\n",
              "      <td>1</td>\n",
              "      <td>1</td>\n",
              "      <td>2</td>\n",
              "      <td>-1.17921</td>\n",
              "    </tr>\n",
              "    <tr>\n",
              "      <th>25331</th>\n",
              "      <td>2020-02-21 01:40:00</td>\n",
              "      <td>買</td>\n",
              "      <td>1.07878</td>\n",
              "      <td>0.0003</td>\n",
              "      <td>1</td>\n",
              "      <td>1</td>\n",
              "      <td>2</td>\n",
              "      <td>-1.17891</td>\n",
              "    </tr>\n",
              "    <tr>\n",
              "      <th>25349</th>\n",
              "      <td>2020-02-25 15:10:00</td>\n",
              "      <td>買</td>\n",
              "      <td>1.08392</td>\n",
              "      <td>0.00369</td>\n",
              "      <td>1</td>\n",
              "      <td>1</td>\n",
              "      <td>2</td>\n",
              "      <td>-1.17522</td>\n",
              "    </tr>\n",
              "    <tr>\n",
              "      <th>25351</th>\n",
              "      <td>2020-02-26 07:15:00</td>\n",
              "      <td>買</td>\n",
              "      <td>1.08701</td>\n",
              "      <td>-8e-05</td>\n",
              "      <td>1</td>\n",
              "      <td>1</td>\n",
              "      <td>2</td>\n",
              "      <td>-1.1753</td>\n",
              "    </tr>\n",
              "    <tr>\n",
              "      <th>25371</th>\n",
              "      <td>2020-02-28 18:00:00</td>\n",
              "      <td>買</td>\n",
              "      <td>1.09838</td>\n",
              "      <td>0.00523</td>\n",
              "      <td>0</td>\n",
              "      <td>1</td>\n",
              "      <td>0</td>\n",
              "      <td>-1.17007</td>\n",
              "    </tr>\n",
              "    <tr>\n",
              "      <th>25377</th>\n",
              "      <td>2020-03-03 04:25:00</td>\n",
              "      <td>買</td>\n",
              "      <td>1.11385</td>\n",
              "      <td>0.00015</td>\n",
              "      <td>0</td>\n",
              "      <td>1</td>\n",
              "      <td>0</td>\n",
              "      <td>-1.16992</td>\n",
              "    </tr>\n",
              "    <tr>\n",
              "      <th>25379</th>\n",
              "      <td>2020-03-03 12:15:00</td>\n",
              "      <td>買</td>\n",
              "      <td>1.11291</td>\n",
              "      <td>-0.00318</td>\n",
              "      <td>0</td>\n",
              "      <td>1</td>\n",
              "      <td>0</td>\n",
              "      <td>-1.1731</td>\n",
              "    </tr>\n",
              "    <tr>\n",
              "      <th>25385</th>\n",
              "      <td>2020-03-04 10:00:00</td>\n",
              "      <td>買</td>\n",
              "      <td>1.11584</td>\n",
              "      <td>-0.00101</td>\n",
              "      <td>0</td>\n",
              "      <td>1</td>\n",
              "      <td>0</td>\n",
              "      <td>-1.17411</td>\n",
              "    </tr>\n",
              "    <tr>\n",
              "      <th>25387</th>\n",
              "      <td>2020-03-04 17:55:00</td>\n",
              "      <td>買</td>\n",
              "      <td>1.11272</td>\n",
              "      <td>-0.00059</td>\n",
              "      <td>0</td>\n",
              "      <td>1</td>\n",
              "      <td>0</td>\n",
              "      <td>-1.1747</td>\n",
              "    </tr>\n",
              "    <tr>\n",
              "      <th>25415</th>\n",
              "      <td>2020-03-10 10:55:00</td>\n",
              "      <td>買</td>\n",
              "      <td>1.13758</td>\n",
              "      <td>-0.00302</td>\n",
              "      <td>0</td>\n",
              "      <td>1</td>\n",
              "      <td>0</td>\n",
              "      <td>-1.17772</td>\n",
              "    </tr>\n",
              "    <tr>\n",
              "      <th>25417</th>\n",
              "      <td>2020-03-10 14:25:00</td>\n",
              "      <td>買</td>\n",
              "      <td>1.13599</td>\n",
              "      <td>0.0003</td>\n",
              "      <td>0</td>\n",
              "      <td>1</td>\n",
              "      <td>0</td>\n",
              "      <td>-1.17742</td>\n",
              "    </tr>\n",
              "    <tr>\n",
              "      <th>25421</th>\n",
              "      <td>2020-03-10 23:15:00</td>\n",
              "      <td>買</td>\n",
              "      <td>1.13062</td>\n",
              "      <td>0.00226</td>\n",
              "      <td>0</td>\n",
              "      <td>1</td>\n",
              "      <td>0</td>\n",
              "      <td>-1.17516</td>\n",
              "    </tr>\n",
              "    <tr>\n",
              "      <th>25425</th>\n",
              "      <td>2020-03-11 20:25:00</td>\n",
              "      <td>買</td>\n",
              "      <td>1.12840</td>\n",
              "      <td>-0.00185</td>\n",
              "      <td>0</td>\n",
              "      <td>1</td>\n",
              "      <td>0</td>\n",
              "      <td>-1.17701</td>\n",
              "    </tr>\n",
              "    <tr>\n",
              "      <th>25427</th>\n",
              "      <td>2020-03-12 03:05:00</td>\n",
              "      <td>買</td>\n",
              "      <td>1.12674</td>\n",
              "      <td>0.00313</td>\n",
              "      <td>0</td>\n",
              "      <td>1</td>\n",
              "      <td>0</td>\n",
              "      <td>-1.17388</td>\n",
              "    </tr>\n",
              "    <tr>\n",
              "      <th>25431</th>\n",
              "      <td>2020-03-12 15:05:00</td>\n",
              "      <td>買</td>\n",
              "      <td>1.12462</td>\n",
              "      <td>-0.00436</td>\n",
              "      <td>0</td>\n",
              "      <td>1</td>\n",
              "      <td>0</td>\n",
              "      <td>-1.17824</td>\n",
              "    </tr>\n",
              "    <tr>\n",
              "      <th>25433</th>\n",
              "      <td>2020-03-12 15:50:00</td>\n",
              "      <td>買</td>\n",
              "      <td>1.12696</td>\n",
              "      <td>-0.0104</td>\n",
              "      <td>0</td>\n",
              "      <td>1</td>\n",
              "      <td>0</td>\n",
              "      <td>-1.18864</td>\n",
              "    </tr>\n",
              "    <tr>\n",
              "      <th>25435</th>\n",
              "      <td>2020-03-12 20:00:00</td>\n",
              "      <td>買</td>\n",
              "      <td>1.11450</td>\n",
              "      <td>0.00251</td>\n",
              "      <td>0</td>\n",
              "      <td>1</td>\n",
              "      <td>0</td>\n",
              "      <td>-1.18613</td>\n",
              "    </tr>\n",
              "    <tr>\n",
              "      <th>25441</th>\n",
              "      <td>2020-03-13 15:05:00</td>\n",
              "      <td>買</td>\n",
              "      <td>1.11786</td>\n",
              "      <td>-0.00574</td>\n",
              "      <td>0</td>\n",
              "      <td>1</td>\n",
              "      <td>0</td>\n",
              "      <td>-1.19187</td>\n",
              "    </tr>\n",
              "    <tr>\n",
              "      <th>25443</th>\n",
              "      <td>2020-03-13 23:00:00</td>\n",
              "      <td>買</td>\n",
              "      <td>1.11125</td>\n",
              "      <td>0.0023</td>\n",
              "      <td>1</td>\n",
              "      <td>1</td>\n",
              "      <td>0</td>\n",
              "      <td>-1.18957</td>\n",
              "    </tr>\n",
              "    <tr>\n",
              "      <th>25447</th>\n",
              "      <td>2020-03-16 19:05:00</td>\n",
              "      <td>買</td>\n",
              "      <td>1.11467</td>\n",
              "      <td>0.00149</td>\n",
              "      <td>1</td>\n",
              "      <td>1</td>\n",
              "      <td>0</td>\n",
              "      <td>-1.18808</td>\n",
              "    </tr>\n",
              "    <tr>\n",
              "      <th>25451</th>\n",
              "      <td>2020-03-17 17:15:00</td>\n",
              "      <td>買</td>\n",
              "      <td>1.10106</td>\n",
              "      <td>-0.00445</td>\n",
              "      <td>1</td>\n",
              "      <td>1</td>\n",
              "      <td>0</td>\n",
              "      <td>-1.19253</td>\n",
              "    </tr>\n",
              "    <tr>\n",
              "      <th>25453</th>\n",
              "      <td>2020-03-17 21:20:00</td>\n",
              "      <td>買</td>\n",
              "      <td>1.10008</td>\n",
              "      <td>0.00048</td>\n",
              "      <td>1</td>\n",
              "      <td>1</td>\n",
              "      <td>0</td>\n",
              "      <td>-1.19205</td>\n",
              "    </tr>\n",
              "    <tr>\n",
              "      <th>25457</th>\n",
              "      <td>2020-03-18 12:35:00</td>\n",
              "      <td>買</td>\n",
              "      <td>1.09979</td>\n",
              "      <td>-0.0015</td>\n",
              "      <td>1</td>\n",
              "      <td>1</td>\n",
              "      <td>0</td>\n",
              "      <td>-1.19355</td>\n",
              "    </tr>\n",
              "    <tr>\n",
              "      <th>25459</th>\n",
              "      <td>2020-03-18 21:25:00</td>\n",
              "      <td>買</td>\n",
              "      <td>1.08647</td>\n",
              "      <td>0.00425</td>\n",
              "      <td>1</td>\n",
              "      <td>1</td>\n",
              "      <td>0</td>\n",
              "      <td>-1.1893</td>\n",
              "    </tr>\n",
              "    <tr>\n",
              "      <th>25461</th>\n",
              "      <td>2020-03-19 09:10:00</td>\n",
              "      <td>買</td>\n",
              "      <td>1.09081</td>\n",
              "      <td>-0.0017</td>\n",
              "      <td>1</td>\n",
              "      <td>1</td>\n",
              "      <td>0</td>\n",
              "      <td>-1.191</td>\n",
              "    </tr>\n",
              "    <tr>\n",
              "      <th>25463</th>\n",
              "      <td>2020-03-19 23:10:00</td>\n",
              "      <td>買</td>\n",
              "      <td>1.06953</td>\n",
              "      <td>-0.00418</td>\n",
              "      <td>1</td>\n",
              "      <td>1</td>\n",
              "      <td>0</td>\n",
              "      <td>-1.19518</td>\n",
              "    </tr>\n",
              "    <tr>\n",
              "      <th>25465</th>\n",
              "      <td>2020-03-20 04:20:00</td>\n",
              "      <td>買</td>\n",
              "      <td>1.06819</td>\n",
              "      <td>0.00888</td>\n",
              "      <td>1</td>\n",
              "      <td>1</td>\n",
              "      <td>0</td>\n",
              "      <td>-1.1863</td>\n",
              "    </tr>\n",
              "    <tr>\n",
              "      <th>25467</th>\n",
              "      <td>2020-03-20 15:40:00</td>\n",
              "      <td>買</td>\n",
              "      <td>1.07403</td>\n",
              "      <td>-0.00465</td>\n",
              "      <td>1</td>\n",
              "      <td>1</td>\n",
              "      <td>0</td>\n",
              "      <td>None</td>\n",
              "    </tr>\n",
              "    <tr>\n",
              "      <th>25469</th>\n",
              "      <td>2020-03-20 22:55:00</td>\n",
              "      <td>買</td>\n",
              "      <td>1.06667</td>\n",
              "      <td>None</td>\n",
              "      <td>1</td>\n",
              "      <td>1</td>\n",
              "      <td>0</td>\n",
              "      <td>None</td>\n",
              "    </tr>\n",
              "  </tbody>\n",
              "</table>\n",
              "</div>"
            ],
            "text/plain": [
              "                     date direction    price  ... predict_1h predict_5m  ruiseki\n",
              "25057 2019-12-13 21:50:00         買  1.11217  ...          1          2  -1.1715\n",
              "25071 2019-12-18 08:00:00         買  1.11343  ...          1          2 -1.17194\n",
              "25075 2019-12-18 17:45:00         買  1.11252  ...          1          0  -1.1733\n",
              "25077 2019-12-18 21:35:00         買  1.11196  ...          1          2 -1.17387\n",
              "25087 2019-12-20 06:30:00         買  1.11166  ...          1          2 -1.17423\n",
              "25091 2019-12-20 21:55:00         買  1.10742  ...          1          2 -1.17433\n",
              "25105 2019-12-24 14:20:00         買  1.10770  ...          1          2 -1.17378\n",
              "25133 2020-01-02 15:20:00         買  1.11942  ...          1          2 -1.17452\n",
              "25135 2020-01-02 18:00:00         買  1.11996  ...          1          0 -1.17754\n",
              "25137 2020-01-02 23:10:00         買  1.11711  ...          1          2 -1.17759\n",
              "25141 2020-01-03 14:40:00         買  1.11369  ...          1          0  -1.1746\n",
              "25153 2020-01-07 19:20:00         買  1.11448  ...          1          0  -1.1737\n",
              "25157 2020-01-08 16:30:00         買  1.11239  ...          1          2 -1.17486\n",
              "25159 2020-01-08 22:50:00         買  1.11135  ...          1          2 -1.17547\n",
              "25175 2020-01-10 15:00:00         買  1.10975  ...          1          2 -1.17619\n",
              "25195 2020-01-14 16:50:00         買  1.11174  ...          1          0 -1.17522\n",
              "25209 2020-01-16 22:45:00         買  1.11360  ...          1          2 -1.17557\n",
              "25225 2020-01-22 01:35:00         買  1.10838  ...          1          2 -1.17586\n",
              "25227 2020-01-22 05:30:00         買  1.10827  ...          1          2 -1.17623\n",
              "25243 2020-01-23 19:35:00         買  1.10481  ...          1          0 -1.17575\n",
              "25249 2020-01-24 15:40:00         買  1.10374  ...          1          2 -1.17646\n",
              "25251 2020-01-24 20:05:00         買  1.10281  ...          1          2 -1.17674\n",
              "25265 2020-01-28 18:30:00         買  1.10073  ...          1          0 -1.17553\n",
              "25271 2020-01-29 14:10:00         買  1.10017  ...          1          2 -1.17621\n",
              "25291 2020-02-03 18:20:00         買  1.10590  ...          1          0 -1.17629\n",
              "25301 2020-02-05 07:30:00         買  1.10349  ...          1          2 -1.17634\n",
              "25303 2020-02-06 00:40:00         買  1.09990  ...          1          2 -1.17653\n",
              "25307 2020-02-06 22:05:00         買  1.09781  ...          1          2 -1.17661\n",
              "25311 2020-02-07 14:45:00         買  1.09593  ...          1          0 -1.17754\n",
              "25315 2020-02-12 10:15:00         買  1.09159  ...          1          0   -1.178\n",
              "25317 2020-02-13 02:00:00         買  1.08747  ...          1          2 -1.17852\n",
              "25327 2020-02-20 10:50:00         買  1.07943  ...          1          2 -1.17921\n",
              "25331 2020-02-21 01:40:00         買  1.07878  ...          1          2 -1.17891\n",
              "25349 2020-02-25 15:10:00         買  1.08392  ...          1          2 -1.17522\n",
              "25351 2020-02-26 07:15:00         買  1.08701  ...          1          2  -1.1753\n",
              "25371 2020-02-28 18:00:00         買  1.09838  ...          1          0 -1.17007\n",
              "25377 2020-03-03 04:25:00         買  1.11385  ...          1          0 -1.16992\n",
              "25379 2020-03-03 12:15:00         買  1.11291  ...          1          0  -1.1731\n",
              "25385 2020-03-04 10:00:00         買  1.11584  ...          1          0 -1.17411\n",
              "25387 2020-03-04 17:55:00         買  1.11272  ...          1          0  -1.1747\n",
              "25415 2020-03-10 10:55:00         買  1.13758  ...          1          0 -1.17772\n",
              "25417 2020-03-10 14:25:00         買  1.13599  ...          1          0 -1.17742\n",
              "25421 2020-03-10 23:15:00         買  1.13062  ...          1          0 -1.17516\n",
              "25425 2020-03-11 20:25:00         買  1.12840  ...          1          0 -1.17701\n",
              "25427 2020-03-12 03:05:00         買  1.12674  ...          1          0 -1.17388\n",
              "25431 2020-03-12 15:05:00         買  1.12462  ...          1          0 -1.17824\n",
              "25433 2020-03-12 15:50:00         買  1.12696  ...          1          0 -1.18864\n",
              "25435 2020-03-12 20:00:00         買  1.11450  ...          1          0 -1.18613\n",
              "25441 2020-03-13 15:05:00         買  1.11786  ...          1          0 -1.19187\n",
              "25443 2020-03-13 23:00:00         買  1.11125  ...          1          0 -1.18957\n",
              "25447 2020-03-16 19:05:00         買  1.11467  ...          1          0 -1.18808\n",
              "25451 2020-03-17 17:15:00         買  1.10106  ...          1          0 -1.19253\n",
              "25453 2020-03-17 21:20:00         買  1.10008  ...          1          0 -1.19205\n",
              "25457 2020-03-18 12:35:00         買  1.09979  ...          1          0 -1.19355\n",
              "25459 2020-03-18 21:25:00         買  1.08647  ...          1          0  -1.1893\n",
              "25461 2020-03-19 09:10:00         買  1.09081  ...          1          0   -1.191\n",
              "25463 2020-03-19 23:10:00         買  1.06953  ...          1          0 -1.19518\n",
              "25465 2020-03-20 04:20:00         買  1.06819  ...          1          0  -1.1863\n",
              "25467 2020-03-20 15:40:00         買  1.07403  ...          1          0     None\n",
              "25469 2020-03-20 22:55:00         買  1.06667  ...          1          0     None\n",
              "\n",
              "[60 rows x 8 columns]"
            ]
          },
          "metadata": {
            "tags": []
          },
          "execution_count": 235
        }
      ]
    },
    {
      "cell_type": "code",
      "metadata": {
        "id": "BFAsLg3vw9fE",
        "colab_type": "code",
        "colab": {}
      },
      "source": [
        "df_label_1h[1].to_csv('./drive/My Drive/Colab Notebooks/5m_eurusd_hl30_break_1hkudari10_uhehe_break_buy_rule1.csv',encoding='utf_8_sig')"
      ],
      "execution_count": null,
      "outputs": []
    },
    {
      "cell_type": "code",
      "metadata": {
        "id": "4dJVSwHYGZZA",
        "colab_type": "code",
        "colab": {}
      },
      "source": [
        "# for i in range(1):\n",
        "#   print(df_label[i].shape)\n",
        "#   plt.plot(np.array(df_label[i].index),np.array(df_label[i]['ruiseki']))\n",
        "\n"
      ],
      "execution_count": null,
      "outputs": []
    },
    {
      "cell_type": "code",
      "metadata": {
        "id": "sy94EVDd_exr",
        "colab_type": "code",
        "colab": {}
      },
      "source": [
        "# for i in range(1,2):\n",
        "#   print(df_label[i].shape)\n",
        "#   plt.plot(np.array(df_label[i].index),np.array(df_label[i]['ruiseki']))"
      ],
      "execution_count": null,
      "outputs": []
    },
    {
      "cell_type": "code",
      "metadata": {
        "id": "MufnPIL_-cCl",
        "colab_type": "code",
        "colab": {}
      },
      "source": [
        "# np.array(df_label[0].index)\n",
        "# print(np.array(df_label[0]['predict']))"
      ],
      "execution_count": null,
      "outputs": []
    },
    {
      "cell_type": "markdown",
      "metadata": {
        "id": "M4QzvxwSfy-F",
        "colab_type": "text"
      },
      "source": [
        "売買瞬間の直前足までで日足、時間足、５分足をそれぞれ２０本ずつ用意して、\n",
        "日足\n",
        "時間足\n",
        "５分足\n",
        "という60行4列で４グループにウォード法ではじめから３万取引分クラスタリングしたところ、\n",
        "利益情報なしでグループわけさせて、あとから利益を集計すると\n",
        "利益になる2グループ\n",
        "やるだけスプレッド損する１グループ\n",
        "やって損失ぶっこむ１グループ\n",
        "に結構ちゃんと分かれた。\n",
        "\n",
        "このグループ分けを、全期間からランダム抽出したデータ３万個とかで行って、\n",
        "新たな取引の瞬間の状況をどのグループに属するか判定できれば、けっこう利益を生めるかも。"
      ]
    },
    {
      "cell_type": "markdown",
      "metadata": {
        "id": "2ypgZfKxe-6I",
        "colab_type": "text"
      },
      "source": [
        "df_result_buyに対して有効なクラスタリング\n",
        "最長距離法＞ウォード法＝k-means++＞ゴミ＞群平均法＞最短距離法\n",
        "予測を使うにはk-means++しか選べない\n",
        "いろいろ試した結果、k = 2が最も成績よい。特にランダムシード0で、前半３分の２にあたる２万取引から1万とりひきをランダムに選んでクラスタリングしたものを全期間に適応するとよい。さらいｎ、１時間足と５分足だけでやったら、日足を加えたときに比べて利益が倍以上になった。かなり強い。５分足だけでクラスタリングすると成績悪い。1hと5mでローソクの本数を減らすと、日足で上げ相場のみ好成績になっていく傾向がある。ローソク数は２０前後が最も成績よい。\n",
        "混合ガウス分布ではだめ。混合ガウスではkを変えてもいい具合にわかれない\n",
        "スペクトルクラスタリング（kmeansのカーネル法)でもダメだった"
      ]
    },
    {
      "cell_type": "markdown",
      "metadata": {
        "id": "j9EMcNKlw5-U",
        "colab_type": "text"
      },
      "source": [
        "取引結果の損益をラベル分けして、ローソク情報からクラス分けさせようとすると、深層学習では全然だめで、全部の取引を買いか売りか一つだけの予想をバーッと並べるだけ。ちなそういうやりかあの教師あり学習はあんまうまくいかない。k近傍法もk=1,3,5でダメだった。\n"
      ]
    },
    {
      "cell_type": "markdown",
      "metadata": {
        "id": "XbQ2uzcge2FN",
        "colab_type": "text"
      },
      "source": [
        "k-meansで適当なトレンドみたいなダミーデータを用意して上下対称にするだけでおｋ。特に１時間足の直前確定足から２０本でk-meansで上下トレンドに近似させるととてもいい成績が出る。\n",
        "値動きの最小刻みが1センのときは成績微妙だけど、刻みが0.1センになるとマジ強い。\n",
        "このトレンド判定はボリンジャーバンド２０期間２σの逆張りでも有効\n",
        "HLでは、エントリー→→エグジット→→エントリー２→→エグジット２の順に損にならない限り持ち続けると全体の利益が上がる。倍くらい。ドローダウンもそんなに変わらない。"
      ]
    }
  ]
}