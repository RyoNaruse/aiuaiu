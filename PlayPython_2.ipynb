{
  "nbformat": 4,
  "nbformat_minor": 0,
  "metadata": {
    "colab": {
      "name": "PlayPython_2",
      "provenance": [],
      "authorship_tag": "ABX9TyP94nBh1aMNwNqVeosKqgns",
      "include_colab_link": true
    },
    "kernelspec": {
      "name": "python3",
      "display_name": "Python 3"
    }
  },
  "cells": [
    {
      "cell_type": "markdown",
      "metadata": {
        "id": "view-in-github",
        "colab_type": "text"
      },
      "source": [
        "<a href=\"https://colab.research.google.com/github/RyoNaruse/aiuaiu/blob/master/PlayPython_2.ipynb\" target=\"_parent\"><img src=\"https://colab.research.google.com/assets/colab-badge.svg\" alt=\"Open In Colab\"/></a>"
      ]
    },
    {
      "cell_type": "markdown",
      "metadata": {
        "id": "hD2dBAxfpJ3v",
        "colab_type": "text"
      },
      "source": [
        "================前回のおさらい================="
      ]
    },
    {
      "cell_type": "code",
      "metadata": {
        "id": "ygU_7R8ro9T7",
        "colab_type": "code",
        "colab": {}
      },
      "source": [
        "#プログラミングを構成する要素は\n",
        "# 変数      x,y     など\n",
        "# 関数      print() など\n",
        "# 制御文    for, if      など \n",
        "\n",
        "# 変数に値を代入する\n",
        "x = 3\n",
        "y = 4\n",
        "\n",
        "# 関数を定義する\n",
        "def get_sum(a,b,c):\n",
        "    return a + b + c\n",
        "\n",
        "# 「for」で繰り返しを命令し、関数を繰り返し実行する。\n",
        "for i in range(5):\n",
        "    sum_value = get_sum(i, x, y)\n",
        "    print(sum_value)"
      ],
      "execution_count": 0,
      "outputs": []
    },
    {
      "cell_type": "markdown",
      "metadata": {
        "id": "T3M99XGtraGv",
        "colab_type": "text"
      },
      "source": [
        "===================変数の型の紹介================"
      ]
    },
    {
      "cell_type": "code",
      "metadata": {
        "id": "l-gHxYhrq2BK",
        "colab_type": "code",
        "colab": {
          "base_uri": "https://localhost:8080/",
          "height": 53
        },
        "outputId": "72dd0377-4b3e-46f8-e1b0-7e7399cc6959"
      },
      "source": [
        "# 整数型 int   整数1,3,10など\n",
        "x = 1               ←変数に値を代入\n",
        "print(x)            ←変数の中身を表示\n",
        "print(type(x))      ←変数の型を表示"
      ],
      "execution_count": 7,
      "outputs": [
        {
          "output_type": "stream",
          "text": [
            "1\n",
            "<class 'int'>\n"
          ],
          "name": "stdout"
        }
      ]
    },
    {
      "cell_type": "code",
      "metadata": {
        "id": "bLkKax4ysMct",
        "colab_type": "code",
        "colab": {
          "base_uri": "https://localhost:8080/",
          "height": 53
        },
        "outputId": "6e736806-dbf7-42d6-f87d-129b1531c231"
      },
      "source": [
        "#浮動小数点型 float 小数1.2、3.5など\n",
        "y = 1.2\n",
        "print(y)\n",
        "print(type(y))"
      ],
      "execution_count": 8,
      "outputs": [
        {
          "output_type": "stream",
          "text": [
            "1.2\n",
            "<class 'float'>\n"
          ],
          "name": "stdout"
        }
      ]
    },
    {
      "cell_type": "code",
      "metadata": {
        "id": "lX6n3VOlscY-",
        "colab_type": "code",
        "colab": {
          "base_uri": "https://localhost:8080/",
          "height": 53
        },
        "outputId": "27d19bb2-8870-463d-c32b-0080a9216fe2"
      },
      "source": [
        "# 文字列型 string 「あいう」など\n",
        "z = 'あいう'\n",
        "print(z)\n",
        "print(type(z))"
      ],
      "execution_count": 9,
      "outputs": [
        {
          "output_type": "stream",
          "text": [
            "あいう\n",
            "<class 'str'>\n"
          ],
          "name": "stdout"
        }
      ]
    },
    {
      "cell_type": "code",
      "metadata": {
        "id": "GGq9MzE0tHv8",
        "colab_type": "code",
        "colab": {}
      },
      "source": [
        ""
      ],
      "execution_count": 0,
      "outputs": []
    },
    {
      "cell_type": "markdown",
      "metadata": {
        "id": "b83d896rtAdH",
        "colab_type": "text"
      },
      "source": [
        "=================複数の値を一つの変数で扱える型==============="
      ]
    },
    {
      "cell_type": "markdown",
      "metadata": {
        "id": "NluSgVYZtIdc",
        "colab_type": "text"
      },
      "source": [
        "============リスト型==========<br>\n",
        "![リスト型の図](https://it-theta.com/wp-content/uploads/2017/10/python3-1.png)\n"
      ]
    },
    {
      "cell_type": "code",
      "metadata": {
        "id": "VW0MZC7ctk9x",
        "colab_type": "code",
        "colab": {}
      },
      "source": [
        "# リストの定義は[]（角括弧）で行い、中身はコンマ(,)で区切る。\n",
        "example_list = [1, 2.2, 'aiu']  #←リストの定義\n"
      ],
      "execution_count": 0,
      "outputs": []
    },
    {
      "cell_type": "code",
      "metadata": {
        "id": "aljO0H9CzSy5",
        "colab_type": "code",
        "colab": {
          "base_uri": "https://localhost:8080/",
          "height": 89
        },
        "outputId": "4049dd28-4fd9-40b6-d3b3-4742be44ac75"
      },
      "source": [
        "#リストの各要素には　リスト名[添え字]　でアクセスできる\n",
        "print(example_list)\n",
        "print(example_list[0])\n",
        "print(example_list[1])\n",
        "print(example_list[2])"
      ],
      "execution_count": 16,
      "outputs": [
        {
          "output_type": "stream",
          "text": [
            "[1, 2.2, 'aiu']\n",
            "1\n",
            "2.2\n",
            "aiu\n"
          ],
          "name": "stdout"
        }
      ]
    },
    {
      "cell_type": "code",
      "metadata": {
        "id": "4ttJsETHu6QB",
        "colab_type": "code",
        "colab": {
          "base_uri": "https://localhost:8080/",
          "height": 53
        },
        "outputId": "d03b99f7-1435-4744-a4d0-92565ca88bc5"
      },
      "source": [
        "# リストに要素を追加したり、リストから要素を削除したりしてみよう\n",
        "\n",
        "#要素の追加\n",
        "example_list.append('new_string')\n",
        "print(example_list)\n",
        "\n",
        "# 要素の削除\n",
        "example_list.pop(0)\n",
        "print(example_list)"
      ],
      "execution_count": 14,
      "outputs": [
        {
          "output_type": "stream",
          "text": [
            "[2.2, 'aiu', 'new_string', 'new_string']\n",
            "['aiu', 'new_string', 'new_string']\n"
          ],
          "name": "stdout"
        }
      ]
    },
    {
      "cell_type": "code",
      "metadata": {
        "id": "AawmL2xazYqW",
        "colab_type": "code",
        "colab": {}
      },
      "source": [
        "#example_listにappendで適当な要素を追加してみよう\n",
        "example_list\n",
        "print(example_list)"
      ],
      "execution_count": 0,
      "outputs": []
    },
    {
      "cell_type": "markdown",
      "metadata": {
        "id": "apdxYkCIyIf8",
        "colab_type": "text"
      },
      "source": [
        "=================辞書型==================<br>\n",
        "辞書型は、値と値を結びつける役割をもつ。<br>\n",
        "例）りんご　　120円<br>\n",
        "　　みかん　　80円 <br>\n",
        "　　なし　　　150円<br>\n",
        "という対応を考える。<br>\n",
        "1つずつ変数を用意することもできるが、めんどくさい<br>\n",
        "→辞書型が活躍する！"
      ]
    },
    {
      "cell_type": "code",
      "metadata": {
        "id": "Q9rueuJIvwJi",
        "colab_type": "code",
        "colab": {}
      },
      "source": [
        "#辞書型の定義　中括弧の中に　キー1:値1, キー2:値2, ・・・のようにかく。\n",
        "example_dictionary = {'りんご':120, 'みかん':80, 'なし':250}"
      ],
      "execution_count": 0,
      "outputs": []
    },
    {
      "cell_type": "code",
      "metadata": {
        "id": "QOYHNY461B_H",
        "colab_type": "code",
        "colab": {
          "base_uri": "https://localhost:8080/",
          "height": 35
        },
        "outputId": "484be95f-6a96-4d17-881b-9b62e8cd85c1"
      },
      "source": [
        "# 各要素にアクセスするときは、辞書名[キー]とかく。\n",
        "print(example_dictionary['なし'])"
      ],
      "execution_count": 19,
      "outputs": [
        {
          "output_type": "stream",
          "text": [
            "250\n"
          ],
          "name": "stdout"
        }
      ]
    },
    {
      "cell_type": "code",
      "metadata": {
        "id": "7VEAWn7L1QWO",
        "colab_type": "code",
        "colab": {
          "base_uri": "https://localhost:8080/",
          "height": 35
        },
        "outputId": "a38e536c-3f5f-4e28-d79a-acb173a8108c"
      },
      "source": [
        "#辞書にどんなキーが入っているか知りたいときは、辞書名.keys()ですべて表示できる\n",
        "print(example_dictionary.keys())"
      ],
      "execution_count": 20,
      "outputs": [
        {
          "output_type": "stream",
          "text": [
            "dict_keys(['りんご', 'みかん', 'なし'])\n"
          ],
          "name": "stdout"
        }
      ]
    },
    {
      "cell_type": "markdown",
      "metadata": {
        "id": "KSt3uhSy150C",
        "colab_type": "text"
      },
      "source": [
        "==============タプル==============<br>\n",
        "タプルは(要素１, 要素２,要素３, ・・・)で定義する。"
      ]
    },
    {
      "cell_type": "code",
      "metadata": {
        "id": "l9kYk2Ct1vyz",
        "colab_type": "code",
        "colab": {
          "base_uri": "https://localhost:8080/",
          "height": 35
        },
        "outputId": "55701cff-6c23-45e6-d29f-6e1d41496c35"
      },
      "source": [
        "# タプルの定義\n",
        "example_tuple = (1, 2.222, 'awawawa～↑')\n",
        "print(example_tuple)"
      ],
      "execution_count": 21,
      "outputs": [
        {
          "output_type": "stream",
          "text": [
            "(1, 2.222, 'awawawa～↑')\n"
          ],
          "name": "stdout"
        }
      ]
    },
    {
      "cell_type": "code",
      "metadata": {
        "id": "gTFYBMlL2upD",
        "colab_type": "code",
        "colab": {}
      },
      "source": [
        "# タプルは要素数・要素の中身などを変更することができない。\n",
        "# 何があっても変更されたくない値の組　を変数に入れておくことができる。\n",
        "\n",
        "# 例　トランプのカード。　クローバーのA　について、マークか数字が変更されると深刻なバグのもととなる。\n",
        "card_spade_A = ('spade', 1)"
      ],
      "execution_count": 0,
      "outputs": []
    },
    {
      "cell_type": "code",
      "metadata": {
        "id": "-phcrRei3WWb",
        "colab_type": "code",
        "colab": {
          "base_uri": "https://localhost:8080/",
          "height": 173
        },
        "outputId": "d367353f-a363-4f3c-c397-07ced6958a21"
      },
      "source": [
        "# 値を変更しようとするとエラーが出る。\n",
        "card_spade_A[0] = 'heart'"
      ],
      "execution_count": 23,
      "outputs": [
        {
          "output_type": "error",
          "ename": "TypeError",
          "evalue": "ignored",
          "traceback": [
            "\u001b[0;31m---------------------------------------------------------------------------\u001b[0m",
            "\u001b[0;31mTypeError\u001b[0m                                 Traceback (most recent call last)",
            "\u001b[0;32m<ipython-input-23-94294df451cc>\u001b[0m in \u001b[0;36m<module>\u001b[0;34m()\u001b[0m\n\u001b[0;32m----> 1\u001b[0;31m \u001b[0mcard_spade_A\u001b[0m\u001b[0;34m[\u001b[0m\u001b[0;36m0\u001b[0m\u001b[0;34m]\u001b[0m \u001b[0;34m=\u001b[0m \u001b[0;34m'heart'\u001b[0m\u001b[0;34m\u001b[0m\u001b[0;34m\u001b[0m\u001b[0m\n\u001b[0m",
            "\u001b[0;31mTypeError\u001b[0m: 'tuple' object does not support item assignment"
          ]
        }
      ]
    }
  ]
}