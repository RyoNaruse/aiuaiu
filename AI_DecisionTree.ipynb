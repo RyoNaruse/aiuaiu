{
  "nbformat": 4,
  "nbformat_minor": 0,
  "metadata": {
    "colab": {
      "name": "AI_DecisionTree",
      "provenance": [],
      "authorship_tag": "ABX9TyN71ZZ2VUuXDzt+Pn9TTeh5",
      "include_colab_link": true
    },
    "kernelspec": {
      "name": "python3",
      "display_name": "Python 3"
    }
  },
  "cells": [
    {
      "cell_type": "markdown",
      "metadata": {
        "id": "view-in-github",
        "colab_type": "text"
      },
      "source": [
        "<a href=\"https://colab.research.google.com/github/RyoNaruse/aiuaiu/blob/master/AI_DecisionTree.ipynb\" target=\"_parent\"><img src=\"https://colab.research.google.com/assets/colab-badge.svg\" alt=\"Open In Colab\"/></a>"
      ]
    },
    {
      "cell_type": "markdown",
      "metadata": {
        "id": "KfRDE9zNE6u1",
        "colab_type": "text"
      },
      "source": [
        "前回の復習"
      ]
    },
    {
      "cell_type": "code",
      "metadata": {
        "id": "VDHW6mchFAzB",
        "colab_type": "code",
        "colab": {}
      },
      "source": [
        "#プログラムは　変数　関数　制御文　で構成される。\n",
        "#変数に値を代入する。\n",
        "x = 3       #整数\n",
        "y = 5       #小数\n",
        "z = 'aiu'   #文字列\n",
        "\n",
        "#関数を定義する\n",
        "def sum(a,b):\n",
        "    return a + b\n",
        "\n",
        "#関数を実行する\n",
        "print(sum(x,y))"
      ],
      "execution_count": 0,
      "outputs": []
    },
    {
      "cell_type": "markdown",
      "metadata": {
        "id": "eCKJa4YNFsDn",
        "colab_type": "text"
      },
      "source": [
        "変数の型の紹介　　～複数の値をまとめて扱える型～"
      ]
    },
    {
      "cell_type": "code",
      "metadata": {
        "id": "5kYZIPT4F3RV",
        "colab_type": "code",
        "colab": {}
      },
      "source": [
        "#リスト型\n",
        "\n",
        "#リストを作成する\n",
        "test_list = [5, 'aiu', 'honya']"
      ],
      "execution_count": 0,
      "outputs": []
    },
    {
      "cell_type": "code",
      "metadata": {
        "id": "H_ywNbNcG1jh",
        "colab_type": "code",
        "colab": {}
      },
      "source": [
        "#リスト全体を表示する\n",
        "print(test_list)"
      ],
      "execution_count": 0,
      "outputs": []
    },
    {
      "cell_type": "code",
      "metadata": {
        "id": "Lp8F_vBzHMlY",
        "colab_type": "code",
        "colab": {}
      },
      "source": [
        "#リストの各要素を表示する\n",
        "print(test_list[0])\n",
        "print(test_list[1])\n",
        "print(test_list[2])"
      ],
      "execution_count": 0,
      "outputs": []
    },
    {
      "cell_type": "code",
      "metadata": {
        "id": "qDOba9kzHogu",
        "colab_type": "code",
        "colab": {}
      },
      "source": [
        "#リスト型　すなわち　リストクラスの関数を使って新しい要素を追加する\n",
        "\n",
        "test_list.append('HERE COMES A NEW ITEM!')\n",
        "print(test_list)"
      ],
      "execution_count": 0,
      "outputs": []
    },
    {
      "cell_type": "code",
      "metadata": {
        "id": "tAMVpLXBIgNb",
        "colab_type": "code",
        "colab": {}
      },
      "source": [
        ""
      ],
      "execution_count": 0,
      "outputs": []
    },
    {
      "cell_type": "code",
      "metadata": {
        "id": "4bSaZYzUHXTA",
        "colab_type": "code",
        "colab": {}
      },
      "source": [
        "#辞書型\n",
        "\n",
        "#辞書を生成する\n",
        "test_dictionary = {'mikan':50, 'ringo':150, 'itigo':100}"
      ],
      "execution_count": 0,
      "outputs": []
    },
    {
      "cell_type": "code",
      "metadata": {
        "id": "-G4qe49qJJu9",
        "colab_type": "code",
        "colab": {}
      },
      "source": [
        "#辞書のキーから値を取得して表示する\n",
        "print(test_dictionary['itigo'])"
      ],
      "execution_count": 0,
      "outputs": []
    },
    {
      "cell_type": "code",
      "metadata": {
        "id": "6LyAu1GUJaTk",
        "colab_type": "code",
        "colab": {}
      },
      "source": [
        "#辞書型　すなわち　辞書クラスの関数を使って辞書のキーのみを取得する\n",
        "print(test_dictionary.keys())"
      ],
      "execution_count": 0,
      "outputs": []
    },
    {
      "cell_type": "code",
      "metadata": {
        "id": "naeE2icBJwbj",
        "colab_type": "code",
        "colab": {}
      },
      "source": [
        "#クラス\n",
        "\n",
        "#クラスを定義する\n",
        "class TestClass:\n",
        "    \n",
        "    def __init__(self,x):   #self　はこのクラスのインスタンスのこと。クラスの関数定義時に第一引数に書く約束がある。\n",
        "        self.a = x          #self.a はこのクラスがもっている変数\n",
        "    \n",
        "    def show_a(self):\n",
        "        print(self.a)"
      ],
      "execution_count": 0,
      "outputs": []
    },
    {
      "cell_type": "code",
      "metadata": {
        "id": "Pm5bLSnKK6oA",
        "colab_type": "code",
        "colab": {}
      },
      "source": [
        "#インスタンスを生成して、関数を使用してみましょう。\n",
        "instance1 = TestClass(3)\n",
        "instance1.show_a()"
      ],
      "execution_count": 0,
      "outputs": []
    },
    {
      "cell_type": "code",
      "metadata": {
        "id": "-UVjVzpILBN3",
        "colab_type": "code",
        "colab": {}
      },
      "source": [
        "#別のインスタンスを生成して、関数を使用してみましょう。\n",
        "instance2 = TestClass(5)\n",
        "instance2.show_a()"
      ],
      "execution_count": 0,
      "outputs": []
    },
    {
      "cell_type": "code",
      "metadata": {
        "id": "gABkFig5MhX7",
        "colab_type": "code",
        "colab": {}
      },
      "source": [
        ""
      ],
      "execution_count": 0,
      "outputs": []
    },
    {
      "cell_type": "code",
      "metadata": {
        "id": "BmDd6tUkMinH",
        "colab_type": "code",
        "colab": {}
      },
      "source": [
        ""
      ],
      "execution_count": 0,
      "outputs": []
    },
    {
      "cell_type": "markdown",
      "metadata": {
        "id": "XPPBmQ9vGbky",
        "colab_type": "text"
      },
      "source": [
        "～～～データのダウンロードからデータの解説～～～"
      ]
    },
    {
      "cell_type": "code",
      "metadata": {
        "id": "ALSypRnN5nZJ",
        "colab_type": "code",
        "colab": {}
      },
      "source": [
        "#sklearnの中のdatasetsに入っている関数群のうち、load_breast_cancerを使います。\n",
        "#これによって、米国ウィスコンシン州で集められた乳がんのデータセットをダウンロードできます。\n",
        "\n",
        "from sklearn.datasets import load_breast_cancer"
      ],
      "execution_count": 0,
      "outputs": []
    },
    {
      "cell_type": "code",
      "metadata": {
        "id": "pgWntT1e6yt6",
        "colab_type": "code",
        "colab": {}
      },
      "source": [
        "#乳がんのデータをロードして変数に入れます。\n",
        "\n",
        "cancer_data = load_breast_cancer()"
      ],
      "execution_count": 0,
      "outputs": []
    },
    {
      "cell_type": "code",
      "metadata": {
        "id": "upRiczRp-WAB",
        "colab_type": "code",
        "colab": {}
      },
      "source": [
        "#変数の中身を表示してみましょう。\n",
        "\n",
        "cancer_data"
      ],
      "execution_count": 0,
      "outputs": []
    },
    {
      "cell_type": "code",
      "metadata": {
        "id": "CG-4PXe_7Eo1",
        "colab_type": "code",
        "colab": {}
      },
      "source": [
        "#データは辞書型(辞書クラス)です。\n",
        "# キーを見てみましょう\n",
        "\n",
        "print(cancer_data.keys())"
      ],
      "execution_count": 0,
      "outputs": []
    },
    {
      "cell_type": "markdown",
      "metadata": {
        "id": "HfDi2aprFjjx",
        "colab_type": "text"
      },
      "source": [
        "dataには数値データが入っています。<br>\n",
        "targetには、各数値データに対応する正解ラベル（悪性が0、良性が1という表現）が入っています。<br>\n",
        "target_namesには悪性、良性が入っています。<br>\n",
        "feature_namesにはデータを構成する特徴量の名前が入っています。<br>"
      ]
    },
    {
      "cell_type": "code",
      "metadata": {
        "id": "UoqgHVfA7leN",
        "colab_type": "code",
        "colab": {}
      },
      "source": [
        "# まずはデータがどのような特徴量で構成されているか見てみましょう。\n",
        "\n",
        "print(cancer_data['feature_names'])"
      ],
      "execution_count": 0,
      "outputs": []
    },
    {
      "cell_type": "markdown",
      "metadata": {
        "id": "2dsEkdn07zNl",
        "colab_type": "text"
      },
      "source": [
        "「平均半径」「平均テクスチャ（グレースケール値の標準偏差）」「平均周辺」「平均面積」\n",
        " 「平均的な滑らかさ」「平均的なコンパクトさ」「平均的な凹面」\n",
        " 「平均凹点」「平均対称性」「平均フラクタル次元（フラクタル幾何学において、より細かなスケールへと拡大するにつれあるフラクタルがどれだけ完全に空間を満たしているように見えるかを示す統計的な量）」\n",
        " 「半径エラー（エラーは誤差）」「テクスチャエラー」「周辺エラー」「エリアエラー」\n",
        " 「滑らかさエラー」「コンパクトエラー」「凹みエラー」\n",
        " 「凹点エラー」「対称エラー」「フラクタル次元エラー」\n",
        " 「最悪の半径（一番大きいところの半径）」「最悪のテクスチャ」「最悪の周囲」「最悪の領域」\n",
        " 「最悪の滑らかさ」「最悪のコンパクトさ」「最悪の凹み」\n",
        " 「最悪の凹点」「最悪の対称性」「最悪のフラクタル次元」"
      ]
    },
    {
      "cell_type": "code",
      "metadata": {
        "id": "VyixhDll7L0B",
        "colab_type": "code",
        "colab": {}
      },
      "source": [
        "# データの値を見てみましょう。\n",
        "\n",
        "print(cancer_data['data'])"
      ],
      "execution_count": 0,
      "outputs": []
    },
    {
      "cell_type": "code",
      "metadata": {
        "id": "_stbHzCg7aSr",
        "colab_type": "code",
        "colab": {}
      },
      "source": [
        "# データを表形式にして見てみましょう。\n",
        "# まず表形式にして変数に入れます。\n",
        "\n",
        "import pandas as pd\n",
        "data_frame = pd.DataFrame(cancer_data['data'], columns=cancer_data['feature_names'])\n",
        "print('次のセルも実行してね！')"
      ],
      "execution_count": 0,
      "outputs": []
    },
    {
      "cell_type": "code",
      "metadata": {
        "id": "FcnIqQsT81dK",
        "colab_type": "code",
        "colab": {}
      },
      "source": [
        "#続いて作った表形式データを表示しましょう。\n",
        "\n",
        "data_frame"
      ],
      "execution_count": 0,
      "outputs": []
    },
    {
      "cell_type": "code",
      "metadata": {
        "id": "wnO0Dwk57UKT",
        "colab_type": "code",
        "colab": {}
      },
      "source": [
        "#今度は各データに対応する正解のラベルがどのような順番で並んでいるか見てみましょう。\n",
        "\n",
        "print(cancer_data['target'])\n",
        "#0が悪銭、1が良性"
      ],
      "execution_count": 0,
      "outputs": []
    },
    {
      "cell_type": "markdown",
      "metadata": {
        "id": "MkRrj7UBD_fI",
        "colab_type": "text"
      },
      "source": [
        "データと正解ラベルの対応を補足"
      ]
    },
    {
      "cell_type": "markdown",
      "metadata": {
        "id": "Rz6PTUrAGkvG",
        "colab_type": "text"
      },
      "source": [
        "～～～教師あり機械学習で与えられたデータをもつ腫瘍が悪性か良性か予測してみる～～～"
      ]
    },
    {
      "cell_type": "code",
      "metadata": {
        "id": "oivAdnGG9TEW",
        "colab_type": "code",
        "colab": {}
      },
      "source": [
        "#機械学習に必要なライブラリと関数をインポートします。\n",
        "from sklearn.tree import DecisionTreeClassifier, export_graphviz\n",
        "from sklearn.model_selection import train_test_split\n",
        "from sklearn.metrics import confusion_matrix, accuracy_score"
      ],
      "execution_count": 0,
      "outputs": []
    },
    {
      "cell_type": "markdown",
      "metadata": {
        "id": "JeRbJSfqB8b3",
        "colab_type": "text"
      },
      "source": [
        "DecisionTreeClassifier・・・分類木クラスのインスタンスを生成する関数です。分類してくれるマシーンです。<br>\n",
        "export_graphviz・・・決定木を可視化する時に必要です。<br>\n",
        "train_test_split・・・データと正解ラベルを、訓練用データと分類性能評価用（テスト用）データに分けます。<br>\n",
        "confusion_matrix・・・正解ラベルと予想ラベルを表形式で表示します。<br>\n",
        "accuracy_score・・・正解率を計算してくれます。\n"
      ]
    },
    {
      "cell_type": "markdown",
      "metadata": {
        "id": "5JcYRjx_ELlO",
        "colab_type": "text"
      },
      "source": [
        "train_test_spritの補足"
      ]
    },
    {
      "cell_type": "code",
      "metadata": {
        "id": "guFznnLj9-Zf",
        "colab_type": "code",
        "colab": {}
      },
      "source": [
        "#全てのデータと全ての正解ラベルを、訓練用データ、訓練用正解ラベル、テスト用データ、テスト用正解ラベル、に分割します。\n",
        "#データの正解ラベルの対応は保たれます。\n",
        "# train_sizeは訓練用データの全体に占める割合です。\n",
        "\n",
        "X_train, X_test, y_train, y_test = train_test_split(cancer_data['data'], cancer_data['target'],train_size=0.8)"
      ],
      "execution_count": 0,
      "outputs": []
    },
    {
      "cell_type": "code",
      "metadata": {
        "id": "2XGAE5H1-Rkz",
        "colab_type": "code",
        "colab": {}
      },
      "source": [
        "#分類器のインスタンスを生成しましょう。\n",
        "\n",
        "model = DecisionTreeClassifier(max_depth=3) #←まだ枝が1本もない分類木。最大の深さは3までに制限する。\n",
        "model.fit(X_train,y_train)                  #←これで枝が生える。最大の深さが3まで木が成長する。"
      ],
      "execution_count": 0,
      "outputs": []
    },
    {
      "cell_type": "markdown",
      "metadata": {
        "id": "hocPaa5IElXb",
        "colab_type": "text"
      },
      "source": [
        "予測と性能評価の補足"
      ]
    },
    {
      "cell_type": "code",
      "metadata": {
        "id": "nnnPF8_R-n77",
        "colab_type": "code",
        "colab": {}
      },
      "source": [
        "#試しにテスト用データから、正解ラベルを予想して出力してみましょう。\n",
        "#予測には関数predictを使います。\n",
        "\n",
        "predictions = model.predict(X_test)\n",
        "print(predictions)"
      ],
      "execution_count": 0,
      "outputs": []
    },
    {
      "cell_type": "code",
      "metadata": {
        "id": "CoIaCo3j-wvp",
        "colab_type": "code",
        "colab": {}
      },
      "source": [
        "# 上で行った予測の正解率を計算してみましょう。\n",
        "\n",
        "accuracy_score(predictions, y_test)"
      ],
      "execution_count": 0,
      "outputs": []
    },
    {
      "cell_type": "code",
      "metadata": {
        "id": "TgpgtDuI_JZp",
        "colab_type": "code",
        "colab": {}
      },
      "source": [
        "# 混合行列を表示して、予測がどのように間違っているかみてみましょう。\n",
        "\n",
        "confusion_matrix(predictions, y_test)"
      ],
      "execution_count": 0,
      "outputs": []
    },
    {
      "cell_type": "markdown",
      "metadata": {
        "id": "1D9kvANFEuZM",
        "colab_type": "text"
      },
      "source": [
        "混合行列の補足"
      ]
    },
    {
      "cell_type": "code",
      "metadata": {
        "id": "qjHTrrzS_NW2",
        "colab_type": "code",
        "colab": {}
      },
      "source": [
        "#決定木がどのような構成になっているか可視化してみましょう。\n",
        "import pydotplus\n",
        "from IPython.display import Image\n",
        "from graphviz import Digraph\n",
        "\n",
        "dot_data = export_graphviz(\n",
        "    model,\n",
        "    out_file=None,\n",
        "    feature_names=cancer_data.feature_names,\n",
        "    class_names=cancer_data.target_names,\n",
        "    filled=True,\n",
        "    proportion=True)\n",
        "graph = pydotplus.graph_from_dot_data(dot_data)\n",
        "Image(graph.create_png())"
      ],
      "execution_count": 0,
      "outputs": []
    },
    {
      "cell_type": "code",
      "metadata": {
        "id": "1ewjOSDTAKuG",
        "colab_type": "code",
        "colab": {}
      },
      "source": [
        "#また別の感じで可視化するために、ライブラリをインストールします。\n",
        "!pip install dtreeviz\n",
        "print('次のセルも実行してね！')"
      ],
      "execution_count": 0,
      "outputs": []
    },
    {
      "cell_type": "code",
      "metadata": {
        "id": "BjLxJ4pV_udx",
        "colab_type": "code",
        "colab": {}
      },
      "source": [
        "# 決定木の可視化その2\n",
        "from dtreeviz.trees import dtreeviz\n",
        "\n",
        "viz = dtreeviz(\n",
        "    model,\n",
        "    cancer_data.data, \n",
        "    cancer_data.target,\n",
        "    target_name='variety',\n",
        "    feature_names=cancer_data.feature_names,\n",
        "    class_names=[str(i) for i in cancer_data.target_names],\n",
        ") \n",
        "\n",
        "display(viz)"
      ],
      "execution_count": 0,
      "outputs": []
    },
    {
      "cell_type": "code",
      "metadata": {
        "id": "P3o6Wa73_-Fz",
        "colab_type": "code",
        "colab": {}
      },
      "source": [
        "# 以下お遊びスペース"
      ],
      "execution_count": 0,
      "outputs": []
    },
    {
      "cell_type": "code",
      "metadata": {
        "id": "PjBKTMnwIZo0",
        "colab_type": "code",
        "colab": {}
      },
      "source": [
        ""
      ],
      "execution_count": 0,
      "outputs": []
    },
    {
      "cell_type": "code",
      "metadata": {
        "id": "KhZkKb2gIaJ7",
        "colab_type": "code",
        "colab": {}
      },
      "source": [
        ""
      ],
      "execution_count": 0,
      "outputs": []
    },
    {
      "cell_type": "code",
      "metadata": {
        "id": "i-mTVYhaRmOT",
        "colab_type": "code",
        "colab": {}
      },
      "source": [
        ""
      ],
      "execution_count": 0,
      "outputs": []
    }
  ]
}