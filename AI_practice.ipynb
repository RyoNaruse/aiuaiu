{
  "nbformat": 4,
  "nbformat_minor": 0,
  "metadata": {
    "colab": {
      "name": "AI_practice",
      "provenance": [],
      "authorship_tag": "ABX9TyPtryshXqP6IZ75BOAp7WPu",
      "include_colab_link": true
    },
    "kernelspec": {
      "name": "python3",
      "display_name": "Python 3"
    }
  },
  "cells": [
    {
      "cell_type": "markdown",
      "metadata": {
        "id": "view-in-github",
        "colab_type": "text"
      },
      "source": [
        "<a href=\"https://colab.research.google.com/github/RyoNaruse/aiuaiu/blob/master/AI_practice.ipynb\" target=\"_parent\"><img src=\"https://colab.research.google.com/assets/colab-badge.svg\" alt=\"Open In Colab\"/></a>"
      ]
    },
    {
      "cell_type": "markdown",
      "metadata": {
        "id": "p6LRNFDSisiO",
        "colab_type": "text"
      },
      "source": [
        "1. githubリポジトリ内のjupyter notebookを開く\n",
        "2. URLの”https://github.com\" を ”https://colab.research.google.com/github” に置き換えてEnter。"
      ]
    },
    {
      "cell_type": "markdown",
      "metadata": {
        "id": "f8vVW_NIY3Td",
        "colab_type": "text"
      },
      "source": [
        "～～～～～プログラミングのキホンのキ～～～～～"
      ]
    },
    {
      "cell_type": "code",
      "metadata": {
        "id": "IoQgNfr2pmNm",
        "colab_type": "code",
        "outputId": "3ca43afe-7037-43b4-f97c-1bd68a17004d",
        "colab": {
          "base_uri": "https://localhost:8080/",
          "height": 53
        }
      },
      "source": [
        "#変数に値を代入してみよう！\n",
        "#変数の中身を表示してみよう！\n",
        "x = 3\n",
        "print(x)\n",
        "print(type(x))"
      ],
      "execution_count": 0,
      "outputs": [
        {
          "output_type": "stream",
          "text": [
            "3\n",
            "<class 'int'>\n"
          ],
          "name": "stdout"
        }
      ]
    },
    {
      "cell_type": "code",
      "metadata": {
        "id": "tkCI0LbhrXaV",
        "colab_type": "code",
        "outputId": "a52cb90b-a57e-4a62-a33c-39e1eed4df72",
        "colab": {
          "base_uri": "https://localhost:8080/",
          "height": 53
        }
      },
      "source": [
        "y = 0.5\n",
        "print(y)\n",
        "print(type(y))"
      ],
      "execution_count": 0,
      "outputs": [
        {
          "output_type": "stream",
          "text": [
            "0.5\n",
            "<class 'float'>\n"
          ],
          "name": "stdout"
        }
      ]
    },
    {
      "cell_type": "code",
      "metadata": {
        "id": "vwqr2-M0rwO8",
        "colab_type": "code",
        "colab": {}
      },
      "source": [
        "#関数を作ってみよう！\n",
        "def nijou(a):\n",
        "    result = a * a\n",
        "    print(a)\n",
        "    print(type(a))\n",
        "    print(result)\n",
        "    return result"
      ],
      "execution_count": 0,
      "outputs": []
    },
    {
      "cell_type": "code",
      "metadata": {
        "id": "5GyFSPGgtpMD",
        "colab_type": "code",
        "outputId": "7401b347-c575-4418-d326-db2f6fae4b0d",
        "colab": {
          "base_uri": "https://localhost:8080/",
          "height": 71
        }
      },
      "source": [
        "#関数を実行してみよう\n",
        "y = nijou(5)"
      ],
      "execution_count": 0,
      "outputs": [
        {
          "output_type": "stream",
          "text": [
            "5\n",
            "<class 'int'>\n",
            "25\n"
          ],
          "name": "stdout"
        }
      ]
    },
    {
      "cell_type": "code",
      "metadata": {
        "id": "pFWFV23gt7jr",
        "colab_type": "code",
        "outputId": "01bfa136-4503-49fb-e901-b686d1ec0269",
        "colab": {
          "base_uri": "https://localhost:8080/",
          "height": 35
        }
      },
      "source": [
        "print(y)"
      ],
      "execution_count": 0,
      "outputs": [
        {
          "output_type": "stream",
          "text": [
            "25\n"
          ],
          "name": "stdout"
        }
      ]
    },
    {
      "cell_type": "code",
      "metadata": {
        "id": "7sXTbE58uh4e",
        "colab_type": "code",
        "outputId": "db1e2fd3-8223-446f-f8da-a9474a996bec",
        "colab": {
          "base_uri": "https://localhost:8080/",
          "height": 107
        }
      },
      "source": [
        "#キーボードから入力を取得するinput関数を使う\n",
        "a = int(input())\n",
        "print(nijou(a))"
      ],
      "execution_count": 0,
      "outputs": [
        {
          "output_type": "stream",
          "text": [
            "6\n",
            "6\n",
            "<class 'int'>\n",
            "36\n",
            "36\n"
          ],
          "name": "stdout"
        }
      ]
    },
    {
      "cell_type": "markdown",
      "metadata": {
        "id": "mC5cq8GnZpyr",
        "colab_type": "text"
      },
      "source": [
        "～～～～～手書き文字分類～～～～～"
      ]
    },
    {
      "cell_type": "code",
      "metadata": {
        "id": "FzYj-EEPvGNm",
        "colab_type": "code",
        "colab": {}
      },
      "source": [
        "#データのダウンロード\n",
        "from sklearn import  datasets\n",
        "mnist = datasets.load_digits()"
      ],
      "execution_count": 0,
      "outputs": []
    },
    {
      "cell_type": "code",
      "metadata": {
        "id": "vmePlrVuwtw2",
        "colab_type": "code",
        "outputId": "9cc49599-c945-49d8-d054-9ba4e8a2fc75",
        "colab": {
          "base_uri": "https://localhost:8080/",
          "height": 232
        }
      },
      "source": [
        "#データの確認\n",
        "import matplotlib.pyplot as plt\n",
        "\n",
        "for i in range(30):\n",
        "    plt.subplot(3,10,i+1)\n",
        "    plt.imshow(mnist.images[i],'gray')\n",
        "plt.show()"
      ],
      "execution_count": 0,
      "outputs": [
        {
          "output_type": "display_data",
          "data": {
            "image/png": "[encoded data removed]",
            "text/plain": [
              "<Figure size 432x288 with 30 Axes>"
            ]
          },
          "metadata": {
            "tags": []
          }
        }
      ]
    },
    {
      "cell_type": "code",
      "metadata": {
        "id": "QK3c-f7yyKeC",
        "colab_type": "code",
        "outputId": "dc65c04a-12ee-48dd-c3c1-eb4d2fe19d5e",
        "colab": {
          "base_uri": "https://localhost:8080/",
          "height": 426
        }
      },
      "source": [
        "print(mnist.images.shape)\n",
        "\n",
        "plt.subplot(1,1,1)  \n",
        "plt.imshow(mnist.images[0],'gray')  #画像として表示\n",
        "plt.show()\n",
        "\n",
        "print(mnist.images[0])  #行列として表示"
      ],
      "execution_count": 0,
      "outputs": [
        {
          "output_type": "stream",
          "text": [
            "(1797, 8, 8)\n"
          ],
          "name": "stdout"
        },
        {
          "output_type": "display_data",
          "data": {
            "image/png": "[encoded data removed]",
            "text/plain": [
              "<Figure size 432x288 with 1 Axes>"
            ]
          },
          "metadata": {
            "tags": []
          }
        },
        {
          "output_type": "stream",
          "text": [
            "[[ 0.  0.  5. 13.  9.  1.  0.  0.]\n",
            " [ 0.  0. 13. 15. 10. 15.  5.  0.]\n",
            " [ 0.  3. 15.  2.  0. 11.  8.  0.]\n",
            " [ 0.  4. 12.  0.  0.  8.  8.  0.]\n",
            " [ 0.  5.  8.  0.  0.  9.  8.  0.]\n",
            " [ 0.  4. 11.  0.  1. 12.  7.  0.]\n",
            " [ 0.  2. 14.  5. 10. 12.  0.  0.]\n",
            " [ 0.  0.  6. 13. 10.  0.  0.  0.]]\n"
          ],
          "name": "stdout"
        }
      ]
    },
    {
      "cell_type": "code",
      "metadata": {
        "id": "oY2hW9Q50brH",
        "colab_type": "code",
        "outputId": "e16e70ca-28a2-4053-dab5-2c158eb57f03",
        "colab": {
          "base_uri": "https://localhost:8080/",
          "height": 89
        }
      },
      "source": [
        "print(mnist.data[0])   #横に並べた配列として表示"
      ],
      "execution_count": 0,
      "outputs": [
        {
          "output_type": "stream",
          "text": [
            "[ 0.  0.  5. 13.  9.  1.  0.  0.  0.  0. 13. 15. 10. 15.  5.  0.  0.  3.\n",
            " 15.  2.  0. 11.  8.  0.  0.  4. 12.  0.  0.  8.  8.  0.  0.  5.  8.  0.\n",
            "  0.  9.  8.  0.  0.  4. 11.  0.  1. 12.  7.  0.  0.  2. 14.  5. 10. 12.\n",
            "  0.  0.  0.  0.  6. 13. 10.  0.  0.  0.]\n"
          ],
          "name": "stdout"
        }
      ]
    },
    {
      "cell_type": "code",
      "metadata": {
        "id": "YtW_YmIOSr3H",
        "colab_type": "code",
        "outputId": "8ccda071-f39b-4670-c1b2-88b7092dbcd5",
        "colab": {
          "base_uri": "https://localhost:8080/",
          "height": 35
        }
      },
      "source": [
        "print(mnist.target)"
      ],
      "execution_count": 0,
      "outputs": [
        {
          "output_type": "stream",
          "text": [
            "[0 1 2 ... 8 9 8]\n"
          ],
          "name": "stdout"
        }
      ]
    },
    {
      "cell_type": "code",
      "metadata": {
        "id": "oBZp1D_E1fL2",
        "colab_type": "code",
        "colab": {}
      },
      "source": [
        "#k-means法でデータを分類してみる\n",
        "from sklearn.cluster import KMeans"
      ],
      "execution_count": 0,
      "outputs": []
    },
    {
      "cell_type": "code",
      "metadata": {
        "id": "_M493mSq6Udo",
        "colab_type": "code",
        "colab": {}
      },
      "source": [
        "model = KMeans(n_clusters=10)   #与えたデータを10個に分ける機械を作成"
      ],
      "execution_count": 0,
      "outputs": []
    },
    {
      "cell_type": "code",
      "metadata": {
        "id": "FajGEadx6c4E",
        "colab_type": "code",
        "outputId": "fc207da4-a7c2-4e9c-bd70-2ec9e324d0bf",
        "colab": {
          "base_uri": "https://localhost:8080/",
          "height": 71
        }
      },
      "source": [
        "model.fit(mnist.data)   #分類を実行"
      ],
      "execution_count": 0,
      "outputs": [
        {
          "output_type": "execute_result",
          "data": {
            "text/plain": [
              "KMeans(algorithm='auto', copy_x=True, init='k-means++', max_iter=300,\n",
              "       n_clusters=10, n_init=10, n_jobs=None, precompute_distances='auto',\n",
              "       random_state=None, tol=0.0001, verbose=0)"
            ]
          },
          "metadata": {
            "tags": []
          },
          "execution_count": 65
        }
      ]
    },
    {
      "cell_type": "code",
      "metadata": {
        "id": "QewIP43y9J9U",
        "colab_type": "code",
        "outputId": "a4a69c57-da61-42a9-d324-27767ab74709",
        "colab": {
          "base_uri": "https://localhost:8080/",
          "height": 1000
        }
      },
      "source": [
        "print(model.cluster_centers_)   #各クラスターの中心を配列で表示"
      ],
      "execution_count": 0,
      "outputs": [
        {
          "output_type": "stream",
          "text": [
            "[1 0 0 ... 0 9 9]\n",
            "[[ 0.00000000e+00  1.12107623e-01  3.98654709e+00  1.18789238e+01\n",
            "   1.23766816e+01  5.38565022e+00  4.34977578e-01 -3.33066907e-16\n",
            "   8.96860987e-03  8.60986547e-01  8.22869955e+00  1.35650224e+01\n",
            "   1.26008969e+01  9.86098655e+00  1.57399103e+00  4.30211422e-16\n",
            "  -1.51788304e-17  1.21973094e+00  8.33632287e+00  1.19147982e+01\n",
            "   1.23408072e+01  9.44843049e+00  1.03139013e+00 -9.02056208e-17\n",
            "  -3.25260652e-18  9.46188341e-01  7.22869955e+00  1.40896861e+01\n",
            "   1.41748879e+01  4.94618834e+00  2.01793722e-01 -6.50521303e-18\n",
            "   0.00000000e+00  7.71300448e-01  8.02242152e+00  1.47847534e+01\n",
            "   1.29013453e+01  2.19730942e+00  1.79372197e-02  0.00000000e+00\n",
            "  -2.60208521e-17  1.23318386e+00  1.05022422e+01  1.20089686e+01\n",
            "   1.21479821e+01  4.04484305e+00  2.01793722e-01  3.46944695e-17\n",
            "   1.34529148e-02  8.78923767e-01  9.60538117e+00  1.15515695e+01\n",
            "   1.21121076e+01  5.60089686e+00  6.18834081e-01  4.48430493e-03\n",
            "   4.48430493e-03  1.12107623e-01  4.19282511e+00  1.19910314e+01\n",
            "   1.26502242e+01  4.87892377e+00  8.11659193e-01  8.96860987e-03]\n",
            " [ 0.00000000e+00  2.23463687e-02  4.22905028e+00  1.31396648e+01\n",
            "   1.12681564e+01  2.93854749e+00  3.35195531e-02 -2.77555756e-16\n",
            "  -2.51534904e-17  8.82681564e-01  1.26201117e+01  1.33687151e+01\n",
            "   1.14078212e+01  1.13687151e+01  9.60893855e-01  3.60822483e-16\n",
            "  -1.25767452e-17  3.72625698e+00  1.42122905e+01  5.25139665e+00\n",
            "   2.10614525e+00  1.21173184e+01  3.53072626e+00  5.55111512e-17\n",
            "  -2.81892565e-18  5.29608939e+00  1.26424581e+01  2.03351955e+00\n",
            "   2.29050279e-01  9.07821229e+00  6.47486034e+00 -5.63785130e-18\n",
            "   0.00000000e+00  5.88268156e+00  1.14916201e+01  8.65921788e-01\n",
            "   3.35195531e-02  8.81005587e+00  7.15083799e+00  0.00000000e+00\n",
            "  -2.25514052e-17  3.51396648e+00  1.32849162e+01  1.65921788e+00\n",
            "   1.49162011e+00  1.13519553e+01  5.84357542e+00 -2.08166817e-17\n",
            "  -2.42861287e-17  8.04469274e-01  1.31117318e+01  9.96089385e+00\n",
            "   1.03519553e+01  1.32960894e+01  2.47486034e+00  2.23463687e-02\n",
            "  -1.40946282e-18  5.58659218e-03  4.19553073e+00  1.35865922e+01\n",
            "   1.33407821e+01  5.48044693e+00  3.18435754e-01  1.67597765e-02]\n",
            " [ 0.00000000e+00 -9.99200722e-16  2.87425150e-01  7.03592814e+00\n",
            "   1.20000000e+01  1.95209581e+00  1.49700599e-01  5.38922156e-02\n",
            "  -2.25514052e-17  1.19760479e-02  3.20958084e+00  1.37185629e+01\n",
            "   8.56886228e+00  1.49101796e+00  9.70059880e-01  3.17365269e-01\n",
            "  -1.12757026e-17  6.22754491e-01  1.05868263e+01  1.16586826e+01\n",
            "   4.34131737e+00  5.18562874e+00  3.91017964e+00  3.53293413e-01\n",
            "   5.98802395e-03  4.70059880e+00  1.47365269e+01  5.95808383e+00\n",
            "   6.82035928e+00  1.07904192e+01  6.27544910e+00  1.79640719e-02\n",
            "   0.00000000e+00  8.91616766e+00  1.48263473e+01  9.38323353e+00\n",
            "   1.28023952e+01  1.44071856e+01  5.46706587e+00  0.00000000e+00\n",
            "   9.58083832e-02  6.42514970e+00  1.15508982e+01  1.22335329e+01\n",
            "   1.47784431e+01  1.08622754e+01  1.58682635e+00 -4.16333634e-17\n",
            "   5.98802395e-02  1.10778443e+00  2.96407186e+00  7.63473054e+00\n",
            "   1.40598802e+01  4.28742515e+00  1.79640719e-02 -4.71844785e-16\n",
            "  -1.40946282e-18  2.39520958e-02  3.47305389e-01  7.83233533e+00\n",
            "   1.24011976e+01  1.84431138e+00 -5.77315973e-15 -6.66133815e-16]\n",
            " [ 0.00000000e+00  1.10000000e+00  9.98666667e+00  1.33600000e+01\n",
            "   1.41400000e+01  1.25466667e+01  4.38666667e+00  4.00000000e-02\n",
            "   6.66666667e-03  4.55333333e+00  1.49400000e+01  1.25866667e+01\n",
            "   8.72666667e+00  7.09333333e+00  2.50666667e+00  3.33333333e-02\n",
            "   1.33333333e-02  6.07333333e+00  1.45400000e+01  5.92666667e+00\n",
            "   1.96666667e+00  1.12666667e+00  2.20000000e-01  1.38777878e-16\n",
            "   6.66666667e-03  5.30000000e+00  1.43466667e+01  1.22800000e+01\n",
            "   7.84000000e+00  2.34000000e+00  1.46666667e-01 -5.20417043e-18\n",
            "   0.00000000e+00  1.93333333e+00  8.11333333e+00  1.00266667e+01\n",
            "   1.02733333e+01  5.54000000e+00  6.33333333e-01  0.00000000e+00\n",
            "  -2.08166817e-17  3.00000000e-01  1.38666667e+00  4.85333333e+00\n",
            "   9.90666667e+00  7.00000000e+00  7.73333333e-01 -7.63278329e-17\n",
            "  -1.99493200e-17  8.00000000e-01  5.02666667e+00  9.46666667e+00\n",
            "   1.21533333e+01  5.24000000e+00  4.40000000e-01 -3.88578059e-16\n",
            "  -1.30104261e-18  1.04666667e+00  1.08200000e+01  1.44866667e+01\n",
            "   7.86666667e+00  1.08000000e+00  2.00000000e-02 -6.10622664e-16]\n",
            " [ 0.00000000e+00 -1.16573418e-15  1.15934066e+00  1.12252747e+01\n",
            "   9.53296703e+00  1.41758242e+00  5.49450549e-03 -3.05311332e-16\n",
            "  -2.51534904e-17  6.04395604e-02  7.18131868e+00  1.45604396e+01\n",
            "   6.19230769e+00  8.29670330e-01  2.74725275e-02  3.74700271e-16\n",
            "  -1.25767452e-17  7.69230769e-01  1.24560440e+01  9.47252747e+00\n",
            "   9.34065934e-01  1.09890110e-01  0.00000000e+00  4.16333634e-17\n",
            "  -3.03576608e-18  2.29670330e+00  1.36208791e+01  8.09340659e+00\n",
            "   3.87362637e+00  1.92857143e+00  1.04395604e-01 -6.07153217e-18\n",
            "   0.00000000e+00  3.52747253e+00  1.46758242e+01  1.29175824e+01\n",
            "   1.22527473e+01  1.02857143e+01  2.71978022e+00  0.00000000e+00\n",
            "  -2.42861287e-17  1.86813187e+00  1.45164835e+01  1.06538462e+01\n",
            "   5.57692308e+00  1.01923077e+01  9.13186813e+00  2.30769231e-01\n",
            "  -2.42861287e-17  1.75824176e-01  1.02857143e+01  1.26263736e+01\n",
            "   5.41758242e+00  1.13241758e+01  1.08956044e+01  6.26373626e-01\n",
            "  -1.51788304e-18 -6.10622664e-16  1.44505495e+00  1.07362637e+01\n",
            "   1.50989011e+01  1.31318681e+01  4.62087912e+00  1.70329670e-01]\n",
            " [ 0.00000000e+00  5.92178771e-01  8.70949721e+00  1.45474860e+01\n",
            "   1.40167598e+01  7.05027933e+00  6.25698324e-01 -2.77555756e-16\n",
            "   1.11731844e-02  4.15642458e+00  1.26256983e+01  9.14525140e+00\n",
            "   1.12402235e+01  1.20167598e+01  1.89385475e+00  1.11731844e-02\n",
            "   5.58659218e-03  1.87709497e+00  3.72625698e+00  3.63687151e+00\n",
            "   1.17765363e+01  9.89944134e+00  8.43575419e-01  5.55111512e-17\n",
            "  -2.81892565e-18  6.14525140e-02  9.72067039e-01  8.22346369e+00\n",
            "   1.38268156e+01  6.79329609e+00  3.01675978e-01 -5.63785130e-18\n",
            "   0.00000000e+00  6.14525140e-02  6.75977654e-01  4.58100559e+00\n",
            "   1.17039106e+01  1.22569832e+01  2.29050279e+00  0.00000000e+00\n",
            "  -2.25514052e-17  4.63687151e-01  1.49720670e+00  6.87150838e-01\n",
            "   4.18435754e+00  1.23966480e+01  6.26815642e+00  5.58659218e-03\n",
            "  -2.42861287e-17  9.44134078e-01  7.41340782e+00  6.62569832e+00\n",
            "   8.60335196e+00  1.36424581e+01  6.05027933e+00  1.73184358e-01\n",
            "  -1.40946282e-18  4.69273743e-01  9.49720670e+00  1.49273743e+01\n",
            "   1.40949721e+01  8.84916201e+00  1.86592179e+00  4.13407821e-01]\n",
            " [ 0.00000000e+00  1.60975610e-01  4.93170732e+00  1.29853659e+01\n",
            "   1.39951220e+01  1.08195122e+01  4.89268293e+00  9.36585366e-01\n",
            "  -2.86229374e-17  1.10731707e+00  1.07121951e+01  1.14926829e+01\n",
            "   1.03365854e+01  1.25317073e+01  5.42926829e+00  5.36585366e-01\n",
            "  -1.43114687e-17  1.17073171e+00  5.54146341e+00  2.31707317e+00\n",
            "   6.89756098e+00  1.15512195e+01  3.33658537e+00  1.12195122e-01\n",
            "  -3.25260652e-18  9.80487805e-01  5.09756098e+00  6.53658537e+00\n",
            "   1.22390244e+01  1.20292683e+01  4.76097561e+00  4.87804878e-03\n",
            "   0.00000000e+00  1.46341463e+00  8.65365854e+00  1.30878049e+01\n",
            "   1.46926829e+01  1.06146341e+01  3.93658537e+00  0.00000000e+00\n",
            "  -2.60208521e-17  1.12195122e+00  5.16097561e+00  1.16146341e+01\n",
            "   1.10048780e+01  3.61951220e+00  5.36585366e-01  1.38777878e-17\n",
            "  -2.68882139e-17  1.02439024e-01  3.01951220e+00  1.23902439e+01\n",
            "   6.25853659e+00  4.04878049e-01  9.75609756e-03 -5.82867088e-16\n",
            "  -1.62630326e-18  1.26829268e-01  6.17073171e+00  1.20780488e+01\n",
            "   2.54146341e+00  2.78048780e-01  3.41463415e-02 -7.21644966e-16]\n",
            " [ 0.00000000e+00  9.42857143e-01  1.01885714e+01  1.44400000e+01\n",
            "   7.77142857e+00  9.82857143e-01 -1.33226763e-15 -2.77555756e-16\n",
            "   2.28571429e-02  5.24000000e+00  1.37200000e+01  1.26228571e+01\n",
            "   1.16914286e+01  3.23428571e+00  1.71428571e-02  3.60822483e-16\n",
            "   1.14285714e-02  4.56000000e+00  8.11428571e+00  6.13714286e+00\n",
            "   1.21600000e+01  3.56000000e+00  1.71428571e-02  7.63278329e-17\n",
            "  -2.81892565e-18  9.65714286e-01  2.81714286e+00  7.00571429e+00\n",
            "   1.25371429e+01  2.56000000e+00  4.00000000e-02 -5.63785130e-18\n",
            "   0.00000000e+00  4.57142857e-02  1.57142857e+00  9.89714286e+00\n",
            "   1.06971429e+01  1.45142857e+00 -7.10542736e-15  0.00000000e+00\n",
            "  -2.25514052e-17  2.51428571e-01  4.45714286e+00  1.12457143e+01\n",
            "   7.74285714e+00  2.37142857e+00  8.45714286e-01  1.14285714e-02\n",
            "  -2.34187669e-17  1.19428571e+00  1.09942857e+01  1.37314286e+01\n",
            "   1.19257143e+01  1.11600000e+01  7.66857143e+00  1.10285714e+00\n",
            "  -1.40946282e-18  9.31428571e-01  1.03885714e+01  1.44685714e+01\n",
            "   1.35028571e+01  1.23542857e+01  8.96571429e+00  2.95428571e+00]\n",
            " [ 0.00000000e+00  2.77555756e-16  3.29670330e-02  1.87912088e+00\n",
            "   1.10109890e+01  1.27472527e+01  4.30769231e+00  2.63736264e-01\n",
            "   1.73472348e-18  5.49450549e-02  2.00000000e+00  8.97802198e+00\n",
            "   1.37802198e+01  1.26923077e+01  5.29670330e+00  2.52747253e-01\n",
            "   8.67361738e-19  1.60439560e+00  8.79120879e+00  1.23736264e+01\n",
            "   1.20439560e+01  1.30329670e+01  3.91208791e+00  8.79120879e-02\n",
            "  -1.30104261e-18  3.61538462e+00  1.19560440e+01  1.17692308e+01\n",
            "   1.30989011e+01  1.35494505e+01  2.43956044e+00 -2.60208521e-18\n",
            "   0.00000000e+00  1.80219780e+00  6.68131868e+00  7.35164835e+00\n",
            "   1.17802198e+01  1.25274725e+01  1.82417582e+00  0.00000000e+00\n",
            "  -1.04083409e-17  8.02197802e-01  2.00000000e+00  3.74725275e+00\n",
            "   1.17582418e+01  1.18461538e+01  1.17582418e+00 -1.73472348e-17\n",
            "  -5.20417043e-18  6.59340659e-02  3.18681319e-01  3.08791209e+00\n",
            "   1.25714286e+01  1.15274725e+01  1.69230769e+00  5.55111512e-17\n",
            "  -6.50521303e-19  5.55111512e-16  5.32907052e-15  1.98901099e+00\n",
            "   1.13406593e+01  1.06483516e+01  1.72527473e+00 -3.33066907e-16]\n",
            " [ 0.00000000e+00  1.95121951e-01  6.47967480e+00  1.25284553e+01\n",
            "   1.18455285e+01  5.63008130e+00  6.26016260e-01  8.13008130e-03\n",
            "   4.06504065e-03  2.61788618e+00  1.39837398e+01  9.19105691e+00\n",
            "   9.43902439e+00  1.03780488e+01  1.28048780e+00  4.06504065e-03\n",
            "  -1.60461922e-17  4.31300813e+00  1.28211382e+01  4.40243902e+00\n",
            "   6.86991870e+00  1.11707317e+01  1.91869919e+00 -1.45716772e-16\n",
            "  -8.67361738e-19  2.32113821e+00  1.04471545e+01  1.18983740e+01\n",
            "   1.31991870e+01  1.20934959e+01  2.49186992e+00 -1.73472348e-18\n",
            "   0.00000000e+00  3.04878049e-01  3.21138211e+00  6.19512195e+00\n",
            "   6.78455285e+00  1.12723577e+01  4.30081301e+00  0.00000000e+00\n",
            "  -6.93889390e-18  2.19512195e-01  2.35365854e+00  1.99593496e+00\n",
            "   1.67479675e+00  1.09512195e+01  6.46341463e+00  1.62601626e-02\n",
            "  -2.94902991e-17  7.47967480e-01  8.05284553e+00  5.60975610e+00\n",
            "   4.69918699e+00  1.22764228e+01  6.01626016e+00  1.13821138e-01\n",
            "  -4.33680869e-19  1.70731707e-01  6.39837398e+00  1.35040650e+01\n",
            "   1.45284553e+01  9.97560976e+00  2.30487805e+00  1.13821138e-01]]\n"
          ],
          "name": "stdout"
        }
      ]
    },
    {
      "cell_type": "code",
      "metadata": {
        "id": "KQN_rxpw9OSt",
        "colab_type": "code",
        "colab": {}
      },
      "source": [
        ""
      ],
      "execution_count": 0,
      "outputs": []
    },
    {
      "cell_type": "code",
      "metadata": {
        "id": "q1-Cxh9K9YS3",
        "colab_type": "code",
        "outputId": "bb3940d0-e438-46af-e0a5-728634c84db2",
        "colab": {
          "base_uri": "https://localhost:8080/",
          "height": 78
        }
      },
      "source": [
        "centers = model.cluster_centers_.reshape(10,8,8)    #各クラスターの中心を画像で表示\n",
        "\n",
        "for i in range(10): \n",
        "    plt.subplot(1,10,i+1)\n",
        "    plt.imshow(centers[i],'gray')\n",
        "plt.show()\n"
      ],
      "execution_count": 0,
      "outputs": [
        {
          "output_type": "display_data",
          "data": {
            "image/png": "[encoded data removed]",
            "text/plain": [
              "<Figure size 432x288 with 10 Axes>"
            ]
          },
          "metadata": {
            "tags": []
          }
        }
      ]
    },
    {
      "cell_type": "code",
      "metadata": {
        "id": "K-w8H2Ur9d9H",
        "colab_type": "code",
        "outputId": "8e0351bf-1435-4836-b86f-59135f67f516",
        "colab": {
          "base_uri": "https://localhost:8080/",
          "height": 196
        }
      },
      "source": [
        "import numpy as np      #「どの数字がどのグループに割り振られたか」を表にしてみる\n",
        "\n",
        "label = np.zeros((10,10), 'int')    #全て0で構成された10行10列のゼロ行列を作成する\n",
        "\n",
        "for i in range(len(mnist.target)):\n",
        "    label[mnist.target[i], model.labels_[i]] += 1\n",
        "    \n",
        "print(label)"
      ],
      "execution_count": 0,
      "outputs": [
        {
          "output_type": "stream",
          "text": [
            "[[  0 177   1   0   0   0   0   0   0   0]\n",
            " [ 99   0   0   1   2   1   0  24  55   0]\n",
            " [  8   1   0   0   0  13   3 148   2   2]\n",
            " [  7   0   0   2   0 155   7   0   0  12]\n",
            " [  3   0 164   0   0   0   9   0   5   0]\n",
            " [  0   0   2 136   1   2   0   0   0  41]\n",
            " [  2   1   0   0 177   0   0   0   1   0]\n",
            " [  2   0   0   1   0   0 174   0   2   0]\n",
            " [100   0   0   4   2   2   5   3   6  52]\n",
            " [  2   0   0   6   0   6   7   0  20 139]]\n"
          ],
          "name": "stdout"
        }
      ]
    },
    {
      "cell_type": "markdown",
      "metadata": {
        "id": "z1gZgeymcPbB",
        "colab_type": "text"
      },
      "source": [
        "～～～～～番外編　教師有り学習で手書き文字を当てる～～～～～"
      ]
    },
    {
      "cell_type": "code",
      "metadata": {
        "id": "sdxwGKT5-nHS",
        "colab_type": "code",
        "colab": {}
      },
      "source": [
        "from sklearn.neighbors import KNeighborsClassifier\n",
        "from sklearn.model_selection import train_test_split\n",
        "from sklearn.metrics import confusion_matrix"
      ],
      "execution_count": 0,
      "outputs": []
    },
    {
      "cell_type": "code",
      "metadata": {
        "id": "pzIiQYM1Xp8j",
        "colab_type": "code",
        "outputId": "4f6c60d6-56bb-4640-eb0f-1f964d31bbad",
        "colab": {
          "base_uri": "https://localhost:8080/",
          "height": 89
        }
      },
      "source": [
        "#データを学習に使うものと、予測に使うものに分ける\n",
        "x_train, x_test, y_train, y_test = train_test_split(mnist.data, mnist.target, train_size=0.5)\n",
        "\n",
        "print(x_train.shape)\n",
        "print(x_test.shape)\n",
        "print(y_train.shape)\n",
        "print(y_test.shape)"
      ],
      "execution_count": 0,
      "outputs": [
        {
          "output_type": "stream",
          "text": [
            "(898, 64)\n",
            "(899, 64)\n",
            "(898,)\n",
            "(899,)\n"
          ],
          "name": "stdout"
        }
      ]
    },
    {
      "cell_type": "code",
      "metadata": {
        "id": "pOpltezoXZwS",
        "colab_type": "code",
        "outputId": "3792a964-f3df-4d1b-da80-b56f27248417",
        "colab": {
          "base_uri": "https://localhost:8080/",
          "height": 71
        }
      },
      "source": [
        "#分類器を作成して、データとその答えを学習させる\n",
        "kn_model = KNeighborsClassifier(n_neighbors=5)\n",
        "kn_model.fit(x_train, y_train)"
      ],
      "execution_count": 0,
      "outputs": [
        {
          "output_type": "execute_result",
          "data": {
            "text/plain": [
              "KNeighborsClassifier(algorithm='auto', leaf_size=30, metric='minkowski',\n",
              "                     metric_params=None, n_jobs=None, n_neighbors=5, p=2,\n",
              "                     weights='uniform')"
            ]
          },
          "metadata": {
            "tags": []
          },
          "execution_count": 93
        }
      ]
    },
    {
      "cell_type": "code",
      "metadata": {
        "id": "UnPlSBqLX2qo",
        "colab_type": "code",
        "outputId": "a54b2956-8f4c-4fb7-f754-c9fc4288cc30",
        "colab": {
          "base_uri": "https://localhost:8080/",
          "height": 196
        }
      },
      "source": [
        "#行番号が正解ラベル、列番号が分類器の予想ラベル\n",
        "print(confusion_matrix(y_test, kn_model.predict(x_test)))"
      ],
      "execution_count": 0,
      "outputs": [
        {
          "output_type": "stream",
          "text": [
            "[[ 92   0   0   0   0   0   0   0   0   0]\n",
            " [  0  95   0   0   0   0   0   0   0   0]\n",
            " [  0   0  83   0   0   0   0   1   0   0]\n",
            " [  0   0   0  84   0   0   0   1   1   0]\n",
            " [  0   0   0   0  89   0   0   1   0   2]\n",
            " [  0   0   0   0   0  90   0   0   0   0]\n",
            " [  0   0   0   0   0   0 102   0   0   0]\n",
            " [  0   0   0   0   0   0   0  81   0   1]\n",
            " [  0   2   0   1   0   1   0   0  86   1]\n",
            " [  0   1   0   2   0   1   0   0   1  80]]\n"
          ],
          "name": "stdout"
        }
      ]
    },
    {
      "cell_type": "code",
      "metadata": {
        "id": "Mzo_1IVkYLPQ",
        "colab_type": "code",
        "colab": {}
      },
      "source": [
        ""
      ],
      "execution_count": 0,
      "outputs": []
    }
  ]
}