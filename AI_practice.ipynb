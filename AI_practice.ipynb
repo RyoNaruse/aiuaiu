{
  "nbformat": 4,
  "nbformat_minor": 0,
  "metadata": {
    "colab": {
      "name": "AI_practice",
      "provenance": [],
      "authorship_tag": "ABX9TyNmTDRi8bq9F2UdQILOg+Gk",
      "include_colab_link": true
    },
    "kernelspec": {
      "name": "python3",
      "display_name": "Python 3"
    }
  },
  "cells": [
    {
      "cell_type": "markdown",
      "metadata": {
        "id": "view-in-github",
        "colab_type": "text"
      },
      "source": [
        "<a href=\"https://colab.research.google.com/github/RyoNaruse/aiuaiu/blob/master/AI_practice.ipynb\" target=\"_parent\"><img src=\"https://colab.research.google.com/assets/colab-badge.svg\" alt=\"Open In Colab\"/></a>"
      ]
    },
    {
      "cell_type": "markdown",
      "metadata": {
        "id": "p6LRNFDSisiO",
        "colab_type": "text"
      },
      "source": [
        "1. githubリポジトリ内のjupyter notebookを開く\n",
        "2. URLの”https://github.com\" を ”https://colab.research.google.com/github” に置き換えてEnter。"
      ]
    },
    {
      "cell_type": "markdown",
      "metadata": {
        "id": "f8vVW_NIY3Td",
        "colab_type": "text"
      },
      "source": [
        "～～～～～プログラミングのキホンのキ～～～～～"
      ]
    },
    {
      "cell_type": "code",
      "metadata": {
        "id": "IoQgNfr2pmNm",
        "colab_type": "code",
        "outputId": "b9cd208e-19b1-4610-e5ba-a8bf8967d869",
        "colab": {
          "base_uri": "https://localhost:8080/",
          "height": 53
        }
      },
      "source": [
        "#変数に値を代入してみよう！\n",
        "#変数の中身を表示してみよう！\n",
        "x = 3\n",
        "print(x)\n",
        "print(type(x))"
      ],
      "execution_count": 1,
      "outputs": [
        {
          "output_type": "stream",
          "text": [
            "3\n",
            "<class 'int'>\n"
          ],
          "name": "stdout"
        }
      ]
    },
    {
      "cell_type": "code",
      "metadata": {
        "id": "tkCI0LbhrXaV",
        "colab_type": "code",
        "outputId": "164af0bb-bada-4640-db9e-c57d194a70c9",
        "colab": {
          "base_uri": "https://localhost:8080/",
          "height": 53
        }
      },
      "source": [
        "y = 0.5\n",
        "print(y)\n",
        "print(type(y))"
      ],
      "execution_count": 2,
      "outputs": [
        {
          "output_type": "stream",
          "text": [
            "0.5\n",
            "<class 'float'>\n"
          ],
          "name": "stdout"
        }
      ]
    },
    {
      "cell_type": "code",
      "metadata": {
        "id": "vwqr2-M0rwO8",
        "colab_type": "code",
        "colab": {}
      },
      "source": [
        "#関数を作ってみよう！\n",
        "def nijou(a):\n",
        "    result = a * a\n",
        "    print(a)\n",
        "    print(type(a))\n",
        "    print(result)\n",
        "    return result"
      ],
      "execution_count": 0,
      "outputs": []
    },
    {
      "cell_type": "code",
      "metadata": {
        "id": "5GyFSPGgtpMD",
        "colab_type": "code",
        "outputId": "bec46a12-2ee6-4013-e453-e058e1d75ced",
        "colab": {
          "base_uri": "https://localhost:8080/",
          "height": 71
        }
      },
      "source": [
        "#関数を実行してみよう\n",
        "y = nijou(5)"
      ],
      "execution_count": 4,
      "outputs": [
        {
          "output_type": "stream",
          "text": [
            "5\n",
            "<class 'int'>\n",
            "25\n"
          ],
          "name": "stdout"
        }
      ]
    },
    {
      "cell_type": "code",
      "metadata": {
        "id": "pFWFV23gt7jr",
        "colab_type": "code",
        "outputId": "7a6189ca-cffe-4300-9179-d91e89805983",
        "colab": {
          "base_uri": "https://localhost:8080/",
          "height": 35
        }
      },
      "source": [
        "print(y)"
      ],
      "execution_count": 5,
      "outputs": [
        {
          "output_type": "stream",
          "text": [
            "25\n"
          ],
          "name": "stdout"
        }
      ]
    },
    {
      "cell_type": "code",
      "metadata": {
        "id": "7sXTbE58uh4e",
        "colab_type": "code",
        "outputId": "bec72dd6-270b-42f8-a14d-ba515ebf5330",
        "colab": {
          "base_uri": "https://localhost:8080/",
          "height": 107
        }
      },
      "source": [
        "#キーボードから入力を取得するinput関数を使う\n",
        "a = int(input())\n",
        "print(nijou(a))"
      ],
      "execution_count": 6,
      "outputs": [
        {
          "output_type": "stream",
          "text": [
            "7\n",
            "7\n",
            "<class 'int'>\n",
            "49\n",
            "49\n"
          ],
          "name": "stdout"
        }
      ]
    },
    {
      "cell_type": "markdown",
      "metadata": {
        "id": "mC5cq8GnZpyr",
        "colab_type": "text"
      },
      "source": [
        "～～～～～手書き文字分類～～～～～"
      ]
    },
    {
      "cell_type": "code",
      "metadata": {
        "id": "FzYj-EEPvGNm",
        "colab_type": "code",
        "colab": {}
      },
      "source": [
        "#①データのダウンロード\n",
        "from sklearn import  datasets\n",
        "mnist = datasets.load_digits()"
      ],
      "execution_count": 0,
      "outputs": []
    },
    {
      "cell_type": "code",
      "metadata": {
        "id": "vmePlrVuwtw2",
        "colab_type": "code",
        "outputId": "f0349b50-23d9-466e-f30f-fe0a16406b9f",
        "colab": {
          "base_uri": "https://localhost:8080/",
          "height": 232
        }
      },
      "source": [
        "#②データの確認\n",
        "import matplotlib.pyplot as plt\n",
        "\n",
        "for i in range(30):\n",
        "    plt.subplot(3,10,i+1)\n",
        "    plt.imshow(mnist.images[i],'gray')\n",
        "plt.show()"
      ],
      "execution_count": 38,
      "outputs": [
        {
          "output_type": "display_data",
          "data": {
            "image/png": "[encoded data removed]",
            "text/plain": [
              "<Figure size 432x288 with 30 Axes>"
            ]
          },
          "metadata": {
            "tags": []
          }
        }
      ]
    },
    {
      "cell_type": "code",
      "metadata": {
        "id": "QK3c-f7yyKeC",
        "colab_type": "code",
        "outputId": "7c9a6da3-d04b-4f58-d4af-225d645e8a65",
        "colab": {
          "base_uri": "https://localhost:8080/",
          "height": 426
        }
      },
      "source": [
        "print(mnist.images.shape)\n",
        "\n",
        "plt.subplot(1,1,1)  \n",
        "plt.imshow(mnist.images[0],'gray')  #画像として表示\n",
        "plt.show()\n",
        "\n",
        "print(mnist.images[0])  #行列として表示"
      ],
      "execution_count": 52,
      "outputs": [
        {
          "output_type": "stream",
          "text": [
            "(1797, 8, 8)\n"
          ],
          "name": "stdout"
        },
        {
          "output_type": "display_data",
          "data": {
            "image/png": "[encoded data removed]",
            "text/plain": [
              "<Figure size 432x288 with 1 Axes>"
            ]
          },
          "metadata": {
            "tags": []
          }
        },
        {
          "output_type": "stream",
          "text": [
            "[[ 0.  0.  5. 13.  9.  1.  0.  0.]\n",
            " [ 0.  0. 13. 15. 10. 15.  5.  0.]\n",
            " [ 0.  3. 15.  2.  0. 11.  8.  0.]\n",
            " [ 0.  4. 12.  0.  0.  8.  8.  0.]\n",
            " [ 0.  5.  8.  0.  0.  9.  8.  0.]\n",
            " [ 0.  4. 11.  0.  1. 12.  7.  0.]\n",
            " [ 0.  2. 14.  5. 10. 12.  0.  0.]\n",
            " [ 0.  0.  6. 13. 10.  0.  0.  0.]]\n"
          ],
          "name": "stdout"
        }
      ]
    },
    {
      "cell_type": "code",
      "metadata": {
        "id": "oY2hW9Q50brH",
        "colab_type": "code",
        "outputId": "2c31a2a0-7b42-4419-d0e0-12b354ae4f10",
        "colab": {
          "base_uri": "https://localhost:8080/",
          "height": 89
        }
      },
      "source": [
        "print(mnist.data[0])   #横に並べた配列として表示"
      ],
      "execution_count": 53,
      "outputs": [
        {
          "output_type": "stream",
          "text": [
            "[ 0.  0.  5. 13.  9.  1.  0.  0.  0.  0. 13. 15. 10. 15.  5.  0.  0.  3.\n",
            " 15.  2.  0. 11.  8.  0.  0.  4. 12.  0.  0.  8.  8.  0.  0.  5.  8.  0.\n",
            "  0.  9.  8.  0.  0.  4. 11.  0.  1. 12.  7.  0.  0.  2. 14.  5. 10. 12.\n",
            "  0.  0.  0.  0.  6. 13. 10.  0.  0.  0.]\n"
          ],
          "name": "stdout"
        }
      ]
    },
    {
      "cell_type": "code",
      "metadata": {
        "id": "YtW_YmIOSr3H",
        "colab_type": "code",
        "outputId": "1118cc14-4849-48c6-ed05-90ddfb3e80d3",
        "colab": {
          "base_uri": "https://localhost:8080/",
          "height": 35
        }
      },
      "source": [
        "print(mnist.target)"
      ],
      "execution_count": 54,
      "outputs": [
        {
          "output_type": "stream",
          "text": [
            "[0 1 2 ... 8 9 8]\n"
          ],
          "name": "stdout"
        }
      ]
    },
    {
      "cell_type": "code",
      "metadata": {
        "id": "oBZp1D_E1fL2",
        "colab_type": "code",
        "colab": {}
      },
      "source": [
        "#③k-means法でデータを分類してみる\n",
        "from sklearn.cluster import KMeans"
      ],
      "execution_count": 0,
      "outputs": []
    },
    {
      "cell_type": "code",
      "metadata": {
        "id": "_M493mSq6Udo",
        "colab_type": "code",
        "colab": {}
      },
      "source": [
        "model = KMeans(n_clusters=10)   #与えたデータを10個に分ける機械を作成"
      ],
      "execution_count": 0,
      "outputs": []
    },
    {
      "cell_type": "code",
      "metadata": {
        "id": "FajGEadx6c4E",
        "colab_type": "code",
        "outputId": "ea002d8d-f101-4173-bb54-fe992cfb1cbd",
        "colab": {
          "base_uri": "https://localhost:8080/",
          "height": 71
        }
      },
      "source": [
        "model.fit(mnist.data)   #分類を実行"
      ],
      "execution_count": 57,
      "outputs": [
        {
          "output_type": "execute_result",
          "data": {
            "text/plain": [
              "KMeans(algorithm='auto', copy_x=True, init='k-means++', max_iter=300,\n",
              "       n_clusters=10, n_init=10, n_jobs=None, precompute_distances='auto',\n",
              "       random_state=None, tol=0.0001, verbose=0)"
            ]
          },
          "metadata": {
            "tags": []
          },
          "execution_count": 57
        }
      ]
    },
    {
      "cell_type": "code",
      "metadata": {
        "id": "QewIP43y9J9U",
        "colab_type": "code",
        "outputId": "15da51bf-9e31-47fd-ad8c-f7448087e5fe",
        "colab": {
          "base_uri": "https://localhost:8080/",
          "height": 1000
        }
      },
      "source": [
        "print(model.cluster_centers_)   #各クラスターの中心を配列で表示"
      ],
      "execution_count": 58,
      "outputs": [
        {
          "output_type": "stream",
          "text": [
            "[[ 0.00000000e+00 -1.16573418e-15  1.15934066e+00  1.12252747e+01\n",
            "   9.53296703e+00  1.41758242e+00  5.49450549e-03 -3.05311332e-16\n",
            "  -2.51534904e-17  6.04395604e-02  7.18131868e+00  1.45604396e+01\n",
            "   6.19230769e+00  8.29670330e-01  2.74725275e-02  3.74700271e-16\n",
            "  -1.25767452e-17  7.69230769e-01  1.24560440e+01  9.47252747e+00\n",
            "   9.34065934e-01  1.09890110e-01  0.00000000e+00  4.16333634e-17\n",
            "  -3.03576608e-18  2.29670330e+00  1.36208791e+01  8.09340659e+00\n",
            "   3.87362637e+00  1.92857143e+00  1.04395604e-01 -6.07153217e-18\n",
            "   0.00000000e+00  3.52747253e+00  1.46758242e+01  1.29175824e+01\n",
            "   1.22527473e+01  1.02857143e+01  2.71978022e+00  0.00000000e+00\n",
            "  -2.42861287e-17  1.86813187e+00  1.45164835e+01  1.06538462e+01\n",
            "   5.57692308e+00  1.01923077e+01  9.13186813e+00  2.30769231e-01\n",
            "  -2.42861287e-17  1.75824176e-01  1.02857143e+01  1.26263736e+01\n",
            "   5.41758242e+00  1.13241758e+01  1.08956044e+01  6.26373626e-01\n",
            "  -1.51788304e-18 -6.10622664e-16  1.44505495e+00  1.07362637e+01\n",
            "   1.50989011e+01  1.31318681e+01  4.62087912e+00  1.70329670e-01]\n",
            " [ 0.00000000e+00  1.10132159e-01  3.98678414e+00  1.18810573e+01\n",
            "   1.23920705e+01  5.40088106e+00  4.40528634e-01 -3.33066907e-16\n",
            "   8.81057269e-03  8.72246696e-01  8.33480176e+00  1.35374449e+01\n",
            "   1.25726872e+01  9.94273128e+00  1.59911894e+00  4.44089210e-16\n",
            "  -1.51788304e-17  1.25991189e+00  8.40088106e+00  1.17709251e+01\n",
            "   1.21938326e+01  9.52863436e+00  1.06167401e+00 -9.71445147e-17\n",
            "  -3.03576608e-18  9.69162996e-01  7.25991189e+00  1.40528634e+01\n",
            "   1.41718062e+01  4.96035242e+00  2.07048458e-01 -6.07153217e-18\n",
            "   0.00000000e+00  7.57709251e-01  7.96035242e+00  1.47885463e+01\n",
            "   1.29383260e+01  2.21585903e+00  1.76211454e-02  0.00000000e+00\n",
            "  -2.42861287e-17  1.22466960e+00  1.04801762e+01  1.19779736e+01\n",
            "   1.20660793e+01  4.21145374e+00  2.11453744e-01  3.81639165e-17\n",
            "   1.32158590e-02  8.67841410e-01  9.59911894e+00  1.14889868e+01\n",
            "   1.19735683e+01  5.74889868e+00  6.69603524e-01  4.40528634e-03\n",
            "   4.40528634e-03  1.10132159e-01  4.19823789e+00  1.20396476e+01\n",
            "   1.26740088e+01  4.91189427e+00  8.01762115e-01  8.81057269e-03]\n",
            " [ 0.00000000e+00  1.94092827e-01  6.54852321e+00  1.25780591e+01\n",
            "   1.18438819e+01  5.73839662e+00  6.83544304e-01  8.43881857e-03\n",
            "  -3.12250226e-17  2.57805907e+00  1.39915612e+01  9.23628692e+00\n",
            "   9.43881857e+00  1.03628692e+01  1.28691983e+00  4.21940928e-03\n",
            "  -1.56125113e-17  4.23206751e+00  1.29367089e+01  4.53586498e+00\n",
            "   6.85654008e+00  1.12025316e+01  1.90717300e+00 -1.24900090e-16\n",
            "  -1.73472348e-18  2.27848101e+00  1.05654008e+01  1.19915612e+01\n",
            "   1.31561181e+01  1.23417722e+01  2.55696203e+00 -3.46944695e-18\n",
            "   0.00000000e+00  3.16455696e-01  3.18987342e+00  5.97890295e+00\n",
            "   6.45991561e+00  1.15822785e+01  4.46413502e+00  0.00000000e+00\n",
            "  -1.38777878e-17  2.23628692e-01  2.22784810e+00  1.86075949e+00\n",
            "   1.49367089e+00  1.08987342e+01  6.62025316e+00  1.68776371e-02\n",
            "  -2.94902991e-17  7.80590717e-01  8.07594937e+00  5.61603376e+00\n",
            "   4.83544304e+00  1.22531646e+01  6.03375527e+00  9.70464135e-02\n",
            "  -8.67361738e-19  1.72995781e-01  6.44303797e+00  1.35611814e+01\n",
            "   1.45063291e+01  9.92405063e+00  2.27426160e+00  8.43881857e-02]\n",
            " [ 0.00000000e+00  9.37500000e-01  1.01420455e+01  1.44204545e+01\n",
            "   7.79545455e+00  9.82954545e-01 -1.33226763e-15 -2.77555756e-16\n",
            "   2.27272727e-02  5.22159091e+00  1.37215909e+01  1.26022727e+01\n",
            "   1.16761364e+01  3.26136364e+00  1.70454545e-02  3.60822483e-16\n",
            "   1.13636364e-02  4.59090909e+00  8.13636364e+00  6.10227273e+00\n",
            "   1.21647727e+01  3.57386364e+00  1.70454545e-02  6.93889390e-17\n",
            "  -2.81892565e-18  9.94318182e-01  2.82954545e+00  6.97727273e+00\n",
            "   1.25397727e+01  2.55681818e+00  3.97727273e-02 -5.63785130e-18\n",
            "   0.00000000e+00  4.54545455e-02  1.56250000e+00  9.89772727e+00\n",
            "   1.06875000e+01  1.44318182e+00 -7.10542736e-15  0.00000000e+00\n",
            "  -2.25514052e-17  2.50000000e-01  4.43181818e+00  1.11875000e+01\n",
            "   7.75568182e+00  2.40909091e+00  8.46590909e-01  1.13636364e-02\n",
            "  -2.34187669e-17  1.18750000e+00  1.09659091e+01  1.36931818e+01\n",
            "   1.18579545e+01  1.11647727e+01  7.65909091e+00  1.09659091e+00\n",
            "  -1.40946282e-18  9.26136364e-01  1.03352273e+01  1.44545455e+01\n",
            "   1.35170455e+01  1.23750000e+01  8.94318182e+00  2.93750000e+00]\n",
            " [ 0.00000000e+00  1.69230769e-01  5.12307692e+00  1.32410256e+01\n",
            "   1.41384615e+01  1.07589744e+01  4.62051282e+00  7.43589744e-01\n",
            "  -2.68882139e-17  1.16410256e+00  1.08871795e+01  1.13589744e+01\n",
            "   1.03538462e+01  1.26461538e+01  5.07179487e+00  3.48717949e-01\n",
            "  -1.34441069e-17  1.17948718e+00  5.31794872e+00  2.17435897e+00\n",
            "   7.19487179e+00  1.17897436e+01  2.94871795e+00  4.61538462e-02\n",
            "  -3.03576608e-18  9.48717949e-01  4.80512821e+00  6.64102564e+00\n",
            "   1.25384615e+01  1.20615385e+01  4.71282051e+00  5.12820513e-03\n",
            "   0.00000000e+00  1.45641026e+00  8.78974359e+00  1.33589744e+01\n",
            "   1.48307692e+01  1.06051282e+01  4.05641026e+00  0.00000000e+00\n",
            "  -2.42861287e-17  1.11282051e+00  5.20512821e+00  1.18256410e+01\n",
            "   1.10051282e+01  3.49230769e+00  5.64102564e-01  0.00000000e+00\n",
            "  -2.60208521e-17  1.07692308e-01  3.14358974e+00  1.25435897e+01\n",
            "   5.99487179e+00  2.87179487e-01 -7.99360578e-15 -5.55111512e-16\n",
            "  -1.51788304e-18  1.33333333e-01  6.46666667e+00  1.21384615e+01\n",
            "   2.25128205e+00  1.89743590e-01  1.02564103e-02 -6.66133815e-16]\n",
            " [ 0.00000000e+00  2.77555756e-16  6.12244898e-02  2.02040816e+00\n",
            "   1.11938776e+01  1.25816327e+01  4.42857143e+00  3.87755102e-01\n",
            "  -2.60208521e-18  5.10204082e-02  2.13265306e+00  9.13265306e+00\n",
            "   1.36428571e+01  1.24183673e+01  5.59183673e+00  4.89795918e-01\n",
            "  -1.30104261e-18  1.52040816e+00  8.61224490e+00  1.19795918e+01\n",
            "   1.12959184e+01  1.25612245e+01  4.34693878e+00  2.24489796e-01\n",
            "  -1.51788304e-18  3.47959184e+00  1.16734694e+01  1.14795918e+01\n",
            "   1.27346939e+01  1.34693878e+01  2.80612245e+00 -3.03576608e-18\n",
            "   0.00000000e+00  1.88775510e+00  6.84693878e+00  7.75510204e+00\n",
            "   1.20204082e+01  1.24897959e+01  1.87755102e+00  0.00000000e+00\n",
            "  -1.21430643e-17  8.06122449e-01  2.18367347e+00  4.09183673e+00\n",
            "   1.16020408e+01  1.18061224e+01  1.18367347e+00 -2.77555756e-17\n",
            "  -7.80625564e-18  6.12244898e-02  3.16326531e-01  3.29591837e+00\n",
            "   1.24693878e+01  1.13163265e+01  1.62244898e+00 -2.77555756e-17\n",
            "  -7.58941521e-19  5.55111512e-16  2.66453526e-15  2.18367347e+00\n",
            "   1.14387755e+01  1.02959184e+01  1.65306122e+00 -3.88578059e-16]\n",
            " [ 0.00000000e+00  2.23463687e-02  4.22905028e+00  1.31396648e+01\n",
            "   1.12681564e+01  2.93854749e+00  3.35195531e-02 -2.77555756e-16\n",
            "  -2.51534904e-17  8.82681564e-01  1.26201117e+01  1.33687151e+01\n",
            "   1.14078212e+01  1.13687151e+01  9.60893855e-01  3.60822483e-16\n",
            "  -1.25767452e-17  3.72625698e+00  1.42122905e+01  5.25139665e+00\n",
            "   2.10614525e+00  1.21173184e+01  3.53072626e+00  5.55111512e-17\n",
            "  -2.81892565e-18  5.29608939e+00  1.26424581e+01  2.03351955e+00\n",
            "   2.29050279e-01  9.07821229e+00  6.47486034e+00 -5.63785130e-18\n",
            "   0.00000000e+00  5.88268156e+00  1.14916201e+01  8.65921788e-01\n",
            "   3.35195531e-02  8.81005587e+00  7.15083799e+00  0.00000000e+00\n",
            "  -2.25514052e-17  3.51396648e+00  1.32849162e+01  1.65921788e+00\n",
            "   1.49162011e+00  1.13519553e+01  5.84357542e+00 -2.08166817e-17\n",
            "  -2.42861287e-17  8.04469274e-01  1.31117318e+01  9.96089385e+00\n",
            "   1.03519553e+01  1.32960894e+01  2.47486034e+00  2.23463687e-02\n",
            "  -1.40946282e-18  5.58659218e-03  4.19553073e+00  1.35865922e+01\n",
            "   1.33407821e+01  5.48044693e+00  3.18435754e-01  1.67597765e-02]\n",
            " [ 0.00000000e+00 -9.99200722e-16  3.07228916e-01  7.16265060e+00\n",
            "   1.19457831e+01  1.93373494e+00  1.50602410e-01  5.42168675e-02\n",
            "  -2.25514052e-17  1.20481928e-02  3.28313253e+00  1.37951807e+01\n",
            "   8.46385542e+00  1.53012048e+00  9.75903614e-01  2.77108434e-01\n",
            "  -1.12757026e-17  6.44578313e-01  1.07108434e+01  1.15602410e+01\n",
            "   4.33734940e+00  5.25903614e+00  3.87349398e+00  3.25301205e-01\n",
            "   6.02409639e-03  4.75903614e+00  1.47590361e+01  5.86144578e+00\n",
            "   6.87951807e+00  1.07530120e+01  6.21686747e+00  1.80722892e-02\n",
            "   0.00000000e+00  8.92771084e+00  1.48072289e+01  9.35542169e+00\n",
            "   1.28132530e+01  1.43915663e+01  5.48192771e+00  0.00000000e+00\n",
            "   9.63855422e-02  6.50602410e+00  1.16867470e+01  1.23433735e+01\n",
            "   1.48373494e+01  1.07590361e+01  1.56626506e+00 -4.16333634e-17\n",
            "   6.02409639e-02  1.11445783e+00  3.00000000e+00  7.77710843e+00\n",
            "   1.40843373e+01  4.13253012e+00  1.80722892e-02 -4.71844785e-16\n",
            "  -1.40946282e-18  2.40963855e-02  3.73493976e-01  7.96385542e+00\n",
            "   1.23253012e+01  1.77108434e+00 -5.77315973e-15 -6.66133815e-16]\n",
            " [ 0.00000000e+00  1.07142857e+00  9.75974026e+00  1.32467532e+01\n",
            "   1.40259740e+01  1.25519481e+01  4.66233766e+00  2.53246753e-01\n",
            "   6.49350649e-03  4.43506494e+00  1.47727273e+01  1.26623377e+01\n",
            "   8.77922078e+00  7.13636364e+00  2.83766234e+00  1.88311688e-01\n",
            "   1.29870130e-02  5.92207792e+00  1.44675325e+01  5.97402597e+00\n",
            "   1.91558442e+00  1.19480519e+00  5.58441558e-01  3.24675325e-02\n",
            "   6.49350649e-03  5.18181818e+00  1.43766234e+01  1.20259740e+01\n",
            "   7.64935065e+00  2.60389610e+00  2.72727273e-01 -5.20417043e-18\n",
            "   0.00000000e+00  1.89610390e+00  8.03246753e+00  9.76623377e+00\n",
            "   1.01688312e+01  5.68831169e+00  6.23376623e-01  0.00000000e+00\n",
            "  -2.08166817e-17  2.92207792e-01  1.35064935e+00  4.77272727e+00\n",
            "   9.98701299e+00  6.88311688e+00  7.53246753e-01 -6.59194921e-17\n",
            "  -2.08166817e-17  7.79220779e-01  4.89610390e+00  9.45454545e+00\n",
            "   1.21233766e+01  5.10389610e+00  4.28571429e-01 -4.16333634e-16\n",
            "  -1.30104261e-18  1.01948052e+00  1.05389610e+01  1.44870130e+01\n",
            "   7.79220779e+00  1.05194805e+00  1.94805195e-02 -6.66133815e-16]\n",
            " [ 0.00000000e+00  5.90163934e-01  8.65573770e+00  1.44754098e+01\n",
            "   1.39344262e+01  6.89617486e+00  5.51912568e-01 -3.05311332e-16\n",
            "   1.63934426e-02  4.20218579e+00  1.26557377e+01  9.03825137e+00\n",
            "   1.11693989e+01  1.19289617e+01  1.82513661e+00  1.09289617e-02\n",
            "   5.46448087e-03  2.03825137e+00  3.78688525e+00  3.51912568e+00\n",
            "   1.17431694e+01  9.86338798e+00  8.52459016e-01  4.16333634e-17\n",
            "  -3.03576608e-18  1.25683060e-01  1.09289617e+00  8.25136612e+00\n",
            "   1.38688525e+01  6.74863388e+00  3.22404372e-01 -6.07153217e-18\n",
            "   0.00000000e+00  6.01092896e-02  7.21311475e-01  4.68852459e+00\n",
            "   1.18251366e+01  1.20491803e+01  2.24043716e+00  0.00000000e+00\n",
            "  -2.42861287e-17  4.42622951e-01  1.54098361e+00  7.26775956e-01\n",
            "   4.16939891e+00  1.23879781e+01  6.20218579e+00  5.46448087e-03\n",
            "  -2.42861287e-17  9.12568306e-01  7.38797814e+00  6.53551913e+00\n",
            "   8.38797814e+00  1.35901639e+01  6.06557377e+00  1.96721311e-01\n",
            "  -1.51788304e-18  4.64480874e-01  9.44262295e+00  1.48251366e+01\n",
            "   1.41256831e+01  8.94535519e+00  1.94535519e+00  4.48087432e-01]]\n"
          ],
          "name": "stdout"
        }
      ]
    },
    {
      "cell_type": "markdown",
      "metadata": {
        "id": "AQkgimPxHVtw",
        "colab_type": "text"
      },
      "source": [
        "～～～～～分類結果の考察～～～～～"
      ]
    },
    {
      "cell_type": "code",
      "metadata": {
        "id": "q1-Cxh9K9YS3",
        "colab_type": "code",
        "outputId": "65f557ed-fe25-491c-b2a7-f69b0ebb0c50",
        "colab": {
          "base_uri": "https://localhost:8080/",
          "height": 78
        }
      },
      "source": [
        "#①重心の画像を表示する\n",
        "centers = model.cluster_centers_.reshape(10,8,8)    #各クラスターの中心を画像の形に変換\n",
        "\n",
        "for i in range(10): \n",
        "    plt.subplot(1,10,i+1)\n",
        "    plt.imshow(centers[i],'gray')\n",
        "plt.show()\n"
      ],
      "execution_count": 59,
      "outputs": [
        {
          "output_type": "display_data",
          "data": {
            "image/png": "[encoded data removed]",
            "text/plain": [
              "<Figure size 432x288 with 10 Axes>"
            ]
          },
          "metadata": {
            "tags": []
          }
        }
      ]
    },
    {
      "cell_type": "code",
      "metadata": {
        "id": "K-w8H2Ur9d9H",
        "colab_type": "code",
        "outputId": "dfd3204d-1769-4e84-ccf2-8abc48f637a5",
        "colab": {
          "base_uri": "https://localhost:8080/",
          "height": 196
        }
      },
      "source": [
        "#②「どの数字がどのグループに割り振られたか」を表にしてみる\n",
        "import numpy as np      \n",
        "\n",
        "label = np.zeros((10,10), 'int')    #10行10列のゼロ行列を作る\n",
        "\n",
        "for i in range(len(mnist.target)):  #データをはじめからみていき、「正解の数字」と「分類されたグループ」に対応する表の位置に１を加算する。\n",
        "    label[mnist.target[i], model.labels_[i]] += 1\n",
        "    \n",
        "print(label)"
      ],
      "execution_count": 60,
      "outputs": [
        {
          "output_type": "stream",
          "text": [
            "[[  0   0   0   0   0   0 177   1   0   0]\n",
            " [  2  99   0  24   0  55   0   0   1   1]\n",
            " [  0   8   2 148   2   3   1   0   0  13]\n",
            " [  0   7   9   1   7   0   0   0   2 157]\n",
            " [  0   3   0   0   8   7   0 163   0   0]\n",
            " [  1   0  42   0   0   0   0   2 136   1]\n",
            " [177   2   0   0   0   1   1   0   0   0]\n",
            " [  0   2   0   0 168   4   0   0   5   0]\n",
            " [  2 104  46   3   3   8   0   0   4   4]\n",
            " [  0   2 138   0   7  20   0   0   6   7]]\n"
          ],
          "name": "stdout"
        }
      ]
    },
    {
      "cell_type": "markdown",
      "metadata": {
        "id": "z1gZgeymcPbB",
        "colab_type": "text"
      },
      "source": [
        "～～～～～番外編　教師有り学習で手書き文字を当てる～～～～～"
      ]
    },
    {
      "cell_type": "code",
      "metadata": {
        "id": "sdxwGKT5-nHS",
        "colab_type": "code",
        "colab": {}
      },
      "source": [
        "from sklearn.neighbors import KNeighborsClassifier\n",
        "from sklearn.model_selection import train_test_split\n",
        "from sklearn.metrics import confusion_matrix"
      ],
      "execution_count": 0,
      "outputs": []
    },
    {
      "cell_type": "code",
      "metadata": {
        "id": "pzIiQYM1Xp8j",
        "colab_type": "code",
        "outputId": "9fdb401a-2a91-4688-e8d2-7607f20e2a1d",
        "colab": {
          "base_uri": "https://localhost:8080/",
          "height": 89
        }
      },
      "source": [
        "#データを学習に使うものと、予測に使うものに分ける\n",
        "x_train, x_test, y_train, y_test = train_test_split(mnist.data, mnist.target, train_size=0.5)\n",
        "\n",
        "print(x_train.shape)\n",
        "print(x_test.shape)\n",
        "print(y_train.shape)\n",
        "print(y_test.shape)"
      ],
      "execution_count": 62,
      "outputs": [
        {
          "output_type": "stream",
          "text": [
            "(898, 64)\n",
            "(899, 64)\n",
            "(898,)\n",
            "(899,)\n"
          ],
          "name": "stdout"
        }
      ]
    },
    {
      "cell_type": "code",
      "metadata": {
        "id": "pOpltezoXZwS",
        "colab_type": "code",
        "outputId": "a44aa3e1-b541-49f2-99bc-9765a793e13d",
        "colab": {
          "base_uri": "https://localhost:8080/",
          "height": 71
        }
      },
      "source": [
        "#分類器を作成して、データとその答えを学習させる\n",
        "kn_model = KNeighborsClassifier(n_neighbors=5)\n",
        "kn_model.fit(x_train, y_train)"
      ],
      "execution_count": 63,
      "outputs": [
        {
          "output_type": "execute_result",
          "data": {
            "text/plain": [
              "KNeighborsClassifier(algorithm='auto', leaf_size=30, metric='minkowski',\n",
              "                     metric_params=None, n_jobs=None, n_neighbors=5, p=2,\n",
              "                     weights='uniform')"
            ]
          },
          "metadata": {
            "tags": []
          },
          "execution_count": 63
        }
      ]
    },
    {
      "cell_type": "code",
      "metadata": {
        "id": "UnPlSBqLX2qo",
        "colab_type": "code",
        "outputId": "2d370676-d466-40a9-df7c-01616b0c0e57",
        "colab": {
          "base_uri": "https://localhost:8080/",
          "height": 196
        }
      },
      "source": [
        "#行番号が正解ラベル、列番号が分類器の予想ラベル\n",
        "print(confusion_matrix(y_test, kn_model.predict(x_test)))"
      ],
      "execution_count": 64,
      "outputs": [
        {
          "output_type": "stream",
          "text": [
            "[[81  0  0  0  0  0  0  0  0  0]\n",
            " [ 0 94  0  0  0  0  0  0  0  0]\n",
            " [ 0  2 92  0  0  0  0  0  2  0]\n",
            " [ 0  0  1 91  0  0  0  1  0  0]\n",
            " [ 0  0  0  0 80  0  0  1  1  0]\n",
            " [ 0  0  0  0  0 85  1  0  0  1]\n",
            " [ 2  1  0  0  0  0 95  0  0  0]\n",
            " [ 0  0  0  0  0  0  0 76  0  1]\n",
            " [ 0  4  0  1  0  0  0  1 82  2]\n",
            " [ 0  8  0  0  3  1  0  2  0 87]]\n"
          ],
          "name": "stdout"
        }
      ]
    },
    {
      "cell_type": "code",
      "metadata": {
        "id": "Mzo_1IVkYLPQ",
        "colab_type": "code",
        "colab": {}
      },
      "source": [
        ""
      ],
      "execution_count": 0,
      "outputs": []
    }
  ]
}